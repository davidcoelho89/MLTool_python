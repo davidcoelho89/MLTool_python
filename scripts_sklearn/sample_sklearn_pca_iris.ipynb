{
 "cells": [
  {
   "cell_type": "code",
   "execution_count": 17,
   "metadata": {
    "collapsed": true
   },
   "outputs": [],
   "source": [
    "# Python MLTool - PCA\n",
    "# Unit test of PCA and Scikit Learn Package\n",
    "\n",
    "# Last Update: 2020/03/23"
   ]
  },
  {
   "cell_type": "code",
   "execution_count": null,
   "metadata": {
    "collapsed": true
   },
   "outputs": [],
   "source": [
    "# General Definitions\n",
    "\n",
    "OPT = {'prob1':1,          # Which data set will be used \n",
    "       'prob2':2,          # More details about a specific data set\n",
    "       'norm':3,           # Normalization definition\n",
    "       'lbl':0,            # Labeling Definition\n",
    "       'Nr':5,             # Number of repetitions of algorithm\n",
    "       'hold':1,           # hold out method\n",
    "       'ptrn':0.7,         # Percentage of samples for training\n",
    "       'file':'fileX.txt'  # file where all the variables will be saved\n",
    "      }\n",
    "\n",
    "print(OPT)"
   ]
  },
  {
   "cell_type": "code",
   "execution_count": 19,
   "metadata": {
    "collapsed": true
   },
   "outputs": [],
   "source": [
    "# Data loading and pre-processing\n",
    "\n",
    "from data_object import *\n",
    "\n",
    "data = DATA()\n",
    "\n",
    "# Load DataSet\n",
    "\n",
    "data.class_loading(problem = OPT['prob1'], problem_detail = OPT['prob2'])\n",
    "\n",
    "# Encode Labels\n",
    "\n",
    "data.label_encode(label_type = OPT['lbl'])\n",
    "\n",
    "# Apply hold out (from data class)\n",
    "\n",
    "data.hold_out(hold_method = OPT['hold'], train_size = OPT['ptrn'])\n",
    "\n",
    "# Apply hold out (from scikit learn)\n",
    "\n",
    "#from sklearn.model_selection import train_test_split\n",
    "#X_tr, X_ts, y_tr, y_ts = train_test_split(data.input,data,output,test_size=0.25,random_state=42)\n",
    "\n",
    "# Normalize Inputs (just normalize after hold out)\n",
    "\n",
    "data.normalize(norm_type = OPT['norm'])"
   ]
  },
  {
   "cell_type": "code",
   "execution_count": 20,
   "metadata": {},
   "outputs": [
    {
     "name": "stdout",
     "output_type": "stream",
     "text": [
      "Number of Samples: 150\n",
      "Number of Attributes: 4\n",
      "Number of Classes: 3\n",
      "\n",
      "First five samples of DataSet:\n"
     ]
    },
    {
     "data": {
      "text/plain": [
       "(150, 4)"
      ]
     },
     "metadata": {},
     "output_type": "display_data"
    },
    {
     "data": {
      "text/plain": [
       "array([[ 5.1,  3.5,  1.4,  0.2],\n",
       "       [ 4.9,  3. ,  1.4,  0.2],\n",
       "       [ 4.7,  3.2,  1.3,  0.2],\n",
       "       [ 4.6,  3.1,  1.5,  0.2],\n",
       "       [ 5. ,  3.6,  1.4,  0.2]])"
      ]
     },
     "metadata": {},
     "output_type": "display_data"
    },
    {
     "data": {
      "text/plain": [
       "array([[ 1, -1, -1],\n",
       "       [ 1, -1, -1],\n",
       "       [ 1, -1, -1],\n",
       "       [ 1, -1, -1],\n",
       "       [ 1, -1, -1]])"
      ]
     },
     "metadata": {},
     "output_type": "display_data"
    },
    {
     "name": "stdout",
     "output_type": "stream",
     "text": [
      "\n",
      "First five samples of Training:\n"
     ]
    },
    {
     "data": {
      "text/plain": [
       "(120, 4)"
      ]
     },
     "metadata": {},
     "output_type": "display_data"
    },
    {
     "data": {
      "text/plain": [
       "array([[ 0.95446328, -0.35217197,  0.4945318 ,  0.14129329],\n",
       "       [ 1.69739685,  1.22977699,  1.35625228,  1.71852071],\n",
       "       [ 0.45917422, -1.93412093,  0.43708377,  0.40416453],\n",
       "       [ 0.70681875,  0.09981345,  1.01156409,  0.79847138],\n",
       "       [-1.52198198,  0.77779157, -1.3438052 , -1.1730629 ]])"
      ]
     },
     "metadata": {},
     "output_type": "display_data"
    },
    {
     "data": {
      "text/plain": [
       "array([[-1,  1, -1],\n",
       "       [-1, -1,  1],\n",
       "       [-1,  1, -1],\n",
       "       [-1, -1,  1],\n",
       "       [ 1, -1, -1]])"
      ]
     },
     "metadata": {},
     "output_type": "display_data"
    },
    {
     "name": "stdout",
     "output_type": "stream",
     "text": [
      "\n",
      "First five samples of Test:\n"
     ]
    },
    {
     "data": {
      "text/plain": [
       "(30, 4)"
      ]
     },
     "metadata": {},
     "output_type": "display_data"
    },
    {
     "data": {
      "text/plain": [
       "array([[ 0.2115297 , -0.12617926,  0.60942787,  0.79847138],\n",
       "       [ 0.83064101,  0.32580615,  0.78177196,  1.06134262],\n",
       "       [-1.02669293,  0.77779157, -1.28635717, -1.30449851],\n",
       "       [-0.15993709,  1.6817624 , -1.17146111, -1.1730629 ],\n",
       "       [ 0.33535196, -0.35217197,  0.55197984,  0.27272891]])"
      ]
     },
     "metadata": {},
     "output_type": "display_data"
    },
    {
     "data": {
      "text/plain": [
       "array([[-1, -1,  1],\n",
       "       [-1, -1,  1],\n",
       "       [ 1, -1, -1],\n",
       "       [ 1, -1, -1],\n",
       "       [-1,  1, -1]])"
      ]
     },
     "metadata": {},
     "output_type": "display_data"
    },
    {
     "name": "stdout",
     "output_type": "stream",
     "text": [
      "\n"
     ]
    }
   ],
   "source": [
    "# Information about Dataset\n",
    "\n",
    "print(\"Number of Samples: \" + str(data.N))\n",
    "print(\"Number of Attributes: \" + str(data.p))\n",
    "print(\"Number of Classes: \" + str(data.Nc))\n",
    "print()\n",
    "\n",
    "print(\"First five samples of DataSet:\")\n",
    "display(data.input.shape)\n",
    "display(data.input[0:5,:])\n",
    "display(data.output[0:5,:])\n",
    "print()\n",
    "\n",
    "print(\"First five samples of Training:\")\n",
    "display(data.X_tr.shape)\n",
    "display(data.X_tr[0:5,:])\n",
    "display(data.y_tr[0:5,:])\n",
    "print()\n",
    "\n",
    "print(\"First five samples of Test:\")\n",
    "display(data.X_ts.shape)\n",
    "display(data.X_ts[0:5,:])\n",
    "display(data.y_ts[0:5,:])\n",
    "print()"
   ]
  },
  {
   "cell_type": "code",
   "execution_count": 21,
   "metadata": {
    "collapsed": true
   },
   "outputs": [],
   "source": [
    "# Training and Test (OOP)\n",
    "\n",
    "from ols_classifier import *\n",
    "\n",
    "ols = OLS(aprox=1)\n",
    "\n",
    "ols.fit(data.X_tr,data.y_tr)\n",
    "\n",
    "y_h = ols.predict(data.X_ts)"
   ]
  },
  {
   "cell_type": "code",
   "execution_count": 22,
   "metadata": {},
   "outputs": [
    {
     "name": "stdout",
     "output_type": "stream",
     "text": [
      "(30, 3)\n",
      "(3, 5)\n"
     ]
    }
   ],
   "source": [
    "# Information About Parameters and Outputs\n",
    "\n",
    "print(y_h.shape)\n",
    "print(ols.W.shape)\n"
   ]
  },
  {
   "cell_type": "code",
   "execution_count": 23,
   "metadata": {},
   "outputs": [
    {
     "data": {
      "text/plain": [
       "array([[ 10.,   0.,   0.],\n",
       "       [  0.,   5.,   3.],\n",
       "       [  0.,   3.,   9.]])"
      ]
     },
     "metadata": {},
     "output_type": "display_data"
    },
    {
     "data": {
      "text/plain": [
       "0.80000000000000004"
      ]
     },
     "metadata": {},
     "output_type": "display_data"
    }
   ],
   "source": [
    "# Display Results (Statistics)\n",
    "\n",
    "from statistics_object import *\n",
    "\n",
    "stats = STATSCLASS()\n",
    "\n",
    "stats.calculate(data.y_ts,y_h)\n",
    "\n",
    "display(stats.confusion_matrix)\n",
    "display(stats.accuracy)"
   ]
  },
  {
   "cell_type": "code",
   "execution_count": 24,
   "metadata": {
    "collapsed": true
   },
   "outputs": [],
   "source": [
    "# Save Objects \n",
    "\n",
    "# See: https://stackoverflow.com/questions/4529815/saving-an-object-data-persistence"
   ]
  }
 ],
 "metadata": {
  "kernelspec": {
   "display_name": "Python 3",
   "language": "python",
   "name": "python3"
  },
  "language_info": {
   "codemirror_mode": {
    "name": "ipython",
    "version": 3
   },
   "file_extension": ".py",
   "mimetype": "text/x-python",
   "name": "python",
   "nbconvert_exporter": "python",
   "pygments_lexer": "ipython3",
   "version": "3.6.3"
  }
 },
 "nbformat": 4,
 "nbformat_minor": 2
}
