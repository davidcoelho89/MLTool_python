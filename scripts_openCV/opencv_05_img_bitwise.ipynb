{
 "cells": [
  {
   "cell_type": "code",
   "execution_count": 11,
   "metadata": {},
   "outputs": [],
   "source": [
    "# Import Libraries\n",
    "\n",
    "import numpy as np\n",
    "import cv2\n",
    "import datetime"
   ]
  },
  {
   "cell_type": "code",
   "execution_count": 12,
   "metadata": {},
   "outputs": [],
   "source": [
    "# Create Images\n",
    "\n",
    "img1 = np.zeros((250,500,3),np.uint8)\n",
    "img1 = cv2.rectangle(img1,(200,0),(300,100),(255,255,255),-1)\n",
    "img2 = cv2.imread(\"image_1.png\")\n",
    "\n",
    "# Resize image 2\n",
    "\n",
    "img2 = cv2.resize(img2,(500,250))\n",
    "\n",
    "# Bitwise Operations\n",
    "\n",
    "bitAnd = cv2.bitwise_and(img1,img2)\n",
    "bitOr = cv2.bitwise_or(img1,img2)\n",
    "bitXor = cv2.bitwise_xor(img1,img2)\n",
    "bitNot = cv2.bitwise_not(img1)\n",
    "\n",
    "# Show Images\n",
    "\n",
    "cv2.imshow(\"img1\",img1)\n",
    "cv2.imshow(\"img2\",img2)\n",
    "\n",
    "cv2.imshow(\"img3\",bitAnd)\n",
    "cv2.imshow(\"img4\",bitOr)\n",
    "cv2.imshow(\"img5\",bitXor)\n",
    "cv2.imshow(\"img6\",bitNot)\n",
    "\n",
    "# Destroy image after a key pressed\n",
    "\n",
    "cv2.waitKey(0)\n",
    "cv2.destroyAllWindows()"
   ]
  },
  {
   "cell_type": "code",
   "execution_count": null,
   "metadata": {},
   "outputs": [],
   "source": []
  }
 ],
 "metadata": {
  "kernelspec": {
   "display_name": "Python 3",
   "language": "python",
   "name": "python3"
  },
  "language_info": {
   "codemirror_mode": {
    "name": "ipython",
    "version": 3
   },
   "file_extension": ".py",
   "mimetype": "text/x-python",
   "name": "python",
   "nbconvert_exporter": "python",
   "pygments_lexer": "ipython3",
   "version": "3.7.7"
  }
 },
 "nbformat": 4,
 "nbformat_minor": 4
}
