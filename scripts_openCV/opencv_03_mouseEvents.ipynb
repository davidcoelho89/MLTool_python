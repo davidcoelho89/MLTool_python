{
 "cells": [
  {
   "cell_type": "code",
   "execution_count": 1,
   "metadata": {},
   "outputs": [],
   "source": [
    "# Import Libraries\n",
    "\n",
    "import numpy as np\n",
    "import cv2\n",
    "import datetime"
   ]
  },
  {
   "cell_type": "code",
   "execution_count": 2,
   "metadata": {},
   "outputs": [
    {
     "name": "stdout",
     "output_type": "stream",
     "text": [
      "['EVENT_FLAG_ALTKEY', 'EVENT_FLAG_CTRLKEY', 'EVENT_FLAG_LBUTTON', 'EVENT_FLAG_MBUTTON', 'EVENT_FLAG_RBUTTON', 'EVENT_FLAG_SHIFTKEY', 'EVENT_LBUTTONDBLCLK', 'EVENT_LBUTTONDOWN', 'EVENT_LBUTTONUP', 'EVENT_MBUTTONDBLCLK', 'EVENT_MBUTTONDOWN', 'EVENT_MBUTTONUP', 'EVENT_MOUSEHWHEEL', 'EVENT_MOUSEMOVE', 'EVENT_MOUSEWHEEL', 'EVENT_RBUTTONDBLCLK', 'EVENT_RBUTTONDOWN', 'EVENT_RBUTTONUP']\n"
     ]
    }
   ],
   "source": [
    "# Show all events that can be handled in opencv lib\n",
    "\n",
    "events = [i for i in dir(cv2) if 'EVENT' in i]\n",
    "print(events)"
   ]
  },
  {
   "cell_type": "code",
   "execution_count": 4,
   "metadata": {},
   "outputs": [],
   "source": [
    "# Mouse callback function\n",
    "\n",
    "def click_event(event, x, y, flags, param):\n",
    "    # Define Text Properties\n",
    "    font = cv2.FONT_HERSHEY_SIMPLEX\n",
    "    line_type = cv2.LINE_AA\n",
    "    # Left click\n",
    "    if event == cv2.EVENT_LBUTTONDOWN:\n",
    "        # print(x,', ',y) # used inside an ide\n",
    "        strXY = str(x) + ', ' + str(y)\n",
    "        cv2.putText(img, strXY, (x,y), font, .5, (255,255,0), 2, line_type)\n",
    "        cv2.imshow('image', img)\n",
    "    # Right Click\n",
    "    if event == cv2.EVENT_RBUTTONDOWN:\n",
    "        blue = img[y, x, 0]\n",
    "        green = img[y, x, 1]\n",
    "        red = img[y, x, 2]\n",
    "        strBGR = str(blue) + ', ' + str(green) + ', ' + str(red)\n",
    "        cv2.putText(img, strBGR, (x,y), font, .5, (0,255,255), 2, line_type)\n",
    "        cv2.imshow('image', img)\n",
    "\n",
    "# Creat Image\n",
    "img = cv2.imread('lena.jpg')\n",
    "#img = np.zeros((512,512,3),np.uint8)\n",
    "\n",
    "# Show image and set its mouse callback\n",
    "cv2.imshow('image',img)\n",
    "cv2.setMouseCallback('image', click_event)\n",
    "\n",
    "# Destroy image after a key pressed\n",
    "cv2.waitKey(0)\n",
    "cv2.destroyAllWindows()"
   ]
  },
  {
   "cell_type": "code",
   "execution_count": 6,
   "metadata": {},
   "outputs": [],
   "source": [
    "# Draw geometries in image\n",
    "\n",
    "def click_event(event, x, y, flags, param):\n",
    "    # Left click\n",
    "    if event == cv2.EVENT_LBUTTONDOWN:\n",
    "        cv2.circle(img,(x,y),6,(0,0,255),-1) # filled circle\n",
    "        points.append((x,y))\n",
    "        if len(points) >= 2:\n",
    "            cv2.line(img,points[-1],points[-2],(255,0,0),5)\n",
    "        cv2.imshow('image', img)\n",
    "\n",
    "# Creat Image\n",
    "#img = cv2.imread('lena.jpg')\n",
    "img = np.zeros((512,512,3),np.uint8)\n",
    "\n",
    "# Creat Points\n",
    "points = []\n",
    "\n",
    "# Show image and set its mouse callback\n",
    "cv2.imshow('image',img)\n",
    "cv2.setMouseCallback('image', click_event)\n",
    "\n",
    "# Destroy image after a key pressed\n",
    "cv2.waitKey(0)\n",
    "cv2.destroyAllWindows()"
   ]
  },
  {
   "cell_type": "code",
   "execution_count": 9,
   "metadata": {},
   "outputs": [],
   "source": [
    "# Open a new window with the color of the pixel that was clicked\n",
    "\n",
    "def click_event(event, x, y, flags, param):\n",
    "    # Left click\n",
    "    if event == cv2.EVENT_LBUTTONDOWN:\n",
    "        blue = img[y, x, 0]\n",
    "        green = img[y, x, 1]\n",
    "        red = img[y, x, 2]\n",
    "        cv2.circle(img,(x,y),3,(0,0,255),-1) # filled circle\n",
    "        myColorImage = np.zeros((512,512,3),np.uint8)\n",
    "        myColorImage[:] = [blue,green,red]\n",
    "        cv2.imshow('color',myColorImage)\n",
    "\n",
    "# Creat Image\n",
    "img = cv2.imread('lena.jpg')\n",
    "\n",
    "# Show image and set its mouse callback\n",
    "cv2.imshow('image',img)\n",
    "cv2.setMouseCallback('image', click_event)\n",
    "\n",
    "# Destroy image after a key pressed\n",
    "cv2.waitKey(0)\n",
    "cv2.destroyAllWindows()"
   ]
  },
  {
   "cell_type": "code",
   "execution_count": null,
   "metadata": {},
   "outputs": [],
   "source": []
  }
 ],
 "metadata": {
  "kernelspec": {
   "display_name": "Python 3",
   "language": "python",
   "name": "python3"
  },
  "language_info": {
   "codemirror_mode": {
    "name": "ipython",
    "version": 3
   },
   "file_extension": ".py",
   "mimetype": "text/x-python",
   "name": "python",
   "nbconvert_exporter": "python",
   "pygments_lexer": "ipython3",
   "version": "3.7.7"
  }
 },
 "nbformat": 4,
 "nbformat_minor": 4
}
