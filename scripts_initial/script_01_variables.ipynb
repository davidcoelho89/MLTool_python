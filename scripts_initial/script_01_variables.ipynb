{
 "cells": [
  {
   "cell_type": "markdown",
   "metadata": {},
   "source": [
    "# Variáveis em Python\n",
    "\n",
    "* Tópicos:\n",
    "    * Definição\n",
    "    * Tipos Básicos (bool, int, float, complex)\n",
    "    * Visualização (funções display e print)\n",
    "    * Identificação (id)\n",
    "    * Operações (aritmeticas, comparações, booleanas)\n",
    "    * Strings\n",
    "    * Listas\n",
    "    * Tuplas\n",
    "    * Dicionarios\n",
    "    * Sets\n",
    "    * Methods of Variabels"
   ]
  },
  {
   "cell_type": "code",
   "execution_count": 64,
   "metadata": {},
   "outputs": [
    {
     "name": "stdout",
     "output_type": "stream",
     "text": [
      "True 2 3.2 (5.5+2.3j) 5.5 2.3\n"
     ]
    },
    {
     "data": {
      "text/plain": [
       "bool"
      ]
     },
     "metadata": {},
     "output_type": "display_data"
    },
    {
     "data": {
      "text/plain": [
       "int"
      ]
     },
     "metadata": {},
     "output_type": "display_data"
    },
    {
     "data": {
      "text/plain": [
       "float"
      ]
     },
     "metadata": {},
     "output_type": "display_data"
    },
    {
     "data": {
      "text/plain": [
       "complex"
      ]
     },
     "metadata": {},
     "output_type": "display_data"
    },
    {
     "name": "stdout",
     "output_type": "stream",
     "text": [
      "1476026560\n",
      "1476026560\n"
     ]
    }
   ],
   "source": [
    "# Variáveis: Definição\n",
    "\n",
    "# <nome_variavel> = <expressao>\n",
    "# É um receptáculo de valores, objetos.\n",
    "# Toda variavel em python é uma referencia para um objeto criado\n",
    "# Podem iniciar por: _ $ letras \n",
    "# Não pode iniciar: com números ou caracteres especiais\n",
    "# Nao podem ter espaço no nome\n",
    "# São \"case sensitive\": letras maiúsculas e minúsculas são diferenciadas\n",
    "# Não precisa indicar, a priori, o tipo da variável\n",
    "\n",
    "# Variáveis: Tipos (types)\n",
    "\n",
    "# bool, numerical (int, float, complex), string, list, tuple, dictionary, range, object\n",
    "\n",
    "# bool: True, False\n",
    "# int: ... , -2, -1, 0, 1, 2, ...\n",
    "# float: 5.2, -4.3, ...\n",
    "# complex: 2 + 3j, ...\n",
    "\n",
    "a = True;\n",
    "b = 2;\n",
    "c = 3.2;\n",
    "d = 5.5 + 2.3j\n",
    "\n",
    "# Variáveis: Visualização\n",
    "\n",
    "print(a,end=' ')\n",
    "print(b,end=' ')\n",
    "print(c,d,d.real,d.imag)\n",
    "\n",
    "display(type(a),type(b),type(c),type(d))\n",
    "\n",
    "\n",
    "# Variáveis: Identificação\n",
    "\n",
    "e = b\n",
    "print(id(b))\n",
    "print(id(e))"
   ]
  },
  {
   "cell_type": "code",
   "execution_count": 58,
   "metadata": {},
   "outputs": [
    {
     "name": "stdout",
     "output_type": "stream",
     "text": [
      "5 1 6 1.5 1 9 1 10\n",
      "False True True True False False\n",
      "False True True\n"
     ]
    }
   ],
   "source": [
    "# Variáveis: Operações aritméticas\n",
    "\n",
    "# Simbolos: + - * / // ** % \n",
    "\n",
    "a = 3 + 2;  \n",
    "b = 3 - 2;  \n",
    "c = 3 * 2;  \n",
    "d = 3 / 2;  \n",
    "e = 3 // 2; # divisao inteira\n",
    "f = 3 ** 2; # potenciação\n",
    "g = 3 % 2;  # resto da divisao\n",
    "h = e + f;\n",
    "\n",
    "print(a,b,c,d,e,f,g,h)\n",
    "\n",
    "# Variáveis: Operações de Comparação\n",
    "\n",
    "# Simbolos: == != > < >= <= \n",
    "\n",
    "a = ('oi' == 'tchau')\n",
    "b = (3 != 2)\n",
    "c = (3 > 2)\n",
    "d = (3 >= 2)\n",
    "e = (3 < 2)\n",
    "f = (3 <= 2)\n",
    "\n",
    "print(a,b,c,d,e,f)\n",
    "\n",
    "# Variáveis: Operações booleanas\n",
    "\n",
    "a = (1 > 2) and (2 < 3)\n",
    "b = (1 > 2) or (2 < 3)\n",
    "c = not (1 == 2)\n",
    "\n",
    "print(a,b,c)\n",
    "\n",
    "# Obs: # \"exclusive or\" (xor): not defined in python: (a and not b) or (not a and b)"
   ]
  },
  {
   "cell_type": "code",
   "execution_count": 89,
   "metadata": {},
   "outputs": [
    {
     "name": "stdout",
     "output_type": "stream",
     "text": [
      "Essa é uma string "
     ]
    },
    {
     "data": {
      "text/plain": [
       "'e essa é outra string'"
      ]
     },
     "metadata": {},
     "output_type": "display_data"
    },
    {
     "name": "stdout",
     "output_type": "stream",
     "text": [
      "17\n"
     ]
    },
    {
     "data": {
      "text/plain": [
       "'Nome: David e Idade: 30'"
      ]
     },
     "metadata": {},
     "output_type": "display_data"
    },
    {
     "name": "stdout",
     "output_type": "stream",
     "text": [
      "Hello World!\n",
      "H\n",
      "llo\n",
      "llo World!\n",
      "!\n",
      "Hello World!\n",
      "Hello World!Hello World!Hello World!\n",
      "Hello World! teste\n"
     ]
    }
   ],
   "source": [
    "# Strings\n",
    "\n",
    "# Definidas com 'aspas simples'. Varificar definição com \"aspas duplas\"\n",
    "\n",
    "string1 = 'Essa é uma string'\n",
    "string2 = \"e essa é outra string\"\n",
    "\n",
    "print(string1,end= ' ')\n",
    "display(string2)\n",
    "\n",
    "# Tamanho da String\n",
    "\n",
    "print(len(string1))\n",
    "\n",
    "# Formar uma string a partir de variaveis (semelhante ao printf da linguagem C)\n",
    "\n",
    "nome = 'David'\n",
    "idade = 30\n",
    "frase = 'Nome: {one} e Idade: {two}'.format(one = nome, two = idade)\n",
    "\n",
    "display(frase)\n",
    "\n",
    "# Indexação (acessar caracteres específicos - contagem começa do número \"0\")\n",
    "\n",
    "str1 = \"Hello World!\"\n",
    "\n",
    "print(str1)\n",
    "print(str1[0])\n",
    "print(str1[2:5])\n",
    "print(str1[2:])\n",
    "print(str1[-1])\n",
    "print(str1[:])\n",
    "\n",
    "# Concatenação (não existe função append para strings)\n",
    "\n",
    "print(str1*3)\n",
    "print(str1 + \" teste\")\n"
   ]
  },
  {
   "cell_type": "code",
   "execution_count": 70,
   "metadata": {},
   "outputs": [
    {
     "name": "stdout",
     "output_type": "stream",
     "text": [
      "['abcd', 123, 2.5, 'david']\n",
      "abcd\n",
      "[123, 2.5]\n",
      "['abcd', 'teste']\n",
      "['coelho', 10, 'coelho', 10]\n",
      "['abcd', 'teste', 2.5, 'david', 'coelho', 10]\n",
      "['coelho', 10, 'd']\n",
      "1847188016008 1847188016008 1847188015944\n"
     ]
    }
   ],
   "source": [
    "# Listas\n",
    "\n",
    "# Estruturas de dados definidas com colchetes\n",
    "\n",
    "lista1 = [1, 'teste', [1,2,3], 3.5]\n",
    "\n",
    "# Indexação (acessar caracteres específicos - contagem começa do número \"0\")\n",
    "\n",
    "lista1[0]     # (pega a primeira posicao)\n",
    "lista1[2][1]  # (pega a 2a posição da lista interna - que esta na 3a posição)\n",
    "lista1[1:]    # (pega ate o final, a partir do elemento 1)\n",
    "lista1[1:3]   # (a partir do elemento 1, até elemento antes do 3: no caso, posições 1 e 2)\n",
    "lista1[:3]    # (do inicial 0 até o elemento anterior ao 3)\n",
    "lista1[-1]    # (acessa o ultimo elemento)\n",
    "lista1[-2]    # (acessa penultimo elemento)\n",
    "\n",
    "# Modificação\n",
    "\n",
    "lista2 = ['abcd',123,2.5,'david']\n",
    "\n",
    "print(lista2)\n",
    "print(lista2[0])\n",
    "print(lista2[1:3])\n",
    "\n",
    "lista2[1] = 'teste'\n",
    "\n",
    "print(lista2[:2])\n",
    "\n",
    "# Concatenação\n",
    "\n",
    "lista3 = ['coelho',10]\n",
    "\n",
    "lista4 = lista3*2\n",
    "lista5 = lista2+lista3\n",
    "\n",
    "print(lista4)\n",
    "print(lista5)\n",
    "\n",
    "lista3.append('d')\n",
    "lista6 = lista3\n",
    "\n",
    "print(lista6)\n",
    "\n",
    "# Identificação\n",
    "\n",
    "lista7 = lista6\n",
    "lista8 = lista6.copy()\n",
    "\n",
    "print(id(lista6),id(lista7),id(lista8))\n"
   ]
  },
  {
   "cell_type": "code",
   "execution_count": 71,
   "metadata": {},
   "outputs": [
    {
     "name": "stdout",
     "output_type": "stream",
     "text": [
      "(12, 'ana', 2.4)\n",
      "ana\n",
      "('ze', 'bia')\n",
      "(12, 'ana', 2.4, 12, 'ana', 2.4, 12, 'ana', 2.4, 12, 'ana', 2.4)\n",
      "(12, 'ana', 2.4, 'ze', 'bia', 100)\n"
     ]
    }
   ],
   "source": [
    "# Tuplas \n",
    "\n",
    "# Estruturas de dados definidas com parenteses. É uma \"lista imutavel\"\n",
    "# Dados não podem ser modificados, apenas acessados (como as listas)\n",
    "\n",
    "tupla1 = (12,\"ana\",2.4)\n",
    "tupla2 = (\"ze\",\"bia\",100)\n",
    "\n",
    "print(tupla1)\n",
    "print(tupla1[1])\n",
    "print(tupla2[:2])\n",
    "print(tupla1*4)\n",
    "print(tupla1+tupla2)"
   ]
  },
  {
   "cell_type": "code",
   "execution_count": 73,
   "metadata": {},
   "outputs": [
    {
     "name": "stdout",
     "output_type": "stream",
     "text": [
      "{'nome': 'david', 'profissao': 'prog', 'idade': 30}\n",
      "30\n",
      "dict_keys(['nome', 'profissao', 'idade'])\n",
      "dict_values(['david', 'prog', 30])\n",
      "dict_items([('nome', 'david'), ('profissao', 'prog'), ('idade', 30)])\n",
      "{'nome': 'david', 'profissao': 'professor', 'idade': 30}\n"
     ]
    }
   ],
   "source": [
    "# Dicionários\n",
    "\n",
    "# Estruturas de dados definidas com chaves (keys and values).\n",
    "\n",
    "dic1 = {\"nome\":\"david\",\"profissao\":\"prog\",\"idade\":30}\n",
    "print(dic1)\n",
    "print(dic1[\"idade\"])\n",
    "print(dic1.keys())\n",
    "print(dic1.values())\n",
    "print(dic1.items())\n",
    "\n",
    "dic1[\"profissao\"] = 'professor'\n",
    "\n",
    "print(dic1)\n"
   ]
  },
  {
   "cell_type": "code",
   "execution_count": 55,
   "metadata": {},
   "outputs": [
    {
     "name": "stdout",
     "output_type": "stream",
     "text": [
      "{1, 2, 3}\n",
      "{1, 2, 3}\n"
     ]
    }
   ],
   "source": [
    "# Sets\n",
    "\n",
    "set1 = {1,2,3}\n",
    "set2 = {1,2,3,1,2,1,2,3,3,3,3,2,2,2,1,1,2}\n",
    "\n",
    "print(set1)\n",
    "print(set2)\n"
   ]
  },
  {
   "cell_type": "code",
   "execution_count": 92,
   "metadata": {},
   "outputs": [
    {
     "name": "stdout",
     "output_type": "stream",
     "text": [
      "Olá, me chamo John\n",
      "olá, me chamo john\n",
      "OLÁ, ME CHAMO JOHN\n",
      "['Olá,', 'me', 'chamo', 'John']\n",
      "Olá, me chamo Ana\n",
      "teste inicial\n",
      "['Teste! ', 'Deu Certo!']\n",
      "Deu Certo!\n",
      "3\n",
      "[1, 2]\n",
      "[1, 2, 5]\n"
     ]
    }
   ],
   "source": [
    "# Methods of Variables\n",
    "\n",
    "# Muitos objetos/variaveis tem metodos (funções) prórios da class\n",
    "# Digita o \"nome_da_variavel\" e depois digita \".\"\n",
    "\n",
    "\n",
    "st1 = 'Olá, me chamo John'\n",
    "\n",
    "print(st1)\n",
    "print(st1.lower())\n",
    "print(st1.upper())\n",
    "print(st1.split())\n",
    "print(st1.replace(\"John\",\"Ana\"))\n",
    "print(\"\".join([\"teste\",\" inicial\"]))\n",
    "\n",
    "st2 = 'Teste! #Deu Certo!'\n",
    "print(st2.split('#'))\n",
    "print(st2.split('#')[1])\n",
    "\n",
    "lst1 = [1,2,3]\n",
    "print(lst1.pop())\n",
    "print(lst1)\n",
    "\n",
    "lst1.append(5)\n",
    "print(lst1)\n"
   ]
  },
  {
   "cell_type": "code",
   "execution_count": null,
   "metadata": {
    "collapsed": true
   },
   "outputs": [],
   "source": []
  }
 ],
 "metadata": {
  "kernelspec": {
   "display_name": "Python 3",
   "language": "python",
   "name": "python3"
  },
  "language_info": {
   "codemirror_mode": {
    "name": "ipython",
    "version": 3
   },
   "file_extension": ".py",
   "mimetype": "text/x-python",
   "name": "python",
   "nbconvert_exporter": "python",
   "pygments_lexer": "ipython3",
   "version": "3.6.3"
  }
 },
 "nbformat": 4,
 "nbformat_minor": 2
}
