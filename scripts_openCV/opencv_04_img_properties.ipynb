{
 "cells": [
  {
   "cell_type": "code",
   "execution_count": 2,
   "metadata": {},
   "outputs": [],
   "source": [
    "# Import Libraries\n",
    "\n",
    "import numpy as np\n",
    "import cv2\n",
    "import datetime"
   ]
  },
  {
   "cell_type": "code",
   "execution_count": 3,
   "metadata": {},
   "outputs": [
    {
     "name": "stdout",
     "output_type": "stream",
     "text": [
      "(342, 548, 3)\n",
      "562248\n",
      "uint8\n"
     ]
    }
   ],
   "source": [
    "# Get image\n",
    "\n",
    "img = cv2.imread('messi5.jpg')\n",
    "\n",
    "# See image properties\n",
    "\n",
    "print(img.shape) # number of rows, columns and channels\n",
    "print(img.size)  # number of pixels\n",
    "print(img.dtype) # datatype of pixels\n",
    "\n",
    "# Get each chanel\n",
    "\n",
    "b,g,r = cv2.split(img)\n",
    "img = cv2.merge((b,g,r))\n",
    "\n",
    "# Show image\n",
    "\n",
    "cv2.imshow('image1',img)\n",
    "\n",
    "# Show each channel\n",
    "\n",
    "b = img.copy()\n",
    "b[:, :, 1] = 0\n",
    "b[:, :, 2] = 0\n",
    "cv2.imshow('B-RGB',b)\n",
    "\n",
    "g = img.copy()\n",
    "g[:, :, 0] = 0\n",
    "g[:, :, 2] = 0\n",
    "cv2.imshow('G-RGB',g)\n",
    "\n",
    "r = img.copy()\n",
    "r[:, :, 0] = 0\n",
    "r[:, :, 1] = 0\n",
    "cv2.imshow('R-RGB',r)\n",
    "\n",
    "# Destroy image after a key pressed\n",
    "cv2.waitKey(0)\n",
    "cv2.destroyAllWindows()"
   ]
  },
  {
   "cell_type": "code",
   "execution_count": 4,
   "metadata": {},
   "outputs": [],
   "source": [
    "# Regions of Interest (ROI)\n",
    "\n",
    "img = cv2.imread('messi5.jpg')\n",
    "\n",
    "# Get ball and put in other place of image\n",
    "\n",
    "ball = img[280:340, 330:390]\n",
    "img[273:333, 100:160] = ball\n",
    "\n",
    "# Show image\n",
    "\n",
    "cv2.imshow('image1',img)\n",
    "\n",
    "# Destroy image after a key pressed\n",
    "cv2.waitKey(0)\n",
    "cv2.destroyAllWindows()"
   ]
  },
  {
   "cell_type": "code",
   "execution_count": 11,
   "metadata": {},
   "outputs": [],
   "source": [
    "# Add two images -> both images need to have the same size\n",
    "\n",
    "# Load image\n",
    "\n",
    "img2 = cv2.imread('opencv-logo.png')\n",
    "\n",
    "# Resize both images\n",
    "\n",
    "img = cv2.resize(img,(512,512))\n",
    "img2 = cv2.resize(img2,(512,512))\n",
    "\n",
    "# Add images (merge)\n",
    "\n",
    "#dst = cv2.add(img,img2)\n",
    "dst = cv2.addWeighted(img,0.8,img2,0.2,0)\n",
    "\n",
    "# Show image\n",
    "\n",
    "cv2.imshow('image1',dst)\n",
    "\n",
    "# Destroy image after a key pressed\n",
    "cv2.waitKey(0)\n",
    "cv2.destroyAllWindows()"
   ]
  },
  {
   "cell_type": "code",
   "execution_count": null,
   "metadata": {},
   "outputs": [],
   "source": []
  }
 ],
 "metadata": {
  "kernelspec": {
   "display_name": "Python 3",
   "language": "python",
   "name": "python3"
  },
  "language_info": {
   "codemirror_mode": {
    "name": "ipython",
    "version": 3
   },
   "file_extension": ".py",
   "mimetype": "text/x-python",
   "name": "python",
   "nbconvert_exporter": "python",
   "pygments_lexer": "ipython3",
   "version": "3.7.7"
  }
 },
 "nbformat": 4,
 "nbformat_minor": 4
}
