{
 "cells": [
  {
   "cell_type": "markdown",
   "metadata": {},
   "source": [
    "# Estruturas de Controle e Repetição\n",
    "\n",
    "* Topicos:\n",
    "    * Condicionais: if-elif-else\n",
    "    * Operador: in\n",
    "    * Sequencia de Valores\n",
    "    * Laços: for, while\n",
    "    * List Comprehension"
   ]
  },
  {
   "cell_type": "code",
   "execution_count": 1,
   "metadata": {
    "scrolled": true
   },
   "outputs": [
    {
     "name": "stdout",
     "output_type": "stream",
     "text": [
      "final\n"
     ]
    }
   ],
   "source": [
    "# Estruturas Condicionais\n",
    "\n",
    "media = 5\n",
    "\n",
    "if media >= 7:\n",
    "    print(\"aprovado\")\n",
    "elif media >= 3:\n",
    "    print(\"final\")\n",
    "else:\n",
    "    print(\"reprovado\")\n",
    "    "
   ]
  },
  {
   "cell_type": "code",
   "execution_count": 3,
   "metadata": {},
   "outputs": [
    {
     "name": "stdout",
     "output_type": "stream",
     "text": [
      "False\n",
      "True\n"
     ]
    }
   ],
   "source": [
    "# Operador: in\n",
    "\n",
    "# Retorna um valor boleano\n",
    "\n",
    "print('x' in [1,2,3])\n",
    "print('x' in ['x','y','z'])\n"
   ]
  },
  {
   "cell_type": "code",
   "execution_count": 7,
   "metadata": {
    "scrolled": true
   },
   "outputs": [
    {
     "name": "stdout",
     "output_type": "stream",
     "text": [
      "[0, 2, 4, 6, 8]\n"
     ]
    }
   ],
   "source": [
    "# Seguencia de Valores\n",
    "\n",
    "# range() - gera toda a lista de uma vez\n",
    "# xrange() - gera um valor por vez (bom para ser usado em laços)\n",
    "\n",
    "seq = list(range(0,10,2)) # Lista com valores entre \"0\" e \"10-1\", de \"2\" em \"2\"\n",
    "print(seq)"
   ]
  },
  {
   "cell_type": "code",
   "execution_count": 17,
   "metadata": {},
   "outputs": [
    {
     "name": "stdout",
     "output_type": "stream",
     "text": [
      "1 hello!\n",
      "2 hello!\n",
      "3 hello!\n",
      "4 hello!\n",
      "5 hello!\n",
      "6 hello!\n",
      "joao\n",
      "ana\n",
      "bia\n",
      "568\n",
      "t\n",
      "e\n",
      "s\n",
      "t\n",
      "e\n"
     ]
    }
   ],
   "source": [
    "# Estruturas de Repetição: for\n",
    "\n",
    "# Depende do elemento \"item\" que vai ser \"iterado\"\n",
    "# Ex: \"item\" vai receber cada valor da lista \"seq\" e vai ficar disponível para ser utilizado dentro do laço\n",
    "\n",
    "seq = [1,2,3,4,5,6]\n",
    "for item in seq:\n",
    "    print(item,end=' ')\n",
    "    print(\"hello!\")\n",
    "\n",
    "names = [\"joao\",\"chico\",\"ana\",\"bia\"]\n",
    "for it in names:\n",
    "    if it == \"chico\":\n",
    "        continue\n",
    "    print(it)\n",
    "\n",
    "tupla1 = [(2,5),(4,6),(7,8)]\n",
    "for (it1,it2) in tupla1:\n",
    "    print(it2,end='')\n",
    "print(\"\")\n",
    "\n",
    "string1 = \"teste\"\n",
    "for it in string1:\n",
    "    print(it)\n"
   ]
  },
  {
   "cell_type": "code",
   "execution_count": 16,
   "metadata": {},
   "outputs": [
    {
     "name": "stdout",
     "output_type": "stream",
     "text": [
      "i is: 1\n",
      "i is: 2\n",
      "i is: 3\n",
      "i is: 4\n"
     ]
    }
   ],
   "source": [
    "# Estruturas de Repetição: while \n",
    "\n",
    "i = 1\n",
    "while i < 5:\n",
    "    print('i is: {}'.format(i))\n",
    "    i = i+1"
   ]
  },
  {
   "cell_type": "code",
   "execution_count": 20,
   "metadata": {},
   "outputs": [
    {
     "name": "stdout",
     "output_type": "stream",
     "text": [
      "Digite a conta:12345\n",
      "***************\n",
      "sua conta é:  12345\n",
      "..........digite 1 para sair:1\n",
      "soma:  0\n"
     ]
    }
   ],
   "source": [
    "# Estruturas de Repetição: input from external user\n",
    "\n",
    "conta1 = 12345\n",
    "cont  = 1\n",
    "soma = 0\n",
    "\n",
    "num_conta = int(input(\"Digite a conta:\"))\n",
    "\n",
    "while conta1 != num_conta:\n",
    "    print(\"Erro.\")\n",
    "    num_conta = int(input(\"Digite a conta:\"))\n",
    "\n",
    "print(\"***************\")\n",
    "print(\"sua conta é: \",num_conta)\n",
    "\n",
    "while(cont<=10):\n",
    "    print(\".\",end=\"\")\n",
    "    cont = cont+1\n",
    "\n",
    "while True:\n",
    "    msg = int(input(\"digite 1 para sair:\"))\n",
    "    if msg == 1:\n",
    "        break\n",
    "    soma = soma + msg\n",
    "print(\"soma: \",soma)   \n"
   ]
  },
  {
   "cell_type": "code",
   "execution_count": 18,
   "metadata": {},
   "outputs": [
    {
     "name": "stdout",
     "output_type": "stream",
     "text": [
      "[1, 4, 9, 16]\n",
      "[1, 4, 9, 16]\n"
     ]
    }
   ],
   "source": [
    "# List Comprehension\n",
    "\n",
    "out1 = []\n",
    "x = [1,2,3,4]\n",
    "for item in x:\n",
    "    out1.append(item**2)\n",
    "print(out1)\n",
    "\n",
    "out2 = [item**2 for item in x]\n",
    "print(out2)"
   ]
  }
 ],
 "metadata": {
  "kernelspec": {
   "display_name": "Python 3",
   "language": "python",
   "name": "python3"
  },
  "language_info": {
   "codemirror_mode": {
    "name": "ipython",
    "version": 3
   },
   "file_extension": ".py",
   "mimetype": "text/x-python",
   "name": "python",
   "nbconvert_exporter": "python",
   "pygments_lexer": "ipython3",
   "version": "3.7.7"
  }
 },
 "nbformat": 4,
 "nbformat_minor": 2
}
