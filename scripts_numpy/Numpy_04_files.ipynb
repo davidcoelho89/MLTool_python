{
 "cells": [
  {
   "cell_type": "markdown",
   "metadata": {},
   "source": [
    "# Numpy Files Handling\n",
    "\n",
    "* Topicos:\n",
    "    * Criar matrizes\n",
    "    * Salvar matrizes em Arquivos\n",
    "    * Ler matrizes de arquivos"
   ]
  },
  {
   "cell_type": "code",
   "execution_count": 3,
   "metadata": {},
   "outputs": [
    {
     "name": "stdout",
     "output_type": "stream",
     "text": [
      "[(0,  0.33495292, b'2017-05-14') (1,  0.25294021, b'2017-10-31')\n",
      " (2,  0.55130696, b'2017-08-12') (3,  0.75817055, b'2017-06-16')\n",
      " (4,  0.96637303, b'2017-04-11')]\n"
     ]
    }
   ],
   "source": [
    "# Read and Write from csv file\n",
    "\n",
    "import numpy as np\n",
    "\n",
    "# Criar matrizes\n",
    "\n",
    "codigo = np.arange(1000)\n",
    "valor = np.random.random(1000)\n",
    "dia = np.random.randint(0,365,1000)*np.timedelta64(1,'D')\n",
    "data = np.datetime64('2017-01-01') + dia\n",
    "rec_array = np.core.records.fromarrays([codigo,valor,data],names='codigo,valor,data',formats='i4,f4,a10')\n",
    "print(rec_array[:5])\n",
    "\n",
    "# Para salvar matrizes\n",
    "\n",
    "# np.savetxt('folder1/my_matrix.csv')\n",
    "np.savetxt('Numpy_04_files.csv',rec_array,fmt='%i,%.4f,%s')"
   ]
  },
  {
   "cell_type": "code",
   "execution_count": 4,
   "metadata": {},
   "outputs": [
    {
     "name": "stdout",
     "output_type": "stream",
     "text": [
      "[(0,  0.33500001, b\"b'2017-05-\") (1,  0.2529    , b\"b'2017-10-\")\n",
      " (2,  0.55129999, b\"b'2017-08-\") (3,  0.75819999, b\"b'2017-06-\")\n",
      " (4,  0.96640003, b\"b'2017-04-\")]\n",
      "[(0, 0.33500000834465027, b\"b'2017-05-\", 0)\n",
      " (1, 0.25290000438690186, b\"b'2017-10-\", 0)\n",
      " (2, 0.5512999892234802, b\"b'2017-08-\", 1)\n",
      " (3, 0.7581999897956848, b\"b'2017-06-\", 1)\n",
      " (4, 0.9664000272750854, b\"b'2017-04-\", 1)]\n"
     ]
    }
   ],
   "source": [
    "# Para ler matrizes\n",
    "\n",
    "read_array = np.genfromtxt('Numpy_04_files.csv',dtype='i4,f4,a10',delimiter=',',skip_header=0)\n",
    "print(read_array[:5])\n",
    "read_array.dtype.names = ('codigo','valor','data')\n",
    "mascara = read_array['valor'] >= 0.45\n",
    "\n",
    "from numpy.lib.recfunctions import append_fields\n",
    "\n",
    "read_array = append_fields(read_array,'mascara',data=mascara,dtypes='i1')\n",
    "\n",
    "print(read_array[:5])"
   ]
  },
  {
   "cell_type": "code",
   "execution_count": null,
   "metadata": {
    "collapsed": true
   },
   "outputs": [],
   "source": []
  }
 ],
 "metadata": {
  "kernelspec": {
   "display_name": "Python 3",
   "language": "python",
   "name": "python3"
  },
  "language_info": {
   "codemirror_mode": {
    "name": "ipython",
    "version": 3
   },
   "file_extension": ".py",
   "mimetype": "text/x-python",
   "name": "python",
   "nbconvert_exporter": "python",
   "pygments_lexer": "ipython3",
   "version": "3.6.3"
  }
 },
 "nbformat": 4,
 "nbformat_minor": 2
}
