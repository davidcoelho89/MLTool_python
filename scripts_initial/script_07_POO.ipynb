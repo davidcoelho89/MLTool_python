{
 "cells": [
  {
   "cell_type": "markdown",
   "metadata": {},
   "source": [
    "# Programação Orientada a Objetos\n",
    "\n",
    "* Tópicos:\n",
    "    * Definições\n",
    "    * Criação de Classes\n",
    "    * Criação de Métodos\n",
    "    * Herança\n",
    "    * Herança Múltipla\n",
    "    * Sobrecarga de Operadores\n",
    "    * @classmethod x @staticmethod\n"
   ]
  },
  {
   "cell_type": "code",
   "execution_count": 10,
   "metadata": {},
   "outputs": [],
   "source": [
    "# A linguagem python também permite a utilização de objetos.\n",
    "\n",
    "'''\n",
    "=> Programação Procedural x Programação Orientada a Objetos (POO)\n",
    "\n",
    "=> Classe: \"modelo para criação de objetos\" ; \"fábrica de produção de objetos\"\n",
    "\n",
    "=> Objetos: uma instância de uma classe.\n",
    "\n",
    "- Estados (atributos)\n",
    "- Comportamentos (métodos)\n",
    "\n",
    "=> Base de POO\n",
    "\n",
    "- Herança:        Propriedades passadas da classe pai para a classe filho: filho pode usar metodo ou comportamento existente\n",
    "                  herança multipla: classe filho pode herdar propriedade de vários pais.\n",
    "- Polimorfismo:   Um objeto pode ter muitas formas através de diferentes atributos. \n",
    "                  Ex: Métodos com mesmo nome, podem ter saidas diferentes.\n",
    "- Abstração:      Mostra-se apenas os detalhes relevantes para o outro usuário pretendido (usuário final do programa).\n",
    "                  Ex: alguns estados só são manipulados internamente à classe\n",
    "- Encapsulamento: esconde-se métodos necessário e seus detalhes relevantes do mundo exterior. \n",
    "                  Ex: Classe (encapsula métodos e instâncias relevantes)\n",
    "''';"
   ]
  },
  {
   "cell_type": "code",
   "execution_count": 11,
   "metadata": {},
   "outputs": [
    {
     "name": "stdout",
     "output_type": "stream",
     "text": [
      "<__main__.teste object at 0x000002203BA99B70>\n",
      "David é programador\n"
     ]
    }
   ],
   "source": [
    "# Criação de Classes e Objetos\n",
    "\n",
    "class teste(): #criação de uma classe vazia\n",
    "    pass\n",
    "\n",
    "n = teste()    # criação de um objeto n\n",
    "\n",
    "# Utilização\n",
    "\n",
    "print(n)\n",
    "\n",
    "n.name = \"David\"\n",
    "n.prof = \"programador\"\n",
    "\n",
    "print(n.name + \" é \" + n.prof)"
   ]
  },
  {
   "cell_type": "code",
   "execution_count": 12,
   "metadata": {},
   "outputs": [
    {
     "name": "stdout",
     "output_type": "stream",
     "text": [
      "david coelho\n",
      "david.coelho@gmail.com\n",
      "3000\n",
      "3900\n"
     ]
    }
   ],
   "source": [
    "# Criação de Metodos e Variaveis\n",
    "\n",
    "class Pessoa():\n",
    "    'Comentários da Classe'\n",
    "    aumento = 1.30 # Variavel Privada\n",
    "    def __init__(self,nome,sobrenome,salario):\n",
    "        self.v_nome = nome\n",
    "        self.v_sobrenome = sobrenome\n",
    "        self.v_salario = salario\n",
    "        self.v_nome_comp = nome + \" \" + sobrenome\n",
    "    \n",
    "    def gera_email(self):\n",
    "        return self.v_nome + \".\" + self.v_sobrenome + \"@gmail.com\"\n",
    "    \n",
    "    def inc_salario(self):\n",
    "        self.v_salario = int(self.v_salario*self.aumento)\n",
    "        return self.v_salario\n",
    "\n",
    "# Utilização\n",
    "\n",
    "pessoa1 = Pessoa(\"david\",\"coelho\",3000)\n",
    "print(pessoa1.v_nome_comp)\n",
    "print(pessoa1.gera_email())\n",
    "print(pessoa1.v_salario)\n",
    "print(pessoa1.inc_salario())\n"
   ]
  },
  {
   "cell_type": "code",
   "execution_count": 13,
   "metadata": {},
   "outputs": [
    {
     "name": "stdout",
     "output_type": "stream",
     "text": [
      "monica lima\n",
      "o email: monica.lima@gmail.com\n",
      "ministra: programacao\n",
      "salario: 3500\n"
     ]
    }
   ],
   "source": [
    "# Herança\n",
    "\n",
    "class Professor(Pessoa):\n",
    "    def __init__(self,nome,sobrenome,salario,disciplina):\n",
    "        Pessoa.__init__(self,nome,sobrenome,salario)\n",
    "        self.disciplina = disciplina\n",
    "\n",
    "prof1 = Professor(\"monica\",\"lima\",3500,\"programacao\")\n",
    "\n",
    "print(prof1.v_nome_comp)\n",
    "print(\"o email: \" + prof1.gera_email())\n",
    "print(\"ministra: \" + prof1.disciplina)\n",
    "print(\"salario: \" + str(prof1.v_salario))\n"
   ]
  },
  {
   "cell_type": "code",
   "execution_count": 14,
   "metadata": {},
   "outputs": [
    {
     "name": "stdout",
     "output_type": "stream",
     "text": [
      "A soma de 10 + 20 = 30\n",
      "A subtracao de 10 - 20 = -10\n"
     ]
    }
   ],
   "source": [
    "# Herança Multipla\n",
    "\n",
    "class A():\n",
    "    def soma(self,a,b):\n",
    "        c = a + b\n",
    "        return c\n",
    "\n",
    "class B():\n",
    "    def subt(self,a,b):\n",
    "        c = a - b\n",
    "        return c\n",
    "\n",
    "class C(A,B):\n",
    "    pass\n",
    "\n",
    "objC = C()\n",
    "\n",
    "print(\"A soma de 10 + 20 =\",objC.soma(10,20))\n",
    "print(\"A subtracao de 10 - 20 =\",objC.subt(10,20))"
   ]
  },
  {
   "cell_type": "code",
   "execution_count": 15,
   "metadata": {},
   "outputs": [
    {
     "name": "stdout",
     "output_type": "stream",
     "text": [
      "Class X\n",
      "A soma é: 8\n"
     ]
    }
   ],
   "source": [
    "# Escrita de Metodos\n",
    "\n",
    "class Y():\n",
    "    def soma(self,n1,n2):     # define metodo\n",
    "        print(\"Classe Y\")\n",
    "        return n1+n2\n",
    "\n",
    "class X(Y):\n",
    "    def soma(self,n1,n2):     # reescrita de metodo\n",
    "        print(\"Class X\")\n",
    "        return n1*n1 + n2*n2\n",
    "\n",
    "obj1 = X();\n",
    "print (\"A soma é:\",obj1.soma(2,2))"
   ]
  },
  {
   "cell_type": "code",
   "execution_count": 16,
   "metadata": {},
   "outputs": [
    {
     "name": "stdout",
     "output_type": "stream",
     "text": [
      "AB\n",
      "15\n",
      "AB\n",
      "15\n"
     ]
    }
   ],
   "source": [
    "# Sobrecarga de Operadores 1\n",
    "# \"Metodos Especiais\" / \"Metodos Magicos\"\n",
    "# double underline = dunder = __\n",
    "\n",
    "# Saida do operador '+' depende das variaveis de entrada\n",
    "print(\"A\"+\"B\")\n",
    "print(5+10)\n",
    "print(str.__add__(\"A\",\"B\"))\n",
    "print(int.__add__(5,10))\n"
   ]
  },
  {
   "cell_type": "code",
   "execution_count": 15,
   "metadata": {},
   "outputs": [
    {
     "name": "stdout",
     "output_type": "stream",
     "text": [
      "11000\n",
      "True\n"
     ]
    }
   ],
   "source": [
    "# Sobrecarga de Operadores 2\n",
    "\n",
    "class Pessoa():\n",
    "    aumento = 1.30\n",
    "    def __init__(self,nome,sobrenome,salario):\n",
    "        self.v_nome = nome\n",
    "        self.v_sobrenome = sobrenome\n",
    "        self.v_salario = salario\n",
    "        self.v_nome_comp = nome + \" \" + sobrenome\n",
    "    \n",
    "    def gera_email(self):\n",
    "        return self.v_nome + \".\" + self.v_sobrenome + \"@gmail.com\"\n",
    "    \n",
    "    def __add__(self,other):\n",
    "        resultado = self.v_salario + other.v_salario\n",
    "        return resultado\n",
    "    \n",
    "    def __gt__(self,other):\n",
    "        return self.v_salario >= other.v_salario\n",
    "    \n",
    "pessoa1 = Pessoa(\"David\",\"Coelho\",6000)\n",
    "pessoa2 = Pessoa(\"Maria\",\"Joaquina\",5000)\n",
    "print(pessoa1 + pessoa2)\n",
    "print(pessoa1 > pessoa2)"
   ]
  },
  {
   "cell_type": "code",
   "execution_count": 30,
   "metadata": {},
   "outputs": [
    {
     "name": "stdout",
     "output_type": "stream",
     "text": [
      "<class '__main__.Foo'>\n",
      "<class '__main__.Bar'>\n"
     ]
    }
   ],
   "source": [
    "# @classmethod e @staticmethod\n",
    "\n",
    "class Foo(object):\n",
    "    \n",
    "    def __init(self):\n",
    "        pass #self é o objeto sendo criado\n",
    "    \n",
    "    def bar(self,a,b,c):\n",
    "        pass #self é o objeto\n",
    "\n",
    "foo = Foo()\n",
    "foo.bar(1,2,3) #passa-se implicitamente o primeiro parametro (self)\n",
    "\n",
    "fn = foo.bar(1,2,3)\n",
    "#fn(1,2,3)\n",
    "\n",
    "class Foo(object):\n",
    "    \n",
    "    @staticmethod       # não pode ser herdado\n",
    "    def bar(a,b,c):\n",
    "        pass\n",
    "\n",
    "    @classmethod        # pode ser herdado\n",
    "    def baz(cls,a,b,c):\n",
    "        pass            # self é o objeto\n",
    "\n",
    "#Foo.bar(1,2,3) #Argumentos: 1,2,3\n",
    "#Foo.baz(1,2,3) #Argumentos: Foo,1,2,3\n",
    "\n",
    "class Foo(object):\n",
    "    \n",
    "    @staticmethod       # não pode ser herdado\n",
    "    def bar():\n",
    "        print(Foo)\n",
    "\n",
    "    @classmethod        # pode ser herdado\n",
    "    def baz(cls):\n",
    "        print(cls)      # self é o objeto\n",
    "    \n",
    "class Bar(Foo):\n",
    "    pass\n",
    "\n",
    "Bar.bar()\n",
    "Bar.baz()"
   ]
  },
  {
   "cell_type": "code",
   "execution_count": 34,
   "metadata": {},
   "outputs": [
    {
     "name": "stdout",
     "output_type": "stream",
     "text": [
      "o valor é  100\n",
      "Eu sou da classe A\n",
      "100\n"
     ]
    }
   ],
   "source": [
    "# Metodos e Variaveis Estaticas\n",
    "\n",
    "class A:\n",
    "    __valor = 100\n",
    "    def __info(self):\n",
    "        print(\"Eu sou da classe A\")\n",
    "    def ola(self):\n",
    "        print(\"o valor é \",A.__valor)\n",
    "\n",
    "a = A()\n",
    "a.ola()            # acessa variavel privada __valor\n",
    "a._A__info()       # acessar o metodo privado externamente\n",
    "print(a._A__valor) # acessar variavel privada externamente\n"
   ]
  },
  {
   "cell_type": "code",
   "execution_count": null,
   "metadata": {
    "collapsed": true
   },
   "outputs": [],
   "source": []
  }
 ],
 "metadata": {
  "kernelspec": {
   "display_name": "Python 3",
   "language": "python",
   "name": "python3"
  },
  "language_info": {
   "codemirror_mode": {
    "name": "ipython",
    "version": 3
   },
   "file_extension": ".py",
   "mimetype": "text/x-python",
   "name": "python",
   "nbconvert_exporter": "python",
   "pygments_lexer": "ipython3",
   "version": "3.7.7"
  }
 },
 "nbformat": 4,
 "nbformat_minor": 2
}
