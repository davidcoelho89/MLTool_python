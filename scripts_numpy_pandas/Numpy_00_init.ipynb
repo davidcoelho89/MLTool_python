{
 "cells": [
  {
   "cell_type": "markdown",
   "metadata": {},
   "source": [
    "# Numpy Introduction\n",
    "\n",
    "Biblioteca de Algebra Linear para Python\n",
    "\n",
    "Métodos são construidos em C, tornando a biblioteca muito rápida (bloco de construção para outras libs).\n",
    "\n",
    "Arrays: principal ferramenta da biblioteca. Podem ser 1d (vetores) ou 2d (matrizes).\n",
    "\n",
    "Extremamente útil (otimizado) para tratamento de big data / data science\n",
    "\n",
    "* Topicos:\n",
    "    * Importar biblioteca\n",
    "    * Tempo de Processamento\n",
    "    * lookfor: Procurar Funções/Metodos Proprietarios/Nativos \n",
    "    * Inicializações de Arrays"
   ]
  },
  {
   "cell_type": "code",
   "execution_count": 1,
   "metadata": {},
   "outputs": [
    {
     "name": "stdout",
     "output_type": "stream",
     "text": [
      "Wall time: 172 ms\n",
      "Wall time: 15.7 ms\n"
     ]
    }
   ],
   "source": [
    "# Importando a biblioteca\n",
    "\n",
    "import numpy as np\n",
    "\n",
    "# Tempo de processamento: Arrays x listas\n",
    "\n",
    "array1 = list(range(1000000))\n",
    "%time for _ in range(10):array1 * 2\n",
    "\n",
    "array2 = np.arange(1000000)\n",
    "%time for _ in range(10):array2 * 2\n"
   ]
  },
  {
   "cell_type": "code",
   "execution_count": 2,
   "metadata": {},
   "outputs": [
    {
     "name": "stdout",
     "output_type": "stream",
     "text": [
      "Search results for 'accumulate'\n",
      "-------------------------------\n",
      "numpy.ufunc.accumulate\n",
      "    Accumulate the result of applying the operator to all elements.\n",
      "numpy.ufunc.at\n",
      "    Performs unbuffered in place operation on operand 'a' for elements\n",
      "numpy.ufunc.reduceat\n",
      "    Performs a (local) reduce with specified slices over a single axis.\n"
     ]
    }
   ],
   "source": [
    "# lookfor: \"similar ao help do matlab\"\n",
    "\n",
    "np.lookfor('accumulate')"
   ]
  },
  {
   "cell_type": "code",
   "execution_count": 3,
   "metadata": {},
   "outputs": [
    {
     "data": {
      "text/plain": [
       "array([1, 2, 3])"
      ]
     },
     "metadata": {},
     "output_type": "display_data"
    },
    {
     "data": {
      "text/plain": [
       "array([[1, 2, 3],\n",
       "       [4, 5, 6],\n",
       "       [7, 8, 9]])"
      ]
     },
     "metadata": {},
     "output_type": "display_data"
    },
    {
     "data": {
      "text/plain": [
       "array([0, 1, 2, 3, 4, 5, 6, 7, 8, 9])"
      ]
     },
     "metadata": {},
     "output_type": "display_data"
    },
    {
     "data": {
      "text/plain": [
       "array([ 0,  2,  4,  6,  8, 10])"
      ]
     },
     "metadata": {},
     "output_type": "display_data"
    },
    {
     "data": {
      "text/plain": [
       "array([ 0.,  0.,  0.])"
      ]
     },
     "metadata": {},
     "output_type": "display_data"
    },
    {
     "data": {
      "text/plain": [
       "array([[ 0.,  0.,  0.,  0.,  0.],\n",
       "       [ 0.,  0.,  0.,  0.,  0.],\n",
       "       [ 0.,  0.,  0.,  0.,  0.],\n",
       "       [ 0.,  0.,  0.,  0.,  0.],\n",
       "       [ 0.,  0.,  0.,  0.,  0.]])"
      ]
     },
     "metadata": {},
     "output_type": "display_data"
    },
    {
     "data": {
      "text/plain": [
       "array([[ 1.,  1.,  1.],\n",
       "       [ 1.,  1.,  1.],\n",
       "       [ 1.,  1.,  1.]])"
      ]
     },
     "metadata": {},
     "output_type": "display_data"
    },
    {
     "data": {
      "text/plain": [
       "array([[ 1.,  0.,  0.,  0.],\n",
       "       [ 0.,  1.,  0.,  0.],\n",
       "       [ 0.,  0.,  1.,  0.],\n",
       "       [ 0.,  0.,  0.,  1.]])"
      ]
     },
     "metadata": {},
     "output_type": "display_data"
    }
   ],
   "source": [
    "# Inicializando array: lista 1d (vetor)\n",
    "\n",
    "lista1 = [1,2,3]\n",
    "array1 = np.array(lista1)\n",
    "display(array1)\n",
    "\n",
    "# Inicializando array: lista 2d (matriz)\n",
    "\n",
    "lista2 = [[1,2,3],[4,5,6],[7,8,9]]\n",
    "array2 = np.array(lista2)\n",
    "display(array2)\n",
    "\n",
    "# Inicializando array: arange (inicial, final, passo)\n",
    "\n",
    "array3 = np.arange(0,10)    # De 0 a 9 (ultimo # descartado). passo = 1.\n",
    "display(array3)\n",
    "\n",
    "array4 = np.arange(0,11,2)  # De 0 a 10 (ultimo # descartado). passo = 2.\n",
    "display(array4)\n",
    "\n",
    "# Inicializando array: zeros (apenas valores 0)\n",
    "\n",
    "array5 = np.zeros(3)        # Array de dimensão [1x3]\n",
    "display(array5)\n",
    "\n",
    "array6 = np.zeros((5,5))    # Array de dimensão [5x5]\n",
    "display(array6)\n",
    "\n",
    "# Inicializando array: ones (apenas valores 1)\n",
    "\n",
    "array7 = np.ones((3,3))     # Matrix de \"uns\" [3x3]\n",
    "display(array7)\n",
    "\n",
    "# Inicializando array: eye (matriz identidade)\n",
    "\n",
    "array8 = np.eye(4)          # Matrix [4x4]\n",
    "display(array8)"
   ]
  },
  {
   "cell_type": "code",
   "execution_count": 4,
   "metadata": {},
   "outputs": [
    {
     "data": {
      "text/plain": [
       "array([  0.,   5.,  10.])"
      ]
     },
     "metadata": {},
     "output_type": "display_data"
    },
    {
     "data": {
      "text/plain": [
       "array([  121.        ,   220.36039471,   401.31159963,   730.8527479 ,\n",
       "        1331.        ])"
      ]
     },
     "metadata": {},
     "output_type": "display_data"
    },
    {
     "name": "stdout",
     "output_type": "stream",
     "text": [
      "[ 0.51639863  0.57066759  0.02847423  0.17152166  0.68527698]\n",
      "[ 83.38968626  30.69662197  89.36130797  72.15438618  18.99389542]\n",
      "[[ 0.55422759  0.35213195  0.1818924   0.78560176]\n",
      " [ 0.96548322  0.23235366  0.08356143  0.60354842]\n",
      " [ 0.72899276  0.27623883  0.68530633  0.51786747]\n",
      " [ 0.04848454  0.13786924  0.18696743  0.9943179 ]\n",
      " [ 0.5206654   0.57878954  0.73481906  0.54196177]]\n",
      "[-1.70608593 -1.15911942 -0.13484072  0.39052784]\n",
      "12\n",
      "[17 75 79 97 93 24 36 63 19 35]\n"
     ]
    }
   ],
   "source": [
    "# Inicializando array: linspace(start,end,num_of_samples)\n",
    "\n",
    "array9 = np.linspace(0,10,3)\n",
    "display(array9)\n",
    "\n",
    "# Inicializando array: logspace(start,end,num_of_samples,base_log)\n",
    "\n",
    "array10 = np.logspace(2.0, 3.0, num = 5, base = 11)\n",
    "display(array10)\n",
    "\n",
    "# Obs: Configurar a \"semente\" dos números aleatórios (para garantir mesma sequência)\n",
    "\n",
    "np.random.seed(101)\n",
    "\n",
    "# Inicializando array: números aleatórios com distribuição uniforme.\n",
    "\n",
    "array11 = np.random.rand(5)      # 5 valores entre 0 e 1\n",
    "print(array11)\n",
    "\n",
    "array12 = np.random.rand(5)*100  # 5 valores entre 0 e 100 \n",
    "print(array12)\n",
    "\n",
    "array13 = np.random.rand(5,4)    # 20 valores entre 0 e 1 (não precisa passar tupla)\n",
    "print(array13)\n",
    "\n",
    "# Inicializando array: números aleatórios com distribuição gaussiana.\n",
    "\n",
    "array14 = np.random.randn(4)    # 4 valores, média = 0, desvio padrão = 1\n",
    "print(array14)\n",
    "\n",
    "# Inicializando array: números aleatórios com distribuição uniforme.\n",
    "\n",
    "array15 = np.random.randint(0,100)    # de 0 a 99, 1 num\n",
    "print(array15)\n",
    "\n",
    "array16 = np.random.randint(0,100,10) # de 0 a 99, 10 num\n",
    "print(array16)"
   ]
  },
  {
   "cell_type": "code",
   "execution_count": null,
   "metadata": {
    "collapsed": true
   },
   "outputs": [],
   "source": []
  }
 ],
 "metadata": {
  "kernelspec": {
   "display_name": "Python 3",
   "language": "python",
   "name": "python3"
  },
  "language_info": {
   "codemirror_mode": {
    "name": "ipython",
    "version": 3
   },
   "file_extension": ".py",
   "mimetype": "text/x-python",
   "name": "python",
   "nbconvert_exporter": "python",
   "pygments_lexer": "ipython3",
   "version": "3.7.7"
  }
 },
 "nbformat": 4,
 "nbformat_minor": 2
}
