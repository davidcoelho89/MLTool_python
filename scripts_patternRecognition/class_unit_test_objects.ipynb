{
 "cells": [
  {
   "cell_type": "code",
   "execution_count": 1,
   "metadata": {},
   "outputs": [],
   "source": [
    "# Python MLTool - Classification Algorithms\n",
    "# Unit test using Oriented Object Programming\n",
    "\n",
    "# Last Update: 2020/03/23"
   ]
  },
  {
   "cell_type": "code",
   "execution_count": 2,
   "metadata": {},
   "outputs": [
    {
     "name": "stdout",
     "output_type": "stream",
     "text": [
      "{'prob1': 'iris', 'prob2': 1, 'norm': 'zscore', 'lbl': 'bipolar', 'Nr': 5, 'hold': 'aleatory', 'ptrn': 0.8, 'file': 'f1.txt'}\n"
     ]
    }
   ],
   "source": [
    "# General Definitions\n",
    "\n",
    "OPT = {'prob1':'iris',     # Which data set will be used \n",
    "       'prob2':1,          # More details about a specific data set\n",
    "       'norm':'zscore',    # Normalization definition\n",
    "       'lbl':'bipolar',    # Labeling Type\n",
    "       'Nr':5,             # Number of repetitions of algorithm (generate statistics)\n",
    "       'hold':'aleatory',  # hold out method\n",
    "       'ptrn':0.8,         # Percentage of samples for training\n",
    "       'file':'f1.txt'     # file where all the variables will be saved\n",
    "      }\n",
    "\n",
    "print(OPT)"
   ]
  },
  {
   "cell_type": "code",
   "execution_count": 3,
   "metadata": {},
   "outputs": [],
   "source": [
    "# Data loading and pre-processing\n",
    "\n",
    "from data_object import *\n",
    "\n",
    "data = DATA()\n",
    "\n",
    "# Load DataSet\n",
    "\n",
    "data.class_loading(problem = OPT['prob1'], problem_detail = OPT['prob2'])\n",
    "\n",
    "# Encode Labels\n",
    "\n",
    "data.label_encode(label_type = OPT['lbl'])\n",
    "\n",
    "# Apply hold out (from data class)\n",
    "\n",
    "data.hold_out(hold_method = OPT['hold'], train_size = OPT['ptrn'])\n",
    "\n",
    "# Apply hold out (from scikit learn)\n",
    "\n",
    "#from sklearn.model_selection import train_test_split\n",
    "#X_tr, X_ts, y_tr, y_ts = train_test_split(data.input,data,output,test_size=0.25,random_state=42)\n",
    "\n",
    "# Normalize Inputs (just normalize after hold out)\n",
    "\n",
    "data.normalize(norm_type = OPT['norm'])"
   ]
  },
  {
   "cell_type": "code",
   "execution_count": 4,
   "metadata": {},
   "outputs": [
    {
     "name": "stdout",
     "output_type": "stream",
     "text": [
      "Number of Samples: 150\n",
      "Number of Attributes: 4\n",
      "Number of Classes: 3\n",
      "\n",
      "First five samples of DataSet:\n"
     ]
    },
    {
     "data": {
      "text/plain": [
       "(150, 4)"
      ]
     },
     "metadata": {},
     "output_type": "display_data"
    },
    {
     "data": {
      "text/plain": [
       "array([[5.1, 3.5, 1.4, 0.2],\n",
       "       [4.9, 3. , 1.4, 0.2],\n",
       "       [4.7, 3.2, 1.3, 0.2],\n",
       "       [4.6, 3.1, 1.5, 0.2],\n",
       "       [5. , 3.6, 1.4, 0.2]])"
      ]
     },
     "metadata": {},
     "output_type": "display_data"
    },
    {
     "data": {
      "text/plain": [
       "array([[ 1, -1, -1],\n",
       "       [ 1, -1, -1],\n",
       "       [ 1, -1, -1],\n",
       "       [ 1, -1, -1],\n",
       "       [ 1, -1, -1]])"
      ]
     },
     "metadata": {},
     "output_type": "display_data"
    },
    {
     "name": "stdout",
     "output_type": "stream",
     "text": [
      "\n",
      "First five samples of Training:\n"
     ]
    },
    {
     "data": {
      "text/plain": [
       "(120, 4)"
      ]
     },
     "metadata": {},
     "output_type": "display_data"
    },
    {
     "data": {
      "text/plain": [
       "array([[-0.56416501,  1.41597974, -1.30452574, -1.35043321],\n",
       "       [-1.05121394, -1.71408073, -0.28396232, -0.29299774],\n",
       "       [ 1.01874401,  0.52167674,  1.07678891,  1.16097603],\n",
       "       [ 1.14050624, -0.1490505 ,  0.96339297,  1.16097603],\n",
       "       [-0.56416501,  1.86313123, -1.41792168, -1.08607435]])"
      ]
     },
     "metadata": {},
     "output_type": "display_data"
    },
    {
     "data": {
      "text/plain": [
       "array([[ 1, -1, -1],\n",
       "       [-1,  1, -1],\n",
       "       [-1, -1,  1],\n",
       "       [-1, -1,  1],\n",
       "       [ 1, -1, -1]])"
      ]
     },
     "metadata": {},
     "output_type": "display_data"
    },
    {
     "name": "stdout",
     "output_type": "stream",
     "text": [
      "\n",
      "First five samples of Test:\n"
     ]
    },
    {
     "data": {
      "text/plain": [
       "(30, 4)"
      ]
     },
     "metadata": {},
     "output_type": "display_data"
    },
    {
     "data": {
      "text/plain": [
       "array([[-1.41650063,  0.298101  , -1.24782778, -1.35043321],\n",
       "       [ 0.16640838, -0.1490505 ,  0.5665072 ,  0.76443773],\n",
       "       [ 0.16640838, -0.37262625,  0.39641329,  0.36789942],\n",
       "       [ 0.53169508, -1.71408073,  0.33971532,  0.10354056],\n",
       "       [ 0.77521954, -0.1490505 ,  0.79329907,  1.02879659]])"
      ]
     },
     "metadata": {},
     "output_type": "display_data"
    },
    {
     "data": {
      "text/plain": [
       "array([[ 1, -1, -1],\n",
       "       [-1, -1,  1],\n",
       "       [-1,  1, -1],\n",
       "       [-1,  1, -1],\n",
       "       [-1, -1,  1]])"
      ]
     },
     "metadata": {},
     "output_type": "display_data"
    },
    {
     "name": "stdout",
     "output_type": "stream",
     "text": [
      "\n"
     ]
    }
   ],
   "source": [
    "# Information about Dataset\n",
    "\n",
    "print(\"Number of Samples: \" + str(data.N))\n",
    "print(\"Number of Attributes: \" + str(data.p))\n",
    "print(\"Number of Classes: \" + str(data.Nc))\n",
    "print()\n",
    "\n",
    "print(\"First five samples of DataSet:\")\n",
    "display(data.input.shape)\n",
    "display(data.input[0:5,:])\n",
    "display(data.output[0:5,:])\n",
    "print()\n",
    "\n",
    "print(\"First five samples of Training:\")\n",
    "display(data.X_tr.shape)\n",
    "display(data.X_tr[0:5,:])\n",
    "display(data.y_tr[0:5,:])\n",
    "print()\n",
    "\n",
    "print(\"First five samples of Test:\")\n",
    "display(data.X_ts.shape)\n",
    "display(data.X_ts[0:5,:])\n",
    "display(data.y_ts[0:5,:])\n",
    "print()"
   ]
  },
  {
   "cell_type": "code",
   "execution_count": 5,
   "metadata": {},
   "outputs": [],
   "source": [
    "# Training and Test (OOP)\n",
    "\n",
    "from ols_classifier import *\n",
    "from lssvm_classifier import *\n",
    "\n",
    "# OLS\n",
    "\n",
    "ols = OLS(aprox=1)\n",
    "\n",
    "ols.fit(data.X_tr,data.y_tr)\n",
    "\n",
    "y_h1 = ols.predict(data.X_ts)\n",
    "\n",
    "# LSSVM\n",
    "\n",
    "lssvm = LSSVM()\n",
    "\n",
    "lssvm.fit(data.X_tr,data.y_tr)\n",
    "\n",
    "y_h2 = lssvm.predict(data.X_ts)"
   ]
  },
  {
   "cell_type": "code",
   "execution_count": 6,
   "metadata": {},
   "outputs": [
    {
     "name": "stdout",
     "output_type": "stream",
     "text": [
      "(30, 3)\n",
      "(3, 5)\n"
     ]
    }
   ],
   "source": [
    "# Information About Parameters and Outputs\n",
    "\n",
    "print(y_h1.shape)\n",
    "print(ols.W.shape)\n"
   ]
  },
  {
   "cell_type": "code",
   "execution_count": 7,
   "metadata": {},
   "outputs": [
    {
     "data": {
      "text/plain": [
       "array([[11.,  0.,  0.],\n",
       "       [ 0.,  7.,  3.],\n",
       "       [ 0.,  1.,  8.]])"
      ]
     },
     "metadata": {},
     "output_type": "display_data"
    },
    {
     "data": {
      "text/plain": [
       "0.8666666666666667"
      ]
     },
     "metadata": {},
     "output_type": "display_data"
    }
   ],
   "source": [
    "# Display Results (Statistics)\n",
    "\n",
    "from statistics_object import *\n",
    "\n",
    "stats = STATSCLASS()\n",
    "\n",
    "stats.calculate(data.y_ts,y_h1)\n",
    "\n",
    "display(stats.confusion_matrix)\n",
    "display(stats.accuracy)"
   ]
  },
  {
   "cell_type": "code",
   "execution_count": 8,
   "metadata": {},
   "outputs": [
    {
     "data": {
      "text/plain": [
       "array([[11.,  0.,  0.],\n",
       "       [ 0., 10.,  0.],\n",
       "       [ 0.,  1.,  8.]])"
      ]
     },
     "metadata": {},
     "output_type": "display_data"
    },
    {
     "data": {
      "text/plain": [
       "0.9666666666666667"
      ]
     },
     "metadata": {},
     "output_type": "display_data"
    }
   ],
   "source": [
    "# Display Results (Statistics)\n",
    "\n",
    "from statistics_object import *\n",
    "\n",
    "stats = STATSCLASS()\n",
    "\n",
    "stats.calculate(data.y_ts,y_h2)\n",
    "\n",
    "display(stats.confusion_matrix)\n",
    "display(stats.accuracy)"
   ]
  },
  {
   "cell_type": "code",
   "execution_count": 24,
   "metadata": {
    "collapsed": true
   },
   "outputs": [],
   "source": [
    "# Save Objects \n",
    "\n",
    "# See: https://stackoverflow.com/questions/4529815/saving-an-object-data-persistence"
   ]
  }
 ],
 "metadata": {
  "kernelspec": {
   "display_name": "Python 3",
   "language": "python",
   "name": "python3"
  },
  "language_info": {
   "codemirror_mode": {
    "name": "ipython",
    "version": 3
   },
   "file_extension": ".py",
   "mimetype": "text/x-python",
   "name": "python",
   "nbconvert_exporter": "python",
   "pygments_lexer": "ipython3",
   "version": "3.7.7"
  }
 },
 "nbformat": 4,
 "nbformat_minor": 2
}
