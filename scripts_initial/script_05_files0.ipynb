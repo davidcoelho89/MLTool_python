{
 "cells": [
  {
   "cell_type": "markdown",
   "metadata": {
    "collapsed": true
   },
   "source": [
    "# File Manipulation\n",
    "\n",
    "* Topicos:\n",
    "    * Open Files\n",
    "    * Read Files\n",
    "    * Write Files\n",
    "    * Create Files"
   ]
  },
  {
   "cell_type": "code",
   "execution_count": 1,
   "metadata": {
    "collapsed": true
   },
   "outputs": [],
   "source": [
    "# Open/Close Files\n",
    "\n",
    "# file = open(nome,access_mode)\n",
    "# file.close()  \n",
    "\n",
    "# r+ -> abre arquivo para leitura e escrita\n",
    "# (arquivo ja existe)\n",
    "\n",
    "# w+ -> abre arquivo para leitura e escrita\n",
    "# (se arquivo já existe, substitui este)\n",
    "# (se arquivo não existe, cria um novo)\n",
    "\n",
    "# a+ -> abre arquivo para leitura e escrita\n",
    "# (se arquivo já existe, aponta para próxima linha deste)\n",
    "# (se arquivo não existe, cria um novo)"
   ]
  },
  {
   "cell_type": "code",
   "execution_count": 2,
   "metadata": {},
   "outputs": [
    {
     "name": "stdout",
     "output_type": "stream",
     "text": [
      "David Coelho\n",
      "Nice Maria\n",
      "Raquel coelho\n",
      "Wiler Rodrigues\n",
      "Irene Nascimento\n",
      "\n"
     ]
    }
   ],
   "source": [
    "# Read Files: Complete\n",
    "\n",
    "file = open(\"script_05_files1.txt\",\"r\") # open file in read mode\n",
    "leitura = file.read()                   # read all strings in file\n",
    "print(leitura)                          # print strings\n",
    "file.close()                            # close file"
   ]
  },
  {
   "cell_type": "code",
   "execution_count": 3,
   "metadata": {},
   "outputs": [
    {
     "name": "stdout",
     "output_type": "stream",
     "text": [
      "David\n",
      " Coelho\n",
      "Nice Ma\n",
      "ri\n"
     ]
    }
   ],
   "source": [
    "# Read Files: Characters\n",
    "\n",
    "file = open(\"script_05_files1.txt\",\"r\") # open file in read mode\n",
    "print(file.read(5))  # read 5 Characters\n",
    "print(file.read(15)) # read 15 Characters (following)\n",
    "print(file.read(2))  # read 2 Characters (following)\n",
    "file.close()         # close file"
   ]
  },
  {
   "cell_type": "code",
   "execution_count": 6,
   "metadata": {},
   "outputs": [
    {
     "name": "stdout",
     "output_type": "stream",
     "text": [
      "Da\n",
      "vid Coelho\n",
      "\n"
     ]
    }
   ],
   "source": [
    "# Read Files: Lines\n",
    "\n",
    "file = open(\"script_05_files1.txt\",\"r\") # open file in read mode\n",
    "print(file.readline(2))                 # read 2 Characters da linha 1\n",
    "print(file.readline())                  # read remaining of line 1\n",
    "file.close()                            # close file"
   ]
  },
  {
   "cell_type": "code",
   "execution_count": 9,
   "metadata": {},
   "outputs": [
    {
     "name": "stdout",
     "output_type": "stream",
     "text": [
      "A palavra  coelho  foi encontrada  2  vezes\n"
     ]
    }
   ],
   "source": [
    "# Read Files: Search for sequence of characters\n",
    "\n",
    "search = \"Coelho\"\n",
    "word = search.lower()\n",
    "file = open(\"script_05_files1.txt\",\"r\")\n",
    "\n",
    "counter = 0\n",
    "\n",
    "for it in file:\n",
    "    if word in it.lower():\n",
    "        counter = counter + 1\n",
    "        \n",
    "print (\"A palavra \", word, \" foi encontrada \", counter,\" vezes\")\n",
    "\n",
    "file.close()"
   ]
  },
  {
   "cell_type": "code",
   "execution_count": 13,
   "metadata": {
    "collapsed": true
   },
   "outputs": [],
   "source": [
    "# Write Files: replace file, if it already exists\n",
    "\n",
    "file_input = open(\"script_05_files2.txt\",\"w\")\n",
    "file_input.write(\"David \\n\")\n",
    "file_input.write(\"Nascimento \\n\")\n",
    "file_input.write(\"Coelho \\n\")\n",
    "file_input.close()"
   ]
  },
  {
   "cell_type": "code",
   "execution_count": 18,
   "metadata": {
    "collapsed": true
   },
   "outputs": [],
   "source": [
    "# Write Files: create from a list\n",
    "\n",
    "lista = [\"\\nbatata\",\"\\nmaca\",\"\\nPera\",\"\\ncarne\",\"\\ncerveja\"]\n",
    "file_input = open(\"script_05_files3.txt\",\"w\")\n",
    "file_input.writelines(lista)\n",
    "file_input.close()"
   ]
  },
  {
   "cell_type": "code",
   "execution_count": 19,
   "metadata": {
    "collapsed": true
   },
   "outputs": [],
   "source": [
    "# Write Files: Add line to already existing \n",
    "lista = [\"\\nbatata\",\"\\nmaca\",\"\\nPera\",\"\\ncarne\",\"\\ncerveja\"]\n",
    "file_input = open(\"script_05_files3.txt\",\"a\")\n",
    "file_input.writelines(lista)\n",
    "file_input.close()"
   ]
  }
 ],
 "metadata": {
  "kernelspec": {
   "display_name": "Python 3",
   "language": "python",
   "name": "python3"
  },
  "language_info": {
   "codemirror_mode": {
    "name": "ipython",
    "version": 3
   },
   "file_extension": ".py",
   "mimetype": "text/x-python",
   "name": "python",
   "nbconvert_exporter": "python",
   "pygments_lexer": "ipython3",
   "version": "3.7.7"
  }
 },
 "nbformat": 4,
 "nbformat_minor": 2
}
