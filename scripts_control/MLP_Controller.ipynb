{
 "cells": [
  {
   "cell_type": "code",
   "execution_count": 3,
   "metadata": {},
   "outputs": [],
   "source": [
    "# Treinamento rede MLP - Controlador\n",
    "from sklearn.neural_network import MLPRegressor\n",
    "import numpy as np\n",
    "import matplotlib.pyplot as plt"
   ]
  },
  {
   "cell_type": "code",
   "execution_count": 14,
   "metadata": {},
   "outputs": [
    {
     "ename": "TypeError",
     "evalue": "data type not understood",
     "output_type": "error",
     "traceback": [
      "\u001b[1;31m---------------------------------------------------------------------------\u001b[0m",
      "\u001b[1;31mTypeError\u001b[0m                                 Traceback (most recent call last)",
      "\u001b[1;32m<ipython-input-14-0be6918b25fa>\u001b[0m in \u001b[0;36m<module>\u001b[1;34m\u001b[0m\n\u001b[0;32m     16\u001b[0m \u001b[1;33m\u001b[0m\u001b[0m\n\u001b[0;32m     17\u001b[0m \u001b[1;31m# Gera sinal de Referencia\u001b[0m\u001b[1;33m\u001b[0m\u001b[1;33m\u001b[0m\u001b[1;33m\u001b[0m\u001b[0m\n\u001b[1;32m---> 18\u001b[1;33m \u001b[0mRef\u001b[0m \u001b[1;33m=\u001b[0m \u001b[0mnp\u001b[0m\u001b[1;33m.\u001b[0m\u001b[0mzeros\u001b[0m\u001b[1;33m(\u001b[0m\u001b[1;36m1\u001b[0m\u001b[1;33m,\u001b[0m\u001b[1;36m600000\u001b[0m\u001b[1;33m)\u001b[0m\u001b[1;33m\u001b[0m\u001b[1;33m\u001b[0m\u001b[0m\n\u001b[0m\u001b[0;32m     19\u001b[0m \u001b[0mRef\u001b[0m\u001b[1;33m[\u001b[0m\u001b[1;36m1\u001b[0m\u001b[1;33m,\u001b[0m\u001b[1;36m0\u001b[0m\u001b[1;33m:\u001b[0m\u001b[1;36m99999\u001b[0m\u001b[1;33m]\u001b[0m \u001b[1;33m=\u001b[0m \u001b[1;36m1800\u001b[0m\u001b[1;33m\u001b[0m\u001b[1;33m\u001b[0m\u001b[0m\n\u001b[0;32m     20\u001b[0m \u001b[0mRef\u001b[0m\u001b[1;33m[\u001b[0m\u001b[1;36m1\u001b[0m\u001b[1;33m,\u001b[0m\u001b[1;36m100000\u001b[0m\u001b[1;33m:\u001b[0m\u001b[1;36m199999\u001b[0m\u001b[1;33m]\u001b[0m \u001b[1;33m=\u001b[0m \u001b[1;36m1400\u001b[0m\u001b[1;33m\u001b[0m\u001b[1;33m\u001b[0m\u001b[0m\n",
      "\u001b[1;31mTypeError\u001b[0m: data type not understood"
     ]
    }
   ],
   "source": [
    "# coeficientes\n",
    "\n",
    "a1 = 1\n",
    "a2 = 1\n",
    "a3 = 1\n",
    "a4 = 1\n",
    "a5 = 1\n",
    "a6 = 1\n",
    "\n",
    "b1 = 1\n",
    "b2 = 1\n",
    "b3 = 1\n",
    "b4 = 1\n",
    "b5 = 1\n",
    "b6 = 1\n",
    "\n",
    "# Gera sinal de Referencia\n",
    "Ref = np.zeros(1,600000)\n",
    "Ref[1,0:99999] = 1800\n",
    "Ref[1,100000:199999] = 1400\n",
    "...\n",
    "\n",
    "# Gera sinal carga 60s. 10kHz. 600.000 pontos\n",
    "Cl = np.zeros(1,600000)\n",
    "Cl[1,130000:170000] = 20;\n",
    "Cl[1,230000:270000] = 50;\n",
    "...\n",
    "# Inicializa vetor de velocidade\n",
    "w = np.zeros(1,600000)\n",
    "\n",
    "# Inicializa vetor de corrente\n",
    "i = np.zeros(1,600000)\n",
    "\n",
    "# Inicializa vetor de tensao\n",
    "V = np.zeros(1,600000)\n",
    "\n",
    "# Inicializa vetor de erros\n",
    "error = np.zeros((1,2))\n",
    "\n",
    "# Inicializa MLP\n",
    "MLPcontroller = MLPRegressor(hidden_layer_sizes=(6), random_state=1, max_iter=10000) #"
   ]
  },
  {
   "cell_type": "code",
   "execution_count": null,
   "metadata": {},
   "outputs": [],
   "source": [
    "# PLot Sinais\n",
    "\n",
    "\n"
   ]
  },
  {
   "cell_type": "code",
   "execution_count": null,
   "metadata": {},
   "outputs": [],
   "source": [
    "for n = 2:600000\n",
    "    \n",
    "    # Calcula corrente\n",
    "    i[1,n] = a1*i[1,n-1] + a2*i[1,n-2] + a3*V[1,n-1] + a4*V[1,n-2] + a5*Cl[1,n-1] + a6*Cl[1,n-2]\n",
    "    \n",
    "    # Calcula velocidade\n",
    "    w[1,n] = b1*w[1,n-1] + b2*w[1,n-2] + b3*V[1,n-1] + b4*V[1,n-2] + b5*Cl[1,n-1] + b6*Cl[1,n-2]\n",
    "    \n",
    "    # Gera vetor de entrada para rede\n",
    "    X = [i[1,n], i[1,n-1] w[1,n] w[1,n-1] Ref[1,n] Ref[1,n-1] V[1,n] V[1,n-1]]\n",
    "    \n",
    "    # Prediz Valor\n",
    "    V[1,n] = MLPcontroller.predict(X)\n",
    "    \n",
    "    # Calcula erro de predição\n",
    "    error[1,n] = ref[1,n] - w[1,n]\n",
    "    \n",
    "    # Atualiza pesos\n",
    "    MLPcontroller.update(X,ref[1,n])\n",
    "\n",
    "end\n"
   ]
  }
 ],
 "metadata": {
  "kernelspec": {
   "display_name": "Python 3",
   "language": "python",
   "name": "python3"
  },
  "language_info": {
   "codemirror_mode": {
    "name": "ipython",
    "version": 3
   },
   "file_extension": ".py",
   "mimetype": "text/x-python",
   "name": "python",
   "nbconvert_exporter": "python",
   "pygments_lexer": "ipython3",
   "version": "3.7.7"
  }
 },
 "nbformat": 4,
 "nbformat_minor": 4
}
