{
 "cells": [
  {
   "cell_type": "markdown",
   "metadata": {},
   "source": [
    "# Funções\n",
    "\n",
    "* Topicos:\n",
    "    * Funções: definição e retorno\n",
    "    * Expressões lambda\n",
    "    * Funções map and filter\n",
    "    * Exemplos\n",
    "    * Exceções"
   ]
  },
  {
   "cell_type": "code",
   "execution_count": 6,
   "metadata": {},
   "outputs": [
    {
     "name": "stdout",
     "output_type": "stream",
     "text": [
      "<function my_func at 0x00000258877001E0>\n",
      "default\n",
      "novo parametro1\n",
      "novo parametro2\n",
      "4\n"
     ]
    }
   ],
   "source": [
    "# Geral\n",
    "\n",
    "# Funções internas (integradas): já predifinidas pela linguagem\n",
    "# Funções definidas pelo usuário: blocos de código feitos de acordo com a necessidade\n",
    "# Funções em python, assim como variáveis, também são objetos\n",
    "# Para iniciar função: def\n",
    "\n",
    "# Definição\n",
    "\n",
    "def my_func(param1='default'):\n",
    "    \"\"\"\n",
    "    Documentação da função vai aqui.\n",
    "    \"\"\"\n",
    "    print(param1)\n",
    "\n",
    "print(my_func)\n",
    "\n",
    "# Utilização\n",
    "\n",
    "my_func()\n",
    "my_func('novo parametro1')\n",
    "my_func(param1='novo parametro2')\n",
    "\n",
    "# Retorno\n",
    "\n",
    "def my_func2(p1):\n",
    "    x = p1 ** 2\n",
    "    return x\n",
    "\n",
    "y = my_func2(2)\n",
    "print(y)\n"
   ]
  },
  {
   "cell_type": "code",
   "execution_count": 12,
   "metadata": {},
   "outputs": [
    {
     "name": "stdout",
     "output_type": "stream",
     "text": [
      "9\n"
     ]
    },
    {
     "data": {
      "text/plain": [
       "<function __main__.<lambda>>"
      ]
     },
     "execution_count": 12,
     "metadata": {},
     "output_type": "execute_result"
    }
   ],
   "source": [
    "# Expressão Lambda\n",
    "\n",
    "# Exemplo: elevar um valor ao quadrado\n",
    "\n",
    "def quad(var):\n",
    "    return var ** 2\n",
    "\n",
    "print(quad(3))\n",
    "\n",
    "# Pode escrever a mesma função em uma linha apenas:\n",
    "\n",
    "lambda var: var ** 2"
   ]
  },
  {
   "cell_type": "code",
   "execution_count": 11,
   "metadata": {},
   "outputs": [
    {
     "name": "stdout",
     "output_type": "stream",
     "text": [
      "[1, 4, 9, 16, 25]\n",
      "[1, 4, 9, 16, 25]\n"
     ]
    }
   ],
   "source": [
    "# Map\n",
    "\n",
    "# Aplica uma função sobre um objeto iteravel\n",
    "\n",
    "list1 = [1,2,3,4,5]           # lista inicial\n",
    "\n",
    "map(quad,list1)               # apenas cria o mapeamento\n",
    "list2 = list(map(quad,list1)) # cria uma lista dado o mapeamento\n",
    "\n",
    "print(list2)\n",
    "\n",
    "# Pode utilizar o conceito de lambda dentro do map\n",
    "\n",
    "list3 = list(map(lambda x: x**2, list1))\n",
    "\n",
    "print(list3)\n"
   ]
  },
  {
   "cell_type": "code",
   "execution_count": null,
   "metadata": {
    "collapsed": true
   },
   "outputs": [],
   "source": [
    "# Filter\n",
    "\n",
    "# Filtra elementos de uma sequencia, onde determinada condição é verdadeira\n",
    "\n",
    "list1 = [1,2,3,4,5]\n",
    "\n",
    "# Ex: Cria lista, filtrando os  valores de list1 divisiveis por 2\n",
    "\n",
    "list3 = list(filter(lambda item: item%2 == 0, list1))\n",
    "\n",
    "print(list3)"
   ]
  },
  {
   "cell_type": "code",
   "execution_count": 1,
   "metadata": {},
   "outputs": [
    {
     "name": "stdout",
     "output_type": "stream",
     "text": [
      "Olá Mundo\n",
      "12\n",
      "Hello  Ana\n",
      "Hello  David\n",
      "67\n",
      "11\n",
      "Olá  David\n",
      "100\n"
     ]
    }
   ],
   "source": [
    "# Functions Examples\n",
    "\n",
    "# Função inicial\n",
    "\n",
    "def olaMundo():\n",
    "    print(\"Olá Mundo\")\n",
    "\n",
    "olaMundo()\n",
    "\n",
    "# Retorno\n",
    "\n",
    "def somaNum(x,y):\n",
    "    return x+y\n",
    "\n",
    "print(somaNum(2,10))\n",
    "\n",
    "# Argumento default\n",
    "\n",
    "def helloUser(user=\"Ana\"):\n",
    "    print(\"Hello \",user)\n",
    "\n",
    "helloUser()\n",
    "helloUser(\"David\")\n",
    "\n",
    "# Multiplos Argumentos\n",
    "\n",
    "def mult_args(*args):\n",
    "    return sum(*args)\n",
    "\n",
    "print(mult_args([15,20,32]))\n",
    "\n",
    "# Referencia para função\n",
    "\n",
    "soma_num = mult_args\n",
    "\n",
    "print(soma_num([3,8]))\n",
    "\n",
    "# Função com Expressão Lambda\n",
    "\n",
    "imprime = lambda x: print(\"Olá \",x)\n",
    "\n",
    "imprime(\"David\")\n",
    "\n",
    "# Função Recursiva\n",
    "\n",
    "def recursiveSum(lista):\n",
    "    if len(lista) == 1:\n",
    "        return lista[0]\n",
    "    else:\n",
    "        return lista[0] + recursiveSum(lista[1:])\n",
    "\n",
    "print(recursiveSum([10,20,30,40]))\n"
   ]
  },
  {
   "cell_type": "code",
   "execution_count": 2,
   "metadata": {},
   "outputs": [
    {
     "name": "stdout",
     "output_type": "stream",
     "text": [
      "30\n",
      "Erro na funcao divisao\n",
      "None\n",
      "teste\n",
      "Nao pode dividir um número por 0\n"
     ]
    }
   ],
   "source": [
    "# Exceções:\n",
    "\n",
    "# Como verificar exceção\n",
    "\n",
    "def soma(a,b):\n",
    "    try:\n",
    "        c = a+b\n",
    "        return c\n",
    "    except:\n",
    "        print(\"Erro na funcao soma\")\n",
    "\n",
    "# Exceção ocorrendo\n",
    "        \n",
    "def divide(a,b):\n",
    "    try:\n",
    "        c = a/b\n",
    "        return c\n",
    "    except:\n",
    "        print(\"Erro na funcao divisao\")\n",
    "    \n",
    "print(soma(10,20))\n",
    "print(divide(10,0))\n",
    "print(\"teste\")\n",
    "\n",
    "# Exceção multipla\n",
    "\n",
    "def mult_try():\n",
    "    try:\n",
    "        n = 10\n",
    "        n1 = 0\n",
    "        c = n/n1\n",
    "        print(c)\n",
    "    except ValueError:\n",
    "        print(\"Este valor não é do tipo inteiro\")\n",
    "    except ZeroDivisionError:\n",
    "        print(\"Nao pode dividir um número por 0\")\n",
    "    else:\n",
    "        print(\"O resultado  = \",c)\n",
    "\n",
    "mult_try()\n"
   ]
  },
  {
   "cell_type": "code",
   "execution_count": null,
   "metadata": {
    "collapsed": true
   },
   "outputs": [],
   "source": []
  }
 ],
 "metadata": {
  "kernelspec": {
   "display_name": "Python 3",
   "language": "python",
   "name": "python3"
  },
  "language_info": {
   "codemirror_mode": {
    "name": "ipython",
    "version": 3
   },
   "file_extension": ".py",
   "mimetype": "text/x-python",
   "name": "python",
   "nbconvert_exporter": "python",
   "pygments_lexer": "ipython3",
   "version": "3.7.7"
  }
 },
 "nbformat": 4,
 "nbformat_minor": 1
}
