{
 "cells": [
  {
   "cell_type": "code",
   "execution_count": null,
   "metadata": {
    "collapsed": true
   },
   "outputs": [],
   "source": [
    "# Python MLTool - Classification Algorithms\n",
    "# Unit test using Functions\n",
    "\n",
    "# Last Update: 2020/03/20"
   ]
  },
  {
   "cell_type": "code",
   "execution_count": null,
   "metadata": {},
   "outputs": [],
   "source": [
    "# General Definitions\n",
    "\n",
    "OPT = {'prob1':1,          # Which data set will be used \n",
    "       'prob2':2,          # More details about a specific data set\n",
    "       'norm':3,           # Normalization definition\n",
    "       'lbl':0,            # Labeling Definition\n",
    "       'Nr':5,             # Number of repetitions of algorithm\n",
    "       'hold':1,           # hold out method\n",
    "       'ptrn':0.7,         # Percentage of samples for training\n",
    "       'file':'fileX.txt'  # file where all the variables will be saved\n",
    "      }\n",
    "\n",
    "print(OPT)"
   ]
  },
  {
   "cell_type": "code",
   "execution_count": null,
   "metadata": {},
   "outputs": [],
   "source": [
    "# Data loading and pre-processing\n",
    "\n",
    "import data_functions as dfunc\n",
    "\n",
    "# Load DataSet\n",
    "\n",
    "DATA = dfunc.class_loading(OPT)\n",
    "\n",
    "# Normalize Inputs\n",
    "\n",
    "DATA = dfunc.normalize(DATA,OPT)\n",
    "\n",
    "# Encode Labels\n",
    "\n",
    "DATA = dfunc.label_encode(DATA,OPT)\n",
    "\n",
    "# Apply hold out (from data functions)\n",
    "\n",
    "DATA_hold = dfunc.hold_out(DATA,OPT)\n",
    "DATAtr = DATA_hold['DATAtr']\n",
    "DATAts = DATA_hold['DATAts']\n",
    "\n",
    "# Apply hold out (from scikit learn)\n",
    "\n",
    "#from sklearn.model_selection import train_test_split\n",
    "#X_tr, X_ts, y_tr, y_ts = train_test_split(DATA['input'].T,DATA['output'].T,test_size=0.25,random_state=42)"
   ]
  },
  {
   "cell_type": "code",
   "execution_count": null,
   "metadata": {
    "collapsed": true
   },
   "outputs": [],
   "source": [
    "# Information about Dataset\n",
    "\n",
    "p = DATA['input'].shape[0]    # p = DATA['input'].T.shape[1]\n",
    "N = DATA['input'].shape[1]    # N = DATA['input'].T.shape[0] \n",
    "Nc = DATA['output'].shape[0]  # Nc = DATA['output'].T.shape[1]\n",
    "\n",
    "print(\"Number of Samples: \" + str(N))\n",
    "print(\"Number of Attributes: \" + str(p))\n",
    "print(\"Number of Classes: \" + str(Nc))\n",
    "print()\n",
    "print(\"First five samples:\")\n",
    "display(DATA['input'][:,0:5])\n",
    "display(DATA['output'][:,0:5])"
   ]
  },
  {
   "cell_type": "code",
   "execution_count": null,
   "metadata": {
    "collapsed": true
   },
   "outputs": [],
   "source": [
    "# Training and Test (Functions)\n",
    "\n",
    "import ols_functions as ols_func\n",
    "\n",
    "HP = {'aprox':1}\n",
    "\n",
    "PAR = ols_func.train(DATAtr,HP)\n",
    "\n",
    "OUTts = ols_func.classify(DATAts,PAR)"
   ]
  },
  {
   "cell_type": "code",
   "execution_count": null,
   "metadata": {},
   "outputs": [],
   "source": [
    "# Display Results (Statistics)\n",
    "\n",
    "import statistics_functions as sfunc\n",
    "\n",
    "STATS = sfunc.stats_1turn(DATAts,OUTts)\n",
    "\n",
    "display(STATS['Mconf'])\n",
    "display(STATS['acc'])"
   ]
  },
  {
   "cell_type": "code",
   "execution_count": null,
   "metadata": {
    "collapsed": true
   },
   "outputs": [],
   "source": []
  }
 ],
 "metadata": {
  "kernelspec": {
   "display_name": "Python 3",
   "language": "python",
   "name": "python3"
  },
  "language_info": {
   "codemirror_mode": {
    "name": "ipython",
    "version": 3
   },
   "file_extension": ".py",
   "mimetype": "text/x-python",
   "name": "python",
   "nbconvert_exporter": "python",
   "pygments_lexer": "ipython3",
   "version": "3.6.3"
  }
 },
 "nbformat": 4,
 "nbformat_minor": 2
}
