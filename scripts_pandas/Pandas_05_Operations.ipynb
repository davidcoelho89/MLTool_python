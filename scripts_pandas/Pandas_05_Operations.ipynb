{
 "cells": [
  {
   "cell_type": "markdown",
   "metadata": {
    "collapsed": true
   },
   "source": [
    "# Pandas - Operações\n",
    "\n",
    "* Tópicos\n",
    "    * Unique Values\n",
    "    * Select Slices\n",
    "    * Apply Functions\n",
    "    * Sort Values"
   ]
  },
  {
   "cell_type": "code",
   "execution_count": 1,
   "metadata": {},
   "outputs": [
    {
     "data": {
      "text/html": [
       "<div>\n",
       "<style>\n",
       "    .dataframe thead tr:only-child th {\n",
       "        text-align: right;\n",
       "    }\n",
       "\n",
       "    .dataframe thead th {\n",
       "        text-align: left;\n",
       "    }\n",
       "\n",
       "    .dataframe tbody tr th {\n",
       "        vertical-align: top;\n",
       "    }\n",
       "</style>\n",
       "<table border=\"1\" class=\"dataframe\">\n",
       "  <thead>\n",
       "    <tr style=\"text-align: right;\">\n",
       "      <th></th>\n",
       "      <th>col1</th>\n",
       "      <th>col2</th>\n",
       "      <th>col3</th>\n",
       "    </tr>\n",
       "  </thead>\n",
       "  <tbody>\n",
       "    <tr>\n",
       "      <th>0</th>\n",
       "      <td>1</td>\n",
       "      <td>444</td>\n",
       "      <td>abc</td>\n",
       "    </tr>\n",
       "    <tr>\n",
       "      <th>1</th>\n",
       "      <td>2</td>\n",
       "      <td>555</td>\n",
       "      <td>def</td>\n",
       "    </tr>\n",
       "    <tr>\n",
       "      <th>2</th>\n",
       "      <td>3</td>\n",
       "      <td>666</td>\n",
       "      <td>ghi</td>\n",
       "    </tr>\n",
       "    <tr>\n",
       "      <th>3</th>\n",
       "      <td>4</td>\n",
       "      <td>444</td>\n",
       "      <td>xyz</td>\n",
       "    </tr>\n",
       "  </tbody>\n",
       "</table>\n",
       "</div>"
      ],
      "text/plain": [
       "   col1  col2 col3\n",
       "0     1   444  abc\n",
       "1     2   555  def\n",
       "2     3   666  ghi\n",
       "3     4   444  xyz"
      ]
     },
     "execution_count": 1,
     "metadata": {},
     "output_type": "execute_result"
    }
   ],
   "source": [
    "# Import Libraries\n",
    "\n",
    "import numpy as np\n",
    "import pandas as pd\n",
    "\n",
    "# Init Dataframe\n",
    "\n",
    "dic1 = {'col1':[1,2,3,4],\n",
    "        'col2':[444,555,666,444],\n",
    "        'col3':['abc','def','ghi','xyz']}\n",
    "\n",
    "df = pd.DataFrame(dic1)\n",
    "\n",
    "df.head()"
   ]
  },
  {
   "cell_type": "code",
   "execution_count": 8,
   "metadata": {},
   "outputs": [
    {
     "name": "stdout",
     "output_type": "stream",
     "text": [
      "[444 555 666]\n",
      "\n",
      "[444 555 666]\n",
      "\n",
      "3\n",
      "\n",
      "444    2\n",
      "555    1\n",
      "666    1\n",
      "Name: col2, dtype: int64\n",
      "\n",
      "   col1  col2 col3\n",
      "3     4   444  xyz\n",
      "\n"
     ]
    }
   ],
   "source": [
    "# Unique values\n",
    "\n",
    "print(df['col2'].unique())\n",
    "print()\n",
    "\n",
    "print(np.unique(df['col2']))\n",
    "print()\n",
    "\n",
    "# Number of unique values\n",
    "\n",
    "print(df['col2'].nunique())\n",
    "print()\n",
    "\n",
    "# Count number of times a unique value appears\n",
    "\n",
    "print(df['col2'].value_counts())\n",
    "print()\n",
    "\n",
    "# Select slices of Dataframe\n",
    "\n",
    "df1 = df[(df['col1']>2) & (df['col2']==444)]\n",
    "print(df1)\n",
    "print()"
   ]
  },
  {
   "cell_type": "code",
   "execution_count": 13,
   "metadata": {},
   "outputs": [
    {
     "name": "stdout",
     "output_type": "stream",
     "text": [
      "0    2\n",
      "1    4\n",
      "2    6\n",
      "3    8\n",
      "Name: col1, dtype: int64\n",
      "\n",
      "0    3\n",
      "1    3\n",
      "2    3\n",
      "3    3\n",
      "Name: col3, dtype: int64\n",
      "\n",
      "10\n",
      "\n",
      "0     1\n",
      "1     4\n",
      "2     9\n",
      "3    16\n",
      "Name: col1, dtype: int64\n",
      "\n"
     ]
    }
   ],
   "source": [
    "# Apply Functions: defined\n",
    "\n",
    "def times2(x):\n",
    "    return x*2\n",
    "\n",
    "print(df['col1'].apply(times2))\n",
    "print()\n",
    "\n",
    "print(df['col3'].apply(len))\n",
    "print()\n",
    "\n",
    "print(df['col1'].sum())\n",
    "print()\n",
    "\n",
    "# Apply functions 2: lambda\n",
    "\n",
    "print(df['col1'].apply(lambda x: x*x))\n",
    "print()"
   ]
  },
  {
   "cell_type": "code",
   "execution_count": 18,
   "metadata": {},
   "outputs": [
    {
     "name": "stdout",
     "output_type": "stream",
     "text": [
      "   col1  col2 col3\n",
      "0     1   444  abc\n",
      "1     2   555  def\n",
      "2     3   666  ghi\n",
      "3     4   444  xyz\n",
      "\n",
      "   col1  col2 col3\n",
      "0     1   444  abc\n",
      "3     4   444  xyz\n",
      "1     2   555  def\n",
      "2     3   666  ghi\n",
      "\n",
      "     A    B  C  D\n",
      "0  foo  one  x  1\n",
      "1  foo  one  y  3\n",
      "2  foo  two  x  2\n",
      "3  bar  two  y  5\n",
      "4  bar  one  x  4\n",
      "5  bar  one  y  1\n",
      "\n",
      "C          x    y\n",
      "A   B            \n",
      "bar one  4.0  1.0\n",
      "    two  NaN  5.0\n",
      "foo one  1.0  3.0\n",
      "    two  2.0  NaN\n",
      "\n"
     ]
    }
   ],
   "source": [
    "# Sorting Values\n",
    "\n",
    "print(df)\n",
    "print()\n",
    "\n",
    "print(df.sort_values(by='col2'))\n",
    "print()\n",
    "\n",
    "# Pivot Table: Create Multilevel (same as dynamic table of Excel)\n",
    "\n",
    "dic1 = {'A':['foo','foo','foo','bar','bar','bar'],\n",
    "        'B':['one','one','two','two','one','one'],\n",
    "        'C':['x','y','x','y','x','y'],\n",
    "        'D':[1,3,2,5,4,1]}\n",
    "\n",
    "df1 = pd.DataFrame(dic1)\n",
    "print(df1)\n",
    "print()\n",
    "\n",
    "print(df1.pivot_table(values='D',index=['A', 'B'],columns=['C']))\n",
    "print()"
   ]
  }
 ],
 "metadata": {
  "kernelspec": {
   "display_name": "Python 3",
   "language": "python",
   "name": "python3"
  },
  "language_info": {
   "codemirror_mode": {
    "name": "ipython",
    "version": 3
   },
   "file_extension": ".py",
   "mimetype": "text/x-python",
   "name": "python",
   "nbconvert_exporter": "python",
   "pygments_lexer": "ipython3",
   "version": "3.6.3"
  }
 },
 "nbformat": 4,
 "nbformat_minor": 1
}
