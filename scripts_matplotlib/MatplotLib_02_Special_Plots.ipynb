{
 "cells": [
  {
   "cell_type": "markdown",
   "metadata": {},
   "source": [
    "# Special Plots\n",
    "\n",
    "* Topicos\n",
    "    * Scatter\n",
    "    * Histogram\n",
    "    * Boxplot"
   ]
  },
  {
   "cell_type": "code",
   "execution_count": 12,
   "metadata": {},
   "outputs": [
    {
     "data": {
      "image/png": "[encoded data removed]",
      "text/plain": [
       "<matplotlib.figure.Figure at 0x257466c97f0>"
      ]
     },
     "metadata": {},
     "output_type": "display_data"
    }
   ],
   "source": [
    "# Importar Bibliotecas\n",
    "\n",
    "import pandas as pd\n",
    "import numpy as np\n",
    "from numpy.random import randn\n",
    "import matplotlib.pyplot as plt\n",
    "%matplotlib inline\n",
    "\n",
    "# Data\n",
    "\n",
    "x = np.linspace(0, 5, 11)\n",
    "y = x ** 2\n",
    "\n",
    "# Scatter Plot\n",
    "\n",
    "plt.scatter(x,y);"
   ]
  },
  {
   "cell_type": "code",
   "execution_count": 13,
   "metadata": {},
   "outputs": [
    {
     "data": {
      "image/png": "[encoded data removed]",
      "text/plain": [
       "<matplotlib.figure.Figure at 0x25746923550>"
      ]
     },
     "metadata": {},
     "output_type": "display_data"
    }
   ],
   "source": [
    "# Data\n",
    "\n",
    "from random import sample\n",
    "data = sample(range(1, 1000), 100)\n",
    "\n",
    "# Histogram\n",
    "\n",
    "plt.hist(data);"
   ]
  },
  {
   "cell_type": "code",
   "execution_count": 19,
   "metadata": {},
   "outputs": [
    {
     "name": "stdout",
     "output_type": "stream",
     "text": [
      "(3, 100)\n"
     ]
    },
    {
     "data": {
      "image/png": "[encoded data removed]",
      "text/plain": [
       "<matplotlib.figure.Figure at 0x2574696d9e8>"
      ]
     },
     "metadata": {},
     "output_type": "display_data"
    }
   ],
   "source": [
    "# Data\n",
    "\n",
    "data = [np.random.normal(0, std, 100) for std in range(1, 4)]\n",
    "print(np.shape(data))\n",
    "\n",
    "# box plot\n",
    "\n",
    "plt.boxplot(data,vert=True,patch_artist=True);   "
   ]
  },
  {
   "cell_type": "markdown",
   "metadata": {},
   "source": [
    "## Leituras Adicionais\n",
    "\n",
    "* http://www.matplotlib.org - A página web do projeto matplotlib.\n",
    "* https://github.com/matplotlib/matplotlib - O código-fonte do matplotlib.\n",
    "* http://matplotlib.org/gallery.html - Uma grande galeria mostrando diversos tipos de gráficos que Matplotlib pode criar. Altamente recomendado!\n",
    "* http://www.loria.fr/~rougier/teaching/matplotlib - Um excelente tutorial de matplotlib\n",
    "* http://scipy-lectures.github.io/matplotlib/matplotlib.html - Outra excelente referência para matplotlib."
   ]
  }
 ],
 "metadata": {
  "kernelspec": {
   "display_name": "Python 3",
   "language": "python",
   "name": "python3"
  },
  "language_info": {
   "codemirror_mode": {
    "name": "ipython",
    "version": 3
   },
   "file_extension": ".py",
   "mimetype": "text/x-python",
   "name": "python",
   "nbconvert_exporter": "python",
   "pygments_lexer": "ipython3",
   "version": "3.6.3"
  }
 },
 "nbformat": 4,
 "nbformat_minor": 1
}
