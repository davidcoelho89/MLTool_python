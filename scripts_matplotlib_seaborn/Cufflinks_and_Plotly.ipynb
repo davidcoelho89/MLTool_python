{
 "cells": [
  {
   "cell_type": "markdown",
   "metadata": {},
   "source": [
    "# Cufflinks and Plotly\n",
    "\n",
    "O Plotly é uma lib que permite criar gráficos interativos que você pode usar em painéis ou sites\n",
    "\n",
    "(pode salvá-los como arquivos html ou imagens estáticas)\n",
    "\n",
    "## Instalação\n",
    "\n",
    "Install Plot.ly: conda install -c plotly plotly\n",
    "\n",
    "https://plotly.com/python/\n",
    "\n",
    "Install Cufflinks: conda install -c conda-forge cufflinks-py\n",
    "\n",
    "https://github.com/santosjorge/cufflinks"
   ]
  },
  {
   "cell_type": "code",
   "execution_count": 22,
   "metadata": {},
   "outputs": [],
   "source": [
    "# Import Pandas, Numpy and Matplotlib\n",
    "\n",
    "import pandas as pd\n",
    "import numpy as np\n",
    "import matplotlib.pyplot as plt\n",
    "%matplotlib inline"
   ]
  },
  {
   "cell_type": "code",
   "execution_count": 23,
   "metadata": {},
   "outputs": [
    {
     "name": "stdout",
     "output_type": "stream",
     "text": [
      "4.6.0\n"
     ]
    }
   ],
   "source": [
    "# import Plotly\n",
    "\n",
    "from plotly import __version__\n",
    "from plotly.offline import download_plotlyjs, init_notebook_mode, plot, iplot\n",
    "print(__version__)\n",
    "\n",
    "# Import Cufflinks\n",
    "\n",
    "import cufflinks as cf"
   ]
  },
  {
   "cell_type": "code",
   "execution_count": 24,
   "metadata": {},
   "outputs": [
    {
     "data": {
      "text/html": [
       "        <script type=\"text/javascript\">\n",
       "        window.PlotlyConfig = {MathJaxConfig: 'local'};\n",
       "        if (window.MathJax) {MathJax.Hub.Config({SVG: {font: \"STIX-Web\"}});}\n",
       "        if (typeof require !== 'undefined') {\n",
       "        require.undef(\"plotly\");\n",
       "        requirejs.config({\n",
       "            paths: {\n",
       "                'plotly': ['https://cdn.plot.ly/plotly-latest.min']\n",
       "            }\n",
       "        });\n",
       "        require(['plotly'], function(Plotly) {\n",
       "            window._Plotly = Plotly;\n",
       "        });\n",
       "        }\n",
       "        </script>\n",
       "        "
      ]
     },
     "metadata": {},
     "output_type": "display_data"
    },
    {
     "data": {
      "text/html": [
       "        <script type=\"text/javascript\">\n",
       "        window.PlotlyConfig = {MathJaxConfig: 'local'};\n",
       "        if (window.MathJax) {MathJax.Hub.Config({SVG: {font: \"STIX-Web\"}});}\n",
       "        if (typeof require !== 'undefined') {\n",
       "        require.undef(\"plotly\");\n",
       "        requirejs.config({\n",
       "            paths: {\n",
       "                'plotly': ['https://cdn.plot.ly/plotly-latest.min']\n",
       "            }\n",
       "        });\n",
       "        require(['plotly'], function(Plotly) {\n",
       "            window._Plotly = Plotly;\n",
       "        });\n",
       "        }\n",
       "        </script>\n",
       "        "
      ]
     },
     "metadata": {},
     "output_type": "display_data"
    }
   ],
   "source": [
    "# For Notebooks\n",
    "init_notebook_mode(connected=True)\n",
    "\n",
    "# For offline use\n",
    "cf.go_offline()"
   ]
  },
  {
   "cell_type": "code",
   "execution_count": 28,
   "metadata": {},
   "outputs": [
    {
     "name": "stdout",
     "output_type": "stream",
     "text": [
      "          A         B         C         D\n",
      "0 -0.282087 -0.925286 -0.968164  1.516623\n",
      "1  0.260953 -0.685824  0.001199 -0.104643\n",
      "2  0.487230  0.382440 -0.108229 -1.031485\n",
      "3 -0.543944  0.200560  0.955726 -0.471788\n",
      "4  0.462134 -0.869030  0.143812  0.083503\n",
      "\n",
      "  Categoria  Valores\n",
      "0         A       32\n",
      "1         B       43\n",
      "2         C       50\n",
      "\n"
     ]
    }
   ],
   "source": [
    "# Create Dataframes\n",
    "\n",
    "df = pd.DataFrame(np.random.randn(100,4),columns='A B C D'.split())\n",
    "print(df.head())\n",
    "print()\n",
    "\n",
    "df2 = pd.DataFrame({'Categoria':['A','B','C'],'Valores':[32,43,50]})\n",
    "print(df2.head())\n",
    "print()"
   ]
  },
  {
   "cell_type": "markdown",
   "metadata": {},
   "source": [
    "## Use Cufflinks and iplot ()\n",
    "\n",
    "* Dispersão\n",
    "* Barras\n",
    "* BoxPlot\n",
    "* Spreads\n",
    "* Proporção\n",
    "* Mapa de calor\n",
    "* Superfícies 3D\n",
    "* Histograma\n",
    "* Bolha"
   ]
  },
  {
   "cell_type": "markdown",
   "metadata": {},
   "source": [
    "## Dispersão"
   ]
  },
  {
   "cell_type": "code",
   "execution_count": 10,
   "metadata": {},
   "outputs": [
    {
     "data": {
      "application/vnd.plotly.v1+json": {
       "config": {
        "linkText": "Export to plot.ly",
        "plotlyServerURL": "https://plot.ly",
        "showLink": true
       },
       "data": [
        {
         "line": {
          "color": "rgba(255, 153, 51, 1.0)",
          "dash": "solid",
          "shape": "linear",
          "width": 1.3
         },
         "marker": {
          "size": 10,
          "symbol": "circle"
         },
         "mode": "markers",
         "name": "B",
         "text": "",
         "type": "scatter",
         "x": [
          0.5016259041677826,
          0.39693214686922423,
          0.15105045423677646,
          0.23803313048951832,
          -0.9065096169526577,
          -0.5858144449744032,
          -1.1915955319013736,
          -0.48035108080156647,
          0.3062837808136795,
          -1.3107717470084945,
          -1.4233859542149554,
          -1.6842219620749486,
          -0.6596666126340662,
          1.1646748262573046,
          0.5794136835164456,
          -0.9205239744803996,
          -0.7475740043983561,
          0.6918046774990229,
          -0.6555066758516412,
          -1.3901183444688856,
          -1.5825350400322997,
          0.7205935933384565,
          0.8600132535274735,
          1.4029869785814273,
          0.3999588780574937,
          -0.28356727685485905,
          -0.8645411771163848,
          -1.6235254258188299,
          1.6360859851250331,
          0.2321715088292792,
          -1.5209747815314942,
          -1.5962544252034896,
          -0.22469373520940192,
          0.8753232347181236,
          0.5909199306008397,
          -1.9906485850036764,
          0.7535751361189627,
          -0.29522547033898755,
          0.5275685446294369,
          0.490854014469745,
          -0.712958673119837,
          1.199183739769989,
          -2.1716144020061234,
          0.12954879730176844,
          0.6577830296031418,
          -0.0944794689894394,
          -0.5824826846365383,
          0.9537935224525297,
          0.1491860042028232,
          2.1676855898919563,
          -0.6035610892309228,
          -0.22958926388827122,
          -0.49516589618777085,
          -0.018281618517689203,
          -0.36824896094724463,
          -0.7026609698955638,
          1.9970040310794626,
          -1.3398354306976554,
          2.2132601709596034,
          -0.8850429260119838,
          -0.9979121569709356,
          0.13341848060100922,
          -0.40690396935590933,
          0.2898004741616915,
          0.7263452114533693,
          0.14363457123025744,
          0.23020745995645697,
          0.8286908386058912,
          -0.8694143942178151,
          -1.6292956737587923,
          0.14828881101741534,
          1.5579611550705739,
          0.8703995897101646,
          1.167026637852573,
          -0.7681957193858597,
          -0.6830233728445323,
          -0.6706761738439486,
          0.9527201917461887,
          -0.5858980652427307,
          0.6449352460476692,
          -0.681163803699951,
          0.7760459110594783,
          1.4041260003145961,
          -0.6405096339488137,
          1.5846369943924745,
          -0.22837198279290108,
          -0.48738580327626524,
          0.6355688871774738,
          -0.20426978259615566,
          0.7349676391888955,
          -0.006914347400294714,
          1.007185939619343,
          -1.7670966160755497,
          -0.4037183481284638,
          -0.412260784658639,
          -0.635749062487043,
          0.4946209143651886,
          2.0158526613892143,
          0.5074910998586187,
          0.08947531478456232
         ],
         "y": [
          -1.9614203298059667,
          0.09936386900591583,
          -0.12144634499406161,
          1.554896718036771,
          -1.28034147685133,
          1.4495445156838505,
          1.7043191329220253,
          -0.1826710330788866,
          -1.1631386699224067,
          0.46320754943208586,
          0.8858530141908567,
          -1.946179055103767,
          -2.826068861858329,
          1.2390237313446868,
          2.232962625610061,
          -0.6139100019761206,
          1.1633069274370054,
          1.2847212723722892,
          0.6878043933686491,
          0.7235693210003209,
          -0.2185254899678108,
          -0.9214353960475222,
          0.15372078451738289,
          0.04489774131848886,
          0.5591063348832644,
          -2.181074948739284,
          -0.44650935884237547,
          1.1285339969324604,
          -0.7997050437978639,
          0.3875274586091636,
          -1.4428124598172498,
          0.30718817340815485,
          -0.6772227705725071,
          -0.1354732158537621,
          -1.2041156443182979,
          -1.2991223536512906,
          -0.13337659677773347,
          1.6248163917469887,
          0.5014564732098982,
          -1.0421670872846438,
          1.1119405623616914,
          -0.3094230119341551,
          -2.2170148072154485,
          0.858164908480128,
          0.1937476866948945,
          1.3977161455052047,
          -0.6449582533006257,
          1.3374399804360335,
          0.2793771508696186,
          0.8595426716872022,
          -0.41316843657047914,
          2.0650357867171323,
          -0.18891294488257573,
          0.9120687728370215,
          0.47170982743301826,
          1.3995286681965595,
          2.9523359856753846,
          -0.2156573600877058,
          1.2300249799992218,
          0.44073317967212594,
          -0.022066795843629753,
          -0.5268852194942298,
          0.20730381958503605,
          0.733416713650668,
          0.8443419934049715,
          0.5020396864019491,
          -1.716772241166739,
          -1.307899712809543,
          -0.7197586602891242,
          -0.08191442847370518,
          0.1940732093735313,
          0.2997729938918538,
          0.5614337584535843,
          -2.2236930656077147,
          2.4054694857642724,
          -0.19495874877554625,
          -0.4798629195672261,
          0.9496321492408094,
          0.5747577660446029,
          0.08321313793747716,
          0.08592142084810923,
          0.3186989355807172,
          -0.33161156787469626,
          -1.228139146584102,
          1.0412808771345305,
          -0.35277139062308255,
          1.4039866662846174,
          0.49307280755934046,
          -0.21875339647065745,
          -0.8874140347814174,
          0.35738348561054833,
          -0.11798431425933198,
          -1.1602205281237221,
          0.2578188391703287,
          -0.25241907572889893,
          -1.1757576099571745,
          1.978974245352124,
          0.374565818914298,
          -1.3255402973767965,
          2.2331800939792528
         ]
        }
       ],
       "layout": {
        "legend": {
         "bgcolor": "#F5F6F9",
         "font": {
          "color": "#4D5663"
         }
        },
        "paper_bgcolor": "#F5F6F9",
        "plot_bgcolor": "#F5F6F9",
        "template": {
         "data": {
          "bar": [
           {
            "error_x": {
             "color": "#2a3f5f"
            },
            "error_y": {
             "color": "#2a3f5f"
            },
            "marker": {
             "line": {
              "color": "#E5ECF6",
              "width": 0.5
             }
            },
            "type": "bar"
           }
          ],
          "barpolar": [
           {
            "marker": {
             "line": {
              "color": "#E5ECF6",
              "width": 0.5
             }
            },
            "type": "barpolar"
           }
          ],
          "carpet": [
           {
            "aaxis": {
             "endlinecolor": "#2a3f5f",
             "gridcolor": "white",
             "linecolor": "white",
             "minorgridcolor": "white",
             "startlinecolor": "#2a3f5f"
            },
            "baxis": {
             "endlinecolor": "#2a3f5f",
             "gridcolor": "white",
             "linecolor": "white",
             "minorgridcolor": "white",
             "startlinecolor": "#2a3f5f"
            },
            "type": "carpet"
           }
          ],
          "choropleth": [
           {
            "colorbar": {
             "outlinewidth": 0,
             "ticks": ""
            },
            "type": "choropleth"
           }
          ],
          "contour": [
           {
            "colorbar": {
             "outlinewidth": 0,
             "ticks": ""
            },
            "colorscale": [
             [
              0,
              "#0d0887"
             ],
             [
              0.1111111111111111,
              "#46039f"
             ],
             [
              0.2222222222222222,
              "#7201a8"
             ],
             [
              0.3333333333333333,
              "#9c179e"
             ],
             [
              0.4444444444444444,
              "#bd3786"
             ],
             [
              0.5555555555555556,
              "#d8576b"
             ],
             [
              0.6666666666666666,
              "#ed7953"
             ],
             [
              0.7777777777777778,
              "#fb9f3a"
             ],
             [
              0.8888888888888888,
              "#fdca26"
             ],
             [
              1,
              "#f0f921"
             ]
            ],
            "type": "contour"
           }
          ],
          "contourcarpet": [
           {
            "colorbar": {
             "outlinewidth": 0,
             "ticks": ""
            },
            "type": "contourcarpet"
           }
          ],
          "heatmap": [
           {
            "colorbar": {
             "outlinewidth": 0,
             "ticks": ""
            },
            "colorscale": [
             [
              0,
              "#0d0887"
             ],
             [
              0.1111111111111111,
              "#46039f"
             ],
             [
              0.2222222222222222,
              "#7201a8"
             ],
             [
              0.3333333333333333,
              "#9c179e"
             ],
             [
              0.4444444444444444,
              "#bd3786"
             ],
             [
              0.5555555555555556,
              "#d8576b"
             ],
             [
              0.6666666666666666,
              "#ed7953"
             ],
             [
              0.7777777777777778,
              "#fb9f3a"
             ],
             [
              0.8888888888888888,
              "#fdca26"
             ],
             [
              1,
              "#f0f921"
             ]
            ],
            "type": "heatmap"
           }
          ],
          "heatmapgl": [
           {
            "colorbar": {
             "outlinewidth": 0,
             "ticks": ""
            },
            "colorscale": [
             [
              0,
              "#0d0887"
             ],
             [
              0.1111111111111111,
              "#46039f"
             ],
             [
              0.2222222222222222,
              "#7201a8"
             ],
             [
              0.3333333333333333,
              "#9c179e"
             ],
             [
              0.4444444444444444,
              "#bd3786"
             ],
             [
              0.5555555555555556,
              "#d8576b"
             ],
             [
              0.6666666666666666,
              "#ed7953"
             ],
             [
              0.7777777777777778,
              "#fb9f3a"
             ],
             [
              0.8888888888888888,
              "#fdca26"
             ],
             [
              1,
              "#f0f921"
             ]
            ],
            "type": "heatmapgl"
           }
          ],
          "histogram": [
           {
            "marker": {
             "colorbar": {
              "outlinewidth": 0,
              "ticks": ""
             }
            },
            "type": "histogram"
           }
          ],
          "histogram2d": [
           {
            "colorbar": {
             "outlinewidth": 0,
             "ticks": ""
            },
            "colorscale": [
             [
              0,
              "#0d0887"
             ],
             [
              0.1111111111111111,
              "#46039f"
             ],
             [
              0.2222222222222222,
              "#7201a8"
             ],
             [
              0.3333333333333333,
              "#9c179e"
             ],
             [
              0.4444444444444444,
              "#bd3786"
             ],
             [
              0.5555555555555556,
              "#d8576b"
             ],
             [
              0.6666666666666666,
              "#ed7953"
             ],
             [
              0.7777777777777778,
              "#fb9f3a"
             ],
             [
              0.8888888888888888,
              "#fdca26"
             ],
             [
              1,
              "#f0f921"
             ]
            ],
            "type": "histogram2d"
           }
          ],
          "histogram2dcontour": [
           {
            "colorbar": {
             "outlinewidth": 0,
             "ticks": ""
            },
            "colorscale": [
             [
              0,
              "#0d0887"
             ],
             [
              0.1111111111111111,
              "#46039f"
             ],
             [
              0.2222222222222222,
              "#7201a8"
             ],
             [
              0.3333333333333333,
              "#9c179e"
             ],
             [
              0.4444444444444444,
              "#bd3786"
             ],
             [
              0.5555555555555556,
              "#d8576b"
             ],
             [
              0.6666666666666666,
              "#ed7953"
             ],
             [
              0.7777777777777778,
              "#fb9f3a"
             ],
             [
              0.8888888888888888,
              "#fdca26"
             ],
             [
              1,
              "#f0f921"
             ]
            ],
            "type": "histogram2dcontour"
           }
          ],
          "mesh3d": [
           {
            "colorbar": {
             "outlinewidth": 0,
             "ticks": ""
            },
            "type": "mesh3d"
           }
          ],
          "parcoords": [
           {
            "line": {
             "colorbar": {
              "outlinewidth": 0,
              "ticks": ""
             }
            },
            "type": "parcoords"
           }
          ],
          "pie": [
           {
            "automargin": true,
            "type": "pie"
           }
          ],
          "scatter": [
           {
            "marker": {
             "colorbar": {
              "outlinewidth": 0,
              "ticks": ""
             }
            },
            "type": "scatter"
           }
          ],
          "scatter3d": [
           {
            "line": {
             "colorbar": {
              "outlinewidth": 0,
              "ticks": ""
             }
            },
            "marker": {
             "colorbar": {
              "outlinewidth": 0,
              "ticks": ""
             }
            },
            "type": "scatter3d"
           }
          ],
          "scattercarpet": [
           {
            "marker": {
             "colorbar": {
              "outlinewidth": 0,
              "ticks": ""
             }
            },
            "type": "scattercarpet"
           }
          ],
          "scattergeo": [
           {
            "marker": {
             "colorbar": {
              "outlinewidth": 0,
              "ticks": ""
             }
            },
            "type": "scattergeo"
           }
          ],
          "scattergl": [
           {
            "marker": {
             "colorbar": {
              "outlinewidth": 0,
              "ticks": ""
             }
            },
            "type": "scattergl"
           }
          ],
          "scattermapbox": [
           {
            "marker": {
             "colorbar": {
              "outlinewidth": 0,
              "ticks": ""
             }
            },
            "type": "scattermapbox"
           }
          ],
          "scatterpolar": [
           {
            "marker": {
             "colorbar": {
              "outlinewidth": 0,
              "ticks": ""
             }
            },
            "type": "scatterpolar"
           }
          ],
          "scatterpolargl": [
           {
            "marker": {
             "colorbar": {
              "outlinewidth": 0,
              "ticks": ""
             }
            },
            "type": "scatterpolargl"
           }
          ],
          "scatterternary": [
           {
            "marker": {
             "colorbar": {
              "outlinewidth": 0,
              "ticks": ""
             }
            },
            "type": "scatterternary"
           }
          ],
          "surface": [
           {
            "colorbar": {
             "outlinewidth": 0,
             "ticks": ""
            },
            "colorscale": [
             [
              0,
              "#0d0887"
             ],
             [
              0.1111111111111111,
              "#46039f"
             ],
             [
              0.2222222222222222,
              "#7201a8"
             ],
             [
              0.3333333333333333,
              "#9c179e"
             ],
             [
              0.4444444444444444,
              "#bd3786"
             ],
             [
              0.5555555555555556,
              "#d8576b"
             ],
             [
              0.6666666666666666,
              "#ed7953"
             ],
             [
              0.7777777777777778,
              "#fb9f3a"
             ],
             [
              0.8888888888888888,
              "#fdca26"
             ],
             [
              1,
              "#f0f921"
             ]
            ],
            "type": "surface"
           }
          ],
          "table": [
           {
            "cells": {
             "fill": {
              "color": "#EBF0F8"
             },
             "line": {
              "color": "white"
             }
            },
            "header": {
             "fill": {
              "color": "#C8D4E3"
             },
             "line": {
              "color": "white"
             }
            },
            "type": "table"
           }
          ]
         },
         "layout": {
          "annotationdefaults": {
           "arrowcolor": "#2a3f5f",
           "arrowhead": 0,
           "arrowwidth": 1
          },
          "coloraxis": {
           "colorbar": {
            "outlinewidth": 0,
            "ticks": ""
           }
          },
          "colorscale": {
           "diverging": [
            [
             0,
             "#8e0152"
            ],
            [
             0.1,
             "#c51b7d"
            ],
            [
             0.2,
             "#de77ae"
            ],
            [
             0.3,
             "#f1b6da"
            ],
            [
             0.4,
             "#fde0ef"
            ],
            [
             0.5,
             "#f7f7f7"
            ],
            [
             0.6,
             "#e6f5d0"
            ],
            [
             0.7,
             "#b8e186"
            ],
            [
             0.8,
             "#7fbc41"
            ],
            [
             0.9,
             "#4d9221"
            ],
            [
             1,
             "#276419"
            ]
           ],
           "sequential": [
            [
             0,
             "#0d0887"
            ],
            [
             0.1111111111111111,
             "#46039f"
            ],
            [
             0.2222222222222222,
             "#7201a8"
            ],
            [
             0.3333333333333333,
             "#9c179e"
            ],
            [
             0.4444444444444444,
             "#bd3786"
            ],
            [
             0.5555555555555556,
             "#d8576b"
            ],
            [
             0.6666666666666666,
             "#ed7953"
            ],
            [
             0.7777777777777778,
             "#fb9f3a"
            ],
            [
             0.8888888888888888,
             "#fdca26"
            ],
            [
             1,
             "#f0f921"
            ]
           ],
           "sequentialminus": [
            [
             0,
             "#0d0887"
            ],
            [
             0.1111111111111111,
             "#46039f"
            ],
            [
             0.2222222222222222,
             "#7201a8"
            ],
            [
             0.3333333333333333,
             "#9c179e"
            ],
            [
             0.4444444444444444,
             "#bd3786"
            ],
            [
             0.5555555555555556,
             "#d8576b"
            ],
            [
             0.6666666666666666,
             "#ed7953"
            ],
            [
             0.7777777777777778,
             "#fb9f3a"
            ],
            [
             0.8888888888888888,
             "#fdca26"
            ],
            [
             1,
             "#f0f921"
            ]
           ]
          },
          "colorway": [
           "#636efa",
           "#EF553B",
           "#00cc96",
           "#ab63fa",
           "#FFA15A",
           "#19d3f3",
           "#FF6692",
           "#B6E880",
           "#FF97FF",
           "#FECB52"
          ],
          "font": {
           "color": "#2a3f5f"
          },
          "geo": {
           "bgcolor": "white",
           "lakecolor": "white",
           "landcolor": "#E5ECF6",
           "showlakes": true,
           "showland": true,
           "subunitcolor": "white"
          },
          "hoverlabel": {
           "align": "left"
          },
          "hovermode": "closest",
          "mapbox": {
           "style": "light"
          },
          "paper_bgcolor": "white",
          "plot_bgcolor": "#E5ECF6",
          "polar": {
           "angularaxis": {
            "gridcolor": "white",
            "linecolor": "white",
            "ticks": ""
           },
           "bgcolor": "#E5ECF6",
           "radialaxis": {
            "gridcolor": "white",
            "linecolor": "white",
            "ticks": ""
           }
          },
          "scene": {
           "xaxis": {
            "backgroundcolor": "#E5ECF6",
            "gridcolor": "white",
            "gridwidth": 2,
            "linecolor": "white",
            "showbackground": true,
            "ticks": "",
            "zerolinecolor": "white"
           },
           "yaxis": {
            "backgroundcolor": "#E5ECF6",
            "gridcolor": "white",
            "gridwidth": 2,
            "linecolor": "white",
            "showbackground": true,
            "ticks": "",
            "zerolinecolor": "white"
           },
           "zaxis": {
            "backgroundcolor": "#E5ECF6",
            "gridcolor": "white",
            "gridwidth": 2,
            "linecolor": "white",
            "showbackground": true,
            "ticks": "",
            "zerolinecolor": "white"
           }
          },
          "shapedefaults": {
           "line": {
            "color": "#2a3f5f"
           }
          },
          "ternary": {
           "aaxis": {
            "gridcolor": "white",
            "linecolor": "white",
            "ticks": ""
           },
           "baxis": {
            "gridcolor": "white",
            "linecolor": "white",
            "ticks": ""
           },
           "bgcolor": "#E5ECF6",
           "caxis": {
            "gridcolor": "white",
            "linecolor": "white",
            "ticks": ""
           }
          },
          "title": {
           "x": 0.05
          },
          "xaxis": {
           "automargin": true,
           "gridcolor": "white",
           "linecolor": "white",
           "ticks": "",
           "title": {
            "standoff": 15
           },
           "zerolinecolor": "white",
           "zerolinewidth": 2
          },
          "yaxis": {
           "automargin": true,
           "gridcolor": "white",
           "linecolor": "white",
           "ticks": "",
           "title": {
            "standoff": 15
           },
           "zerolinecolor": "white",
           "zerolinewidth": 2
          }
         }
        },
        "title": {
         "font": {
          "color": "#4D5663"
         }
        },
        "xaxis": {
         "gridcolor": "#E1E5ED",
         "showgrid": true,
         "tickfont": {
          "color": "#4D5663"
         },
         "title": {
          "font": {
           "color": "#4D5663"
          },
          "text": ""
         },
         "zerolinecolor": "#E1E5ED"
        },
        "yaxis": {
         "gridcolor": "#E1E5ED",
         "showgrid": true,
         "tickfont": {
          "color": "#4D5663"
         },
         "title": {
          "font": {
           "color": "#4D5663"
          },
          "text": ""
         },
         "zerolinecolor": "#E1E5ED"
        }
       }
      },
      "text/html": [
       "<div>\n",
       "        \n",
       "        \n",
       "            <div id=\"35e0d60c-87d0-472b-a2f1-299805e1303f\" class=\"plotly-graph-div\" style=\"height:525px; width:100%;\"></div>\n",
       "            <script type=\"text/javascript\">\n",
       "                require([\"plotly\"], function(Plotly) {\n",
       "                    window.PLOTLYENV=window.PLOTLYENV || {};\n",
       "                    window.PLOTLYENV.BASE_URL='https://plot.ly';\n",
       "                    \n",
       "                if (document.getElementById(\"35e0d60c-87d0-472b-a2f1-299805e1303f\")) {\n",
       "                    Plotly.newPlot(\n",
       "                        '35e0d60c-87d0-472b-a2f1-299805e1303f',\n",
       "                        [{\"line\": {\"color\": \"rgba(255, 153, 51, 1.0)\", \"dash\": \"solid\", \"shape\": \"linear\", \"width\": 1.3}, \"marker\": {\"size\": 10, \"symbol\": \"circle\"}, \"mode\": \"markers\", \"name\": \"B\", \"text\": \"\", \"type\": \"scatter\", \"x\": [0.5016259041677826, 0.39693214686922423, 0.15105045423677646, 0.23803313048951832, -0.9065096169526577, -0.5858144449744032, -1.1915955319013736, -0.48035108080156647, 0.3062837808136795, -1.3107717470084945, -1.4233859542149554, -1.6842219620749486, -0.6596666126340662, 1.1646748262573046, 0.5794136835164456, -0.9205239744803996, -0.7475740043983561, 0.6918046774990229, -0.6555066758516412, -1.3901183444688856, -1.5825350400322997, 0.7205935933384565, 0.8600132535274735, 1.4029869785814273, 0.3999588780574937, -0.28356727685485905, -0.8645411771163848, -1.6235254258188299, 1.6360859851250331, 0.2321715088292792, -1.5209747815314942, -1.5962544252034896, -0.22469373520940192, 0.8753232347181236, 0.5909199306008397, -1.9906485850036764, 0.7535751361189627, -0.29522547033898755, 0.5275685446294369, 0.490854014469745, -0.712958673119837, 1.199183739769989, -2.1716144020061234, 0.12954879730176844, 0.6577830296031418, -0.0944794689894394, -0.5824826846365383, 0.9537935224525297, 0.1491860042028232, 2.1676855898919563, -0.6035610892309228, -0.22958926388827122, -0.49516589618777085, -0.018281618517689203, -0.36824896094724463, -0.7026609698955638, 1.9970040310794626, -1.3398354306976554, 2.2132601709596034, -0.8850429260119838, -0.9979121569709356, 0.13341848060100922, -0.40690396935590933, 0.2898004741616915, 0.7263452114533693, 0.14363457123025744, 0.23020745995645697, 0.8286908386058912, -0.8694143942178151, -1.6292956737587923, 0.14828881101741534, 1.5579611550705739, 0.8703995897101646, 1.167026637852573, -0.7681957193858597, -0.6830233728445323, -0.6706761738439486, 0.9527201917461887, -0.5858980652427307, 0.6449352460476692, -0.681163803699951, 0.7760459110594783, 1.4041260003145961, -0.6405096339488137, 1.5846369943924745, -0.22837198279290108, -0.48738580327626524, 0.6355688871774738, -0.20426978259615566, 0.7349676391888955, -0.006914347400294714, 1.007185939619343, -1.7670966160755497, -0.4037183481284638, -0.412260784658639, -0.635749062487043, 0.4946209143651886, 2.0158526613892143, 0.5074910998586187, 0.08947531478456232], \"y\": [-1.9614203298059667, 0.09936386900591583, -0.12144634499406161, 1.554896718036771, -1.28034147685133, 1.4495445156838505, 1.7043191329220253, -0.1826710330788866, -1.1631386699224067, 0.46320754943208586, 0.8858530141908567, -1.946179055103767, -2.826068861858329, 1.2390237313446868, 2.232962625610061, -0.6139100019761206, 1.1633069274370054, 1.2847212723722892, 0.6878043933686491, 0.7235693210003209, -0.2185254899678108, -0.9214353960475222, 0.15372078451738289, 0.04489774131848886, 0.5591063348832644, -2.181074948739284, -0.44650935884237547, 1.1285339969324604, -0.7997050437978639, 0.3875274586091636, -1.4428124598172498, 0.30718817340815485, -0.6772227705725071, -0.1354732158537621, -1.2041156443182979, -1.2991223536512906, -0.13337659677773347, 1.6248163917469887, 0.5014564732098982, -1.0421670872846438, 1.1119405623616914, -0.3094230119341551, -2.2170148072154485, 0.858164908480128, 0.1937476866948945, 1.3977161455052047, -0.6449582533006257, 1.3374399804360335, 0.2793771508696186, 0.8595426716872022, -0.41316843657047914, 2.0650357867171323, -0.18891294488257573, 0.9120687728370215, 0.47170982743301826, 1.3995286681965595, 2.9523359856753846, -0.2156573600877058, 1.2300249799992218, 0.44073317967212594, -0.022066795843629753, -0.5268852194942298, 0.20730381958503605, 0.733416713650668, 0.8443419934049715, 0.5020396864019491, -1.716772241166739, -1.307899712809543, -0.7197586602891242, -0.08191442847370518, 0.1940732093735313, 0.2997729938918538, 0.5614337584535843, -2.2236930656077147, 2.4054694857642724, -0.19495874877554625, -0.4798629195672261, 0.9496321492408094, 0.5747577660446029, 0.08321313793747716, 0.08592142084810923, 0.3186989355807172, -0.33161156787469626, -1.228139146584102, 1.0412808771345305, -0.35277139062308255, 1.4039866662846174, 0.49307280755934046, -0.21875339647065745, -0.8874140347814174, 0.35738348561054833, -0.11798431425933198, -1.1602205281237221, 0.2578188391703287, -0.25241907572889893, -1.1757576099571745, 1.978974245352124, 0.374565818914298, -1.3255402973767965, 2.2331800939792528]}],\n",
       "                        {\"legend\": {\"bgcolor\": \"#F5F6F9\", \"font\": {\"color\": \"#4D5663\"}}, \"paper_bgcolor\": \"#F5F6F9\", \"plot_bgcolor\": \"#F5F6F9\", \"template\": {\"data\": {\"bar\": [{\"error_x\": {\"color\": \"#2a3f5f\"}, \"error_y\": {\"color\": \"#2a3f5f\"}, \"marker\": {\"line\": {\"color\": \"#E5ECF6\", \"width\": 0.5}}, \"type\": \"bar\"}], \"barpolar\": [{\"marker\": {\"line\": {\"color\": \"#E5ECF6\", \"width\": 0.5}}, \"type\": \"barpolar\"}], \"carpet\": [{\"aaxis\": {\"endlinecolor\": \"#2a3f5f\", \"gridcolor\": \"white\", \"linecolor\": \"white\", \"minorgridcolor\": \"white\", \"startlinecolor\": \"#2a3f5f\"}, \"baxis\": {\"endlinecolor\": \"#2a3f5f\", \"gridcolor\": \"white\", \"linecolor\": \"white\", \"minorgridcolor\": \"white\", \"startlinecolor\": \"#2a3f5f\"}, \"type\": \"carpet\"}], \"choropleth\": [{\"colorbar\": {\"outlinewidth\": 0, \"ticks\": \"\"}, \"type\": \"choropleth\"}], \"contour\": [{\"colorbar\": {\"outlinewidth\": 0, \"ticks\": \"\"}, \"colorscale\": [[0.0, \"#0d0887\"], [0.1111111111111111, \"#46039f\"], [0.2222222222222222, \"#7201a8\"], [0.3333333333333333, \"#9c179e\"], [0.4444444444444444, \"#bd3786\"], [0.5555555555555556, \"#d8576b\"], [0.6666666666666666, \"#ed7953\"], [0.7777777777777778, \"#fb9f3a\"], [0.8888888888888888, \"#fdca26\"], [1.0, \"#f0f921\"]], \"type\": \"contour\"}], \"contourcarpet\": [{\"colorbar\": {\"outlinewidth\": 0, \"ticks\": \"\"}, \"type\": \"contourcarpet\"}], \"heatmap\": [{\"colorbar\": {\"outlinewidth\": 0, \"ticks\": \"\"}, \"colorscale\": [[0.0, \"#0d0887\"], [0.1111111111111111, \"#46039f\"], [0.2222222222222222, \"#7201a8\"], [0.3333333333333333, \"#9c179e\"], [0.4444444444444444, \"#bd3786\"], [0.5555555555555556, \"#d8576b\"], [0.6666666666666666, \"#ed7953\"], [0.7777777777777778, \"#fb9f3a\"], [0.8888888888888888, \"#fdca26\"], [1.0, \"#f0f921\"]], \"type\": \"heatmap\"}], \"heatmapgl\": [{\"colorbar\": {\"outlinewidth\": 0, \"ticks\": \"\"}, \"colorscale\": [[0.0, \"#0d0887\"], [0.1111111111111111, \"#46039f\"], [0.2222222222222222, \"#7201a8\"], [0.3333333333333333, \"#9c179e\"], [0.4444444444444444, \"#bd3786\"], [0.5555555555555556, \"#d8576b\"], [0.6666666666666666, \"#ed7953\"], [0.7777777777777778, \"#fb9f3a\"], [0.8888888888888888, \"#fdca26\"], [1.0, \"#f0f921\"]], \"type\": \"heatmapgl\"}], \"histogram\": [{\"marker\": {\"colorbar\": {\"outlinewidth\": 0, \"ticks\": \"\"}}, \"type\": \"histogram\"}], \"histogram2d\": [{\"colorbar\": {\"outlinewidth\": 0, \"ticks\": \"\"}, \"colorscale\": [[0.0, \"#0d0887\"], [0.1111111111111111, \"#46039f\"], [0.2222222222222222, \"#7201a8\"], [0.3333333333333333, \"#9c179e\"], [0.4444444444444444, \"#bd3786\"], [0.5555555555555556, \"#d8576b\"], [0.6666666666666666, \"#ed7953\"], [0.7777777777777778, \"#fb9f3a\"], [0.8888888888888888, \"#fdca26\"], [1.0, \"#f0f921\"]], \"type\": \"histogram2d\"}], \"histogram2dcontour\": [{\"colorbar\": {\"outlinewidth\": 0, \"ticks\": \"\"}, \"colorscale\": [[0.0, \"#0d0887\"], [0.1111111111111111, \"#46039f\"], [0.2222222222222222, \"#7201a8\"], [0.3333333333333333, \"#9c179e\"], [0.4444444444444444, \"#bd3786\"], [0.5555555555555556, \"#d8576b\"], [0.6666666666666666, \"#ed7953\"], [0.7777777777777778, \"#fb9f3a\"], [0.8888888888888888, \"#fdca26\"], [1.0, \"#f0f921\"]], \"type\": \"histogram2dcontour\"}], \"mesh3d\": [{\"colorbar\": {\"outlinewidth\": 0, \"ticks\": \"\"}, \"type\": \"mesh3d\"}], \"parcoords\": [{\"line\": {\"colorbar\": {\"outlinewidth\": 0, \"ticks\": \"\"}}, \"type\": \"parcoords\"}], \"pie\": [{\"automargin\": true, \"type\": \"pie\"}], \"scatter\": [{\"marker\": {\"colorbar\": {\"outlinewidth\": 0, \"ticks\": \"\"}}, \"type\": \"scatter\"}], \"scatter3d\": [{\"line\": {\"colorbar\": {\"outlinewidth\": 0, \"ticks\": \"\"}}, \"marker\": {\"colorbar\": {\"outlinewidth\": 0, \"ticks\": \"\"}}, \"type\": \"scatter3d\"}], \"scattercarpet\": [{\"marker\": {\"colorbar\": {\"outlinewidth\": 0, \"ticks\": \"\"}}, \"type\": \"scattercarpet\"}], \"scattergeo\": [{\"marker\": {\"colorbar\": {\"outlinewidth\": 0, \"ticks\": \"\"}}, \"type\": \"scattergeo\"}], \"scattergl\": [{\"marker\": {\"colorbar\": {\"outlinewidth\": 0, \"ticks\": \"\"}}, \"type\": \"scattergl\"}], \"scattermapbox\": [{\"marker\": {\"colorbar\": {\"outlinewidth\": 0, \"ticks\": \"\"}}, \"type\": \"scattermapbox\"}], \"scatterpolar\": [{\"marker\": {\"colorbar\": {\"outlinewidth\": 0, \"ticks\": \"\"}}, \"type\": \"scatterpolar\"}], \"scatterpolargl\": [{\"marker\": {\"colorbar\": {\"outlinewidth\": 0, \"ticks\": \"\"}}, \"type\": \"scatterpolargl\"}], \"scatterternary\": [{\"marker\": {\"colorbar\": {\"outlinewidth\": 0, \"ticks\": \"\"}}, \"type\": \"scatterternary\"}], \"surface\": [{\"colorbar\": {\"outlinewidth\": 0, \"ticks\": \"\"}, \"colorscale\": [[0.0, \"#0d0887\"], [0.1111111111111111, \"#46039f\"], [0.2222222222222222, \"#7201a8\"], [0.3333333333333333, \"#9c179e\"], [0.4444444444444444, \"#bd3786\"], [0.5555555555555556, \"#d8576b\"], [0.6666666666666666, \"#ed7953\"], [0.7777777777777778, \"#fb9f3a\"], [0.8888888888888888, \"#fdca26\"], [1.0, \"#f0f921\"]], \"type\": \"surface\"}], \"table\": [{\"cells\": {\"fill\": {\"color\": \"#EBF0F8\"}, \"line\": {\"color\": \"white\"}}, \"header\": {\"fill\": {\"color\": \"#C8D4E3\"}, \"line\": {\"color\": \"white\"}}, \"type\": \"table\"}]}, \"layout\": {\"annotationdefaults\": {\"arrowcolor\": \"#2a3f5f\", \"arrowhead\": 0, \"arrowwidth\": 1}, \"coloraxis\": {\"colorbar\": {\"outlinewidth\": 0, \"ticks\": \"\"}}, \"colorscale\": {\"diverging\": [[0, \"#8e0152\"], [0.1, \"#c51b7d\"], [0.2, \"#de77ae\"], [0.3, \"#f1b6da\"], [0.4, \"#fde0ef\"], [0.5, \"#f7f7f7\"], [0.6, \"#e6f5d0\"], [0.7, \"#b8e186\"], [0.8, \"#7fbc41\"], [0.9, \"#4d9221\"], [1, \"#276419\"]], \"sequential\": [[0.0, \"#0d0887\"], [0.1111111111111111, \"#46039f\"], [0.2222222222222222, \"#7201a8\"], [0.3333333333333333, \"#9c179e\"], [0.4444444444444444, \"#bd3786\"], [0.5555555555555556, \"#d8576b\"], [0.6666666666666666, \"#ed7953\"], [0.7777777777777778, \"#fb9f3a\"], [0.8888888888888888, \"#fdca26\"], [1.0, \"#f0f921\"]], \"sequentialminus\": [[0.0, \"#0d0887\"], [0.1111111111111111, \"#46039f\"], [0.2222222222222222, \"#7201a8\"], [0.3333333333333333, \"#9c179e\"], [0.4444444444444444, \"#bd3786\"], [0.5555555555555556, \"#d8576b\"], [0.6666666666666666, \"#ed7953\"], [0.7777777777777778, \"#fb9f3a\"], [0.8888888888888888, \"#fdca26\"], [1.0, \"#f0f921\"]]}, \"colorway\": [\"#636efa\", \"#EF553B\", \"#00cc96\", \"#ab63fa\", \"#FFA15A\", \"#19d3f3\", \"#FF6692\", \"#B6E880\", \"#FF97FF\", \"#FECB52\"], \"font\": {\"color\": \"#2a3f5f\"}, \"geo\": {\"bgcolor\": \"white\", \"lakecolor\": \"white\", \"landcolor\": \"#E5ECF6\", \"showlakes\": true, \"showland\": true, \"subunitcolor\": \"white\"}, \"hoverlabel\": {\"align\": \"left\"}, \"hovermode\": \"closest\", \"mapbox\": {\"style\": \"light\"}, \"paper_bgcolor\": \"white\", \"plot_bgcolor\": \"#E5ECF6\", \"polar\": {\"angularaxis\": {\"gridcolor\": \"white\", \"linecolor\": \"white\", \"ticks\": \"\"}, \"bgcolor\": \"#E5ECF6\", \"radialaxis\": {\"gridcolor\": \"white\", \"linecolor\": \"white\", \"ticks\": \"\"}}, \"scene\": {\"xaxis\": {\"backgroundcolor\": \"#E5ECF6\", \"gridcolor\": \"white\", \"gridwidth\": 2, \"linecolor\": \"white\", \"showbackground\": true, \"ticks\": \"\", \"zerolinecolor\": \"white\"}, \"yaxis\": {\"backgroundcolor\": \"#E5ECF6\", \"gridcolor\": \"white\", \"gridwidth\": 2, \"linecolor\": \"white\", \"showbackground\": true, \"ticks\": \"\", \"zerolinecolor\": \"white\"}, \"zaxis\": {\"backgroundcolor\": \"#E5ECF6\", \"gridcolor\": \"white\", \"gridwidth\": 2, \"linecolor\": \"white\", \"showbackground\": true, \"ticks\": \"\", \"zerolinecolor\": \"white\"}}, \"shapedefaults\": {\"line\": {\"color\": \"#2a3f5f\"}}, \"ternary\": {\"aaxis\": {\"gridcolor\": \"white\", \"linecolor\": \"white\", \"ticks\": \"\"}, \"baxis\": {\"gridcolor\": \"white\", \"linecolor\": \"white\", \"ticks\": \"\"}, \"bgcolor\": \"#E5ECF6\", \"caxis\": {\"gridcolor\": \"white\", \"linecolor\": \"white\", \"ticks\": \"\"}}, \"title\": {\"x\": 0.05}, \"xaxis\": {\"automargin\": true, \"gridcolor\": \"white\", \"linecolor\": \"white\", \"ticks\": \"\", \"title\": {\"standoff\": 15}, \"zerolinecolor\": \"white\", \"zerolinewidth\": 2}, \"yaxis\": {\"automargin\": true, \"gridcolor\": \"white\", \"linecolor\": \"white\", \"ticks\": \"\", \"title\": {\"standoff\": 15}, \"zerolinecolor\": \"white\", \"zerolinewidth\": 2}}}, \"title\": {\"font\": {\"color\": \"#4D5663\"}}, \"xaxis\": {\"gridcolor\": \"#E1E5ED\", \"showgrid\": true, \"tickfont\": {\"color\": \"#4D5663\"}, \"title\": {\"font\": {\"color\": \"#4D5663\"}, \"text\": \"\"}, \"zerolinecolor\": \"#E1E5ED\"}, \"yaxis\": {\"gridcolor\": \"#E1E5ED\", \"showgrid\": true, \"tickfont\": {\"color\": \"#4D5663\"}, \"title\": {\"font\": {\"color\": \"#4D5663\"}, \"text\": \"\"}, \"zerolinecolor\": \"#E1E5ED\"}},\n",
       "                        {\"showLink\": true, \"linkText\": \"Export to plot.ly\", \"plotlyServerURL\": \"https://plot.ly\", \"responsive\": true}\n",
       "                    ).then(function(){\n",
       "                            \n",
       "var gd = document.getElementById('35e0d60c-87d0-472b-a2f1-299805e1303f');\n",
       "var x = new MutationObserver(function (mutations, observer) {{\n",
       "        var display = window.getComputedStyle(gd).display;\n",
       "        if (!display || display === 'none') {{\n",
       "            console.log([gd, 'removed!']);\n",
       "            Plotly.purge(gd);\n",
       "            observer.disconnect();\n",
       "        }}\n",
       "}});\n",
       "\n",
       "// Listen for the removal of the full notebook cells\n",
       "var notebookContainer = gd.closest('#notebook-container');\n",
       "if (notebookContainer) {{\n",
       "    x.observe(notebookContainer, {childList: true});\n",
       "}}\n",
       "\n",
       "// Listen for the clearing of the current output cell\n",
       "var outputEl = gd.closest('.output');\n",
       "if (outputEl) {{\n",
       "    x.observe(outputEl, {childList: true});\n",
       "}}\n",
       "\n",
       "                        })\n",
       "                };\n",
       "                });\n",
       "            </script>\n",
       "        </div>"
      ]
     },
     "metadata": {},
     "output_type": "display_data"
    }
   ],
   "source": [
    "df.iplot(kind='scatter',x='A',y='B',mode='markers',size=10)"
   ]
  },
  {
   "cell_type": "markdown",
   "metadata": {},
   "source": [
    "## Plots de barra"
   ]
  },
  {
   "cell_type": "code",
   "execution_count": 11,
   "metadata": {},
   "outputs": [
    {
     "data": {
      "application/vnd.plotly.v1+json": {
       "config": {
        "linkText": "Export to plot.ly",
        "plotlyServerURL": "https://plot.ly",
        "showLink": true
       },
       "data": [
        {
         "marker": {
          "color": "rgba(255, 153, 51, 0.6)",
          "line": {
           "color": "rgba(255, 153, 51, 1.0)",
           "width": 1
          }
         },
         "name": "Valores",
         "orientation": "v",
         "text": "",
         "type": "bar",
         "x": [
          "A",
          "B",
          "C"
         ],
         "y": [
          32,
          43,
          50
         ]
        }
       ],
       "layout": {
        "legend": {
         "bgcolor": "#F5F6F9",
         "font": {
          "color": "#4D5663"
         }
        },
        "paper_bgcolor": "#F5F6F9",
        "plot_bgcolor": "#F5F6F9",
        "template": {
         "data": {
          "bar": [
           {
            "error_x": {
             "color": "#2a3f5f"
            },
            "error_y": {
             "color": "#2a3f5f"
            },
            "marker": {
             "line": {
              "color": "#E5ECF6",
              "width": 0.5
             }
            },
            "type": "bar"
           }
          ],
          "barpolar": [
           {
            "marker": {
             "line": {
              "color": "#E5ECF6",
              "width": 0.5
             }
            },
            "type": "barpolar"
           }
          ],
          "carpet": [
           {
            "aaxis": {
             "endlinecolor": "#2a3f5f",
             "gridcolor": "white",
             "linecolor": "white",
             "minorgridcolor": "white",
             "startlinecolor": "#2a3f5f"
            },
            "baxis": {
             "endlinecolor": "#2a3f5f",
             "gridcolor": "white",
             "linecolor": "white",
             "minorgridcolor": "white",
             "startlinecolor": "#2a3f5f"
            },
            "type": "carpet"
           }
          ],
          "choropleth": [
           {
            "colorbar": {
             "outlinewidth": 0,
             "ticks": ""
            },
            "type": "choropleth"
           }
          ],
          "contour": [
           {
            "colorbar": {
             "outlinewidth": 0,
             "ticks": ""
            },
            "colorscale": [
             [
              0,
              "#0d0887"
             ],
             [
              0.1111111111111111,
              "#46039f"
             ],
             [
              0.2222222222222222,
              "#7201a8"
             ],
             [
              0.3333333333333333,
              "#9c179e"
             ],
             [
              0.4444444444444444,
              "#bd3786"
             ],
             [
              0.5555555555555556,
              "#d8576b"
             ],
             [
              0.6666666666666666,
              "#ed7953"
             ],
             [
              0.7777777777777778,
              "#fb9f3a"
             ],
             [
              0.8888888888888888,
              "#fdca26"
             ],
             [
              1,
              "#f0f921"
             ]
            ],
            "type": "contour"
           }
          ],
          "contourcarpet": [
           {
            "colorbar": {
             "outlinewidth": 0,
             "ticks": ""
            },
            "type": "contourcarpet"
           }
          ],
          "heatmap": [
           {
            "colorbar": {
             "outlinewidth": 0,
             "ticks": ""
            },
            "colorscale": [
             [
              0,
              "#0d0887"
             ],
             [
              0.1111111111111111,
              "#46039f"
             ],
             [
              0.2222222222222222,
              "#7201a8"
             ],
             [
              0.3333333333333333,
              "#9c179e"
             ],
             [
              0.4444444444444444,
              "#bd3786"
             ],
             [
              0.5555555555555556,
              "#d8576b"
             ],
             [
              0.6666666666666666,
              "#ed7953"
             ],
             [
              0.7777777777777778,
              "#fb9f3a"
             ],
             [
              0.8888888888888888,
              "#fdca26"
             ],
             [
              1,
              "#f0f921"
             ]
            ],
            "type": "heatmap"
           }
          ],
          "heatmapgl": [
           {
            "colorbar": {
             "outlinewidth": 0,
             "ticks": ""
            },
            "colorscale": [
             [
              0,
              "#0d0887"
             ],
             [
              0.1111111111111111,
              "#46039f"
             ],
             [
              0.2222222222222222,
              "#7201a8"
             ],
             [
              0.3333333333333333,
              "#9c179e"
             ],
             [
              0.4444444444444444,
              "#bd3786"
             ],
             [
              0.5555555555555556,
              "#d8576b"
             ],
             [
              0.6666666666666666,
              "#ed7953"
             ],
             [
              0.7777777777777778,
              "#fb9f3a"
             ],
             [
              0.8888888888888888,
              "#fdca26"
             ],
             [
              1,
              "#f0f921"
             ]
            ],
            "type": "heatmapgl"
           }
          ],
          "histogram": [
           {
            "marker": {
             "colorbar": {
              "outlinewidth": 0,
              "ticks": ""
             }
            },
            "type": "histogram"
           }
          ],
          "histogram2d": [
           {
            "colorbar": {
             "outlinewidth": 0,
             "ticks": ""
            },
            "colorscale": [
             [
              0,
              "#0d0887"
             ],
             [
              0.1111111111111111,
              "#46039f"
             ],
             [
              0.2222222222222222,
              "#7201a8"
             ],
             [
              0.3333333333333333,
              "#9c179e"
             ],
             [
              0.4444444444444444,
              "#bd3786"
             ],
             [
              0.5555555555555556,
              "#d8576b"
             ],
             [
              0.6666666666666666,
              "#ed7953"
             ],
             [
              0.7777777777777778,
              "#fb9f3a"
             ],
             [
              0.8888888888888888,
              "#fdca26"
             ],
             [
              1,
              "#f0f921"
             ]
            ],
            "type": "histogram2d"
           }
          ],
          "histogram2dcontour": [
           {
            "colorbar": {
             "outlinewidth": 0,
             "ticks": ""
            },
            "colorscale": [
             [
              0,
              "#0d0887"
             ],
             [
              0.1111111111111111,
              "#46039f"
             ],
             [
              0.2222222222222222,
              "#7201a8"
             ],
             [
              0.3333333333333333,
              "#9c179e"
             ],
             [
              0.4444444444444444,
              "#bd3786"
             ],
             [
              0.5555555555555556,
              "#d8576b"
             ],
             [
              0.6666666666666666,
              "#ed7953"
             ],
             [
              0.7777777777777778,
              "#fb9f3a"
             ],
             [
              0.8888888888888888,
              "#fdca26"
             ],
             [
              1,
              "#f0f921"
             ]
            ],
            "type": "histogram2dcontour"
           }
          ],
          "mesh3d": [
           {
            "colorbar": {
             "outlinewidth": 0,
             "ticks": ""
            },
            "type": "mesh3d"
           }
          ],
          "parcoords": [
           {
            "line": {
             "colorbar": {
              "outlinewidth": 0,
              "ticks": ""
             }
            },
            "type": "parcoords"
           }
          ],
          "pie": [
           {
            "automargin": true,
            "type": "pie"
           }
          ],
          "scatter": [
           {
            "marker": {
             "colorbar": {
              "outlinewidth": 0,
              "ticks": ""
             }
            },
            "type": "scatter"
           }
          ],
          "scatter3d": [
           {
            "line": {
             "colorbar": {
              "outlinewidth": 0,
              "ticks": ""
             }
            },
            "marker": {
             "colorbar": {
              "outlinewidth": 0,
              "ticks": ""
             }
            },
            "type": "scatter3d"
           }
          ],
          "scattercarpet": [
           {
            "marker": {
             "colorbar": {
              "outlinewidth": 0,
              "ticks": ""
             }
            },
            "type": "scattercarpet"
           }
          ],
          "scattergeo": [
           {
            "marker": {
             "colorbar": {
              "outlinewidth": 0,
              "ticks": ""
             }
            },
            "type": "scattergeo"
           }
          ],
          "scattergl": [
           {
            "marker": {
             "colorbar": {
              "outlinewidth": 0,
              "ticks": ""
             }
            },
            "type": "scattergl"
           }
          ],
          "scattermapbox": [
           {
            "marker": {
             "colorbar": {
              "outlinewidth": 0,
              "ticks": ""
             }
            },
            "type": "scattermapbox"
           }
          ],
          "scatterpolar": [
           {
            "marker": {
             "colorbar": {
              "outlinewidth": 0,
              "ticks": ""
             }
            },
            "type": "scatterpolar"
           }
          ],
          "scatterpolargl": [
           {
            "marker": {
             "colorbar": {
              "outlinewidth": 0,
              "ticks": ""
             }
            },
            "type": "scatterpolargl"
           }
          ],
          "scatterternary": [
           {
            "marker": {
             "colorbar": {
              "outlinewidth": 0,
              "ticks": ""
             }
            },
            "type": "scatterternary"
           }
          ],
          "surface": [
           {
            "colorbar": {
             "outlinewidth": 0,
             "ticks": ""
            },
            "colorscale": [
             [
              0,
              "#0d0887"
             ],
             [
              0.1111111111111111,
              "#46039f"
             ],
             [
              0.2222222222222222,
              "#7201a8"
             ],
             [
              0.3333333333333333,
              "#9c179e"
             ],
             [
              0.4444444444444444,
              "#bd3786"
             ],
             [
              0.5555555555555556,
              "#d8576b"
             ],
             [
              0.6666666666666666,
              "#ed7953"
             ],
             [
              0.7777777777777778,
              "#fb9f3a"
             ],
             [
              0.8888888888888888,
              "#fdca26"
             ],
             [
              1,
              "#f0f921"
             ]
            ],
            "type": "surface"
           }
          ],
          "table": [
           {
            "cells": {
             "fill": {
              "color": "#EBF0F8"
             },
             "line": {
              "color": "white"
             }
            },
            "header": {
             "fill": {
              "color": "#C8D4E3"
             },
             "line": {
              "color": "white"
             }
            },
            "type": "table"
           }
          ]
         },
         "layout": {
          "annotationdefaults": {
           "arrowcolor": "#2a3f5f",
           "arrowhead": 0,
           "arrowwidth": 1
          },
          "coloraxis": {
           "colorbar": {
            "outlinewidth": 0,
            "ticks": ""
           }
          },
          "colorscale": {
           "diverging": [
            [
             0,
             "#8e0152"
            ],
            [
             0.1,
             "#c51b7d"
            ],
            [
             0.2,
             "#de77ae"
            ],
            [
             0.3,
             "#f1b6da"
            ],
            [
             0.4,
             "#fde0ef"
            ],
            [
             0.5,
             "#f7f7f7"
            ],
            [
             0.6,
             "#e6f5d0"
            ],
            [
             0.7,
             "#b8e186"
            ],
            [
             0.8,
             "#7fbc41"
            ],
            [
             0.9,
             "#4d9221"
            ],
            [
             1,
             "#276419"
            ]
           ],
           "sequential": [
            [
             0,
             "#0d0887"
            ],
            [
             0.1111111111111111,
             "#46039f"
            ],
            [
             0.2222222222222222,
             "#7201a8"
            ],
            [
             0.3333333333333333,
             "#9c179e"
            ],
            [
             0.4444444444444444,
             "#bd3786"
            ],
            [
             0.5555555555555556,
             "#d8576b"
            ],
            [
             0.6666666666666666,
             "#ed7953"
            ],
            [
             0.7777777777777778,
             "#fb9f3a"
            ],
            [
             0.8888888888888888,
             "#fdca26"
            ],
            [
             1,
             "#f0f921"
            ]
           ],
           "sequentialminus": [
            [
             0,
             "#0d0887"
            ],
            [
             0.1111111111111111,
             "#46039f"
            ],
            [
             0.2222222222222222,
             "#7201a8"
            ],
            [
             0.3333333333333333,
             "#9c179e"
            ],
            [
             0.4444444444444444,
             "#bd3786"
            ],
            [
             0.5555555555555556,
             "#d8576b"
            ],
            [
             0.6666666666666666,
             "#ed7953"
            ],
            [
             0.7777777777777778,
             "#fb9f3a"
            ],
            [
             0.8888888888888888,
             "#fdca26"
            ],
            [
             1,
             "#f0f921"
            ]
           ]
          },
          "colorway": [
           "#636efa",
           "#EF553B",
           "#00cc96",
           "#ab63fa",
           "#FFA15A",
           "#19d3f3",
           "#FF6692",
           "#B6E880",
           "#FF97FF",
           "#FECB52"
          ],
          "font": {
           "color": "#2a3f5f"
          },
          "geo": {
           "bgcolor": "white",
           "lakecolor": "white",
           "landcolor": "#E5ECF6",
           "showlakes": true,
           "showland": true,
           "subunitcolor": "white"
          },
          "hoverlabel": {
           "align": "left"
          },
          "hovermode": "closest",
          "mapbox": {
           "style": "light"
          },
          "paper_bgcolor": "white",
          "plot_bgcolor": "#E5ECF6",
          "polar": {
           "angularaxis": {
            "gridcolor": "white",
            "linecolor": "white",
            "ticks": ""
           },
           "bgcolor": "#E5ECF6",
           "radialaxis": {
            "gridcolor": "white",
            "linecolor": "white",
            "ticks": ""
           }
          },
          "scene": {
           "xaxis": {
            "backgroundcolor": "#E5ECF6",
            "gridcolor": "white",
            "gridwidth": 2,
            "linecolor": "white",
            "showbackground": true,
            "ticks": "",
            "zerolinecolor": "white"
           },
           "yaxis": {
            "backgroundcolor": "#E5ECF6",
            "gridcolor": "white",
            "gridwidth": 2,
            "linecolor": "white",
            "showbackground": true,
            "ticks": "",
            "zerolinecolor": "white"
           },
           "zaxis": {
            "backgroundcolor": "#E5ECF6",
            "gridcolor": "white",
            "gridwidth": 2,
            "linecolor": "white",
            "showbackground": true,
            "ticks": "",
            "zerolinecolor": "white"
           }
          },
          "shapedefaults": {
           "line": {
            "color": "#2a3f5f"
           }
          },
          "ternary": {
           "aaxis": {
            "gridcolor": "white",
            "linecolor": "white",
            "ticks": ""
           },
           "baxis": {
            "gridcolor": "white",
            "linecolor": "white",
            "ticks": ""
           },
           "bgcolor": "#E5ECF6",
           "caxis": {
            "gridcolor": "white",
            "linecolor": "white",
            "ticks": ""
           }
          },
          "title": {
           "x": 0.05
          },
          "xaxis": {
           "automargin": true,
           "gridcolor": "white",
           "linecolor": "white",
           "ticks": "",
           "title": {
            "standoff": 15
           },
           "zerolinecolor": "white",
           "zerolinewidth": 2
          },
          "yaxis": {
           "automargin": true,
           "gridcolor": "white",
           "linecolor": "white",
           "ticks": "",
           "title": {
            "standoff": 15
           },
           "zerolinecolor": "white",
           "zerolinewidth": 2
          }
         }
        },
        "title": {
         "font": {
          "color": "#4D5663"
         }
        },
        "xaxis": {
         "gridcolor": "#E1E5ED",
         "showgrid": true,
         "tickfont": {
          "color": "#4D5663"
         },
         "title": {
          "font": {
           "color": "#4D5663"
          },
          "text": ""
         },
         "zerolinecolor": "#E1E5ED"
        },
        "yaxis": {
         "gridcolor": "#E1E5ED",
         "showgrid": true,
         "tickfont": {
          "color": "#4D5663"
         },
         "title": {
          "font": {
           "color": "#4D5663"
          },
          "text": ""
         },
         "zerolinecolor": "#E1E5ED"
        }
       }
      },
      "text/html": [
       "<div>\n",
       "        \n",
       "        \n",
       "            <div id=\"b73fe424-d4e3-414f-968f-b174b983add6\" class=\"plotly-graph-div\" style=\"height:525px; width:100%;\"></div>\n",
       "            <script type=\"text/javascript\">\n",
       "                require([\"plotly\"], function(Plotly) {\n",
       "                    window.PLOTLYENV=window.PLOTLYENV || {};\n",
       "                    window.PLOTLYENV.BASE_URL='https://plot.ly';\n",
       "                    \n",
       "                if (document.getElementById(\"b73fe424-d4e3-414f-968f-b174b983add6\")) {\n",
       "                    Plotly.newPlot(\n",
       "                        'b73fe424-d4e3-414f-968f-b174b983add6',\n",
       "                        [{\"marker\": {\"color\": \"rgba(255, 153, 51, 0.6)\", \"line\": {\"color\": \"rgba(255, 153, 51, 1.0)\", \"width\": 1}}, \"name\": \"Valores\", \"orientation\": \"v\", \"text\": \"\", \"type\": \"bar\", \"x\": [\"A\", \"B\", \"C\"], \"y\": [32, 43, 50]}],\n",
       "                        {\"legend\": {\"bgcolor\": \"#F5F6F9\", \"font\": {\"color\": \"#4D5663\"}}, \"paper_bgcolor\": \"#F5F6F9\", \"plot_bgcolor\": \"#F5F6F9\", \"template\": {\"data\": {\"bar\": [{\"error_x\": {\"color\": \"#2a3f5f\"}, \"error_y\": {\"color\": \"#2a3f5f\"}, \"marker\": {\"line\": {\"color\": \"#E5ECF6\", \"width\": 0.5}}, \"type\": \"bar\"}], \"barpolar\": [{\"marker\": {\"line\": {\"color\": \"#E5ECF6\", \"width\": 0.5}}, \"type\": \"barpolar\"}], \"carpet\": [{\"aaxis\": {\"endlinecolor\": \"#2a3f5f\", \"gridcolor\": \"white\", \"linecolor\": \"white\", \"minorgridcolor\": \"white\", \"startlinecolor\": \"#2a3f5f\"}, \"baxis\": {\"endlinecolor\": \"#2a3f5f\", \"gridcolor\": \"white\", \"linecolor\": \"white\", \"minorgridcolor\": \"white\", \"startlinecolor\": \"#2a3f5f\"}, \"type\": \"carpet\"}], \"choropleth\": [{\"colorbar\": {\"outlinewidth\": 0, \"ticks\": \"\"}, \"type\": \"choropleth\"}], \"contour\": [{\"colorbar\": {\"outlinewidth\": 0, \"ticks\": \"\"}, \"colorscale\": [[0.0, \"#0d0887\"], [0.1111111111111111, \"#46039f\"], [0.2222222222222222, \"#7201a8\"], [0.3333333333333333, \"#9c179e\"], [0.4444444444444444, \"#bd3786\"], [0.5555555555555556, \"#d8576b\"], [0.6666666666666666, \"#ed7953\"], [0.7777777777777778, \"#fb9f3a\"], [0.8888888888888888, \"#fdca26\"], [1.0, \"#f0f921\"]], \"type\": \"contour\"}], \"contourcarpet\": [{\"colorbar\": {\"outlinewidth\": 0, \"ticks\": \"\"}, \"type\": \"contourcarpet\"}], \"heatmap\": [{\"colorbar\": {\"outlinewidth\": 0, \"ticks\": \"\"}, \"colorscale\": [[0.0, \"#0d0887\"], [0.1111111111111111, \"#46039f\"], [0.2222222222222222, \"#7201a8\"], [0.3333333333333333, \"#9c179e\"], [0.4444444444444444, \"#bd3786\"], [0.5555555555555556, \"#d8576b\"], [0.6666666666666666, \"#ed7953\"], [0.7777777777777778, \"#fb9f3a\"], [0.8888888888888888, \"#fdca26\"], [1.0, \"#f0f921\"]], \"type\": \"heatmap\"}], \"heatmapgl\": [{\"colorbar\": {\"outlinewidth\": 0, \"ticks\": \"\"}, \"colorscale\": [[0.0, \"#0d0887\"], [0.1111111111111111, \"#46039f\"], [0.2222222222222222, \"#7201a8\"], [0.3333333333333333, \"#9c179e\"], [0.4444444444444444, \"#bd3786\"], [0.5555555555555556, \"#d8576b\"], [0.6666666666666666, \"#ed7953\"], [0.7777777777777778, \"#fb9f3a\"], [0.8888888888888888, \"#fdca26\"], [1.0, \"#f0f921\"]], \"type\": \"heatmapgl\"}], \"histogram\": [{\"marker\": {\"colorbar\": {\"outlinewidth\": 0, \"ticks\": \"\"}}, \"type\": \"histogram\"}], \"histogram2d\": [{\"colorbar\": {\"outlinewidth\": 0, \"ticks\": \"\"}, \"colorscale\": [[0.0, \"#0d0887\"], [0.1111111111111111, \"#46039f\"], [0.2222222222222222, \"#7201a8\"], [0.3333333333333333, \"#9c179e\"], [0.4444444444444444, \"#bd3786\"], [0.5555555555555556, \"#d8576b\"], [0.6666666666666666, \"#ed7953\"], [0.7777777777777778, \"#fb9f3a\"], [0.8888888888888888, \"#fdca26\"], [1.0, \"#f0f921\"]], \"type\": \"histogram2d\"}], \"histogram2dcontour\": [{\"colorbar\": {\"outlinewidth\": 0, \"ticks\": \"\"}, \"colorscale\": [[0.0, \"#0d0887\"], [0.1111111111111111, \"#46039f\"], [0.2222222222222222, \"#7201a8\"], [0.3333333333333333, \"#9c179e\"], [0.4444444444444444, \"#bd3786\"], [0.5555555555555556, \"#d8576b\"], [0.6666666666666666, \"#ed7953\"], [0.7777777777777778, \"#fb9f3a\"], [0.8888888888888888, \"#fdca26\"], [1.0, \"#f0f921\"]], \"type\": \"histogram2dcontour\"}], \"mesh3d\": [{\"colorbar\": {\"outlinewidth\": 0, \"ticks\": \"\"}, \"type\": \"mesh3d\"}], \"parcoords\": [{\"line\": {\"colorbar\": {\"outlinewidth\": 0, \"ticks\": \"\"}}, \"type\": \"parcoords\"}], \"pie\": [{\"automargin\": true, \"type\": \"pie\"}], \"scatter\": [{\"marker\": {\"colorbar\": {\"outlinewidth\": 0, \"ticks\": \"\"}}, \"type\": \"scatter\"}], \"scatter3d\": [{\"line\": {\"colorbar\": {\"outlinewidth\": 0, \"ticks\": \"\"}}, \"marker\": {\"colorbar\": {\"outlinewidth\": 0, \"ticks\": \"\"}}, \"type\": \"scatter3d\"}], \"scattercarpet\": [{\"marker\": {\"colorbar\": {\"outlinewidth\": 0, \"ticks\": \"\"}}, \"type\": \"scattercarpet\"}], \"scattergeo\": [{\"marker\": {\"colorbar\": {\"outlinewidth\": 0, \"ticks\": \"\"}}, \"type\": \"scattergeo\"}], \"scattergl\": [{\"marker\": {\"colorbar\": {\"outlinewidth\": 0, \"ticks\": \"\"}}, \"type\": \"scattergl\"}], \"scattermapbox\": [{\"marker\": {\"colorbar\": {\"outlinewidth\": 0, \"ticks\": \"\"}}, \"type\": \"scattermapbox\"}], \"scatterpolar\": [{\"marker\": {\"colorbar\": {\"outlinewidth\": 0, \"ticks\": \"\"}}, \"type\": \"scatterpolar\"}], \"scatterpolargl\": [{\"marker\": {\"colorbar\": {\"outlinewidth\": 0, \"ticks\": \"\"}}, \"type\": \"scatterpolargl\"}], \"scatterternary\": [{\"marker\": {\"colorbar\": {\"outlinewidth\": 0, \"ticks\": \"\"}}, \"type\": \"scatterternary\"}], \"surface\": [{\"colorbar\": {\"outlinewidth\": 0, \"ticks\": \"\"}, \"colorscale\": [[0.0, \"#0d0887\"], [0.1111111111111111, \"#46039f\"], [0.2222222222222222, \"#7201a8\"], [0.3333333333333333, \"#9c179e\"], [0.4444444444444444, \"#bd3786\"], [0.5555555555555556, \"#d8576b\"], [0.6666666666666666, \"#ed7953\"], [0.7777777777777778, \"#fb9f3a\"], [0.8888888888888888, \"#fdca26\"], [1.0, \"#f0f921\"]], \"type\": \"surface\"}], \"table\": [{\"cells\": {\"fill\": {\"color\": \"#EBF0F8\"}, \"line\": {\"color\": \"white\"}}, \"header\": {\"fill\": {\"color\": \"#C8D4E3\"}, \"line\": {\"color\": \"white\"}}, \"type\": \"table\"}]}, \"layout\": {\"annotationdefaults\": {\"arrowcolor\": \"#2a3f5f\", \"arrowhead\": 0, \"arrowwidth\": 1}, \"coloraxis\": {\"colorbar\": {\"outlinewidth\": 0, \"ticks\": \"\"}}, \"colorscale\": {\"diverging\": [[0, \"#8e0152\"], [0.1, \"#c51b7d\"], [0.2, \"#de77ae\"], [0.3, \"#f1b6da\"], [0.4, \"#fde0ef\"], [0.5, \"#f7f7f7\"], [0.6, \"#e6f5d0\"], [0.7, \"#b8e186\"], [0.8, \"#7fbc41\"], [0.9, \"#4d9221\"], [1, \"#276419\"]], \"sequential\": [[0.0, \"#0d0887\"], [0.1111111111111111, \"#46039f\"], [0.2222222222222222, \"#7201a8\"], [0.3333333333333333, \"#9c179e\"], [0.4444444444444444, \"#bd3786\"], [0.5555555555555556, \"#d8576b\"], [0.6666666666666666, \"#ed7953\"], [0.7777777777777778, \"#fb9f3a\"], [0.8888888888888888, \"#fdca26\"], [1.0, \"#f0f921\"]], \"sequentialminus\": [[0.0, \"#0d0887\"], [0.1111111111111111, \"#46039f\"], [0.2222222222222222, \"#7201a8\"], [0.3333333333333333, \"#9c179e\"], [0.4444444444444444, \"#bd3786\"], [0.5555555555555556, \"#d8576b\"], [0.6666666666666666, \"#ed7953\"], [0.7777777777777778, \"#fb9f3a\"], [0.8888888888888888, \"#fdca26\"], [1.0, \"#f0f921\"]]}, \"colorway\": [\"#636efa\", \"#EF553B\", \"#00cc96\", \"#ab63fa\", \"#FFA15A\", \"#19d3f3\", \"#FF6692\", \"#B6E880\", \"#FF97FF\", \"#FECB52\"], \"font\": {\"color\": \"#2a3f5f\"}, \"geo\": {\"bgcolor\": \"white\", \"lakecolor\": \"white\", \"landcolor\": \"#E5ECF6\", \"showlakes\": true, \"showland\": true, \"subunitcolor\": \"white\"}, \"hoverlabel\": {\"align\": \"left\"}, \"hovermode\": \"closest\", \"mapbox\": {\"style\": \"light\"}, \"paper_bgcolor\": \"white\", \"plot_bgcolor\": \"#E5ECF6\", \"polar\": {\"angularaxis\": {\"gridcolor\": \"white\", \"linecolor\": \"white\", \"ticks\": \"\"}, \"bgcolor\": \"#E5ECF6\", \"radialaxis\": {\"gridcolor\": \"white\", \"linecolor\": \"white\", \"ticks\": \"\"}}, \"scene\": {\"xaxis\": {\"backgroundcolor\": \"#E5ECF6\", \"gridcolor\": \"white\", \"gridwidth\": 2, \"linecolor\": \"white\", \"showbackground\": true, \"ticks\": \"\", \"zerolinecolor\": \"white\"}, \"yaxis\": {\"backgroundcolor\": \"#E5ECF6\", \"gridcolor\": \"white\", \"gridwidth\": 2, \"linecolor\": \"white\", \"showbackground\": true, \"ticks\": \"\", \"zerolinecolor\": \"white\"}, \"zaxis\": {\"backgroundcolor\": \"#E5ECF6\", \"gridcolor\": \"white\", \"gridwidth\": 2, \"linecolor\": \"white\", \"showbackground\": true, \"ticks\": \"\", \"zerolinecolor\": \"white\"}}, \"shapedefaults\": {\"line\": {\"color\": \"#2a3f5f\"}}, \"ternary\": {\"aaxis\": {\"gridcolor\": \"white\", \"linecolor\": \"white\", \"ticks\": \"\"}, \"baxis\": {\"gridcolor\": \"white\", \"linecolor\": \"white\", \"ticks\": \"\"}, \"bgcolor\": \"#E5ECF6\", \"caxis\": {\"gridcolor\": \"white\", \"linecolor\": \"white\", \"ticks\": \"\"}}, \"title\": {\"x\": 0.05}, \"xaxis\": {\"automargin\": true, \"gridcolor\": \"white\", \"linecolor\": \"white\", \"ticks\": \"\", \"title\": {\"standoff\": 15}, \"zerolinecolor\": \"white\", \"zerolinewidth\": 2}, \"yaxis\": {\"automargin\": true, \"gridcolor\": \"white\", \"linecolor\": \"white\", \"ticks\": \"\", \"title\": {\"standoff\": 15}, \"zerolinecolor\": \"white\", \"zerolinewidth\": 2}}}, \"title\": {\"font\": {\"color\": \"#4D5663\"}}, \"xaxis\": {\"gridcolor\": \"#E1E5ED\", \"showgrid\": true, \"tickfont\": {\"color\": \"#4D5663\"}, \"title\": {\"font\": {\"color\": \"#4D5663\"}, \"text\": \"\"}, \"zerolinecolor\": \"#E1E5ED\"}, \"yaxis\": {\"gridcolor\": \"#E1E5ED\", \"showgrid\": true, \"tickfont\": {\"color\": \"#4D5663\"}, \"title\": {\"font\": {\"color\": \"#4D5663\"}, \"text\": \"\"}, \"zerolinecolor\": \"#E1E5ED\"}},\n",
       "                        {\"showLink\": true, \"linkText\": \"Export to plot.ly\", \"plotlyServerURL\": \"https://plot.ly\", \"responsive\": true}\n",
       "                    ).then(function(){\n",
       "                            \n",
       "var gd = document.getElementById('b73fe424-d4e3-414f-968f-b174b983add6');\n",
       "var x = new MutationObserver(function (mutations, observer) {{\n",
       "        var display = window.getComputedStyle(gd).display;\n",
       "        if (!display || display === 'none') {{\n",
       "            console.log([gd, 'removed!']);\n",
       "            Plotly.purge(gd);\n",
       "            observer.disconnect();\n",
       "        }}\n",
       "}});\n",
       "\n",
       "// Listen for the removal of the full notebook cells\n",
       "var notebookContainer = gd.closest('#notebook-container');\n",
       "if (notebookContainer) {{\n",
       "    x.observe(notebookContainer, {childList: true});\n",
       "}}\n",
       "\n",
       "// Listen for the clearing of the current output cell\n",
       "var outputEl = gd.closest('.output');\n",
       "if (outputEl) {{\n",
       "    x.observe(outputEl, {childList: true});\n",
       "}}\n",
       "\n",
       "                        })\n",
       "                };\n",
       "                });\n",
       "            </script>\n",
       "        </div>"
      ]
     },
     "metadata": {},
     "output_type": "display_data"
    }
   ],
   "source": [
    "df2.iplot(kind='bar',x='Categoria',y='Valores')"
   ]
  },
  {
   "cell_type": "code",
   "execution_count": 12,
   "metadata": {},
   "outputs": [
    {
     "data": {
      "application/vnd.plotly.v1+json": {
       "config": {
        "linkText": "Export to plot.ly",
        "plotlyServerURL": "https://plot.ly",
        "showLink": true
       },
       "data": [
        {
         "marker": {
          "color": "rgba(255, 153, 51, 0.6)",
          "line": {
           "color": "rgba(255, 153, 51, 1.0)",
           "width": 1
          }
         },
         "name": "None",
         "orientation": "v",
         "text": "",
         "type": "bar",
         "x": [
          "A",
          "B",
          "C",
          "D"
         ],
         "y": [
          100,
          100,
          100,
          100
         ]
        }
       ],
       "layout": {
        "legend": {
         "bgcolor": "#F5F6F9",
         "font": {
          "color": "#4D5663"
         }
        },
        "paper_bgcolor": "#F5F6F9",
        "plot_bgcolor": "#F5F6F9",
        "template": {
         "data": {
          "bar": [
           {
            "error_x": {
             "color": "#2a3f5f"
            },
            "error_y": {
             "color": "#2a3f5f"
            },
            "marker": {
             "line": {
              "color": "#E5ECF6",
              "width": 0.5
             }
            },
            "type": "bar"
           }
          ],
          "barpolar": [
           {
            "marker": {
             "line": {
              "color": "#E5ECF6",
              "width": 0.5
             }
            },
            "type": "barpolar"
           }
          ],
          "carpet": [
           {
            "aaxis": {
             "endlinecolor": "#2a3f5f",
             "gridcolor": "white",
             "linecolor": "white",
             "minorgridcolor": "white",
             "startlinecolor": "#2a3f5f"
            },
            "baxis": {
             "endlinecolor": "#2a3f5f",
             "gridcolor": "white",
             "linecolor": "white",
             "minorgridcolor": "white",
             "startlinecolor": "#2a3f5f"
            },
            "type": "carpet"
           }
          ],
          "choropleth": [
           {
            "colorbar": {
             "outlinewidth": 0,
             "ticks": ""
            },
            "type": "choropleth"
           }
          ],
          "contour": [
           {
            "colorbar": {
             "outlinewidth": 0,
             "ticks": ""
            },
            "colorscale": [
             [
              0,
              "#0d0887"
             ],
             [
              0.1111111111111111,
              "#46039f"
             ],
             [
              0.2222222222222222,
              "#7201a8"
             ],
             [
              0.3333333333333333,
              "#9c179e"
             ],
             [
              0.4444444444444444,
              "#bd3786"
             ],
             [
              0.5555555555555556,
              "#d8576b"
             ],
             [
              0.6666666666666666,
              "#ed7953"
             ],
             [
              0.7777777777777778,
              "#fb9f3a"
             ],
             [
              0.8888888888888888,
              "#fdca26"
             ],
             [
              1,
              "#f0f921"
             ]
            ],
            "type": "contour"
           }
          ],
          "contourcarpet": [
           {
            "colorbar": {
             "outlinewidth": 0,
             "ticks": ""
            },
            "type": "contourcarpet"
           }
          ],
          "heatmap": [
           {
            "colorbar": {
             "outlinewidth": 0,
             "ticks": ""
            },
            "colorscale": [
             [
              0,
              "#0d0887"
             ],
             [
              0.1111111111111111,
              "#46039f"
             ],
             [
              0.2222222222222222,
              "#7201a8"
             ],
             [
              0.3333333333333333,
              "#9c179e"
             ],
             [
              0.4444444444444444,
              "#bd3786"
             ],
             [
              0.5555555555555556,
              "#d8576b"
             ],
             [
              0.6666666666666666,
              "#ed7953"
             ],
             [
              0.7777777777777778,
              "#fb9f3a"
             ],
             [
              0.8888888888888888,
              "#fdca26"
             ],
             [
              1,
              "#f0f921"
             ]
            ],
            "type": "heatmap"
           }
          ],
          "heatmapgl": [
           {
            "colorbar": {
             "outlinewidth": 0,
             "ticks": ""
            },
            "colorscale": [
             [
              0,
              "#0d0887"
             ],
             [
              0.1111111111111111,
              "#46039f"
             ],
             [
              0.2222222222222222,
              "#7201a8"
             ],
             [
              0.3333333333333333,
              "#9c179e"
             ],
             [
              0.4444444444444444,
              "#bd3786"
             ],
             [
              0.5555555555555556,
              "#d8576b"
             ],
             [
              0.6666666666666666,
              "#ed7953"
             ],
             [
              0.7777777777777778,
              "#fb9f3a"
             ],
             [
              0.8888888888888888,
              "#fdca26"
             ],
             [
              1,
              "#f0f921"
             ]
            ],
            "type": "heatmapgl"
           }
          ],
          "histogram": [
           {
            "marker": {
             "colorbar": {
              "outlinewidth": 0,
              "ticks": ""
             }
            },
            "type": "histogram"
           }
          ],
          "histogram2d": [
           {
            "colorbar": {
             "outlinewidth": 0,
             "ticks": ""
            },
            "colorscale": [
             [
              0,
              "#0d0887"
             ],
             [
              0.1111111111111111,
              "#46039f"
             ],
             [
              0.2222222222222222,
              "#7201a8"
             ],
             [
              0.3333333333333333,
              "#9c179e"
             ],
             [
              0.4444444444444444,
              "#bd3786"
             ],
             [
              0.5555555555555556,
              "#d8576b"
             ],
             [
              0.6666666666666666,
              "#ed7953"
             ],
             [
              0.7777777777777778,
              "#fb9f3a"
             ],
             [
              0.8888888888888888,
              "#fdca26"
             ],
             [
              1,
              "#f0f921"
             ]
            ],
            "type": "histogram2d"
           }
          ],
          "histogram2dcontour": [
           {
            "colorbar": {
             "outlinewidth": 0,
             "ticks": ""
            },
            "colorscale": [
             [
              0,
              "#0d0887"
             ],
             [
              0.1111111111111111,
              "#46039f"
             ],
             [
              0.2222222222222222,
              "#7201a8"
             ],
             [
              0.3333333333333333,
              "#9c179e"
             ],
             [
              0.4444444444444444,
              "#bd3786"
             ],
             [
              0.5555555555555556,
              "#d8576b"
             ],
             [
              0.6666666666666666,
              "#ed7953"
             ],
             [
              0.7777777777777778,
              "#fb9f3a"
             ],
             [
              0.8888888888888888,
              "#fdca26"
             ],
             [
              1,
              "#f0f921"
             ]
            ],
            "type": "histogram2dcontour"
           }
          ],
          "mesh3d": [
           {
            "colorbar": {
             "outlinewidth": 0,
             "ticks": ""
            },
            "type": "mesh3d"
           }
          ],
          "parcoords": [
           {
            "line": {
             "colorbar": {
              "outlinewidth": 0,
              "ticks": ""
             }
            },
            "type": "parcoords"
           }
          ],
          "pie": [
           {
            "automargin": true,
            "type": "pie"
           }
          ],
          "scatter": [
           {
            "marker": {
             "colorbar": {
              "outlinewidth": 0,
              "ticks": ""
             }
            },
            "type": "scatter"
           }
          ],
          "scatter3d": [
           {
            "line": {
             "colorbar": {
              "outlinewidth": 0,
              "ticks": ""
             }
            },
            "marker": {
             "colorbar": {
              "outlinewidth": 0,
              "ticks": ""
             }
            },
            "type": "scatter3d"
           }
          ],
          "scattercarpet": [
           {
            "marker": {
             "colorbar": {
              "outlinewidth": 0,
              "ticks": ""
             }
            },
            "type": "scattercarpet"
           }
          ],
          "scattergeo": [
           {
            "marker": {
             "colorbar": {
              "outlinewidth": 0,
              "ticks": ""
             }
            },
            "type": "scattergeo"
           }
          ],
          "scattergl": [
           {
            "marker": {
             "colorbar": {
              "outlinewidth": 0,
              "ticks": ""
             }
            },
            "type": "scattergl"
           }
          ],
          "scattermapbox": [
           {
            "marker": {
             "colorbar": {
              "outlinewidth": 0,
              "ticks": ""
             }
            },
            "type": "scattermapbox"
           }
          ],
          "scatterpolar": [
           {
            "marker": {
             "colorbar": {
              "outlinewidth": 0,
              "ticks": ""
             }
            },
            "type": "scatterpolar"
           }
          ],
          "scatterpolargl": [
           {
            "marker": {
             "colorbar": {
              "outlinewidth": 0,
              "ticks": ""
             }
            },
            "type": "scatterpolargl"
           }
          ],
          "scatterternary": [
           {
            "marker": {
             "colorbar": {
              "outlinewidth": 0,
              "ticks": ""
             }
            },
            "type": "scatterternary"
           }
          ],
          "surface": [
           {
            "colorbar": {
             "outlinewidth": 0,
             "ticks": ""
            },
            "colorscale": [
             [
              0,
              "#0d0887"
             ],
             [
              0.1111111111111111,
              "#46039f"
             ],
             [
              0.2222222222222222,
              "#7201a8"
             ],
             [
              0.3333333333333333,
              "#9c179e"
             ],
             [
              0.4444444444444444,
              "#bd3786"
             ],
             [
              0.5555555555555556,
              "#d8576b"
             ],
             [
              0.6666666666666666,
              "#ed7953"
             ],
             [
              0.7777777777777778,
              "#fb9f3a"
             ],
             [
              0.8888888888888888,
              "#fdca26"
             ],
             [
              1,
              "#f0f921"
             ]
            ],
            "type": "surface"
           }
          ],
          "table": [
           {
            "cells": {
             "fill": {
              "color": "#EBF0F8"
             },
             "line": {
              "color": "white"
             }
            },
            "header": {
             "fill": {
              "color": "#C8D4E3"
             },
             "line": {
              "color": "white"
             }
            },
            "type": "table"
           }
          ]
         },
         "layout": {
          "annotationdefaults": {
           "arrowcolor": "#2a3f5f",
           "arrowhead": 0,
           "arrowwidth": 1
          },
          "coloraxis": {
           "colorbar": {
            "outlinewidth": 0,
            "ticks": ""
           }
          },
          "colorscale": {
           "diverging": [
            [
             0,
             "#8e0152"
            ],
            [
             0.1,
             "#c51b7d"
            ],
            [
             0.2,
             "#de77ae"
            ],
            [
             0.3,
             "#f1b6da"
            ],
            [
             0.4,
             "#fde0ef"
            ],
            [
             0.5,
             "#f7f7f7"
            ],
            [
             0.6,
             "#e6f5d0"
            ],
            [
             0.7,
             "#b8e186"
            ],
            [
             0.8,
             "#7fbc41"
            ],
            [
             0.9,
             "#4d9221"
            ],
            [
             1,
             "#276419"
            ]
           ],
           "sequential": [
            [
             0,
             "#0d0887"
            ],
            [
             0.1111111111111111,
             "#46039f"
            ],
            [
             0.2222222222222222,
             "#7201a8"
            ],
            [
             0.3333333333333333,
             "#9c179e"
            ],
            [
             0.4444444444444444,
             "#bd3786"
            ],
            [
             0.5555555555555556,
             "#d8576b"
            ],
            [
             0.6666666666666666,
             "#ed7953"
            ],
            [
             0.7777777777777778,
             "#fb9f3a"
            ],
            [
             0.8888888888888888,
             "#fdca26"
            ],
            [
             1,
             "#f0f921"
            ]
           ],
           "sequentialminus": [
            [
             0,
             "#0d0887"
            ],
            [
             0.1111111111111111,
             "#46039f"
            ],
            [
             0.2222222222222222,
             "#7201a8"
            ],
            [
             0.3333333333333333,
             "#9c179e"
            ],
            [
             0.4444444444444444,
             "#bd3786"
            ],
            [
             0.5555555555555556,
             "#d8576b"
            ],
            [
             0.6666666666666666,
             "#ed7953"
            ],
            [
             0.7777777777777778,
             "#fb9f3a"
            ],
            [
             0.8888888888888888,
             "#fdca26"
            ],
            [
             1,
             "#f0f921"
            ]
           ]
          },
          "colorway": [
           "#636efa",
           "#EF553B",
           "#00cc96",
           "#ab63fa",
           "#FFA15A",
           "#19d3f3",
           "#FF6692",
           "#B6E880",
           "#FF97FF",
           "#FECB52"
          ],
          "font": {
           "color": "#2a3f5f"
          },
          "geo": {
           "bgcolor": "white",
           "lakecolor": "white",
           "landcolor": "#E5ECF6",
           "showlakes": true,
           "showland": true,
           "subunitcolor": "white"
          },
          "hoverlabel": {
           "align": "left"
          },
          "hovermode": "closest",
          "mapbox": {
           "style": "light"
          },
          "paper_bgcolor": "white",
          "plot_bgcolor": "#E5ECF6",
          "polar": {
           "angularaxis": {
            "gridcolor": "white",
            "linecolor": "white",
            "ticks": ""
           },
           "bgcolor": "#E5ECF6",
           "radialaxis": {
            "gridcolor": "white",
            "linecolor": "white",
            "ticks": ""
           }
          },
          "scene": {
           "xaxis": {
            "backgroundcolor": "#E5ECF6",
            "gridcolor": "white",
            "gridwidth": 2,
            "linecolor": "white",
            "showbackground": true,
            "ticks": "",
            "zerolinecolor": "white"
           },
           "yaxis": {
            "backgroundcolor": "#E5ECF6",
            "gridcolor": "white",
            "gridwidth": 2,
            "linecolor": "white",
            "showbackground": true,
            "ticks": "",
            "zerolinecolor": "white"
           },
           "zaxis": {
            "backgroundcolor": "#E5ECF6",
            "gridcolor": "white",
            "gridwidth": 2,
            "linecolor": "white",
            "showbackground": true,
            "ticks": "",
            "zerolinecolor": "white"
           }
          },
          "shapedefaults": {
           "line": {
            "color": "#2a3f5f"
           }
          },
          "ternary": {
           "aaxis": {
            "gridcolor": "white",
            "linecolor": "white",
            "ticks": ""
           },
           "baxis": {
            "gridcolor": "white",
            "linecolor": "white",
            "ticks": ""
           },
           "bgcolor": "#E5ECF6",
           "caxis": {
            "gridcolor": "white",
            "linecolor": "white",
            "ticks": ""
           }
          },
          "title": {
           "x": 0.05
          },
          "xaxis": {
           "automargin": true,
           "gridcolor": "white",
           "linecolor": "white",
           "ticks": "",
           "title": {
            "standoff": 15
           },
           "zerolinecolor": "white",
           "zerolinewidth": 2
          },
          "yaxis": {
           "automargin": true,
           "gridcolor": "white",
           "linecolor": "white",
           "ticks": "",
           "title": {
            "standoff": 15
           },
           "zerolinecolor": "white",
           "zerolinewidth": 2
          }
         }
        },
        "title": {
         "font": {
          "color": "#4D5663"
         }
        },
        "xaxis": {
         "gridcolor": "#E1E5ED",
         "showgrid": true,
         "tickfont": {
          "color": "#4D5663"
         },
         "title": {
          "font": {
           "color": "#4D5663"
          },
          "text": ""
         },
         "zerolinecolor": "#E1E5ED"
        },
        "yaxis": {
         "gridcolor": "#E1E5ED",
         "showgrid": true,
         "tickfont": {
          "color": "#4D5663"
         },
         "title": {
          "font": {
           "color": "#4D5663"
          },
          "text": ""
         },
         "zerolinecolor": "#E1E5ED"
        }
       }
      },
      "text/html": [
       "<div>\n",
       "        \n",
       "        \n",
       "            <div id=\"8af3d5a2-1e2e-436d-9756-9734e2de4937\" class=\"plotly-graph-div\" style=\"height:525px; width:100%;\"></div>\n",
       "            <script type=\"text/javascript\">\n",
       "                require([\"plotly\"], function(Plotly) {\n",
       "                    window.PLOTLYENV=window.PLOTLYENV || {};\n",
       "                    window.PLOTLYENV.BASE_URL='https://plot.ly';\n",
       "                    \n",
       "                if (document.getElementById(\"8af3d5a2-1e2e-436d-9756-9734e2de4937\")) {\n",
       "                    Plotly.newPlot(\n",
       "                        '8af3d5a2-1e2e-436d-9756-9734e2de4937',\n",
       "                        [{\"marker\": {\"color\": \"rgba(255, 153, 51, 0.6)\", \"line\": {\"color\": \"rgba(255, 153, 51, 1.0)\", \"width\": 1}}, \"name\": \"None\", \"orientation\": \"v\", \"text\": \"\", \"type\": \"bar\", \"x\": [\"A\", \"B\", \"C\", \"D\"], \"y\": [100, 100, 100, 100]}],\n",
       "                        {\"legend\": {\"bgcolor\": \"#F5F6F9\", \"font\": {\"color\": \"#4D5663\"}}, \"paper_bgcolor\": \"#F5F6F9\", \"plot_bgcolor\": \"#F5F6F9\", \"template\": {\"data\": {\"bar\": [{\"error_x\": {\"color\": \"#2a3f5f\"}, \"error_y\": {\"color\": \"#2a3f5f\"}, \"marker\": {\"line\": {\"color\": \"#E5ECF6\", \"width\": 0.5}}, \"type\": \"bar\"}], \"barpolar\": [{\"marker\": {\"line\": {\"color\": \"#E5ECF6\", \"width\": 0.5}}, \"type\": \"barpolar\"}], \"carpet\": [{\"aaxis\": {\"endlinecolor\": \"#2a3f5f\", \"gridcolor\": \"white\", \"linecolor\": \"white\", \"minorgridcolor\": \"white\", \"startlinecolor\": \"#2a3f5f\"}, \"baxis\": {\"endlinecolor\": \"#2a3f5f\", \"gridcolor\": \"white\", \"linecolor\": \"white\", \"minorgridcolor\": \"white\", \"startlinecolor\": \"#2a3f5f\"}, \"type\": \"carpet\"}], \"choropleth\": [{\"colorbar\": {\"outlinewidth\": 0, \"ticks\": \"\"}, \"type\": \"choropleth\"}], \"contour\": [{\"colorbar\": {\"outlinewidth\": 0, \"ticks\": \"\"}, \"colorscale\": [[0.0, \"#0d0887\"], [0.1111111111111111, \"#46039f\"], [0.2222222222222222, \"#7201a8\"], [0.3333333333333333, \"#9c179e\"], [0.4444444444444444, \"#bd3786\"], [0.5555555555555556, \"#d8576b\"], [0.6666666666666666, \"#ed7953\"], [0.7777777777777778, \"#fb9f3a\"], [0.8888888888888888, \"#fdca26\"], [1.0, \"#f0f921\"]], \"type\": \"contour\"}], \"contourcarpet\": [{\"colorbar\": {\"outlinewidth\": 0, \"ticks\": \"\"}, \"type\": \"contourcarpet\"}], \"heatmap\": [{\"colorbar\": {\"outlinewidth\": 0, \"ticks\": \"\"}, \"colorscale\": [[0.0, \"#0d0887\"], [0.1111111111111111, \"#46039f\"], [0.2222222222222222, \"#7201a8\"], [0.3333333333333333, \"#9c179e\"], [0.4444444444444444, \"#bd3786\"], [0.5555555555555556, \"#d8576b\"], [0.6666666666666666, \"#ed7953\"], [0.7777777777777778, \"#fb9f3a\"], [0.8888888888888888, \"#fdca26\"], [1.0, \"#f0f921\"]], \"type\": \"heatmap\"}], \"heatmapgl\": [{\"colorbar\": {\"outlinewidth\": 0, \"ticks\": \"\"}, \"colorscale\": [[0.0, \"#0d0887\"], [0.1111111111111111, \"#46039f\"], [0.2222222222222222, \"#7201a8\"], [0.3333333333333333, \"#9c179e\"], [0.4444444444444444, \"#bd3786\"], [0.5555555555555556, \"#d8576b\"], [0.6666666666666666, \"#ed7953\"], [0.7777777777777778, \"#fb9f3a\"], [0.8888888888888888, \"#fdca26\"], [1.0, \"#f0f921\"]], \"type\": \"heatmapgl\"}], \"histogram\": [{\"marker\": {\"colorbar\": {\"outlinewidth\": 0, \"ticks\": \"\"}}, \"type\": \"histogram\"}], \"histogram2d\": [{\"colorbar\": {\"outlinewidth\": 0, \"ticks\": \"\"}, \"colorscale\": [[0.0, \"#0d0887\"], [0.1111111111111111, \"#46039f\"], [0.2222222222222222, \"#7201a8\"], [0.3333333333333333, \"#9c179e\"], [0.4444444444444444, \"#bd3786\"], [0.5555555555555556, \"#d8576b\"], [0.6666666666666666, \"#ed7953\"], [0.7777777777777778, \"#fb9f3a\"], [0.8888888888888888, \"#fdca26\"], [1.0, \"#f0f921\"]], \"type\": \"histogram2d\"}], \"histogram2dcontour\": [{\"colorbar\": {\"outlinewidth\": 0, \"ticks\": \"\"}, \"colorscale\": [[0.0, \"#0d0887\"], [0.1111111111111111, \"#46039f\"], [0.2222222222222222, \"#7201a8\"], [0.3333333333333333, \"#9c179e\"], [0.4444444444444444, \"#bd3786\"], [0.5555555555555556, \"#d8576b\"], [0.6666666666666666, \"#ed7953\"], [0.7777777777777778, \"#fb9f3a\"], [0.8888888888888888, \"#fdca26\"], [1.0, \"#f0f921\"]], \"type\": \"histogram2dcontour\"}], \"mesh3d\": [{\"colorbar\": {\"outlinewidth\": 0, \"ticks\": \"\"}, \"type\": \"mesh3d\"}], \"parcoords\": [{\"line\": {\"colorbar\": {\"outlinewidth\": 0, \"ticks\": \"\"}}, \"type\": \"parcoords\"}], \"pie\": [{\"automargin\": true, \"type\": \"pie\"}], \"scatter\": [{\"marker\": {\"colorbar\": {\"outlinewidth\": 0, \"ticks\": \"\"}}, \"type\": \"scatter\"}], \"scatter3d\": [{\"line\": {\"colorbar\": {\"outlinewidth\": 0, \"ticks\": \"\"}}, \"marker\": {\"colorbar\": {\"outlinewidth\": 0, \"ticks\": \"\"}}, \"type\": \"scatter3d\"}], \"scattercarpet\": [{\"marker\": {\"colorbar\": {\"outlinewidth\": 0, \"ticks\": \"\"}}, \"type\": \"scattercarpet\"}], \"scattergeo\": [{\"marker\": {\"colorbar\": {\"outlinewidth\": 0, \"ticks\": \"\"}}, \"type\": \"scattergeo\"}], \"scattergl\": [{\"marker\": {\"colorbar\": {\"outlinewidth\": 0, \"ticks\": \"\"}}, \"type\": \"scattergl\"}], \"scattermapbox\": [{\"marker\": {\"colorbar\": {\"outlinewidth\": 0, \"ticks\": \"\"}}, \"type\": \"scattermapbox\"}], \"scatterpolar\": [{\"marker\": {\"colorbar\": {\"outlinewidth\": 0, \"ticks\": \"\"}}, \"type\": \"scatterpolar\"}], \"scatterpolargl\": [{\"marker\": {\"colorbar\": {\"outlinewidth\": 0, \"ticks\": \"\"}}, \"type\": \"scatterpolargl\"}], \"scatterternary\": [{\"marker\": {\"colorbar\": {\"outlinewidth\": 0, \"ticks\": \"\"}}, \"type\": \"scatterternary\"}], \"surface\": [{\"colorbar\": {\"outlinewidth\": 0, \"ticks\": \"\"}, \"colorscale\": [[0.0, \"#0d0887\"], [0.1111111111111111, \"#46039f\"], [0.2222222222222222, \"#7201a8\"], [0.3333333333333333, \"#9c179e\"], [0.4444444444444444, \"#bd3786\"], [0.5555555555555556, \"#d8576b\"], [0.6666666666666666, \"#ed7953\"], [0.7777777777777778, \"#fb9f3a\"], [0.8888888888888888, \"#fdca26\"], [1.0, \"#f0f921\"]], \"type\": \"surface\"}], \"table\": [{\"cells\": {\"fill\": {\"color\": \"#EBF0F8\"}, \"line\": {\"color\": \"white\"}}, \"header\": {\"fill\": {\"color\": \"#C8D4E3\"}, \"line\": {\"color\": \"white\"}}, \"type\": \"table\"}]}, \"layout\": {\"annotationdefaults\": {\"arrowcolor\": \"#2a3f5f\", \"arrowhead\": 0, \"arrowwidth\": 1}, \"coloraxis\": {\"colorbar\": {\"outlinewidth\": 0, \"ticks\": \"\"}}, \"colorscale\": {\"diverging\": [[0, \"#8e0152\"], [0.1, \"#c51b7d\"], [0.2, \"#de77ae\"], [0.3, \"#f1b6da\"], [0.4, \"#fde0ef\"], [0.5, \"#f7f7f7\"], [0.6, \"#e6f5d0\"], [0.7, \"#b8e186\"], [0.8, \"#7fbc41\"], [0.9, \"#4d9221\"], [1, \"#276419\"]], \"sequential\": [[0.0, \"#0d0887\"], [0.1111111111111111, \"#46039f\"], [0.2222222222222222, \"#7201a8\"], [0.3333333333333333, \"#9c179e\"], [0.4444444444444444, \"#bd3786\"], [0.5555555555555556, \"#d8576b\"], [0.6666666666666666, \"#ed7953\"], [0.7777777777777778, \"#fb9f3a\"], [0.8888888888888888, \"#fdca26\"], [1.0, \"#f0f921\"]], \"sequentialminus\": [[0.0, \"#0d0887\"], [0.1111111111111111, \"#46039f\"], [0.2222222222222222, \"#7201a8\"], [0.3333333333333333, \"#9c179e\"], [0.4444444444444444, \"#bd3786\"], [0.5555555555555556, \"#d8576b\"], [0.6666666666666666, \"#ed7953\"], [0.7777777777777778, \"#fb9f3a\"], [0.8888888888888888, \"#fdca26\"], [1.0, \"#f0f921\"]]}, \"colorway\": [\"#636efa\", \"#EF553B\", \"#00cc96\", \"#ab63fa\", \"#FFA15A\", \"#19d3f3\", \"#FF6692\", \"#B6E880\", \"#FF97FF\", \"#FECB52\"], \"font\": {\"color\": \"#2a3f5f\"}, \"geo\": {\"bgcolor\": \"white\", \"lakecolor\": \"white\", \"landcolor\": \"#E5ECF6\", \"showlakes\": true, \"showland\": true, \"subunitcolor\": \"white\"}, \"hoverlabel\": {\"align\": \"left\"}, \"hovermode\": \"closest\", \"mapbox\": {\"style\": \"light\"}, \"paper_bgcolor\": \"white\", \"plot_bgcolor\": \"#E5ECF6\", \"polar\": {\"angularaxis\": {\"gridcolor\": \"white\", \"linecolor\": \"white\", \"ticks\": \"\"}, \"bgcolor\": \"#E5ECF6\", \"radialaxis\": {\"gridcolor\": \"white\", \"linecolor\": \"white\", \"ticks\": \"\"}}, \"scene\": {\"xaxis\": {\"backgroundcolor\": \"#E5ECF6\", \"gridcolor\": \"white\", \"gridwidth\": 2, \"linecolor\": \"white\", \"showbackground\": true, \"ticks\": \"\", \"zerolinecolor\": \"white\"}, \"yaxis\": {\"backgroundcolor\": \"#E5ECF6\", \"gridcolor\": \"white\", \"gridwidth\": 2, \"linecolor\": \"white\", \"showbackground\": true, \"ticks\": \"\", \"zerolinecolor\": \"white\"}, \"zaxis\": {\"backgroundcolor\": \"#E5ECF6\", \"gridcolor\": \"white\", \"gridwidth\": 2, \"linecolor\": \"white\", \"showbackground\": true, \"ticks\": \"\", \"zerolinecolor\": \"white\"}}, \"shapedefaults\": {\"line\": {\"color\": \"#2a3f5f\"}}, \"ternary\": {\"aaxis\": {\"gridcolor\": \"white\", \"linecolor\": \"white\", \"ticks\": \"\"}, \"baxis\": {\"gridcolor\": \"white\", \"linecolor\": \"white\", \"ticks\": \"\"}, \"bgcolor\": \"#E5ECF6\", \"caxis\": {\"gridcolor\": \"white\", \"linecolor\": \"white\", \"ticks\": \"\"}}, \"title\": {\"x\": 0.05}, \"xaxis\": {\"automargin\": true, \"gridcolor\": \"white\", \"linecolor\": \"white\", \"ticks\": \"\", \"title\": {\"standoff\": 15}, \"zerolinecolor\": \"white\", \"zerolinewidth\": 2}, \"yaxis\": {\"automargin\": true, \"gridcolor\": \"white\", \"linecolor\": \"white\", \"ticks\": \"\", \"title\": {\"standoff\": 15}, \"zerolinecolor\": \"white\", \"zerolinewidth\": 2}}}, \"title\": {\"font\": {\"color\": \"#4D5663\"}}, \"xaxis\": {\"gridcolor\": \"#E1E5ED\", \"showgrid\": true, \"tickfont\": {\"color\": \"#4D5663\"}, \"title\": {\"font\": {\"color\": \"#4D5663\"}, \"text\": \"\"}, \"zerolinecolor\": \"#E1E5ED\"}, \"yaxis\": {\"gridcolor\": \"#E1E5ED\", \"showgrid\": true, \"tickfont\": {\"color\": \"#4D5663\"}, \"title\": {\"font\": {\"color\": \"#4D5663\"}, \"text\": \"\"}, \"zerolinecolor\": \"#E1E5ED\"}},\n",
       "                        {\"showLink\": true, \"linkText\": \"Export to plot.ly\", \"plotlyServerURL\": \"https://plot.ly\", \"responsive\": true}\n",
       "                    ).then(function(){\n",
       "                            \n",
       "var gd = document.getElementById('8af3d5a2-1e2e-436d-9756-9734e2de4937');\n",
       "var x = new MutationObserver(function (mutations, observer) {{\n",
       "        var display = window.getComputedStyle(gd).display;\n",
       "        if (!display || display === 'none') {{\n",
       "            console.log([gd, 'removed!']);\n",
       "            Plotly.purge(gd);\n",
       "            observer.disconnect();\n",
       "        }}\n",
       "}});\n",
       "\n",
       "// Listen for the removal of the full notebook cells\n",
       "var notebookContainer = gd.closest('#notebook-container');\n",
       "if (notebookContainer) {{\n",
       "    x.observe(notebookContainer, {childList: true});\n",
       "}}\n",
       "\n",
       "// Listen for the clearing of the current output cell\n",
       "var outputEl = gd.closest('.output');\n",
       "if (outputEl) {{\n",
       "    x.observe(outputEl, {childList: true});\n",
       "}}\n",
       "\n",
       "                        })\n",
       "                };\n",
       "                });\n",
       "            </script>\n",
       "        </div>"
      ]
     },
     "metadata": {},
     "output_type": "display_data"
    }
   ],
   "source": [
    "df.count().iplot(kind='bar')"
   ]
  },
  {
   "cell_type": "markdown",
   "metadata": {},
   "source": [
    "## Boxplots"
   ]
  },
  {
   "cell_type": "code",
   "execution_count": 13,
   "metadata": {},
   "outputs": [
    {
     "data": {
      "application/vnd.plotly.v1+json": {
       "config": {
        "linkText": "Export to plot.ly",
        "plotlyServerURL": "https://plot.ly",
        "showLink": true
       },
       "data": [
        {
         "boxpoints": false,
         "line": {
          "width": 1.3
         },
         "marker": {
          "color": "rgba(255, 153, 51, 1.0)"
         },
         "name": "A",
         "orientation": "v",
         "type": "box",
         "y": [
          0.5016259041677826,
          0.39693214686922423,
          0.15105045423677646,
          0.23803313048951832,
          -0.9065096169526577,
          -0.5858144449744032,
          -1.1915955319013736,
          -0.48035108080156647,
          0.3062837808136795,
          -1.3107717470084945,
          -1.4233859542149554,
          -1.6842219620749486,
          -0.6596666126340662,
          1.1646748262573046,
          0.5794136835164456,
          -0.9205239744803996,
          -0.7475740043983561,
          0.6918046774990229,
          -0.6555066758516412,
          -1.3901183444688856,
          -1.5825350400322997,
          0.7205935933384565,
          0.8600132535274735,
          1.4029869785814273,
          0.3999588780574937,
          -0.28356727685485905,
          -0.8645411771163848,
          -1.6235254258188299,
          1.6360859851250331,
          0.2321715088292792,
          -1.5209747815314942,
          -1.5962544252034896,
          -0.22469373520940192,
          0.8753232347181236,
          0.5909199306008397,
          -1.9906485850036764,
          0.7535751361189627,
          -0.29522547033898755,
          0.5275685446294369,
          0.490854014469745,
          -0.712958673119837,
          1.199183739769989,
          -2.1716144020061234,
          0.12954879730176844,
          0.6577830296031418,
          -0.0944794689894394,
          -0.5824826846365383,
          0.9537935224525297,
          0.1491860042028232,
          2.1676855898919563,
          -0.6035610892309228,
          -0.22958926388827122,
          -0.49516589618777085,
          -0.018281618517689203,
          -0.36824896094724463,
          -0.7026609698955638,
          1.9970040310794626,
          -1.3398354306976554,
          2.2132601709596034,
          -0.8850429260119838,
          -0.9979121569709356,
          0.13341848060100922,
          -0.40690396935590933,
          0.2898004741616915,
          0.7263452114533693,
          0.14363457123025744,
          0.23020745995645697,
          0.8286908386058912,
          -0.8694143942178151,
          -1.6292956737587923,
          0.14828881101741534,
          1.5579611550705739,
          0.8703995897101646,
          1.167026637852573,
          -0.7681957193858597,
          -0.6830233728445323,
          -0.6706761738439486,
          0.9527201917461887,
          -0.5858980652427307,
          0.6449352460476692,
          -0.681163803699951,
          0.7760459110594783,
          1.4041260003145961,
          -0.6405096339488137,
          1.5846369943924745,
          -0.22837198279290108,
          -0.48738580327626524,
          0.6355688871774738,
          -0.20426978259615566,
          0.7349676391888955,
          -0.006914347400294714,
          1.007185939619343,
          -1.7670966160755497,
          -0.4037183481284638,
          -0.412260784658639,
          -0.635749062487043,
          0.4946209143651886,
          2.0158526613892143,
          0.5074910998586187,
          0.08947531478456232
         ]
        },
        {
         "boxpoints": false,
         "line": {
          "width": 1.3
         },
         "marker": {
          "color": "rgba(55, 128, 191, 1.0)"
         },
         "name": "B",
         "orientation": "v",
         "type": "box",
         "y": [
          -1.9614203298059667,
          0.09936386900591583,
          -0.12144634499406161,
          1.554896718036771,
          -1.28034147685133,
          1.4495445156838505,
          1.7043191329220253,
          -0.1826710330788866,
          -1.1631386699224067,
          0.46320754943208586,
          0.8858530141908567,
          -1.946179055103767,
          -2.826068861858329,
          1.2390237313446868,
          2.232962625610061,
          -0.6139100019761206,
          1.1633069274370054,
          1.2847212723722892,
          0.6878043933686491,
          0.7235693210003209,
          -0.2185254899678108,
          -0.9214353960475222,
          0.15372078451738289,
          0.04489774131848886,
          0.5591063348832644,
          -2.181074948739284,
          -0.44650935884237547,
          1.1285339969324604,
          -0.7997050437978639,
          0.3875274586091636,
          -1.4428124598172498,
          0.30718817340815485,
          -0.6772227705725071,
          -0.1354732158537621,
          -1.2041156443182979,
          -1.2991223536512906,
          -0.13337659677773347,
          1.6248163917469887,
          0.5014564732098982,
          -1.0421670872846438,
          1.1119405623616914,
          -0.3094230119341551,
          -2.2170148072154485,
          0.858164908480128,
          0.1937476866948945,
          1.3977161455052047,
          -0.6449582533006257,
          1.3374399804360335,
          0.2793771508696186,
          0.8595426716872022,
          -0.41316843657047914,
          2.0650357867171323,
          -0.18891294488257573,
          0.9120687728370215,
          0.47170982743301826,
          1.3995286681965595,
          2.9523359856753846,
          -0.2156573600877058,
          1.2300249799992218,
          0.44073317967212594,
          -0.022066795843629753,
          -0.5268852194942298,
          0.20730381958503605,
          0.733416713650668,
          0.8443419934049715,
          0.5020396864019491,
          -1.716772241166739,
          -1.307899712809543,
          -0.7197586602891242,
          -0.08191442847370518,
          0.1940732093735313,
          0.2997729938918538,
          0.5614337584535843,
          -2.2236930656077147,
          2.4054694857642724,
          -0.19495874877554625,
          -0.4798629195672261,
          0.9496321492408094,
          0.5747577660446029,
          0.08321313793747716,
          0.08592142084810923,
          0.3186989355807172,
          -0.33161156787469626,
          -1.228139146584102,
          1.0412808771345305,
          -0.35277139062308255,
          1.4039866662846174,
          0.49307280755934046,
          -0.21875339647065745,
          -0.8874140347814174,
          0.35738348561054833,
          -0.11798431425933198,
          -1.1602205281237221,
          0.2578188391703287,
          -0.25241907572889893,
          -1.1757576099571745,
          1.978974245352124,
          0.374565818914298,
          -1.3255402973767965,
          2.2331800939792528
         ]
        },
        {
         "boxpoints": false,
         "line": {
          "width": 1.3
         },
         "marker": {
          "color": "rgba(50, 171, 96, 1.0)"
         },
         "name": "C",
         "orientation": "v",
         "type": "box",
         "y": [
          1.2481290602280048,
          -0.11929477162168828,
          -1.7187511710261845,
          0.13680315223213727,
          2.0342541142853077,
          0.6835298303368345,
          0.12394821682587562,
          1.1885503792856789,
          -0.3359210902010392,
          1.3936172712845936,
          -0.5316323296368594,
          1.112219139843769,
          -0.11143535134224522,
          1.095345240609513,
          0.3182954696065753,
          0.5950475225372326,
          1.0871081596461263,
          0.03427604320438264,
          -0.44263364985909015,
          -0.6457871934725776,
          -0.007117401098441378,
          -0.6159860431251373,
          -0.38239874686866704,
          0.2603103911978657,
          -0.6466700449947504,
          -0.07521629719823796,
          -0.6179815283659752,
          -0.5032327308655978,
          1.3598113004197534,
          -1.1065540908830902,
          1.433410727867854,
          -2.1805009648683575,
          0.07462687142352951,
          -1.9293121316663921,
          0.547164477816809,
          -0.18200017743812594,
          0.5803578824372388,
          1.5538968526260841,
          0.3181395980528022,
          -1.0588347614634315,
          -0.4442677291140026,
          0.3348313618841571,
          0.5974929879578847,
          -1.2664649423745793,
          -0.5803930660640939,
          -1.6139935565939125,
          -0.4307100368543607,
          0.6686488329157392,
          0.9896890278000638,
          -0.08777219467088634,
          -0.6962739830480462,
          -0.20910251387356948,
          -1.4060136769261444,
          0.12748303530900174,
          -1.3499127452079034,
          1.7068479337246907,
          0.866811723413893,
          0.974027970818929,
          0.44823821867055397,
          -0.40579951050650553,
          -0.1146903893512255,
          0.4590159436394058,
          0.1274016913525382,
          0.4380191052248816,
          0.29028004629836945,
          0.5300911619470048,
          -0.3766837362641318,
          -1.9379566400720856,
          0.9498026849284043,
          -0.025871942730667404,
          0.22145393935861032,
          -0.5290526635777423,
          -1.1896088711264121,
          0.40543708673310647,
          0.8369960071633412,
          0.04287268060350472,
          0.34911019915060465,
          -0.6488609785968117,
          0.07548552652848982,
          0.36926711947671886,
          -2.000660583745119,
          -0.669195556548231,
          0.6316558245282642,
          -0.07495216736797225,
          -0.5591084727814172,
          0.7323983844085346,
          -1.1026713013737295,
          -1.8466623713491148,
          -0.2963038307421379,
          1.3186181639595072,
          1.0237652677444617,
          -0.8453493645017428,
          -0.8727883780524848,
          -0.6827869057954249,
          2.237932533486498,
          -0.9988695035215177,
          0.6128986180938732,
          1.3631696325530038,
          -0.17751426357441896,
          -0.10334749975382293
         ]
        },
        {
         "boxpoints": false,
         "line": {
          "width": 1.3
         },
         "marker": {
          "color": "rgba(128, 0, 128, 1.0)"
         },
         "name": "D",
         "orientation": "v",
         "type": "box",
         "y": [
          -0.38038452061611805,
          -0.5506827942179204,
          -0.8486870998656855,
          1.414967729808227,
          -1.0477678648426494,
          -1.9640495250297236,
          0.18769300878539133,
          0.42748668299848763,
          -0.14076395607271944,
          -0.25518617125015197,
          1.5298604167425294,
          0.16782456484427766,
          -0.8625470787519635,
          -0.3401968140754208,
          -0.552225588553631,
          0.24419364952140488,
          0.42949389314581865,
          -0.46910796858558124,
          0.9577621493762632,
          0.3625964363144777,
          -0.06492939512567686,
          0.5352444706305645,
          -0.5107367639438877,
          1.02870804413704,
          1.2070746167965483,
          -0.17463474348812388,
          -0.1684181586791721,
          -1.5846215751280326,
          -0.7027362522387298,
          -1.5248951521984482,
          0.30122806724387796,
          -0.3288071867367561,
          0.2459816045668211,
          0.2527445372714324,
          -0.6494724452668903,
          -0.6112211685880015,
          -0.7996648647148987,
          -0.3461906526088926,
          1.6035873874528779,
          0.2155637451685372,
          0.0009101419438257457,
          -1.2033096641897751,
          -1.690067833970175,
          1.3044403286383324,
          -0.1698452915634887,
          0.26063014373480525,
          0.41121672303455964,
          -0.12118866426554618,
          -1.5315810381028157,
          -0.3491070267291162,
          0.7392929737509153,
          -1.4449307368222166,
          -0.2005745490635271,
          -0.63060619470764,
          -1.42764874215277,
          -0.11017452337573996,
          -0.491144682883569,
          2.496224409446854,
          0.11533880646002999,
          1.5065605286241495,
          1.1073039419149038,
          0.6800632915535396,
          -0.15372971888054193,
          -0.10963986128568264,
          -0.5899495606091966,
          -1.5534302933080275,
          0.598218540590992,
          0.7143172145662522,
          -0.648216173341247,
          -0.1825148127024039,
          0.40010536398322355,
          1.0966913112497987,
          0.5310530437738917,
          0.29394220052286385,
          1.2792714148415116,
          -0.16201579382107953,
          1.8390836521439362,
          -0.16281222705571385,
          0.5388109257766299,
          1.7420315742598118,
          -0.3134948021944738,
          -0.9707196738386299,
          -0.04096253708433591,
          -0.509974005697877,
          -1.0031598449112542,
          -1.1625971458266298,
          0.05161225328573585,
          -1.9777282921899026,
          -0.987865581607528,
          -0.38066253999868416,
          0.9866618178028409,
          -1.5748008452477729,
          0.7540422366292371,
          -1.1079266628977027,
          0.2822348503877316,
          -0.31999434564295237,
          1.1052761968600926,
          -1.6001253252177976,
          1.0391630083294403,
          -0.13978143001806478
         ]
        }
       ],
       "layout": {
        "legend": {
         "bgcolor": "#F5F6F9",
         "font": {
          "color": "#4D5663"
         }
        },
        "paper_bgcolor": "#F5F6F9",
        "plot_bgcolor": "#F5F6F9",
        "template": {
         "data": {
          "bar": [
           {
            "error_x": {
             "color": "#2a3f5f"
            },
            "error_y": {
             "color": "#2a3f5f"
            },
            "marker": {
             "line": {
              "color": "#E5ECF6",
              "width": 0.5
             }
            },
            "type": "bar"
           }
          ],
          "barpolar": [
           {
            "marker": {
             "line": {
              "color": "#E5ECF6",
              "width": 0.5
             }
            },
            "type": "barpolar"
           }
          ],
          "carpet": [
           {
            "aaxis": {
             "endlinecolor": "#2a3f5f",
             "gridcolor": "white",
             "linecolor": "white",
             "minorgridcolor": "white",
             "startlinecolor": "#2a3f5f"
            },
            "baxis": {
             "endlinecolor": "#2a3f5f",
             "gridcolor": "white",
             "linecolor": "white",
             "minorgridcolor": "white",
             "startlinecolor": "#2a3f5f"
            },
            "type": "carpet"
           }
          ],
          "choropleth": [
           {
            "colorbar": {
             "outlinewidth": 0,
             "ticks": ""
            },
            "type": "choropleth"
           }
          ],
          "contour": [
           {
            "colorbar": {
             "outlinewidth": 0,
             "ticks": ""
            },
            "colorscale": [
             [
              0,
              "#0d0887"
             ],
             [
              0.1111111111111111,
              "#46039f"
             ],
             [
              0.2222222222222222,
              "#7201a8"
             ],
             [
              0.3333333333333333,
              "#9c179e"
             ],
             [
              0.4444444444444444,
              "#bd3786"
             ],
             [
              0.5555555555555556,
              "#d8576b"
             ],
             [
              0.6666666666666666,
              "#ed7953"
             ],
             [
              0.7777777777777778,
              "#fb9f3a"
             ],
             [
              0.8888888888888888,
              "#fdca26"
             ],
             [
              1,
              "#f0f921"
             ]
            ],
            "type": "contour"
           }
          ],
          "contourcarpet": [
           {
            "colorbar": {
             "outlinewidth": 0,
             "ticks": ""
            },
            "type": "contourcarpet"
           }
          ],
          "heatmap": [
           {
            "colorbar": {
             "outlinewidth": 0,
             "ticks": ""
            },
            "colorscale": [
             [
              0,
              "#0d0887"
             ],
             [
              0.1111111111111111,
              "#46039f"
             ],
             [
              0.2222222222222222,
              "#7201a8"
             ],
             [
              0.3333333333333333,
              "#9c179e"
             ],
             [
              0.4444444444444444,
              "#bd3786"
             ],
             [
              0.5555555555555556,
              "#d8576b"
             ],
             [
              0.6666666666666666,
              "#ed7953"
             ],
             [
              0.7777777777777778,
              "#fb9f3a"
             ],
             [
              0.8888888888888888,
              "#fdca26"
             ],
             [
              1,
              "#f0f921"
             ]
            ],
            "type": "heatmap"
           }
          ],
          "heatmapgl": [
           {
            "colorbar": {
             "outlinewidth": 0,
             "ticks": ""
            },
            "colorscale": [
             [
              0,
              "#0d0887"
             ],
             [
              0.1111111111111111,
              "#46039f"
             ],
             [
              0.2222222222222222,
              "#7201a8"
             ],
             [
              0.3333333333333333,
              "#9c179e"
             ],
             [
              0.4444444444444444,
              "#bd3786"
             ],
             [
              0.5555555555555556,
              "#d8576b"
             ],
             [
              0.6666666666666666,
              "#ed7953"
             ],
             [
              0.7777777777777778,
              "#fb9f3a"
             ],
             [
              0.8888888888888888,
              "#fdca26"
             ],
             [
              1,
              "#f0f921"
             ]
            ],
            "type": "heatmapgl"
           }
          ],
          "histogram": [
           {
            "marker": {
             "colorbar": {
              "outlinewidth": 0,
              "ticks": ""
             }
            },
            "type": "histogram"
           }
          ],
          "histogram2d": [
           {
            "colorbar": {
             "outlinewidth": 0,
             "ticks": ""
            },
            "colorscale": [
             [
              0,
              "#0d0887"
             ],
             [
              0.1111111111111111,
              "#46039f"
             ],
             [
              0.2222222222222222,
              "#7201a8"
             ],
             [
              0.3333333333333333,
              "#9c179e"
             ],
             [
              0.4444444444444444,
              "#bd3786"
             ],
             [
              0.5555555555555556,
              "#d8576b"
             ],
             [
              0.6666666666666666,
              "#ed7953"
             ],
             [
              0.7777777777777778,
              "#fb9f3a"
             ],
             [
              0.8888888888888888,
              "#fdca26"
             ],
             [
              1,
              "#f0f921"
             ]
            ],
            "type": "histogram2d"
           }
          ],
          "histogram2dcontour": [
           {
            "colorbar": {
             "outlinewidth": 0,
             "ticks": ""
            },
            "colorscale": [
             [
              0,
              "#0d0887"
             ],
             [
              0.1111111111111111,
              "#46039f"
             ],
             [
              0.2222222222222222,
              "#7201a8"
             ],
             [
              0.3333333333333333,
              "#9c179e"
             ],
             [
              0.4444444444444444,
              "#bd3786"
             ],
             [
              0.5555555555555556,
              "#d8576b"
             ],
             [
              0.6666666666666666,
              "#ed7953"
             ],
             [
              0.7777777777777778,
              "#fb9f3a"
             ],
             [
              0.8888888888888888,
              "#fdca26"
             ],
             [
              1,
              "#f0f921"
             ]
            ],
            "type": "histogram2dcontour"
           }
          ],
          "mesh3d": [
           {
            "colorbar": {
             "outlinewidth": 0,
             "ticks": ""
            },
            "type": "mesh3d"
           }
          ],
          "parcoords": [
           {
            "line": {
             "colorbar": {
              "outlinewidth": 0,
              "ticks": ""
             }
            },
            "type": "parcoords"
           }
          ],
          "pie": [
           {
            "automargin": true,
            "type": "pie"
           }
          ],
          "scatter": [
           {
            "marker": {
             "colorbar": {
              "outlinewidth": 0,
              "ticks": ""
             }
            },
            "type": "scatter"
           }
          ],
          "scatter3d": [
           {
            "line": {
             "colorbar": {
              "outlinewidth": 0,
              "ticks": ""
             }
            },
            "marker": {
             "colorbar": {
              "outlinewidth": 0,
              "ticks": ""
             }
            },
            "type": "scatter3d"
           }
          ],
          "scattercarpet": [
           {
            "marker": {
             "colorbar": {
              "outlinewidth": 0,
              "ticks": ""
             }
            },
            "type": "scattercarpet"
           }
          ],
          "scattergeo": [
           {
            "marker": {
             "colorbar": {
              "outlinewidth": 0,
              "ticks": ""
             }
            },
            "type": "scattergeo"
           }
          ],
          "scattergl": [
           {
            "marker": {
             "colorbar": {
              "outlinewidth": 0,
              "ticks": ""
             }
            },
            "type": "scattergl"
           }
          ],
          "scattermapbox": [
           {
            "marker": {
             "colorbar": {
              "outlinewidth": 0,
              "ticks": ""
             }
            },
            "type": "scattermapbox"
           }
          ],
          "scatterpolar": [
           {
            "marker": {
             "colorbar": {
              "outlinewidth": 0,
              "ticks": ""
             }
            },
            "type": "scatterpolar"
           }
          ],
          "scatterpolargl": [
           {
            "marker": {
             "colorbar": {
              "outlinewidth": 0,
              "ticks": ""
             }
            },
            "type": "scatterpolargl"
           }
          ],
          "scatterternary": [
           {
            "marker": {
             "colorbar": {
              "outlinewidth": 0,
              "ticks": ""
             }
            },
            "type": "scatterternary"
           }
          ],
          "surface": [
           {
            "colorbar": {
             "outlinewidth": 0,
             "ticks": ""
            },
            "colorscale": [
             [
              0,
              "#0d0887"
             ],
             [
              0.1111111111111111,
              "#46039f"
             ],
             [
              0.2222222222222222,
              "#7201a8"
             ],
             [
              0.3333333333333333,
              "#9c179e"
             ],
             [
              0.4444444444444444,
              "#bd3786"
             ],
             [
              0.5555555555555556,
              "#d8576b"
             ],
             [
              0.6666666666666666,
              "#ed7953"
             ],
             [
              0.7777777777777778,
              "#fb9f3a"
             ],
             [
              0.8888888888888888,
              "#fdca26"
             ],
             [
              1,
              "#f0f921"
             ]
            ],
            "type": "surface"
           }
          ],
          "table": [
           {
            "cells": {
             "fill": {
              "color": "#EBF0F8"
             },
             "line": {
              "color": "white"
             }
            },
            "header": {
             "fill": {
              "color": "#C8D4E3"
             },
             "line": {
              "color": "white"
             }
            },
            "type": "table"
           }
          ]
         },
         "layout": {
          "annotationdefaults": {
           "arrowcolor": "#2a3f5f",
           "arrowhead": 0,
           "arrowwidth": 1
          },
          "coloraxis": {
           "colorbar": {
            "outlinewidth": 0,
            "ticks": ""
           }
          },
          "colorscale": {
           "diverging": [
            [
             0,
             "#8e0152"
            ],
            [
             0.1,
             "#c51b7d"
            ],
            [
             0.2,
             "#de77ae"
            ],
            [
             0.3,
             "#f1b6da"
            ],
            [
             0.4,
             "#fde0ef"
            ],
            [
             0.5,
             "#f7f7f7"
            ],
            [
             0.6,
             "#e6f5d0"
            ],
            [
             0.7,
             "#b8e186"
            ],
            [
             0.8,
             "#7fbc41"
            ],
            [
             0.9,
             "#4d9221"
            ],
            [
             1,
             "#276419"
            ]
           ],
           "sequential": [
            [
             0,
             "#0d0887"
            ],
            [
             0.1111111111111111,
             "#46039f"
            ],
            [
             0.2222222222222222,
             "#7201a8"
            ],
            [
             0.3333333333333333,
             "#9c179e"
            ],
            [
             0.4444444444444444,
             "#bd3786"
            ],
            [
             0.5555555555555556,
             "#d8576b"
            ],
            [
             0.6666666666666666,
             "#ed7953"
            ],
            [
             0.7777777777777778,
             "#fb9f3a"
            ],
            [
             0.8888888888888888,
             "#fdca26"
            ],
            [
             1,
             "#f0f921"
            ]
           ],
           "sequentialminus": [
            [
             0,
             "#0d0887"
            ],
            [
             0.1111111111111111,
             "#46039f"
            ],
            [
             0.2222222222222222,
             "#7201a8"
            ],
            [
             0.3333333333333333,
             "#9c179e"
            ],
            [
             0.4444444444444444,
             "#bd3786"
            ],
            [
             0.5555555555555556,
             "#d8576b"
            ],
            [
             0.6666666666666666,
             "#ed7953"
            ],
            [
             0.7777777777777778,
             "#fb9f3a"
            ],
            [
             0.8888888888888888,
             "#fdca26"
            ],
            [
             1,
             "#f0f921"
            ]
           ]
          },
          "colorway": [
           "#636efa",
           "#EF553B",
           "#00cc96",
           "#ab63fa",
           "#FFA15A",
           "#19d3f3",
           "#FF6692",
           "#B6E880",
           "#FF97FF",
           "#FECB52"
          ],
          "font": {
           "color": "#2a3f5f"
          },
          "geo": {
           "bgcolor": "white",
           "lakecolor": "white",
           "landcolor": "#E5ECF6",
           "showlakes": true,
           "showland": true,
           "subunitcolor": "white"
          },
          "hoverlabel": {
           "align": "left"
          },
          "hovermode": "closest",
          "mapbox": {
           "style": "light"
          },
          "paper_bgcolor": "white",
          "plot_bgcolor": "#E5ECF6",
          "polar": {
           "angularaxis": {
            "gridcolor": "white",
            "linecolor": "white",
            "ticks": ""
           },
           "bgcolor": "#E5ECF6",
           "radialaxis": {
            "gridcolor": "white",
            "linecolor": "white",
            "ticks": ""
           }
          },
          "scene": {
           "xaxis": {
            "backgroundcolor": "#E5ECF6",
            "gridcolor": "white",
            "gridwidth": 2,
            "linecolor": "white",
            "showbackground": true,
            "ticks": "",
            "zerolinecolor": "white"
           },
           "yaxis": {
            "backgroundcolor": "#E5ECF6",
            "gridcolor": "white",
            "gridwidth": 2,
            "linecolor": "white",
            "showbackground": true,
            "ticks": "",
            "zerolinecolor": "white"
           },
           "zaxis": {
            "backgroundcolor": "#E5ECF6",
            "gridcolor": "white",
            "gridwidth": 2,
            "linecolor": "white",
            "showbackground": true,
            "ticks": "",
            "zerolinecolor": "white"
           }
          },
          "shapedefaults": {
           "line": {
            "color": "#2a3f5f"
           }
          },
          "ternary": {
           "aaxis": {
            "gridcolor": "white",
            "linecolor": "white",
            "ticks": ""
           },
           "baxis": {
            "gridcolor": "white",
            "linecolor": "white",
            "ticks": ""
           },
           "bgcolor": "#E5ECF6",
           "caxis": {
            "gridcolor": "white",
            "linecolor": "white",
            "ticks": ""
           }
          },
          "title": {
           "x": 0.05
          },
          "xaxis": {
           "automargin": true,
           "gridcolor": "white",
           "linecolor": "white",
           "ticks": "",
           "title": {
            "standoff": 15
           },
           "zerolinecolor": "white",
           "zerolinewidth": 2
          },
          "yaxis": {
           "automargin": true,
           "gridcolor": "white",
           "linecolor": "white",
           "ticks": "",
           "title": {
            "standoff": 15
           },
           "zerolinecolor": "white",
           "zerolinewidth": 2
          }
         }
        },
        "title": {
         "font": {
          "color": "#4D5663"
         }
        },
        "xaxis": {
         "gridcolor": "#E1E5ED",
         "showgrid": true,
         "tickfont": {
          "color": "#4D5663"
         },
         "title": {
          "font": {
           "color": "#4D5663"
          },
          "text": ""
         },
         "zerolinecolor": "#E1E5ED"
        },
        "yaxis": {
         "gridcolor": "#E1E5ED",
         "showgrid": true,
         "tickfont": {
          "color": "#4D5663"
         },
         "title": {
          "font": {
           "color": "#4D5663"
          },
          "text": ""
         },
         "zerolinecolor": "#E1E5ED"
        }
       }
      },
      "text/html": [
       "<div>\n",
       "        \n",
       "        \n",
       "            <div id=\"2dea85d6-933e-4b5a-96b3-0ddb6a0c8aba\" class=\"plotly-graph-div\" style=\"height:525px; width:100%;\"></div>\n",
       "            <script type=\"text/javascript\">\n",
       "                require([\"plotly\"], function(Plotly) {\n",
       "                    window.PLOTLYENV=window.PLOTLYENV || {};\n",
       "                    window.PLOTLYENV.BASE_URL='https://plot.ly';\n",
       "                    \n",
       "                if (document.getElementById(\"2dea85d6-933e-4b5a-96b3-0ddb6a0c8aba\")) {\n",
       "                    Plotly.newPlot(\n",
       "                        '2dea85d6-933e-4b5a-96b3-0ddb6a0c8aba',\n",
       "                        [{\"boxpoints\": false, \"line\": {\"width\": 1.3}, \"marker\": {\"color\": \"rgba(255, 153, 51, 1.0)\"}, \"name\": \"A\", \"orientation\": \"v\", \"type\": \"box\", \"y\": [0.5016259041677826, 0.39693214686922423, 0.15105045423677646, 0.23803313048951832, -0.9065096169526577, -0.5858144449744032, -1.1915955319013736, -0.48035108080156647, 0.3062837808136795, -1.3107717470084945, -1.4233859542149554, -1.6842219620749486, -0.6596666126340662, 1.1646748262573046, 0.5794136835164456, -0.9205239744803996, -0.7475740043983561, 0.6918046774990229, -0.6555066758516412, -1.3901183444688856, -1.5825350400322997, 0.7205935933384565, 0.8600132535274735, 1.4029869785814273, 0.3999588780574937, -0.28356727685485905, -0.8645411771163848, -1.6235254258188299, 1.6360859851250331, 0.2321715088292792, -1.5209747815314942, -1.5962544252034896, -0.22469373520940192, 0.8753232347181236, 0.5909199306008397, -1.9906485850036764, 0.7535751361189627, -0.29522547033898755, 0.5275685446294369, 0.490854014469745, -0.712958673119837, 1.199183739769989, -2.1716144020061234, 0.12954879730176844, 0.6577830296031418, -0.0944794689894394, -0.5824826846365383, 0.9537935224525297, 0.1491860042028232, 2.1676855898919563, -0.6035610892309228, -0.22958926388827122, -0.49516589618777085, -0.018281618517689203, -0.36824896094724463, -0.7026609698955638, 1.9970040310794626, -1.3398354306976554, 2.2132601709596034, -0.8850429260119838, -0.9979121569709356, 0.13341848060100922, -0.40690396935590933, 0.2898004741616915, 0.7263452114533693, 0.14363457123025744, 0.23020745995645697, 0.8286908386058912, -0.8694143942178151, -1.6292956737587923, 0.14828881101741534, 1.5579611550705739, 0.8703995897101646, 1.167026637852573, -0.7681957193858597, -0.6830233728445323, -0.6706761738439486, 0.9527201917461887, -0.5858980652427307, 0.6449352460476692, -0.681163803699951, 0.7760459110594783, 1.4041260003145961, -0.6405096339488137, 1.5846369943924745, -0.22837198279290108, -0.48738580327626524, 0.6355688871774738, -0.20426978259615566, 0.7349676391888955, -0.006914347400294714, 1.007185939619343, -1.7670966160755497, -0.4037183481284638, -0.412260784658639, -0.635749062487043, 0.4946209143651886, 2.0158526613892143, 0.5074910998586187, 0.08947531478456232]}, {\"boxpoints\": false, \"line\": {\"width\": 1.3}, \"marker\": {\"color\": \"rgba(55, 128, 191, 1.0)\"}, \"name\": \"B\", \"orientation\": \"v\", \"type\": \"box\", \"y\": [-1.9614203298059667, 0.09936386900591583, -0.12144634499406161, 1.554896718036771, -1.28034147685133, 1.4495445156838505, 1.7043191329220253, -0.1826710330788866, -1.1631386699224067, 0.46320754943208586, 0.8858530141908567, -1.946179055103767, -2.826068861858329, 1.2390237313446868, 2.232962625610061, -0.6139100019761206, 1.1633069274370054, 1.2847212723722892, 0.6878043933686491, 0.7235693210003209, -0.2185254899678108, -0.9214353960475222, 0.15372078451738289, 0.04489774131848886, 0.5591063348832644, -2.181074948739284, -0.44650935884237547, 1.1285339969324604, -0.7997050437978639, 0.3875274586091636, -1.4428124598172498, 0.30718817340815485, -0.6772227705725071, -0.1354732158537621, -1.2041156443182979, -1.2991223536512906, -0.13337659677773347, 1.6248163917469887, 0.5014564732098982, -1.0421670872846438, 1.1119405623616914, -0.3094230119341551, -2.2170148072154485, 0.858164908480128, 0.1937476866948945, 1.3977161455052047, -0.6449582533006257, 1.3374399804360335, 0.2793771508696186, 0.8595426716872022, -0.41316843657047914, 2.0650357867171323, -0.18891294488257573, 0.9120687728370215, 0.47170982743301826, 1.3995286681965595, 2.9523359856753846, -0.2156573600877058, 1.2300249799992218, 0.44073317967212594, -0.022066795843629753, -0.5268852194942298, 0.20730381958503605, 0.733416713650668, 0.8443419934049715, 0.5020396864019491, -1.716772241166739, -1.307899712809543, -0.7197586602891242, -0.08191442847370518, 0.1940732093735313, 0.2997729938918538, 0.5614337584535843, -2.2236930656077147, 2.4054694857642724, -0.19495874877554625, -0.4798629195672261, 0.9496321492408094, 0.5747577660446029, 0.08321313793747716, 0.08592142084810923, 0.3186989355807172, -0.33161156787469626, -1.228139146584102, 1.0412808771345305, -0.35277139062308255, 1.4039866662846174, 0.49307280755934046, -0.21875339647065745, -0.8874140347814174, 0.35738348561054833, -0.11798431425933198, -1.1602205281237221, 0.2578188391703287, -0.25241907572889893, -1.1757576099571745, 1.978974245352124, 0.374565818914298, -1.3255402973767965, 2.2331800939792528]}, {\"boxpoints\": false, \"line\": {\"width\": 1.3}, \"marker\": {\"color\": \"rgba(50, 171, 96, 1.0)\"}, \"name\": \"C\", \"orientation\": \"v\", \"type\": \"box\", \"y\": [1.2481290602280048, -0.11929477162168828, -1.7187511710261845, 0.13680315223213727, 2.0342541142853077, 0.6835298303368345, 0.12394821682587562, 1.1885503792856789, -0.3359210902010392, 1.3936172712845936, -0.5316323296368594, 1.112219139843769, -0.11143535134224522, 1.095345240609513, 0.3182954696065753, 0.5950475225372326, 1.0871081596461263, 0.03427604320438264, -0.44263364985909015, -0.6457871934725776, -0.007117401098441378, -0.6159860431251373, -0.38239874686866704, 0.2603103911978657, -0.6466700449947504, -0.07521629719823796, -0.6179815283659752, -0.5032327308655978, 1.3598113004197534, -1.1065540908830902, 1.433410727867854, -2.1805009648683575, 0.07462687142352951, -1.9293121316663921, 0.547164477816809, -0.18200017743812594, 0.5803578824372388, 1.5538968526260841, 0.3181395980528022, -1.0588347614634315, -0.4442677291140026, 0.3348313618841571, 0.5974929879578847, -1.2664649423745793, -0.5803930660640939, -1.6139935565939125, -0.4307100368543607, 0.6686488329157392, 0.9896890278000638, -0.08777219467088634, -0.6962739830480462, -0.20910251387356948, -1.4060136769261444, 0.12748303530900174, -1.3499127452079034, 1.7068479337246907, 0.866811723413893, 0.974027970818929, 0.44823821867055397, -0.40579951050650553, -0.1146903893512255, 0.4590159436394058, 0.1274016913525382, 0.4380191052248816, 0.29028004629836945, 0.5300911619470048, -0.3766837362641318, -1.9379566400720856, 0.9498026849284043, -0.025871942730667404, 0.22145393935861032, -0.5290526635777423, -1.1896088711264121, 0.40543708673310647, 0.8369960071633412, 0.04287268060350472, 0.34911019915060465, -0.6488609785968117, 0.07548552652848982, 0.36926711947671886, -2.000660583745119, -0.669195556548231, 0.6316558245282642, -0.07495216736797225, -0.5591084727814172, 0.7323983844085346, -1.1026713013737295, -1.8466623713491148, -0.2963038307421379, 1.3186181639595072, 1.0237652677444617, -0.8453493645017428, -0.8727883780524848, -0.6827869057954249, 2.237932533486498, -0.9988695035215177, 0.6128986180938732, 1.3631696325530038, -0.17751426357441896, -0.10334749975382293]}, {\"boxpoints\": false, \"line\": {\"width\": 1.3}, \"marker\": {\"color\": \"rgba(128, 0, 128, 1.0)\"}, \"name\": \"D\", \"orientation\": \"v\", \"type\": \"box\", \"y\": [-0.38038452061611805, -0.5506827942179204, -0.8486870998656855, 1.414967729808227, -1.0477678648426494, -1.9640495250297236, 0.18769300878539133, 0.42748668299848763, -0.14076395607271944, -0.25518617125015197, 1.5298604167425294, 0.16782456484427766, -0.8625470787519635, -0.3401968140754208, -0.552225588553631, 0.24419364952140488, 0.42949389314581865, -0.46910796858558124, 0.9577621493762632, 0.3625964363144777, -0.06492939512567686, 0.5352444706305645, -0.5107367639438877, 1.02870804413704, 1.2070746167965483, -0.17463474348812388, -0.1684181586791721, -1.5846215751280326, -0.7027362522387298, -1.5248951521984482, 0.30122806724387796, -0.3288071867367561, 0.2459816045668211, 0.2527445372714324, -0.6494724452668903, -0.6112211685880015, -0.7996648647148987, -0.3461906526088926, 1.6035873874528779, 0.2155637451685372, 0.0009101419438257457, -1.2033096641897751, -1.690067833970175, 1.3044403286383324, -0.1698452915634887, 0.26063014373480525, 0.41121672303455964, -0.12118866426554618, -1.5315810381028157, -0.3491070267291162, 0.7392929737509153, -1.4449307368222166, -0.2005745490635271, -0.63060619470764, -1.42764874215277, -0.11017452337573996, -0.491144682883569, 2.496224409446854, 0.11533880646002999, 1.5065605286241495, 1.1073039419149038, 0.6800632915535396, -0.15372971888054193, -0.10963986128568264, -0.5899495606091966, -1.5534302933080275, 0.598218540590992, 0.7143172145662522, -0.648216173341247, -0.1825148127024039, 0.40010536398322355, 1.0966913112497987, 0.5310530437738917, 0.29394220052286385, 1.2792714148415116, -0.16201579382107953, 1.8390836521439362, -0.16281222705571385, 0.5388109257766299, 1.7420315742598118, -0.3134948021944738, -0.9707196738386299, -0.04096253708433591, -0.509974005697877, -1.0031598449112542, -1.1625971458266298, 0.05161225328573585, -1.9777282921899026, -0.987865581607528, -0.38066253999868416, 0.9866618178028409, -1.5748008452477729, 0.7540422366292371, -1.1079266628977027, 0.2822348503877316, -0.31999434564295237, 1.1052761968600926, -1.6001253252177976, 1.0391630083294403, -0.13978143001806478]}],\n",
       "                        {\"legend\": {\"bgcolor\": \"#F5F6F9\", \"font\": {\"color\": \"#4D5663\"}}, \"paper_bgcolor\": \"#F5F6F9\", \"plot_bgcolor\": \"#F5F6F9\", \"template\": {\"data\": {\"bar\": [{\"error_x\": {\"color\": \"#2a3f5f\"}, \"error_y\": {\"color\": \"#2a3f5f\"}, \"marker\": {\"line\": {\"color\": \"#E5ECF6\", \"width\": 0.5}}, \"type\": \"bar\"}], \"barpolar\": [{\"marker\": {\"line\": {\"color\": \"#E5ECF6\", \"width\": 0.5}}, \"type\": \"barpolar\"}], \"carpet\": [{\"aaxis\": {\"endlinecolor\": \"#2a3f5f\", \"gridcolor\": \"white\", \"linecolor\": \"white\", \"minorgridcolor\": \"white\", \"startlinecolor\": \"#2a3f5f\"}, \"baxis\": {\"endlinecolor\": \"#2a3f5f\", \"gridcolor\": \"white\", \"linecolor\": \"white\", \"minorgridcolor\": \"white\", \"startlinecolor\": \"#2a3f5f\"}, \"type\": \"carpet\"}], \"choropleth\": [{\"colorbar\": {\"outlinewidth\": 0, \"ticks\": \"\"}, \"type\": \"choropleth\"}], \"contour\": [{\"colorbar\": {\"outlinewidth\": 0, \"ticks\": \"\"}, \"colorscale\": [[0.0, \"#0d0887\"], [0.1111111111111111, \"#46039f\"], [0.2222222222222222, \"#7201a8\"], [0.3333333333333333, \"#9c179e\"], [0.4444444444444444, \"#bd3786\"], [0.5555555555555556, \"#d8576b\"], [0.6666666666666666, \"#ed7953\"], [0.7777777777777778, \"#fb9f3a\"], [0.8888888888888888, \"#fdca26\"], [1.0, \"#f0f921\"]], \"type\": \"contour\"}], \"contourcarpet\": [{\"colorbar\": {\"outlinewidth\": 0, \"ticks\": \"\"}, \"type\": \"contourcarpet\"}], \"heatmap\": [{\"colorbar\": {\"outlinewidth\": 0, \"ticks\": \"\"}, \"colorscale\": [[0.0, \"#0d0887\"], [0.1111111111111111, \"#46039f\"], [0.2222222222222222, \"#7201a8\"], [0.3333333333333333, \"#9c179e\"], [0.4444444444444444, \"#bd3786\"], [0.5555555555555556, \"#d8576b\"], [0.6666666666666666, \"#ed7953\"], [0.7777777777777778, \"#fb9f3a\"], [0.8888888888888888, \"#fdca26\"], [1.0, \"#f0f921\"]], \"type\": \"heatmap\"}], \"heatmapgl\": [{\"colorbar\": {\"outlinewidth\": 0, \"ticks\": \"\"}, \"colorscale\": [[0.0, \"#0d0887\"], [0.1111111111111111, \"#46039f\"], [0.2222222222222222, \"#7201a8\"], [0.3333333333333333, \"#9c179e\"], [0.4444444444444444, \"#bd3786\"], [0.5555555555555556, \"#d8576b\"], [0.6666666666666666, \"#ed7953\"], [0.7777777777777778, \"#fb9f3a\"], [0.8888888888888888, \"#fdca26\"], [1.0, \"#f0f921\"]], \"type\": \"heatmapgl\"}], \"histogram\": [{\"marker\": {\"colorbar\": {\"outlinewidth\": 0, \"ticks\": \"\"}}, \"type\": \"histogram\"}], \"histogram2d\": [{\"colorbar\": {\"outlinewidth\": 0, \"ticks\": \"\"}, \"colorscale\": [[0.0, \"#0d0887\"], [0.1111111111111111, \"#46039f\"], [0.2222222222222222, \"#7201a8\"], [0.3333333333333333, \"#9c179e\"], [0.4444444444444444, \"#bd3786\"], [0.5555555555555556, \"#d8576b\"], [0.6666666666666666, \"#ed7953\"], [0.7777777777777778, \"#fb9f3a\"], [0.8888888888888888, \"#fdca26\"], [1.0, \"#f0f921\"]], \"type\": \"histogram2d\"}], \"histogram2dcontour\": [{\"colorbar\": {\"outlinewidth\": 0, \"ticks\": \"\"}, \"colorscale\": [[0.0, \"#0d0887\"], [0.1111111111111111, \"#46039f\"], [0.2222222222222222, \"#7201a8\"], [0.3333333333333333, \"#9c179e\"], [0.4444444444444444, \"#bd3786\"], [0.5555555555555556, \"#d8576b\"], [0.6666666666666666, \"#ed7953\"], [0.7777777777777778, \"#fb9f3a\"], [0.8888888888888888, \"#fdca26\"], [1.0, \"#f0f921\"]], \"type\": \"histogram2dcontour\"}], \"mesh3d\": [{\"colorbar\": {\"outlinewidth\": 0, \"ticks\": \"\"}, \"type\": \"mesh3d\"}], \"parcoords\": [{\"line\": {\"colorbar\": {\"outlinewidth\": 0, \"ticks\": \"\"}}, \"type\": \"parcoords\"}], \"pie\": [{\"automargin\": true, \"type\": \"pie\"}], \"scatter\": [{\"marker\": {\"colorbar\": {\"outlinewidth\": 0, \"ticks\": \"\"}}, \"type\": \"scatter\"}], \"scatter3d\": [{\"line\": {\"colorbar\": {\"outlinewidth\": 0, \"ticks\": \"\"}}, \"marker\": {\"colorbar\": {\"outlinewidth\": 0, \"ticks\": \"\"}}, \"type\": \"scatter3d\"}], \"scattercarpet\": [{\"marker\": {\"colorbar\": {\"outlinewidth\": 0, \"ticks\": \"\"}}, \"type\": \"scattercarpet\"}], \"scattergeo\": [{\"marker\": {\"colorbar\": {\"outlinewidth\": 0, \"ticks\": \"\"}}, \"type\": \"scattergeo\"}], \"scattergl\": [{\"marker\": {\"colorbar\": {\"outlinewidth\": 0, \"ticks\": \"\"}}, \"type\": \"scattergl\"}], \"scattermapbox\": [{\"marker\": {\"colorbar\": {\"outlinewidth\": 0, \"ticks\": \"\"}}, \"type\": \"scattermapbox\"}], \"scatterpolar\": [{\"marker\": {\"colorbar\": {\"outlinewidth\": 0, \"ticks\": \"\"}}, \"type\": \"scatterpolar\"}], \"scatterpolargl\": [{\"marker\": {\"colorbar\": {\"outlinewidth\": 0, \"ticks\": \"\"}}, \"type\": \"scatterpolargl\"}], \"scatterternary\": [{\"marker\": {\"colorbar\": {\"outlinewidth\": 0, \"ticks\": \"\"}}, \"type\": \"scatterternary\"}], \"surface\": [{\"colorbar\": {\"outlinewidth\": 0, \"ticks\": \"\"}, \"colorscale\": [[0.0, \"#0d0887\"], [0.1111111111111111, \"#46039f\"], [0.2222222222222222, \"#7201a8\"], [0.3333333333333333, \"#9c179e\"], [0.4444444444444444, \"#bd3786\"], [0.5555555555555556, \"#d8576b\"], [0.6666666666666666, \"#ed7953\"], [0.7777777777777778, \"#fb9f3a\"], [0.8888888888888888, \"#fdca26\"], [1.0, \"#f0f921\"]], \"type\": \"surface\"}], \"table\": [{\"cells\": {\"fill\": {\"color\": \"#EBF0F8\"}, \"line\": {\"color\": \"white\"}}, \"header\": {\"fill\": {\"color\": \"#C8D4E3\"}, \"line\": {\"color\": \"white\"}}, \"type\": \"table\"}]}, \"layout\": {\"annotationdefaults\": {\"arrowcolor\": \"#2a3f5f\", \"arrowhead\": 0, \"arrowwidth\": 1}, \"coloraxis\": {\"colorbar\": {\"outlinewidth\": 0, \"ticks\": \"\"}}, \"colorscale\": {\"diverging\": [[0, \"#8e0152\"], [0.1, \"#c51b7d\"], [0.2, \"#de77ae\"], [0.3, \"#f1b6da\"], [0.4, \"#fde0ef\"], [0.5, \"#f7f7f7\"], [0.6, \"#e6f5d0\"], [0.7, \"#b8e186\"], [0.8, \"#7fbc41\"], [0.9, \"#4d9221\"], [1, \"#276419\"]], \"sequential\": [[0.0, \"#0d0887\"], [0.1111111111111111, \"#46039f\"], [0.2222222222222222, \"#7201a8\"], [0.3333333333333333, \"#9c179e\"], [0.4444444444444444, \"#bd3786\"], [0.5555555555555556, \"#d8576b\"], [0.6666666666666666, \"#ed7953\"], [0.7777777777777778, \"#fb9f3a\"], [0.8888888888888888, \"#fdca26\"], [1.0, \"#f0f921\"]], \"sequentialminus\": [[0.0, \"#0d0887\"], [0.1111111111111111, \"#46039f\"], [0.2222222222222222, \"#7201a8\"], [0.3333333333333333, \"#9c179e\"], [0.4444444444444444, \"#bd3786\"], [0.5555555555555556, \"#d8576b\"], [0.6666666666666666, \"#ed7953\"], [0.7777777777777778, \"#fb9f3a\"], [0.8888888888888888, \"#fdca26\"], [1.0, \"#f0f921\"]]}, \"colorway\": [\"#636efa\", \"#EF553B\", \"#00cc96\", \"#ab63fa\", \"#FFA15A\", \"#19d3f3\", \"#FF6692\", \"#B6E880\", \"#FF97FF\", \"#FECB52\"], \"font\": {\"color\": \"#2a3f5f\"}, \"geo\": {\"bgcolor\": \"white\", \"lakecolor\": \"white\", \"landcolor\": \"#E5ECF6\", \"showlakes\": true, \"showland\": true, \"subunitcolor\": \"white\"}, \"hoverlabel\": {\"align\": \"left\"}, \"hovermode\": \"closest\", \"mapbox\": {\"style\": \"light\"}, \"paper_bgcolor\": \"white\", \"plot_bgcolor\": \"#E5ECF6\", \"polar\": {\"angularaxis\": {\"gridcolor\": \"white\", \"linecolor\": \"white\", \"ticks\": \"\"}, \"bgcolor\": \"#E5ECF6\", \"radialaxis\": {\"gridcolor\": \"white\", \"linecolor\": \"white\", \"ticks\": \"\"}}, \"scene\": {\"xaxis\": {\"backgroundcolor\": \"#E5ECF6\", \"gridcolor\": \"white\", \"gridwidth\": 2, \"linecolor\": \"white\", \"showbackground\": true, \"ticks\": \"\", \"zerolinecolor\": \"white\"}, \"yaxis\": {\"backgroundcolor\": \"#E5ECF6\", \"gridcolor\": \"white\", \"gridwidth\": 2, \"linecolor\": \"white\", \"showbackground\": true, \"ticks\": \"\", \"zerolinecolor\": \"white\"}, \"zaxis\": {\"backgroundcolor\": \"#E5ECF6\", \"gridcolor\": \"white\", \"gridwidth\": 2, \"linecolor\": \"white\", \"showbackground\": true, \"ticks\": \"\", \"zerolinecolor\": \"white\"}}, \"shapedefaults\": {\"line\": {\"color\": \"#2a3f5f\"}}, \"ternary\": {\"aaxis\": {\"gridcolor\": \"white\", \"linecolor\": \"white\", \"ticks\": \"\"}, \"baxis\": {\"gridcolor\": \"white\", \"linecolor\": \"white\", \"ticks\": \"\"}, \"bgcolor\": \"#E5ECF6\", \"caxis\": {\"gridcolor\": \"white\", \"linecolor\": \"white\", \"ticks\": \"\"}}, \"title\": {\"x\": 0.05}, \"xaxis\": {\"automargin\": true, \"gridcolor\": \"white\", \"linecolor\": \"white\", \"ticks\": \"\", \"title\": {\"standoff\": 15}, \"zerolinecolor\": \"white\", \"zerolinewidth\": 2}, \"yaxis\": {\"automargin\": true, \"gridcolor\": \"white\", \"linecolor\": \"white\", \"ticks\": \"\", \"title\": {\"standoff\": 15}, \"zerolinecolor\": \"white\", \"zerolinewidth\": 2}}}, \"title\": {\"font\": {\"color\": \"#4D5663\"}}, \"xaxis\": {\"gridcolor\": \"#E1E5ED\", \"showgrid\": true, \"tickfont\": {\"color\": \"#4D5663\"}, \"title\": {\"font\": {\"color\": \"#4D5663\"}, \"text\": \"\"}, \"zerolinecolor\": \"#E1E5ED\"}, \"yaxis\": {\"gridcolor\": \"#E1E5ED\", \"showgrid\": true, \"tickfont\": {\"color\": \"#4D5663\"}, \"title\": {\"font\": {\"color\": \"#4D5663\"}, \"text\": \"\"}, \"zerolinecolor\": \"#E1E5ED\"}},\n",
       "                        {\"showLink\": true, \"linkText\": \"Export to plot.ly\", \"plotlyServerURL\": \"https://plot.ly\", \"responsive\": true}\n",
       "                    ).then(function(){\n",
       "                            \n",
       "var gd = document.getElementById('2dea85d6-933e-4b5a-96b3-0ddb6a0c8aba');\n",
       "var x = new MutationObserver(function (mutations, observer) {{\n",
       "        var display = window.getComputedStyle(gd).display;\n",
       "        if (!display || display === 'none') {{\n",
       "            console.log([gd, 'removed!']);\n",
       "            Plotly.purge(gd);\n",
       "            observer.disconnect();\n",
       "        }}\n",
       "}});\n",
       "\n",
       "// Listen for the removal of the full notebook cells\n",
       "var notebookContainer = gd.closest('#notebook-container');\n",
       "if (notebookContainer) {{\n",
       "    x.observe(notebookContainer, {childList: true});\n",
       "}}\n",
       "\n",
       "// Listen for the clearing of the current output cell\n",
       "var outputEl = gd.closest('.output');\n",
       "if (outputEl) {{\n",
       "    x.observe(outputEl, {childList: true});\n",
       "}}\n",
       "\n",
       "                        })\n",
       "                };\n",
       "                });\n",
       "            </script>\n",
       "        </div>"
      ]
     },
     "metadata": {},
     "output_type": "display_data"
    }
   ],
   "source": [
    "df.iplot(kind='box')"
   ]
  },
  {
   "cell_type": "markdown",
   "metadata": {},
   "source": [
    "## Superfícies 3D"
   ]
  },
  {
   "cell_type": "code",
   "execution_count": 14,
   "metadata": {},
   "outputs": [
    {
     "data": {
      "application/vnd.plotly.v1+json": {
       "config": {
        "linkText": "Export to plot.ly",
        "plotlyServerURL": "https://plot.ly",
        "showLink": true
       },
       "data": [
        {
         "colorscale": [
          [
           0,
           "rgb(165,0,38)"
          ],
          [
           0.1,
           "rgb(215,48,39)"
          ],
          [
           0.2,
           "rgb(244,109,67)"
          ],
          [
           0.3,
           "rgb(253,174,97)"
          ],
          [
           0.4,
           "rgb(254,224,144)"
          ],
          [
           0.5,
           "rgb(255,255,191)"
          ],
          [
           0.6,
           "rgb(224,243,248)"
          ],
          [
           0.7,
           "rgb(171,217,233)"
          ],
          [
           0.8,
           "rgb(116,173,209)"
          ],
          [
           0.9,
           "rgb(69,117,180)"
          ],
          [
           1,
           "rgb(49,54,149)"
          ]
         ],
         "type": "surface",
         "x": [
          0,
          1,
          2,
          3,
          4
         ],
         "y": [
          "x",
          "y",
          "z"
         ],
         "z": [
          [
           1,
           2,
           3,
           4,
           5
          ],
          [
           10,
           20,
           30,
           20,
           10
          ],
          [
           5,
           4,
           3,
           2,
           1
          ]
         ]
        }
       ],
       "layout": {
        "legend": {
         "bgcolor": "#F5F6F9",
         "font": {
          "color": "#4D5663"
         }
        },
        "paper_bgcolor": "#F5F6F9",
        "plot_bgcolor": "#F5F6F9",
        "template": {
         "data": {
          "bar": [
           {
            "error_x": {
             "color": "#2a3f5f"
            },
            "error_y": {
             "color": "#2a3f5f"
            },
            "marker": {
             "line": {
              "color": "#E5ECF6",
              "width": 0.5
             }
            },
            "type": "bar"
           }
          ],
          "barpolar": [
           {
            "marker": {
             "line": {
              "color": "#E5ECF6",
              "width": 0.5
             }
            },
            "type": "barpolar"
           }
          ],
          "carpet": [
           {
            "aaxis": {
             "endlinecolor": "#2a3f5f",
             "gridcolor": "white",
             "linecolor": "white",
             "minorgridcolor": "white",
             "startlinecolor": "#2a3f5f"
            },
            "baxis": {
             "endlinecolor": "#2a3f5f",
             "gridcolor": "white",
             "linecolor": "white",
             "minorgridcolor": "white",
             "startlinecolor": "#2a3f5f"
            },
            "type": "carpet"
           }
          ],
          "choropleth": [
           {
            "colorbar": {
             "outlinewidth": 0,
             "ticks": ""
            },
            "type": "choropleth"
           }
          ],
          "contour": [
           {
            "colorbar": {
             "outlinewidth": 0,
             "ticks": ""
            },
            "colorscale": [
             [
              0,
              "#0d0887"
             ],
             [
              0.1111111111111111,
              "#46039f"
             ],
             [
              0.2222222222222222,
              "#7201a8"
             ],
             [
              0.3333333333333333,
              "#9c179e"
             ],
             [
              0.4444444444444444,
              "#bd3786"
             ],
             [
              0.5555555555555556,
              "#d8576b"
             ],
             [
              0.6666666666666666,
              "#ed7953"
             ],
             [
              0.7777777777777778,
              "#fb9f3a"
             ],
             [
              0.8888888888888888,
              "#fdca26"
             ],
             [
              1,
              "#f0f921"
             ]
            ],
            "type": "contour"
           }
          ],
          "contourcarpet": [
           {
            "colorbar": {
             "outlinewidth": 0,
             "ticks": ""
            },
            "type": "contourcarpet"
           }
          ],
          "heatmap": [
           {
            "colorbar": {
             "outlinewidth": 0,
             "ticks": ""
            },
            "colorscale": [
             [
              0,
              "#0d0887"
             ],
             [
              0.1111111111111111,
              "#46039f"
             ],
             [
              0.2222222222222222,
              "#7201a8"
             ],
             [
              0.3333333333333333,
              "#9c179e"
             ],
             [
              0.4444444444444444,
              "#bd3786"
             ],
             [
              0.5555555555555556,
              "#d8576b"
             ],
             [
              0.6666666666666666,
              "#ed7953"
             ],
             [
              0.7777777777777778,
              "#fb9f3a"
             ],
             [
              0.8888888888888888,
              "#fdca26"
             ],
             [
              1,
              "#f0f921"
             ]
            ],
            "type": "heatmap"
           }
          ],
          "heatmapgl": [
           {
            "colorbar": {
             "outlinewidth": 0,
             "ticks": ""
            },
            "colorscale": [
             [
              0,
              "#0d0887"
             ],
             [
              0.1111111111111111,
              "#46039f"
             ],
             [
              0.2222222222222222,
              "#7201a8"
             ],
             [
              0.3333333333333333,
              "#9c179e"
             ],
             [
              0.4444444444444444,
              "#bd3786"
             ],
             [
              0.5555555555555556,
              "#d8576b"
             ],
             [
              0.6666666666666666,
              "#ed7953"
             ],
             [
              0.7777777777777778,
              "#fb9f3a"
             ],
             [
              0.8888888888888888,
              "#fdca26"
             ],
             [
              1,
              "#f0f921"
             ]
            ],
            "type": "heatmapgl"
           }
          ],
          "histogram": [
           {
            "marker": {
             "colorbar": {
              "outlinewidth": 0,
              "ticks": ""
             }
            },
            "type": "histogram"
           }
          ],
          "histogram2d": [
           {
            "colorbar": {
             "outlinewidth": 0,
             "ticks": ""
            },
            "colorscale": [
             [
              0,
              "#0d0887"
             ],
             [
              0.1111111111111111,
              "#46039f"
             ],
             [
              0.2222222222222222,
              "#7201a8"
             ],
             [
              0.3333333333333333,
              "#9c179e"
             ],
             [
              0.4444444444444444,
              "#bd3786"
             ],
             [
              0.5555555555555556,
              "#d8576b"
             ],
             [
              0.6666666666666666,
              "#ed7953"
             ],
             [
              0.7777777777777778,
              "#fb9f3a"
             ],
             [
              0.8888888888888888,
              "#fdca26"
             ],
             [
              1,
              "#f0f921"
             ]
            ],
            "type": "histogram2d"
           }
          ],
          "histogram2dcontour": [
           {
            "colorbar": {
             "outlinewidth": 0,
             "ticks": ""
            },
            "colorscale": [
             [
              0,
              "#0d0887"
             ],
             [
              0.1111111111111111,
              "#46039f"
             ],
             [
              0.2222222222222222,
              "#7201a8"
             ],
             [
              0.3333333333333333,
              "#9c179e"
             ],
             [
              0.4444444444444444,
              "#bd3786"
             ],
             [
              0.5555555555555556,
              "#d8576b"
             ],
             [
              0.6666666666666666,
              "#ed7953"
             ],
             [
              0.7777777777777778,
              "#fb9f3a"
             ],
             [
              0.8888888888888888,
              "#fdca26"
             ],
             [
              1,
              "#f0f921"
             ]
            ],
            "type": "histogram2dcontour"
           }
          ],
          "mesh3d": [
           {
            "colorbar": {
             "outlinewidth": 0,
             "ticks": ""
            },
            "type": "mesh3d"
           }
          ],
          "parcoords": [
           {
            "line": {
             "colorbar": {
              "outlinewidth": 0,
              "ticks": ""
             }
            },
            "type": "parcoords"
           }
          ],
          "pie": [
           {
            "automargin": true,
            "type": "pie"
           }
          ],
          "scatter": [
           {
            "marker": {
             "colorbar": {
              "outlinewidth": 0,
              "ticks": ""
             }
            },
            "type": "scatter"
           }
          ],
          "scatter3d": [
           {
            "line": {
             "colorbar": {
              "outlinewidth": 0,
              "ticks": ""
             }
            },
            "marker": {
             "colorbar": {
              "outlinewidth": 0,
              "ticks": ""
             }
            },
            "type": "scatter3d"
           }
          ],
          "scattercarpet": [
           {
            "marker": {
             "colorbar": {
              "outlinewidth": 0,
              "ticks": ""
             }
            },
            "type": "scattercarpet"
           }
          ],
          "scattergeo": [
           {
            "marker": {
             "colorbar": {
              "outlinewidth": 0,
              "ticks": ""
             }
            },
            "type": "scattergeo"
           }
          ],
          "scattergl": [
           {
            "marker": {
             "colorbar": {
              "outlinewidth": 0,
              "ticks": ""
             }
            },
            "type": "scattergl"
           }
          ],
          "scattermapbox": [
           {
            "marker": {
             "colorbar": {
              "outlinewidth": 0,
              "ticks": ""
             }
            },
            "type": "scattermapbox"
           }
          ],
          "scatterpolar": [
           {
            "marker": {
             "colorbar": {
              "outlinewidth": 0,
              "ticks": ""
             }
            },
            "type": "scatterpolar"
           }
          ],
          "scatterpolargl": [
           {
            "marker": {
             "colorbar": {
              "outlinewidth": 0,
              "ticks": ""
             }
            },
            "type": "scatterpolargl"
           }
          ],
          "scatterternary": [
           {
            "marker": {
             "colorbar": {
              "outlinewidth": 0,
              "ticks": ""
             }
            },
            "type": "scatterternary"
           }
          ],
          "surface": [
           {
            "colorbar": {
             "outlinewidth": 0,
             "ticks": ""
            },
            "colorscale": [
             [
              0,
              "#0d0887"
             ],
             [
              0.1111111111111111,
              "#46039f"
             ],
             [
              0.2222222222222222,
              "#7201a8"
             ],
             [
              0.3333333333333333,
              "#9c179e"
             ],
             [
              0.4444444444444444,
              "#bd3786"
             ],
             [
              0.5555555555555556,
              "#d8576b"
             ],
             [
              0.6666666666666666,
              "#ed7953"
             ],
             [
              0.7777777777777778,
              "#fb9f3a"
             ],
             [
              0.8888888888888888,
              "#fdca26"
             ],
             [
              1,
              "#f0f921"
             ]
            ],
            "type": "surface"
           }
          ],
          "table": [
           {
            "cells": {
             "fill": {
              "color": "#EBF0F8"
             },
             "line": {
              "color": "white"
             }
            },
            "header": {
             "fill": {
              "color": "#C8D4E3"
             },
             "line": {
              "color": "white"
             }
            },
            "type": "table"
           }
          ]
         },
         "layout": {
          "annotationdefaults": {
           "arrowcolor": "#2a3f5f",
           "arrowhead": 0,
           "arrowwidth": 1
          },
          "coloraxis": {
           "colorbar": {
            "outlinewidth": 0,
            "ticks": ""
           }
          },
          "colorscale": {
           "diverging": [
            [
             0,
             "#8e0152"
            ],
            [
             0.1,
             "#c51b7d"
            ],
            [
             0.2,
             "#de77ae"
            ],
            [
             0.3,
             "#f1b6da"
            ],
            [
             0.4,
             "#fde0ef"
            ],
            [
             0.5,
             "#f7f7f7"
            ],
            [
             0.6,
             "#e6f5d0"
            ],
            [
             0.7,
             "#b8e186"
            ],
            [
             0.8,
             "#7fbc41"
            ],
            [
             0.9,
             "#4d9221"
            ],
            [
             1,
             "#276419"
            ]
           ],
           "sequential": [
            [
             0,
             "#0d0887"
            ],
            [
             0.1111111111111111,
             "#46039f"
            ],
            [
             0.2222222222222222,
             "#7201a8"
            ],
            [
             0.3333333333333333,
             "#9c179e"
            ],
            [
             0.4444444444444444,
             "#bd3786"
            ],
            [
             0.5555555555555556,
             "#d8576b"
            ],
            [
             0.6666666666666666,
             "#ed7953"
            ],
            [
             0.7777777777777778,
             "#fb9f3a"
            ],
            [
             0.8888888888888888,
             "#fdca26"
            ],
            [
             1,
             "#f0f921"
            ]
           ],
           "sequentialminus": [
            [
             0,
             "#0d0887"
            ],
            [
             0.1111111111111111,
             "#46039f"
            ],
            [
             0.2222222222222222,
             "#7201a8"
            ],
            [
             0.3333333333333333,
             "#9c179e"
            ],
            [
             0.4444444444444444,
             "#bd3786"
            ],
            [
             0.5555555555555556,
             "#d8576b"
            ],
            [
             0.6666666666666666,
             "#ed7953"
            ],
            [
             0.7777777777777778,
             "#fb9f3a"
            ],
            [
             0.8888888888888888,
             "#fdca26"
            ],
            [
             1,
             "#f0f921"
            ]
           ]
          },
          "colorway": [
           "#636efa",
           "#EF553B",
           "#00cc96",
           "#ab63fa",
           "#FFA15A",
           "#19d3f3",
           "#FF6692",
           "#B6E880",
           "#FF97FF",
           "#FECB52"
          ],
          "font": {
           "color": "#2a3f5f"
          },
          "geo": {
           "bgcolor": "white",
           "lakecolor": "white",
           "landcolor": "#E5ECF6",
           "showlakes": true,
           "showland": true,
           "subunitcolor": "white"
          },
          "hoverlabel": {
           "align": "left"
          },
          "hovermode": "closest",
          "mapbox": {
           "style": "light"
          },
          "paper_bgcolor": "white",
          "plot_bgcolor": "#E5ECF6",
          "polar": {
           "angularaxis": {
            "gridcolor": "white",
            "linecolor": "white",
            "ticks": ""
           },
           "bgcolor": "#E5ECF6",
           "radialaxis": {
            "gridcolor": "white",
            "linecolor": "white",
            "ticks": ""
           }
          },
          "scene": {
           "xaxis": {
            "backgroundcolor": "#E5ECF6",
            "gridcolor": "white",
            "gridwidth": 2,
            "linecolor": "white",
            "showbackground": true,
            "ticks": "",
            "zerolinecolor": "white"
           },
           "yaxis": {
            "backgroundcolor": "#E5ECF6",
            "gridcolor": "white",
            "gridwidth": 2,
            "linecolor": "white",
            "showbackground": true,
            "ticks": "",
            "zerolinecolor": "white"
           },
           "zaxis": {
            "backgroundcolor": "#E5ECF6",
            "gridcolor": "white",
            "gridwidth": 2,
            "linecolor": "white",
            "showbackground": true,
            "ticks": "",
            "zerolinecolor": "white"
           }
          },
          "shapedefaults": {
           "line": {
            "color": "#2a3f5f"
           }
          },
          "ternary": {
           "aaxis": {
            "gridcolor": "white",
            "linecolor": "white",
            "ticks": ""
           },
           "baxis": {
            "gridcolor": "white",
            "linecolor": "white",
            "ticks": ""
           },
           "bgcolor": "#E5ECF6",
           "caxis": {
            "gridcolor": "white",
            "linecolor": "white",
            "ticks": ""
           }
          },
          "title": {
           "x": 0.05
          },
          "xaxis": {
           "automargin": true,
           "gridcolor": "white",
           "linecolor": "white",
           "ticks": "",
           "title": {
            "standoff": 15
           },
           "zerolinecolor": "white",
           "zerolinewidth": 2
          },
          "yaxis": {
           "automargin": true,
           "gridcolor": "white",
           "linecolor": "white",
           "ticks": "",
           "title": {
            "standoff": 15
           },
           "zerolinecolor": "white",
           "zerolinewidth": 2
          }
         }
        },
        "title": {
         "font": {
          "color": "#4D5663"
         }
        },
        "xaxis": {
         "gridcolor": "#E1E5ED",
         "showgrid": true,
         "tickfont": {
          "color": "#4D5663"
         },
         "title": {
          "font": {
           "color": "#4D5663"
          },
          "text": ""
         },
         "zerolinecolor": "#E1E5ED"
        },
        "yaxis": {
         "gridcolor": "#E1E5ED",
         "showgrid": true,
         "tickfont": {
          "color": "#4D5663"
         },
         "title": {
          "font": {
           "color": "#4D5663"
          },
          "text": ""
         },
         "zerolinecolor": "#E1E5ED"
        }
       }
      },
      "text/html": [
       "<div>\n",
       "        \n",
       "        \n",
       "            <div id=\"cf78723d-7377-45b2-bdd3-e8008110e78d\" class=\"plotly-graph-div\" style=\"height:525px; width:100%;\"></div>\n",
       "            <script type=\"text/javascript\">\n",
       "                require([\"plotly\"], function(Plotly) {\n",
       "                    window.PLOTLYENV=window.PLOTLYENV || {};\n",
       "                    window.PLOTLYENV.BASE_URL='https://plot.ly';\n",
       "                    \n",
       "                if (document.getElementById(\"cf78723d-7377-45b2-bdd3-e8008110e78d\")) {\n",
       "                    Plotly.newPlot(\n",
       "                        'cf78723d-7377-45b2-bdd3-e8008110e78d',\n",
       "                        [{\"colorscale\": [[0.0, \"rgb(165,0,38)\"], [0.1, \"rgb(215,48,39)\"], [0.2, \"rgb(244,109,67)\"], [0.3, \"rgb(253,174,97)\"], [0.4, \"rgb(254,224,144)\"], [0.5, \"rgb(255,255,191)\"], [0.6, \"rgb(224,243,248)\"], [0.7, \"rgb(171,217,233)\"], [0.8, \"rgb(116,173,209)\"], [0.9, \"rgb(69,117,180)\"], [1.0, \"rgb(49,54,149)\"]], \"type\": \"surface\", \"x\": [0, 1, 2, 3, 4], \"y\": [\"x\", \"y\", \"z\"], \"z\": [[1, 2, 3, 4, 5], [10, 20, 30, 20, 10], [5, 4, 3, 2, 1]]}],\n",
       "                        {\"legend\": {\"bgcolor\": \"#F5F6F9\", \"font\": {\"color\": \"#4D5663\"}}, \"paper_bgcolor\": \"#F5F6F9\", \"plot_bgcolor\": \"#F5F6F9\", \"template\": {\"data\": {\"bar\": [{\"error_x\": {\"color\": \"#2a3f5f\"}, \"error_y\": {\"color\": \"#2a3f5f\"}, \"marker\": {\"line\": {\"color\": \"#E5ECF6\", \"width\": 0.5}}, \"type\": \"bar\"}], \"barpolar\": [{\"marker\": {\"line\": {\"color\": \"#E5ECF6\", \"width\": 0.5}}, \"type\": \"barpolar\"}], \"carpet\": [{\"aaxis\": {\"endlinecolor\": \"#2a3f5f\", \"gridcolor\": \"white\", \"linecolor\": \"white\", \"minorgridcolor\": \"white\", \"startlinecolor\": \"#2a3f5f\"}, \"baxis\": {\"endlinecolor\": \"#2a3f5f\", \"gridcolor\": \"white\", \"linecolor\": \"white\", \"minorgridcolor\": \"white\", \"startlinecolor\": \"#2a3f5f\"}, \"type\": \"carpet\"}], \"choropleth\": [{\"colorbar\": {\"outlinewidth\": 0, \"ticks\": \"\"}, \"type\": \"choropleth\"}], \"contour\": [{\"colorbar\": {\"outlinewidth\": 0, \"ticks\": \"\"}, \"colorscale\": [[0.0, \"#0d0887\"], [0.1111111111111111, \"#46039f\"], [0.2222222222222222, \"#7201a8\"], [0.3333333333333333, \"#9c179e\"], [0.4444444444444444, \"#bd3786\"], [0.5555555555555556, \"#d8576b\"], [0.6666666666666666, \"#ed7953\"], [0.7777777777777778, \"#fb9f3a\"], [0.8888888888888888, \"#fdca26\"], [1.0, \"#f0f921\"]], \"type\": \"contour\"}], \"contourcarpet\": [{\"colorbar\": {\"outlinewidth\": 0, \"ticks\": \"\"}, \"type\": \"contourcarpet\"}], \"heatmap\": [{\"colorbar\": {\"outlinewidth\": 0, \"ticks\": \"\"}, \"colorscale\": [[0.0, \"#0d0887\"], [0.1111111111111111, \"#46039f\"], [0.2222222222222222, \"#7201a8\"], [0.3333333333333333, \"#9c179e\"], [0.4444444444444444, \"#bd3786\"], [0.5555555555555556, \"#d8576b\"], [0.6666666666666666, \"#ed7953\"], [0.7777777777777778, \"#fb9f3a\"], [0.8888888888888888, \"#fdca26\"], [1.0, \"#f0f921\"]], \"type\": \"heatmap\"}], \"heatmapgl\": [{\"colorbar\": {\"outlinewidth\": 0, \"ticks\": \"\"}, \"colorscale\": [[0.0, \"#0d0887\"], [0.1111111111111111, \"#46039f\"], [0.2222222222222222, \"#7201a8\"], [0.3333333333333333, \"#9c179e\"], [0.4444444444444444, \"#bd3786\"], [0.5555555555555556, \"#d8576b\"], [0.6666666666666666, \"#ed7953\"], [0.7777777777777778, \"#fb9f3a\"], [0.8888888888888888, \"#fdca26\"], [1.0, \"#f0f921\"]], \"type\": \"heatmapgl\"}], \"histogram\": [{\"marker\": {\"colorbar\": {\"outlinewidth\": 0, \"ticks\": \"\"}}, \"type\": \"histogram\"}], \"histogram2d\": [{\"colorbar\": {\"outlinewidth\": 0, \"ticks\": \"\"}, \"colorscale\": [[0.0, \"#0d0887\"], [0.1111111111111111, \"#46039f\"], [0.2222222222222222, \"#7201a8\"], [0.3333333333333333, \"#9c179e\"], [0.4444444444444444, \"#bd3786\"], [0.5555555555555556, \"#d8576b\"], [0.6666666666666666, \"#ed7953\"], [0.7777777777777778, \"#fb9f3a\"], [0.8888888888888888, \"#fdca26\"], [1.0, \"#f0f921\"]], \"type\": \"histogram2d\"}], \"histogram2dcontour\": [{\"colorbar\": {\"outlinewidth\": 0, \"ticks\": \"\"}, \"colorscale\": [[0.0, \"#0d0887\"], [0.1111111111111111, \"#46039f\"], [0.2222222222222222, \"#7201a8\"], [0.3333333333333333, \"#9c179e\"], [0.4444444444444444, \"#bd3786\"], [0.5555555555555556, \"#d8576b\"], [0.6666666666666666, \"#ed7953\"], [0.7777777777777778, \"#fb9f3a\"], [0.8888888888888888, \"#fdca26\"], [1.0, \"#f0f921\"]], \"type\": \"histogram2dcontour\"}], \"mesh3d\": [{\"colorbar\": {\"outlinewidth\": 0, \"ticks\": \"\"}, \"type\": \"mesh3d\"}], \"parcoords\": [{\"line\": {\"colorbar\": {\"outlinewidth\": 0, \"ticks\": \"\"}}, \"type\": \"parcoords\"}], \"pie\": [{\"automargin\": true, \"type\": \"pie\"}], \"scatter\": [{\"marker\": {\"colorbar\": {\"outlinewidth\": 0, \"ticks\": \"\"}}, \"type\": \"scatter\"}], \"scatter3d\": [{\"line\": {\"colorbar\": {\"outlinewidth\": 0, \"ticks\": \"\"}}, \"marker\": {\"colorbar\": {\"outlinewidth\": 0, \"ticks\": \"\"}}, \"type\": \"scatter3d\"}], \"scattercarpet\": [{\"marker\": {\"colorbar\": {\"outlinewidth\": 0, \"ticks\": \"\"}}, \"type\": \"scattercarpet\"}], \"scattergeo\": [{\"marker\": {\"colorbar\": {\"outlinewidth\": 0, \"ticks\": \"\"}}, \"type\": \"scattergeo\"}], \"scattergl\": [{\"marker\": {\"colorbar\": {\"outlinewidth\": 0, \"ticks\": \"\"}}, \"type\": \"scattergl\"}], \"scattermapbox\": [{\"marker\": {\"colorbar\": {\"outlinewidth\": 0, \"ticks\": \"\"}}, \"type\": \"scattermapbox\"}], \"scatterpolar\": [{\"marker\": {\"colorbar\": {\"outlinewidth\": 0, \"ticks\": \"\"}}, \"type\": \"scatterpolar\"}], \"scatterpolargl\": [{\"marker\": {\"colorbar\": {\"outlinewidth\": 0, \"ticks\": \"\"}}, \"type\": \"scatterpolargl\"}], \"scatterternary\": [{\"marker\": {\"colorbar\": {\"outlinewidth\": 0, \"ticks\": \"\"}}, \"type\": \"scatterternary\"}], \"surface\": [{\"colorbar\": {\"outlinewidth\": 0, \"ticks\": \"\"}, \"colorscale\": [[0.0, \"#0d0887\"], [0.1111111111111111, \"#46039f\"], [0.2222222222222222, \"#7201a8\"], [0.3333333333333333, \"#9c179e\"], [0.4444444444444444, \"#bd3786\"], [0.5555555555555556, \"#d8576b\"], [0.6666666666666666, \"#ed7953\"], [0.7777777777777778, \"#fb9f3a\"], [0.8888888888888888, \"#fdca26\"], [1.0, \"#f0f921\"]], \"type\": \"surface\"}], \"table\": [{\"cells\": {\"fill\": {\"color\": \"#EBF0F8\"}, \"line\": {\"color\": \"white\"}}, \"header\": {\"fill\": {\"color\": \"#C8D4E3\"}, \"line\": {\"color\": \"white\"}}, \"type\": \"table\"}]}, \"layout\": {\"annotationdefaults\": {\"arrowcolor\": \"#2a3f5f\", \"arrowhead\": 0, \"arrowwidth\": 1}, \"coloraxis\": {\"colorbar\": {\"outlinewidth\": 0, \"ticks\": \"\"}}, \"colorscale\": {\"diverging\": [[0, \"#8e0152\"], [0.1, \"#c51b7d\"], [0.2, \"#de77ae\"], [0.3, \"#f1b6da\"], [0.4, \"#fde0ef\"], [0.5, \"#f7f7f7\"], [0.6, \"#e6f5d0\"], [0.7, \"#b8e186\"], [0.8, \"#7fbc41\"], [0.9, \"#4d9221\"], [1, \"#276419\"]], \"sequential\": [[0.0, \"#0d0887\"], [0.1111111111111111, \"#46039f\"], [0.2222222222222222, \"#7201a8\"], [0.3333333333333333, \"#9c179e\"], [0.4444444444444444, \"#bd3786\"], [0.5555555555555556, \"#d8576b\"], [0.6666666666666666, \"#ed7953\"], [0.7777777777777778, \"#fb9f3a\"], [0.8888888888888888, \"#fdca26\"], [1.0, \"#f0f921\"]], \"sequentialminus\": [[0.0, \"#0d0887\"], [0.1111111111111111, \"#46039f\"], [0.2222222222222222, \"#7201a8\"], [0.3333333333333333, \"#9c179e\"], [0.4444444444444444, \"#bd3786\"], [0.5555555555555556, \"#d8576b\"], [0.6666666666666666, \"#ed7953\"], [0.7777777777777778, \"#fb9f3a\"], [0.8888888888888888, \"#fdca26\"], [1.0, \"#f0f921\"]]}, \"colorway\": [\"#636efa\", \"#EF553B\", \"#00cc96\", \"#ab63fa\", \"#FFA15A\", \"#19d3f3\", \"#FF6692\", \"#B6E880\", \"#FF97FF\", \"#FECB52\"], \"font\": {\"color\": \"#2a3f5f\"}, \"geo\": {\"bgcolor\": \"white\", \"lakecolor\": \"white\", \"landcolor\": \"#E5ECF6\", \"showlakes\": true, \"showland\": true, \"subunitcolor\": \"white\"}, \"hoverlabel\": {\"align\": \"left\"}, \"hovermode\": \"closest\", \"mapbox\": {\"style\": \"light\"}, \"paper_bgcolor\": \"white\", \"plot_bgcolor\": \"#E5ECF6\", \"polar\": {\"angularaxis\": {\"gridcolor\": \"white\", \"linecolor\": \"white\", \"ticks\": \"\"}, \"bgcolor\": \"#E5ECF6\", \"radialaxis\": {\"gridcolor\": \"white\", \"linecolor\": \"white\", \"ticks\": \"\"}}, \"scene\": {\"xaxis\": {\"backgroundcolor\": \"#E5ECF6\", \"gridcolor\": \"white\", \"gridwidth\": 2, \"linecolor\": \"white\", \"showbackground\": true, \"ticks\": \"\", \"zerolinecolor\": \"white\"}, \"yaxis\": {\"backgroundcolor\": \"#E5ECF6\", \"gridcolor\": \"white\", \"gridwidth\": 2, \"linecolor\": \"white\", \"showbackground\": true, \"ticks\": \"\", \"zerolinecolor\": \"white\"}, \"zaxis\": {\"backgroundcolor\": \"#E5ECF6\", \"gridcolor\": \"white\", \"gridwidth\": 2, \"linecolor\": \"white\", \"showbackground\": true, \"ticks\": \"\", \"zerolinecolor\": \"white\"}}, \"shapedefaults\": {\"line\": {\"color\": \"#2a3f5f\"}}, \"ternary\": {\"aaxis\": {\"gridcolor\": \"white\", \"linecolor\": \"white\", \"ticks\": \"\"}, \"baxis\": {\"gridcolor\": \"white\", \"linecolor\": \"white\", \"ticks\": \"\"}, \"bgcolor\": \"#E5ECF6\", \"caxis\": {\"gridcolor\": \"white\", \"linecolor\": \"white\", \"ticks\": \"\"}}, \"title\": {\"x\": 0.05}, \"xaxis\": {\"automargin\": true, \"gridcolor\": \"white\", \"linecolor\": \"white\", \"ticks\": \"\", \"title\": {\"standoff\": 15}, \"zerolinecolor\": \"white\", \"zerolinewidth\": 2}, \"yaxis\": {\"automargin\": true, \"gridcolor\": \"white\", \"linecolor\": \"white\", \"ticks\": \"\", \"title\": {\"standoff\": 15}, \"zerolinecolor\": \"white\", \"zerolinewidth\": 2}}}, \"title\": {\"font\": {\"color\": \"#4D5663\"}}, \"xaxis\": {\"gridcolor\": \"#E1E5ED\", \"showgrid\": true, \"tickfont\": {\"color\": \"#4D5663\"}, \"title\": {\"font\": {\"color\": \"#4D5663\"}, \"text\": \"\"}, \"zerolinecolor\": \"#E1E5ED\"}, \"yaxis\": {\"gridcolor\": \"#E1E5ED\", \"showgrid\": true, \"tickfont\": {\"color\": \"#4D5663\"}, \"title\": {\"font\": {\"color\": \"#4D5663\"}, \"text\": \"\"}, \"zerolinecolor\": \"#E1E5ED\"}},\n",
       "                        {\"showLink\": true, \"linkText\": \"Export to plot.ly\", \"plotlyServerURL\": \"https://plot.ly\", \"responsive\": true}\n",
       "                    ).then(function(){\n",
       "                            \n",
       "var gd = document.getElementById('cf78723d-7377-45b2-bdd3-e8008110e78d');\n",
       "var x = new MutationObserver(function (mutations, observer) {{\n",
       "        var display = window.getComputedStyle(gd).display;\n",
       "        if (!display || display === 'none') {{\n",
       "            console.log([gd, 'removed!']);\n",
       "            Plotly.purge(gd);\n",
       "            observer.disconnect();\n",
       "        }}\n",
       "}});\n",
       "\n",
       "// Listen for the removal of the full notebook cells\n",
       "var notebookContainer = gd.closest('#notebook-container');\n",
       "if (notebookContainer) {{\n",
       "    x.observe(notebookContainer, {childList: true});\n",
       "}}\n",
       "\n",
       "// Listen for the clearing of the current output cell\n",
       "var outputEl = gd.closest('.output');\n",
       "if (outputEl) {{\n",
       "    x.observe(outputEl, {childList: true});\n",
       "}}\n",
       "\n",
       "                        })\n",
       "                };\n",
       "                });\n",
       "            </script>\n",
       "        </div>"
      ]
     },
     "metadata": {},
     "output_type": "display_data"
    }
   ],
   "source": [
    "df3 = pd.DataFrame({'x':[1,2,3,4,5],'y':[10,20,30,20,10],'z':[5,4,3,2,1]})\n",
    "df3.iplot(kind='surface',colorscale='rdylbu')"
   ]
  },
  {
   "cell_type": "markdown",
   "metadata": {},
   "source": [
    "## Spread"
   ]
  },
  {
   "cell_type": "code",
   "execution_count": 15,
   "metadata": {},
   "outputs": [
    {
     "name": "stderr",
     "output_type": "stream",
     "text": [
      "C:\\Users\\david\\anaconda3\\lib\\site-packages\\cufflinks\\plotlytools.py:849: FutureWarning:\n",
      "\n",
      "The pandas.np module is deprecated and will be removed from pandas in a future version. Import numpy directly instead\n",
      "\n",
      "C:\\Users\\david\\anaconda3\\lib\\site-packages\\cufflinks\\plotlytools.py:850: FutureWarning:\n",
      "\n",
      "The pandas.np module is deprecated and will be removed from pandas in a future version. Import numpy directly instead\n",
      "\n"
     ]
    },
    {
     "data": {
      "application/vnd.plotly.v1+json": {
       "config": {
        "linkText": "Export to plot.ly",
        "plotlyServerURL": "https://plot.ly",
        "showLink": true
       },
       "data": [
        {
         "line": {
          "color": "rgba(255, 153, 51, 1.0)",
          "dash": "solid",
          "shape": "linear",
          "width": 1.3
         },
         "mode": "lines",
         "name": "A",
         "text": "",
         "type": "scatter",
         "x": [
          0,
          1,
          2,
          3,
          4,
          5,
          6,
          7,
          8,
          9,
          10,
          11,
          12,
          13,
          14,
          15,
          16,
          17,
          18,
          19,
          20,
          21,
          22,
          23,
          24,
          25,
          26,
          27,
          28,
          29,
          30,
          31,
          32,
          33,
          34,
          35,
          36,
          37,
          38,
          39,
          40,
          41,
          42,
          43,
          44,
          45,
          46,
          47,
          48,
          49,
          50,
          51,
          52,
          53,
          54,
          55,
          56,
          57,
          58,
          59,
          60,
          61,
          62,
          63,
          64,
          65,
          66,
          67,
          68,
          69,
          70,
          71,
          72,
          73,
          74,
          75,
          76,
          77,
          78,
          79,
          80,
          81,
          82,
          83,
          84,
          85,
          86,
          87,
          88,
          89,
          90,
          91,
          92,
          93,
          94,
          95,
          96,
          97,
          98,
          99
         ],
         "y": [
          0.5016259041677826,
          0.39693214686922423,
          0.15105045423677646,
          0.23803313048951832,
          -0.9065096169526577,
          -0.5858144449744032,
          -1.1915955319013736,
          -0.48035108080156647,
          0.3062837808136795,
          -1.3107717470084945,
          -1.4233859542149554,
          -1.6842219620749486,
          -0.6596666126340662,
          1.1646748262573046,
          0.5794136835164456,
          -0.9205239744803996,
          -0.7475740043983561,
          0.6918046774990229,
          -0.6555066758516412,
          -1.3901183444688856,
          -1.5825350400322997,
          0.7205935933384565,
          0.8600132535274735,
          1.4029869785814273,
          0.3999588780574937,
          -0.28356727685485905,
          -0.8645411771163848,
          -1.6235254258188299,
          1.6360859851250331,
          0.2321715088292792,
          -1.5209747815314942,
          -1.5962544252034896,
          -0.22469373520940192,
          0.8753232347181236,
          0.5909199306008397,
          -1.9906485850036764,
          0.7535751361189627,
          -0.29522547033898755,
          0.5275685446294369,
          0.490854014469745,
          -0.712958673119837,
          1.199183739769989,
          -2.1716144020061234,
          0.12954879730176844,
          0.6577830296031418,
          -0.0944794689894394,
          -0.5824826846365383,
          0.9537935224525297,
          0.1491860042028232,
          2.1676855898919563,
          -0.6035610892309228,
          -0.22958926388827122,
          -0.49516589618777085,
          -0.018281618517689203,
          -0.36824896094724463,
          -0.7026609698955638,
          1.9970040310794626,
          -1.3398354306976554,
          2.2132601709596034,
          -0.8850429260119838,
          -0.9979121569709356,
          0.13341848060100922,
          -0.40690396935590933,
          0.2898004741616915,
          0.7263452114533693,
          0.14363457123025744,
          0.23020745995645697,
          0.8286908386058912,
          -0.8694143942178151,
          -1.6292956737587923,
          0.14828881101741534,
          1.5579611550705739,
          0.8703995897101646,
          1.167026637852573,
          -0.7681957193858597,
          -0.6830233728445323,
          -0.6706761738439486,
          0.9527201917461887,
          -0.5858980652427307,
          0.6449352460476692,
          -0.681163803699951,
          0.7760459110594783,
          1.4041260003145961,
          -0.6405096339488137,
          1.5846369943924745,
          -0.22837198279290108,
          -0.48738580327626524,
          0.6355688871774738,
          -0.20426978259615566,
          0.7349676391888955,
          -0.006914347400294714,
          1.007185939619343,
          -1.7670966160755497,
          -0.4037183481284638,
          -0.412260784658639,
          -0.635749062487043,
          0.4946209143651886,
          2.0158526613892143,
          0.5074910998586187,
          0.08947531478456232
         ]
        },
        {
         "line": {
          "color": "rgba(55, 128, 191, 1.0)",
          "dash": "solid",
          "shape": "linear",
          "width": 1.3
         },
         "mode": "lines",
         "name": "B",
         "text": "",
         "type": "scatter",
         "x": [
          0,
          1,
          2,
          3,
          4,
          5,
          6,
          7,
          8,
          9,
          10,
          11,
          12,
          13,
          14,
          15,
          16,
          17,
          18,
          19,
          20,
          21,
          22,
          23,
          24,
          25,
          26,
          27,
          28,
          29,
          30,
          31,
          32,
          33,
          34,
          35,
          36,
          37,
          38,
          39,
          40,
          41,
          42,
          43,
          44,
          45,
          46,
          47,
          48,
          49,
          50,
          51,
          52,
          53,
          54,
          55,
          56,
          57,
          58,
          59,
          60,
          61,
          62,
          63,
          64,
          65,
          66,
          67,
          68,
          69,
          70,
          71,
          72,
          73,
          74,
          75,
          76,
          77,
          78,
          79,
          80,
          81,
          82,
          83,
          84,
          85,
          86,
          87,
          88,
          89,
          90,
          91,
          92,
          93,
          94,
          95,
          96,
          97,
          98,
          99
         ],
         "y": [
          -1.9614203298059667,
          0.09936386900591583,
          -0.12144634499406161,
          1.554896718036771,
          -1.28034147685133,
          1.4495445156838505,
          1.7043191329220253,
          -0.1826710330788866,
          -1.1631386699224067,
          0.46320754943208586,
          0.8858530141908567,
          -1.946179055103767,
          -2.826068861858329,
          1.2390237313446868,
          2.232962625610061,
          -0.6139100019761206,
          1.1633069274370054,
          1.2847212723722892,
          0.6878043933686491,
          0.7235693210003209,
          -0.2185254899678108,
          -0.9214353960475222,
          0.15372078451738289,
          0.04489774131848886,
          0.5591063348832644,
          -2.181074948739284,
          -0.44650935884237547,
          1.1285339969324604,
          -0.7997050437978639,
          0.3875274586091636,
          -1.4428124598172498,
          0.30718817340815485,
          -0.6772227705725071,
          -0.1354732158537621,
          -1.2041156443182979,
          -1.2991223536512906,
          -0.13337659677773347,
          1.6248163917469887,
          0.5014564732098982,
          -1.0421670872846438,
          1.1119405623616914,
          -0.3094230119341551,
          -2.2170148072154485,
          0.858164908480128,
          0.1937476866948945,
          1.3977161455052047,
          -0.6449582533006257,
          1.3374399804360335,
          0.2793771508696186,
          0.8595426716872022,
          -0.41316843657047914,
          2.0650357867171323,
          -0.18891294488257573,
          0.9120687728370215,
          0.47170982743301826,
          1.3995286681965595,
          2.9523359856753846,
          -0.2156573600877058,
          1.2300249799992218,
          0.44073317967212594,
          -0.022066795843629753,
          -0.5268852194942298,
          0.20730381958503605,
          0.733416713650668,
          0.8443419934049715,
          0.5020396864019491,
          -1.716772241166739,
          -1.307899712809543,
          -0.7197586602891242,
          -0.08191442847370518,
          0.1940732093735313,
          0.2997729938918538,
          0.5614337584535843,
          -2.2236930656077147,
          2.4054694857642724,
          -0.19495874877554625,
          -0.4798629195672261,
          0.9496321492408094,
          0.5747577660446029,
          0.08321313793747716,
          0.08592142084810923,
          0.3186989355807172,
          -0.33161156787469626,
          -1.228139146584102,
          1.0412808771345305,
          -0.35277139062308255,
          1.4039866662846174,
          0.49307280755934046,
          -0.21875339647065745,
          -0.8874140347814174,
          0.35738348561054833,
          -0.11798431425933198,
          -1.1602205281237221,
          0.2578188391703287,
          -0.25241907572889893,
          -1.1757576099571745,
          1.978974245352124,
          0.374565818914298,
          -1.3255402973767965,
          2.2331800939792528
         ]
        },
        {
         "connectgaps": false,
         "fill": "tozeroy",
         "line": {
          "color": "green",
          "dash": "solid",
          "shape": "linear",
          "width": 0.5
         },
         "mode": "lines",
         "name": "Spread",
         "showlegend": false,
         "type": "scatter",
         "x": [
          0,
          1,
          2,
          3,
          4,
          5,
          6,
          7,
          8,
          9,
          10,
          11,
          12,
          13,
          14,
          15,
          16,
          17,
          18,
          19,
          20,
          21,
          22,
          23,
          24,
          25,
          26,
          27,
          28,
          29,
          30,
          31,
          32,
          33,
          34,
          35,
          36,
          37,
          38,
          39,
          40,
          41,
          42,
          43,
          44,
          45,
          46,
          47,
          48,
          49,
          50,
          51,
          52,
          53,
          54,
          55,
          56,
          57,
          58,
          59,
          60,
          61,
          62,
          63,
          64,
          65,
          66,
          67,
          68,
          69,
          70,
          71,
          72,
          73,
          74,
          75,
          76,
          77,
          78,
          79,
          80,
          81,
          82,
          83,
          84,
          85,
          86,
          87,
          88,
          89,
          90,
          91,
          92,
          93,
          94,
          95,
          96,
          97,
          98,
          99
         ],
         "xaxis": "x2",
         "y": [
          2.463046233973749,
          0.2975682778633084,
          0.2724967992308381,
          "",
          0.3738318598986722,
          "",
          "",
          "",
          1.4694224507360862,
          "",
          "",
          0.2619570930288184,
          2.1664022492242627,
          "",
          "",
          "",
          "",
          "",
          "",
          "",
          "",
          1.6420289893859787,
          0.7062924690100906,
          1.3580892372629385,
          "",
          1.897507671884425,
          "",
          "",
          2.435791028922897,
          "",
          "",
          "",
          0.4525290353631052,
          1.0107964505718856,
          1.7950355749191376,
          "",
          0.8869517328966962,
          "",
          0.02611207141953875,
          1.5330211017543889,
          "",
          1.5086067517041442,
          0.04540040520932509,
          "",
          0.46403534290824733,
          "",
          0.06247556866408743,
          "",
          "",
          1.3081429182047541,
          "",
          "",
          "",
          "",
          "",
          "",
          "",
          "",
          0.9832351909603816,
          "",
          "",
          0.6603037000952391,
          "",
          "",
          "",
          "",
          1.946979701123196,
          2.136590551415434,
          "",
          "",
          "",
          1.25818816117872,
          0.3089658312565803,
          3.390719703460288,
          "",
          "",
          "",
          0.003088042505379307,
          "",
          0.561722108110192,
          "",
          0.4573469754787611,
          1.7357375681892924,
          0.5876295126352884,
          0.543356117257944,
          0.12439940783018147,
          "",
          0.14249607961813338,
          0.014483613874501783,
          1.622381673970313,
          "",
          1.125170253878675,
          "",
          "",
          "",
          0.5400085474701315,
          "",
          1.6412868424749163,
          1.8330313972354153,
          ""
         ],
         "yaxis": "y2"
        },
        {
         "connectgaps": false,
         "fill": "tozeroy",
         "line": {
          "color": "red",
          "dash": "solid",
          "shape": "linear",
          "width": 0.5
         },
         "mode": "lines",
         "name": "Spread",
         "showlegend": false,
         "type": "scatter",
         "x": [
          0,
          1,
          2,
          3,
          4,
          5,
          6,
          7,
          8,
          9,
          10,
          11,
          12,
          13,
          14,
          15,
          16,
          17,
          18,
          19,
          20,
          21,
          22,
          23,
          24,
          25,
          26,
          27,
          28,
          29,
          30,
          31,
          32,
          33,
          34,
          35,
          36,
          37,
          38,
          39,
          40,
          41,
          42,
          43,
          44,
          45,
          46,
          47,
          48,
          49,
          50,
          51,
          52,
          53,
          54,
          55,
          56,
          57,
          58,
          59,
          60,
          61,
          62,
          63,
          64,
          65,
          66,
          67,
          68,
          69,
          70,
          71,
          72,
          73,
          74,
          75,
          76,
          77,
          78,
          79,
          80,
          81,
          82,
          83,
          84,
          85,
          86,
          87,
          88,
          89,
          90,
          91,
          92,
          93,
          94,
          95,
          96,
          97,
          98,
          99
         ],
         "xaxis": "x2",
         "y": [
          "",
          "",
          "",
          -1.3168635875472527,
          "",
          -2.035358960658254,
          -2.895914664823399,
          -0.29768004772267986,
          "",
          -1.7739792964405803,
          -2.309238968405812,
          "",
          "",
          -0.07434890508738223,
          -1.6535489420936156,
          -0.306613972504279,
          -1.9108809318353615,
          -0.5929165948732663,
          -1.3433110692202903,
          -2.1136876654692065,
          -1.3640095500644889,
          "",
          "",
          "",
          -0.15914745682577075,
          "",
          -0.4180318182740093,
          -2.75205942275129,
          "",
          -0.1553559497798844,
          -0.07816232171424442,
          -1.9034425986116443,
          "",
          "",
          "",
          -0.6915262313523858,
          "",
          -1.9200418620859763,
          "",
          "",
          -1.8248992354815283,
          "",
          "",
          -0.7286161111783596,
          "",
          -1.4921956144946442,
          "",
          -0.38364645798350383,
          -0.1301911466667954,
          "",
          -0.19039265266044364,
          -2.2946250506054033,
          -0.30625295130519514,
          -0.9303503913547106,
          -0.8399587883802628,
          -2.1021896380921232,
          -0.955331954595922,
          -1.1241780706099496,
          "",
          -1.3257761056841098,
          -0.9758453611273058,
          "",
          -0.6142077889409454,
          -0.44361623948897644,
          -0.11799678195160224,
          -0.3584051151716916,
          "",
          "",
          -0.14965573392869091,
          -1.547381245285087,
          -0.045784398356115974,
          "",
          "",
          "",
          -3.173665205150132,
          -0.48806462406898604,
          -0.19081325427672252,
          "",
          -1.1606558312873336,
          "",
          -0.7670852245480603,
          "",
          "",
          "",
          "",
          "",
          -1.8913724695608827,
          "",
          "",
          "",
          -0.36429783301084306,
          "",
          -0.6068760879518276,
          -0.6615371872987925,
          -0.1598417089297401,
          "",
          -1.4843533309869352,
          "",
          "",
          -2.1437047791946906
         ],
         "yaxis": "y2"
        }
       ],
       "layout": {
        "hovermode": "x",
        "legend": {
         "bgcolor": "#F5F6F9",
         "font": {
          "color": "#4D5663"
         }
        },
        "paper_bgcolor": "#F5F6F9",
        "plot_bgcolor": "#F5F6F9",
        "template": {
         "data": {
          "bar": [
           {
            "error_x": {
             "color": "#2a3f5f"
            },
            "error_y": {
             "color": "#2a3f5f"
            },
            "marker": {
             "line": {
              "color": "#E5ECF6",
              "width": 0.5
             }
            },
            "type": "bar"
           }
          ],
          "barpolar": [
           {
            "marker": {
             "line": {
              "color": "#E5ECF6",
              "width": 0.5
             }
            },
            "type": "barpolar"
           }
          ],
          "carpet": [
           {
            "aaxis": {
             "endlinecolor": "#2a3f5f",
             "gridcolor": "white",
             "linecolor": "white",
             "minorgridcolor": "white",
             "startlinecolor": "#2a3f5f"
            },
            "baxis": {
             "endlinecolor": "#2a3f5f",
             "gridcolor": "white",
             "linecolor": "white",
             "minorgridcolor": "white",
             "startlinecolor": "#2a3f5f"
            },
            "type": "carpet"
           }
          ],
          "choropleth": [
           {
            "colorbar": {
             "outlinewidth": 0,
             "ticks": ""
            },
            "type": "choropleth"
           }
          ],
          "contour": [
           {
            "colorbar": {
             "outlinewidth": 0,
             "ticks": ""
            },
            "colorscale": [
             [
              0,
              "#0d0887"
             ],
             [
              0.1111111111111111,
              "#46039f"
             ],
             [
              0.2222222222222222,
              "#7201a8"
             ],
             [
              0.3333333333333333,
              "#9c179e"
             ],
             [
              0.4444444444444444,
              "#bd3786"
             ],
             [
              0.5555555555555556,
              "#d8576b"
             ],
             [
              0.6666666666666666,
              "#ed7953"
             ],
             [
              0.7777777777777778,
              "#fb9f3a"
             ],
             [
              0.8888888888888888,
              "#fdca26"
             ],
             [
              1,
              "#f0f921"
             ]
            ],
            "type": "contour"
           }
          ],
          "contourcarpet": [
           {
            "colorbar": {
             "outlinewidth": 0,
             "ticks": ""
            },
            "type": "contourcarpet"
           }
          ],
          "heatmap": [
           {
            "colorbar": {
             "outlinewidth": 0,
             "ticks": ""
            },
            "colorscale": [
             [
              0,
              "#0d0887"
             ],
             [
              0.1111111111111111,
              "#46039f"
             ],
             [
              0.2222222222222222,
              "#7201a8"
             ],
             [
              0.3333333333333333,
              "#9c179e"
             ],
             [
              0.4444444444444444,
              "#bd3786"
             ],
             [
              0.5555555555555556,
              "#d8576b"
             ],
             [
              0.6666666666666666,
              "#ed7953"
             ],
             [
              0.7777777777777778,
              "#fb9f3a"
             ],
             [
              0.8888888888888888,
              "#fdca26"
             ],
             [
              1,
              "#f0f921"
             ]
            ],
            "type": "heatmap"
           }
          ],
          "heatmapgl": [
           {
            "colorbar": {
             "outlinewidth": 0,
             "ticks": ""
            },
            "colorscale": [
             [
              0,
              "#0d0887"
             ],
             [
              0.1111111111111111,
              "#46039f"
             ],
             [
              0.2222222222222222,
              "#7201a8"
             ],
             [
              0.3333333333333333,
              "#9c179e"
             ],
             [
              0.4444444444444444,
              "#bd3786"
             ],
             [
              0.5555555555555556,
              "#d8576b"
             ],
             [
              0.6666666666666666,
              "#ed7953"
             ],
             [
              0.7777777777777778,
              "#fb9f3a"
             ],
             [
              0.8888888888888888,
              "#fdca26"
             ],
             [
              1,
              "#f0f921"
             ]
            ],
            "type": "heatmapgl"
           }
          ],
          "histogram": [
           {
            "marker": {
             "colorbar": {
              "outlinewidth": 0,
              "ticks": ""
             }
            },
            "type": "histogram"
           }
          ],
          "histogram2d": [
           {
            "colorbar": {
             "outlinewidth": 0,
             "ticks": ""
            },
            "colorscale": [
             [
              0,
              "#0d0887"
             ],
             [
              0.1111111111111111,
              "#46039f"
             ],
             [
              0.2222222222222222,
              "#7201a8"
             ],
             [
              0.3333333333333333,
              "#9c179e"
             ],
             [
              0.4444444444444444,
              "#bd3786"
             ],
             [
              0.5555555555555556,
              "#d8576b"
             ],
             [
              0.6666666666666666,
              "#ed7953"
             ],
             [
              0.7777777777777778,
              "#fb9f3a"
             ],
             [
              0.8888888888888888,
              "#fdca26"
             ],
             [
              1,
              "#f0f921"
             ]
            ],
            "type": "histogram2d"
           }
          ],
          "histogram2dcontour": [
           {
            "colorbar": {
             "outlinewidth": 0,
             "ticks": ""
            },
            "colorscale": [
             [
              0,
              "#0d0887"
             ],
             [
              0.1111111111111111,
              "#46039f"
             ],
             [
              0.2222222222222222,
              "#7201a8"
             ],
             [
              0.3333333333333333,
              "#9c179e"
             ],
             [
              0.4444444444444444,
              "#bd3786"
             ],
             [
              0.5555555555555556,
              "#d8576b"
             ],
             [
              0.6666666666666666,
              "#ed7953"
             ],
             [
              0.7777777777777778,
              "#fb9f3a"
             ],
             [
              0.8888888888888888,
              "#fdca26"
             ],
             [
              1,
              "#f0f921"
             ]
            ],
            "type": "histogram2dcontour"
           }
          ],
          "mesh3d": [
           {
            "colorbar": {
             "outlinewidth": 0,
             "ticks": ""
            },
            "type": "mesh3d"
           }
          ],
          "parcoords": [
           {
            "line": {
             "colorbar": {
              "outlinewidth": 0,
              "ticks": ""
             }
            },
            "type": "parcoords"
           }
          ],
          "pie": [
           {
            "automargin": true,
            "type": "pie"
           }
          ],
          "scatter": [
           {
            "marker": {
             "colorbar": {
              "outlinewidth": 0,
              "ticks": ""
             }
            },
            "type": "scatter"
           }
          ],
          "scatter3d": [
           {
            "line": {
             "colorbar": {
              "outlinewidth": 0,
              "ticks": ""
             }
            },
            "marker": {
             "colorbar": {
              "outlinewidth": 0,
              "ticks": ""
             }
            },
            "type": "scatter3d"
           }
          ],
          "scattercarpet": [
           {
            "marker": {
             "colorbar": {
              "outlinewidth": 0,
              "ticks": ""
             }
            },
            "type": "scattercarpet"
           }
          ],
          "scattergeo": [
           {
            "marker": {
             "colorbar": {
              "outlinewidth": 0,
              "ticks": ""
             }
            },
            "type": "scattergeo"
           }
          ],
          "scattergl": [
           {
            "marker": {
             "colorbar": {
              "outlinewidth": 0,
              "ticks": ""
             }
            },
            "type": "scattergl"
           }
          ],
          "scattermapbox": [
           {
            "marker": {
             "colorbar": {
              "outlinewidth": 0,
              "ticks": ""
             }
            },
            "type": "scattermapbox"
           }
          ],
          "scatterpolar": [
           {
            "marker": {
             "colorbar": {
              "outlinewidth": 0,
              "ticks": ""
             }
            },
            "type": "scatterpolar"
           }
          ],
          "scatterpolargl": [
           {
            "marker": {
             "colorbar": {
              "outlinewidth": 0,
              "ticks": ""
             }
            },
            "type": "scatterpolargl"
           }
          ],
          "scatterternary": [
           {
            "marker": {
             "colorbar": {
              "outlinewidth": 0,
              "ticks": ""
             }
            },
            "type": "scatterternary"
           }
          ],
          "surface": [
           {
            "colorbar": {
             "outlinewidth": 0,
             "ticks": ""
            },
            "colorscale": [
             [
              0,
              "#0d0887"
             ],
             [
              0.1111111111111111,
              "#46039f"
             ],
             [
              0.2222222222222222,
              "#7201a8"
             ],
             [
              0.3333333333333333,
              "#9c179e"
             ],
             [
              0.4444444444444444,
              "#bd3786"
             ],
             [
              0.5555555555555556,
              "#d8576b"
             ],
             [
              0.6666666666666666,
              "#ed7953"
             ],
             [
              0.7777777777777778,
              "#fb9f3a"
             ],
             [
              0.8888888888888888,
              "#fdca26"
             ],
             [
              1,
              "#f0f921"
             ]
            ],
            "type": "surface"
           }
          ],
          "table": [
           {
            "cells": {
             "fill": {
              "color": "#EBF0F8"
             },
             "line": {
              "color": "white"
             }
            },
            "header": {
             "fill": {
              "color": "#C8D4E3"
             },
             "line": {
              "color": "white"
             }
            },
            "type": "table"
           }
          ]
         },
         "layout": {
          "annotationdefaults": {
           "arrowcolor": "#2a3f5f",
           "arrowhead": 0,
           "arrowwidth": 1
          },
          "coloraxis": {
           "colorbar": {
            "outlinewidth": 0,
            "ticks": ""
           }
          },
          "colorscale": {
           "diverging": [
            [
             0,
             "#8e0152"
            ],
            [
             0.1,
             "#c51b7d"
            ],
            [
             0.2,
             "#de77ae"
            ],
            [
             0.3,
             "#f1b6da"
            ],
            [
             0.4,
             "#fde0ef"
            ],
            [
             0.5,
             "#f7f7f7"
            ],
            [
             0.6,
             "#e6f5d0"
            ],
            [
             0.7,
             "#b8e186"
            ],
            [
             0.8,
             "#7fbc41"
            ],
            [
             0.9,
             "#4d9221"
            ],
            [
             1,
             "#276419"
            ]
           ],
           "sequential": [
            [
             0,
             "#0d0887"
            ],
            [
             0.1111111111111111,
             "#46039f"
            ],
            [
             0.2222222222222222,
             "#7201a8"
            ],
            [
             0.3333333333333333,
             "#9c179e"
            ],
            [
             0.4444444444444444,
             "#bd3786"
            ],
            [
             0.5555555555555556,
             "#d8576b"
            ],
            [
             0.6666666666666666,
             "#ed7953"
            ],
            [
             0.7777777777777778,
             "#fb9f3a"
            ],
            [
             0.8888888888888888,
             "#fdca26"
            ],
            [
             1,
             "#f0f921"
            ]
           ],
           "sequentialminus": [
            [
             0,
             "#0d0887"
            ],
            [
             0.1111111111111111,
             "#46039f"
            ],
            [
             0.2222222222222222,
             "#7201a8"
            ],
            [
             0.3333333333333333,
             "#9c179e"
            ],
            [
             0.4444444444444444,
             "#bd3786"
            ],
            [
             0.5555555555555556,
             "#d8576b"
            ],
            [
             0.6666666666666666,
             "#ed7953"
            ],
            [
             0.7777777777777778,
             "#fb9f3a"
            ],
            [
             0.8888888888888888,
             "#fdca26"
            ],
            [
             1,
             "#f0f921"
            ]
           ]
          },
          "colorway": [
           "#636efa",
           "#EF553B",
           "#00cc96",
           "#ab63fa",
           "#FFA15A",
           "#19d3f3",
           "#FF6692",
           "#B6E880",
           "#FF97FF",
           "#FECB52"
          ],
          "font": {
           "color": "#2a3f5f"
          },
          "geo": {
           "bgcolor": "white",
           "lakecolor": "white",
           "landcolor": "#E5ECF6",
           "showlakes": true,
           "showland": true,
           "subunitcolor": "white"
          },
          "hoverlabel": {
           "align": "left"
          },
          "hovermode": "closest",
          "mapbox": {
           "style": "light"
          },
          "paper_bgcolor": "white",
          "plot_bgcolor": "#E5ECF6",
          "polar": {
           "angularaxis": {
            "gridcolor": "white",
            "linecolor": "white",
            "ticks": ""
           },
           "bgcolor": "#E5ECF6",
           "radialaxis": {
            "gridcolor": "white",
            "linecolor": "white",
            "ticks": ""
           }
          },
          "scene": {
           "xaxis": {
            "backgroundcolor": "#E5ECF6",
            "gridcolor": "white",
            "gridwidth": 2,
            "linecolor": "white",
            "showbackground": true,
            "ticks": "",
            "zerolinecolor": "white"
           },
           "yaxis": {
            "backgroundcolor": "#E5ECF6",
            "gridcolor": "white",
            "gridwidth": 2,
            "linecolor": "white",
            "showbackground": true,
            "ticks": "",
            "zerolinecolor": "white"
           },
           "zaxis": {
            "backgroundcolor": "#E5ECF6",
            "gridcolor": "white",
            "gridwidth": 2,
            "linecolor": "white",
            "showbackground": true,
            "ticks": "",
            "zerolinecolor": "white"
           }
          },
          "shapedefaults": {
           "line": {
            "color": "#2a3f5f"
           }
          },
          "ternary": {
           "aaxis": {
            "gridcolor": "white",
            "linecolor": "white",
            "ticks": ""
           },
           "baxis": {
            "gridcolor": "white",
            "linecolor": "white",
            "ticks": ""
           },
           "bgcolor": "#E5ECF6",
           "caxis": {
            "gridcolor": "white",
            "linecolor": "white",
            "ticks": ""
           }
          },
          "title": {
           "x": 0.05
          },
          "xaxis": {
           "automargin": true,
           "gridcolor": "white",
           "linecolor": "white",
           "ticks": "",
           "title": {
            "standoff": 15
           },
           "zerolinecolor": "white",
           "zerolinewidth": 2
          },
          "yaxis": {
           "automargin": true,
           "gridcolor": "white",
           "linecolor": "white",
           "ticks": "",
           "title": {
            "standoff": 15
           },
           "zerolinecolor": "white",
           "zerolinewidth": 2
          }
         }
        },
        "title": {
         "font": {
          "color": "#4D5663"
         }
        },
        "xaxis": {
         "gridcolor": "#E1E5ED",
         "showgrid": true,
         "tickfont": {
          "color": "#4D5663"
         },
         "title": {
          "font": {
           "color": "#4D5663"
          },
          "text": ""
         },
         "zerolinecolor": "#E1E5ED"
        },
        "xaxis2": {
         "anchor": "y2",
         "gridcolor": "#E1E5ED",
         "showgrid": true,
         "showticklabels": false,
         "tickfont": {
          "color": "#4D5663"
         },
         "title": {
          "font": {
           "color": "#4D5663"
          },
          "text": ""
         },
         "zerolinecolor": "#E1E5ED"
        },
        "yaxis": {
         "domain": [
          0.3,
          1
         ],
         "gridcolor": "#E1E5ED",
         "showgrid": true,
         "tickfont": {
          "color": "#4D5663"
         },
         "title": {
          "font": {
           "color": "#4D5663"
          },
          "text": ""
         },
         "zerolinecolor": "#E1E5ED"
        },
        "yaxis2": {
         "domain": [
          0,
          0.25
         ],
         "gridcolor": "#E1E5ED",
         "showgrid": true,
         "tickfont": {
          "color": "#4D5663"
         },
         "title": {
          "font": {
           "color": "#4D5663"
          },
          "text": "Spread"
         },
         "zerolinecolor": "#E1E5ED"
        }
       }
      },
      "text/html": [
       "<div>\n",
       "        \n",
       "        \n",
       "            <div id=\"28c269f4-4a9b-41b1-aa37-c08225d4ad19\" class=\"plotly-graph-div\" style=\"height:525px; width:100%;\"></div>\n",
       "            <script type=\"text/javascript\">\n",
       "                require([\"plotly\"], function(Plotly) {\n",
       "                    window.PLOTLYENV=window.PLOTLYENV || {};\n",
       "                    window.PLOTLYENV.BASE_URL='https://plot.ly';\n",
       "                    \n",
       "                if (document.getElementById(\"28c269f4-4a9b-41b1-aa37-c08225d4ad19\")) {\n",
       "                    Plotly.newPlot(\n",
       "                        '28c269f4-4a9b-41b1-aa37-c08225d4ad19',\n",
       "                        [{\"line\": {\"color\": \"rgba(255, 153, 51, 1.0)\", \"dash\": \"solid\", \"shape\": \"linear\", \"width\": 1.3}, \"mode\": \"lines\", \"name\": \"A\", \"text\": \"\", \"type\": \"scatter\", \"x\": [0, 1, 2, 3, 4, 5, 6, 7, 8, 9, 10, 11, 12, 13, 14, 15, 16, 17, 18, 19, 20, 21, 22, 23, 24, 25, 26, 27, 28, 29, 30, 31, 32, 33, 34, 35, 36, 37, 38, 39, 40, 41, 42, 43, 44, 45, 46, 47, 48, 49, 50, 51, 52, 53, 54, 55, 56, 57, 58, 59, 60, 61, 62, 63, 64, 65, 66, 67, 68, 69, 70, 71, 72, 73, 74, 75, 76, 77, 78, 79, 80, 81, 82, 83, 84, 85, 86, 87, 88, 89, 90, 91, 92, 93, 94, 95, 96, 97, 98, 99], \"y\": [0.5016259041677826, 0.39693214686922423, 0.15105045423677646, 0.23803313048951832, -0.9065096169526577, -0.5858144449744032, -1.1915955319013736, -0.48035108080156647, 0.3062837808136795, -1.3107717470084945, -1.4233859542149554, -1.6842219620749486, -0.6596666126340662, 1.1646748262573046, 0.5794136835164456, -0.9205239744803996, -0.7475740043983561, 0.6918046774990229, -0.6555066758516412, -1.3901183444688856, -1.5825350400322997, 0.7205935933384565, 0.8600132535274735, 1.4029869785814273, 0.3999588780574937, -0.28356727685485905, -0.8645411771163848, -1.6235254258188299, 1.6360859851250331, 0.2321715088292792, -1.5209747815314942, -1.5962544252034896, -0.22469373520940192, 0.8753232347181236, 0.5909199306008397, -1.9906485850036764, 0.7535751361189627, -0.29522547033898755, 0.5275685446294369, 0.490854014469745, -0.712958673119837, 1.199183739769989, -2.1716144020061234, 0.12954879730176844, 0.6577830296031418, -0.0944794689894394, -0.5824826846365383, 0.9537935224525297, 0.1491860042028232, 2.1676855898919563, -0.6035610892309228, -0.22958926388827122, -0.49516589618777085, -0.018281618517689203, -0.36824896094724463, -0.7026609698955638, 1.9970040310794626, -1.3398354306976554, 2.2132601709596034, -0.8850429260119838, -0.9979121569709356, 0.13341848060100922, -0.40690396935590933, 0.2898004741616915, 0.7263452114533693, 0.14363457123025744, 0.23020745995645697, 0.8286908386058912, -0.8694143942178151, -1.6292956737587923, 0.14828881101741534, 1.5579611550705739, 0.8703995897101646, 1.167026637852573, -0.7681957193858597, -0.6830233728445323, -0.6706761738439486, 0.9527201917461887, -0.5858980652427307, 0.6449352460476692, -0.681163803699951, 0.7760459110594783, 1.4041260003145961, -0.6405096339488137, 1.5846369943924745, -0.22837198279290108, -0.48738580327626524, 0.6355688871774738, -0.20426978259615566, 0.7349676391888955, -0.006914347400294714, 1.007185939619343, -1.7670966160755497, -0.4037183481284638, -0.412260784658639, -0.635749062487043, 0.4946209143651886, 2.0158526613892143, 0.5074910998586187, 0.08947531478456232]}, {\"line\": {\"color\": \"rgba(55, 128, 191, 1.0)\", \"dash\": \"solid\", \"shape\": \"linear\", \"width\": 1.3}, \"mode\": \"lines\", \"name\": \"B\", \"text\": \"\", \"type\": \"scatter\", \"x\": [0, 1, 2, 3, 4, 5, 6, 7, 8, 9, 10, 11, 12, 13, 14, 15, 16, 17, 18, 19, 20, 21, 22, 23, 24, 25, 26, 27, 28, 29, 30, 31, 32, 33, 34, 35, 36, 37, 38, 39, 40, 41, 42, 43, 44, 45, 46, 47, 48, 49, 50, 51, 52, 53, 54, 55, 56, 57, 58, 59, 60, 61, 62, 63, 64, 65, 66, 67, 68, 69, 70, 71, 72, 73, 74, 75, 76, 77, 78, 79, 80, 81, 82, 83, 84, 85, 86, 87, 88, 89, 90, 91, 92, 93, 94, 95, 96, 97, 98, 99], \"y\": [-1.9614203298059667, 0.09936386900591583, -0.12144634499406161, 1.554896718036771, -1.28034147685133, 1.4495445156838505, 1.7043191329220253, -0.1826710330788866, -1.1631386699224067, 0.46320754943208586, 0.8858530141908567, -1.946179055103767, -2.826068861858329, 1.2390237313446868, 2.232962625610061, -0.6139100019761206, 1.1633069274370054, 1.2847212723722892, 0.6878043933686491, 0.7235693210003209, -0.2185254899678108, -0.9214353960475222, 0.15372078451738289, 0.04489774131848886, 0.5591063348832644, -2.181074948739284, -0.44650935884237547, 1.1285339969324604, -0.7997050437978639, 0.3875274586091636, -1.4428124598172498, 0.30718817340815485, -0.6772227705725071, -0.1354732158537621, -1.2041156443182979, -1.2991223536512906, -0.13337659677773347, 1.6248163917469887, 0.5014564732098982, -1.0421670872846438, 1.1119405623616914, -0.3094230119341551, -2.2170148072154485, 0.858164908480128, 0.1937476866948945, 1.3977161455052047, -0.6449582533006257, 1.3374399804360335, 0.2793771508696186, 0.8595426716872022, -0.41316843657047914, 2.0650357867171323, -0.18891294488257573, 0.9120687728370215, 0.47170982743301826, 1.3995286681965595, 2.9523359856753846, -0.2156573600877058, 1.2300249799992218, 0.44073317967212594, -0.022066795843629753, -0.5268852194942298, 0.20730381958503605, 0.733416713650668, 0.8443419934049715, 0.5020396864019491, -1.716772241166739, -1.307899712809543, -0.7197586602891242, -0.08191442847370518, 0.1940732093735313, 0.2997729938918538, 0.5614337584535843, -2.2236930656077147, 2.4054694857642724, -0.19495874877554625, -0.4798629195672261, 0.9496321492408094, 0.5747577660446029, 0.08321313793747716, 0.08592142084810923, 0.3186989355807172, -0.33161156787469626, -1.228139146584102, 1.0412808771345305, -0.35277139062308255, 1.4039866662846174, 0.49307280755934046, -0.21875339647065745, -0.8874140347814174, 0.35738348561054833, -0.11798431425933198, -1.1602205281237221, 0.2578188391703287, -0.25241907572889893, -1.1757576099571745, 1.978974245352124, 0.374565818914298, -1.3255402973767965, 2.2331800939792528]}, {\"connectgaps\": false, \"fill\": \"tozeroy\", \"line\": {\"color\": \"green\", \"dash\": \"solid\", \"shape\": \"linear\", \"width\": 0.5}, \"mode\": \"lines\", \"name\": \"Spread\", \"showlegend\": false, \"type\": \"scatter\", \"x\": [0, 1, 2, 3, 4, 5, 6, 7, 8, 9, 10, 11, 12, 13, 14, 15, 16, 17, 18, 19, 20, 21, 22, 23, 24, 25, 26, 27, 28, 29, 30, 31, 32, 33, 34, 35, 36, 37, 38, 39, 40, 41, 42, 43, 44, 45, 46, 47, 48, 49, 50, 51, 52, 53, 54, 55, 56, 57, 58, 59, 60, 61, 62, 63, 64, 65, 66, 67, 68, 69, 70, 71, 72, 73, 74, 75, 76, 77, 78, 79, 80, 81, 82, 83, 84, 85, 86, 87, 88, 89, 90, 91, 92, 93, 94, 95, 96, 97, 98, 99], \"xaxis\": \"x2\", \"y\": [2.463046233973749, 0.2975682778633084, 0.2724967992308381, \"\", 0.3738318598986722, \"\", \"\", \"\", 1.4694224507360862, \"\", \"\", 0.2619570930288184, 2.1664022492242627, \"\", \"\", \"\", \"\", \"\", \"\", \"\", \"\", 1.6420289893859787, 0.7062924690100906, 1.3580892372629385, \"\", 1.897507671884425, \"\", \"\", 2.435791028922897, \"\", \"\", \"\", 0.4525290353631052, 1.0107964505718856, 1.7950355749191376, \"\", 0.8869517328966962, \"\", 0.02611207141953875, 1.5330211017543889, \"\", 1.5086067517041442, 0.04540040520932509, \"\", 0.46403534290824733, \"\", 0.06247556866408743, \"\", \"\", 1.3081429182047541, \"\", \"\", \"\", \"\", \"\", \"\", \"\", \"\", 0.9832351909603816, \"\", \"\", 0.6603037000952391, \"\", \"\", \"\", \"\", 1.946979701123196, 2.136590551415434, \"\", \"\", \"\", 1.25818816117872, 0.3089658312565803, 3.390719703460288, \"\", \"\", \"\", 0.003088042505379307, \"\", 0.561722108110192, \"\", 0.4573469754787611, 1.7357375681892924, 0.5876295126352884, 0.543356117257944, 0.12439940783018147, \"\", 0.14249607961813338, 0.014483613874501783, 1.622381673970313, \"\", 1.125170253878675, \"\", \"\", \"\", 0.5400085474701315, \"\", 1.6412868424749163, 1.8330313972354153, \"\"], \"yaxis\": \"y2\"}, {\"connectgaps\": false, \"fill\": \"tozeroy\", \"line\": {\"color\": \"red\", \"dash\": \"solid\", \"shape\": \"linear\", \"width\": 0.5}, \"mode\": \"lines\", \"name\": \"Spread\", \"showlegend\": false, \"type\": \"scatter\", \"x\": [0, 1, 2, 3, 4, 5, 6, 7, 8, 9, 10, 11, 12, 13, 14, 15, 16, 17, 18, 19, 20, 21, 22, 23, 24, 25, 26, 27, 28, 29, 30, 31, 32, 33, 34, 35, 36, 37, 38, 39, 40, 41, 42, 43, 44, 45, 46, 47, 48, 49, 50, 51, 52, 53, 54, 55, 56, 57, 58, 59, 60, 61, 62, 63, 64, 65, 66, 67, 68, 69, 70, 71, 72, 73, 74, 75, 76, 77, 78, 79, 80, 81, 82, 83, 84, 85, 86, 87, 88, 89, 90, 91, 92, 93, 94, 95, 96, 97, 98, 99], \"xaxis\": \"x2\", \"y\": [\"\", \"\", \"\", -1.3168635875472527, \"\", -2.035358960658254, -2.895914664823399, -0.29768004772267986, \"\", -1.7739792964405803, -2.309238968405812, \"\", \"\", -0.07434890508738223, -1.6535489420936156, -0.306613972504279, -1.9108809318353615, -0.5929165948732663, -1.3433110692202903, -2.1136876654692065, -1.3640095500644889, \"\", \"\", \"\", -0.15914745682577075, \"\", -0.4180318182740093, -2.75205942275129, \"\", -0.1553559497798844, -0.07816232171424442, -1.9034425986116443, \"\", \"\", \"\", -0.6915262313523858, \"\", -1.9200418620859763, \"\", \"\", -1.8248992354815283, \"\", \"\", -0.7286161111783596, \"\", -1.4921956144946442, \"\", -0.38364645798350383, -0.1301911466667954, \"\", -0.19039265266044364, -2.2946250506054033, -0.30625295130519514, -0.9303503913547106, -0.8399587883802628, -2.1021896380921232, -0.955331954595922, -1.1241780706099496, \"\", -1.3257761056841098, -0.9758453611273058, \"\", -0.6142077889409454, -0.44361623948897644, -0.11799678195160224, -0.3584051151716916, \"\", \"\", -0.14965573392869091, -1.547381245285087, -0.045784398356115974, \"\", \"\", \"\", -3.173665205150132, -0.48806462406898604, -0.19081325427672252, \"\", -1.1606558312873336, \"\", -0.7670852245480603, \"\", \"\", \"\", \"\", \"\", -1.8913724695608827, \"\", \"\", \"\", -0.36429783301084306, \"\", -0.6068760879518276, -0.6615371872987925, -0.1598417089297401, \"\", -1.4843533309869352, \"\", \"\", -2.1437047791946906], \"yaxis\": \"y2\"}],\n",
       "                        {\"hovermode\": \"x\", \"legend\": {\"bgcolor\": \"#F5F6F9\", \"font\": {\"color\": \"#4D5663\"}}, \"paper_bgcolor\": \"#F5F6F9\", \"plot_bgcolor\": \"#F5F6F9\", \"template\": {\"data\": {\"bar\": [{\"error_x\": {\"color\": \"#2a3f5f\"}, \"error_y\": {\"color\": \"#2a3f5f\"}, \"marker\": {\"line\": {\"color\": \"#E5ECF6\", \"width\": 0.5}}, \"type\": \"bar\"}], \"barpolar\": [{\"marker\": {\"line\": {\"color\": \"#E5ECF6\", \"width\": 0.5}}, \"type\": \"barpolar\"}], \"carpet\": [{\"aaxis\": {\"endlinecolor\": \"#2a3f5f\", \"gridcolor\": \"white\", \"linecolor\": \"white\", \"minorgridcolor\": \"white\", \"startlinecolor\": \"#2a3f5f\"}, \"baxis\": {\"endlinecolor\": \"#2a3f5f\", \"gridcolor\": \"white\", \"linecolor\": \"white\", \"minorgridcolor\": \"white\", \"startlinecolor\": \"#2a3f5f\"}, \"type\": \"carpet\"}], \"choropleth\": [{\"colorbar\": {\"outlinewidth\": 0, \"ticks\": \"\"}, \"type\": \"choropleth\"}], \"contour\": [{\"colorbar\": {\"outlinewidth\": 0, \"ticks\": \"\"}, \"colorscale\": [[0.0, \"#0d0887\"], [0.1111111111111111, \"#46039f\"], [0.2222222222222222, \"#7201a8\"], [0.3333333333333333, \"#9c179e\"], [0.4444444444444444, \"#bd3786\"], [0.5555555555555556, \"#d8576b\"], [0.6666666666666666, \"#ed7953\"], [0.7777777777777778, \"#fb9f3a\"], [0.8888888888888888, \"#fdca26\"], [1.0, \"#f0f921\"]], \"type\": \"contour\"}], \"contourcarpet\": [{\"colorbar\": {\"outlinewidth\": 0, \"ticks\": \"\"}, \"type\": \"contourcarpet\"}], \"heatmap\": [{\"colorbar\": {\"outlinewidth\": 0, \"ticks\": \"\"}, \"colorscale\": [[0.0, \"#0d0887\"], [0.1111111111111111, \"#46039f\"], [0.2222222222222222, \"#7201a8\"], [0.3333333333333333, \"#9c179e\"], [0.4444444444444444, \"#bd3786\"], [0.5555555555555556, \"#d8576b\"], [0.6666666666666666, \"#ed7953\"], [0.7777777777777778, \"#fb9f3a\"], [0.8888888888888888, \"#fdca26\"], [1.0, \"#f0f921\"]], \"type\": \"heatmap\"}], \"heatmapgl\": [{\"colorbar\": {\"outlinewidth\": 0, \"ticks\": \"\"}, \"colorscale\": [[0.0, \"#0d0887\"], [0.1111111111111111, \"#46039f\"], [0.2222222222222222, \"#7201a8\"], [0.3333333333333333, \"#9c179e\"], [0.4444444444444444, \"#bd3786\"], [0.5555555555555556, \"#d8576b\"], [0.6666666666666666, \"#ed7953\"], [0.7777777777777778, \"#fb9f3a\"], [0.8888888888888888, \"#fdca26\"], [1.0, \"#f0f921\"]], \"type\": \"heatmapgl\"}], \"histogram\": [{\"marker\": {\"colorbar\": {\"outlinewidth\": 0, \"ticks\": \"\"}}, \"type\": \"histogram\"}], \"histogram2d\": [{\"colorbar\": {\"outlinewidth\": 0, \"ticks\": \"\"}, \"colorscale\": [[0.0, \"#0d0887\"], [0.1111111111111111, \"#46039f\"], [0.2222222222222222, \"#7201a8\"], [0.3333333333333333, \"#9c179e\"], [0.4444444444444444, \"#bd3786\"], [0.5555555555555556, \"#d8576b\"], [0.6666666666666666, \"#ed7953\"], [0.7777777777777778, \"#fb9f3a\"], [0.8888888888888888, \"#fdca26\"], [1.0, \"#f0f921\"]], \"type\": \"histogram2d\"}], \"histogram2dcontour\": [{\"colorbar\": {\"outlinewidth\": 0, \"ticks\": \"\"}, \"colorscale\": [[0.0, \"#0d0887\"], [0.1111111111111111, \"#46039f\"], [0.2222222222222222, \"#7201a8\"], [0.3333333333333333, \"#9c179e\"], [0.4444444444444444, \"#bd3786\"], [0.5555555555555556, \"#d8576b\"], [0.6666666666666666, \"#ed7953\"], [0.7777777777777778, \"#fb9f3a\"], [0.8888888888888888, \"#fdca26\"], [1.0, \"#f0f921\"]], \"type\": \"histogram2dcontour\"}], \"mesh3d\": [{\"colorbar\": {\"outlinewidth\": 0, \"ticks\": \"\"}, \"type\": \"mesh3d\"}], \"parcoords\": [{\"line\": {\"colorbar\": {\"outlinewidth\": 0, \"ticks\": \"\"}}, \"type\": \"parcoords\"}], \"pie\": [{\"automargin\": true, \"type\": \"pie\"}], \"scatter\": [{\"marker\": {\"colorbar\": {\"outlinewidth\": 0, \"ticks\": \"\"}}, \"type\": \"scatter\"}], \"scatter3d\": [{\"line\": {\"colorbar\": {\"outlinewidth\": 0, \"ticks\": \"\"}}, \"marker\": {\"colorbar\": {\"outlinewidth\": 0, \"ticks\": \"\"}}, \"type\": \"scatter3d\"}], \"scattercarpet\": [{\"marker\": {\"colorbar\": {\"outlinewidth\": 0, \"ticks\": \"\"}}, \"type\": \"scattercarpet\"}], \"scattergeo\": [{\"marker\": {\"colorbar\": {\"outlinewidth\": 0, \"ticks\": \"\"}}, \"type\": \"scattergeo\"}], \"scattergl\": [{\"marker\": {\"colorbar\": {\"outlinewidth\": 0, \"ticks\": \"\"}}, \"type\": \"scattergl\"}], \"scattermapbox\": [{\"marker\": {\"colorbar\": {\"outlinewidth\": 0, \"ticks\": \"\"}}, \"type\": \"scattermapbox\"}], \"scatterpolar\": [{\"marker\": {\"colorbar\": {\"outlinewidth\": 0, \"ticks\": \"\"}}, \"type\": \"scatterpolar\"}], \"scatterpolargl\": [{\"marker\": {\"colorbar\": {\"outlinewidth\": 0, \"ticks\": \"\"}}, \"type\": \"scatterpolargl\"}], \"scatterternary\": [{\"marker\": {\"colorbar\": {\"outlinewidth\": 0, \"ticks\": \"\"}}, \"type\": \"scatterternary\"}], \"surface\": [{\"colorbar\": {\"outlinewidth\": 0, \"ticks\": \"\"}, \"colorscale\": [[0.0, \"#0d0887\"], [0.1111111111111111, \"#46039f\"], [0.2222222222222222, \"#7201a8\"], [0.3333333333333333, \"#9c179e\"], [0.4444444444444444, \"#bd3786\"], [0.5555555555555556, \"#d8576b\"], [0.6666666666666666, \"#ed7953\"], [0.7777777777777778, \"#fb9f3a\"], [0.8888888888888888, \"#fdca26\"], [1.0, \"#f0f921\"]], \"type\": \"surface\"}], \"table\": [{\"cells\": {\"fill\": {\"color\": \"#EBF0F8\"}, \"line\": {\"color\": \"white\"}}, \"header\": {\"fill\": {\"color\": \"#C8D4E3\"}, \"line\": {\"color\": \"white\"}}, \"type\": \"table\"}]}, \"layout\": {\"annotationdefaults\": {\"arrowcolor\": \"#2a3f5f\", \"arrowhead\": 0, \"arrowwidth\": 1}, \"coloraxis\": {\"colorbar\": {\"outlinewidth\": 0, \"ticks\": \"\"}}, \"colorscale\": {\"diverging\": [[0, \"#8e0152\"], [0.1, \"#c51b7d\"], [0.2, \"#de77ae\"], [0.3, \"#f1b6da\"], [0.4, \"#fde0ef\"], [0.5, \"#f7f7f7\"], [0.6, \"#e6f5d0\"], [0.7, \"#b8e186\"], [0.8, \"#7fbc41\"], [0.9, \"#4d9221\"], [1, \"#276419\"]], \"sequential\": [[0.0, \"#0d0887\"], [0.1111111111111111, \"#46039f\"], [0.2222222222222222, \"#7201a8\"], [0.3333333333333333, \"#9c179e\"], [0.4444444444444444, \"#bd3786\"], [0.5555555555555556, \"#d8576b\"], [0.6666666666666666, \"#ed7953\"], [0.7777777777777778, \"#fb9f3a\"], [0.8888888888888888, \"#fdca26\"], [1.0, \"#f0f921\"]], \"sequentialminus\": [[0.0, \"#0d0887\"], [0.1111111111111111, \"#46039f\"], [0.2222222222222222, \"#7201a8\"], [0.3333333333333333, \"#9c179e\"], [0.4444444444444444, \"#bd3786\"], [0.5555555555555556, \"#d8576b\"], [0.6666666666666666, \"#ed7953\"], [0.7777777777777778, \"#fb9f3a\"], [0.8888888888888888, \"#fdca26\"], [1.0, \"#f0f921\"]]}, \"colorway\": [\"#636efa\", \"#EF553B\", \"#00cc96\", \"#ab63fa\", \"#FFA15A\", \"#19d3f3\", \"#FF6692\", \"#B6E880\", \"#FF97FF\", \"#FECB52\"], \"font\": {\"color\": \"#2a3f5f\"}, \"geo\": {\"bgcolor\": \"white\", \"lakecolor\": \"white\", \"landcolor\": \"#E5ECF6\", \"showlakes\": true, \"showland\": true, \"subunitcolor\": \"white\"}, \"hoverlabel\": {\"align\": \"left\"}, \"hovermode\": \"closest\", \"mapbox\": {\"style\": \"light\"}, \"paper_bgcolor\": \"white\", \"plot_bgcolor\": \"#E5ECF6\", \"polar\": {\"angularaxis\": {\"gridcolor\": \"white\", \"linecolor\": \"white\", \"ticks\": \"\"}, \"bgcolor\": \"#E5ECF6\", \"radialaxis\": {\"gridcolor\": \"white\", \"linecolor\": \"white\", \"ticks\": \"\"}}, \"scene\": {\"xaxis\": {\"backgroundcolor\": \"#E5ECF6\", \"gridcolor\": \"white\", \"gridwidth\": 2, \"linecolor\": \"white\", \"showbackground\": true, \"ticks\": \"\", \"zerolinecolor\": \"white\"}, \"yaxis\": {\"backgroundcolor\": \"#E5ECF6\", \"gridcolor\": \"white\", \"gridwidth\": 2, \"linecolor\": \"white\", \"showbackground\": true, \"ticks\": \"\", \"zerolinecolor\": \"white\"}, \"zaxis\": {\"backgroundcolor\": \"#E5ECF6\", \"gridcolor\": \"white\", \"gridwidth\": 2, \"linecolor\": \"white\", \"showbackground\": true, \"ticks\": \"\", \"zerolinecolor\": \"white\"}}, \"shapedefaults\": {\"line\": {\"color\": \"#2a3f5f\"}}, \"ternary\": {\"aaxis\": {\"gridcolor\": \"white\", \"linecolor\": \"white\", \"ticks\": \"\"}, \"baxis\": {\"gridcolor\": \"white\", \"linecolor\": \"white\", \"ticks\": \"\"}, \"bgcolor\": \"#E5ECF6\", \"caxis\": {\"gridcolor\": \"white\", \"linecolor\": \"white\", \"ticks\": \"\"}}, \"title\": {\"x\": 0.05}, \"xaxis\": {\"automargin\": true, \"gridcolor\": \"white\", \"linecolor\": \"white\", \"ticks\": \"\", \"title\": {\"standoff\": 15}, \"zerolinecolor\": \"white\", \"zerolinewidth\": 2}, \"yaxis\": {\"automargin\": true, \"gridcolor\": \"white\", \"linecolor\": \"white\", \"ticks\": \"\", \"title\": {\"standoff\": 15}, \"zerolinecolor\": \"white\", \"zerolinewidth\": 2}}}, \"title\": {\"font\": {\"color\": \"#4D5663\"}}, \"xaxis\": {\"gridcolor\": \"#E1E5ED\", \"showgrid\": true, \"tickfont\": {\"color\": \"#4D5663\"}, \"title\": {\"font\": {\"color\": \"#4D5663\"}, \"text\": \"\"}, \"zerolinecolor\": \"#E1E5ED\"}, \"xaxis2\": {\"anchor\": \"y2\", \"gridcolor\": \"#E1E5ED\", \"showgrid\": true, \"showticklabels\": false, \"tickfont\": {\"color\": \"#4D5663\"}, \"title\": {\"font\": {\"color\": \"#4D5663\"}, \"text\": \"\"}, \"zerolinecolor\": \"#E1E5ED\"}, \"yaxis\": {\"domain\": [0.3, 1], \"gridcolor\": \"#E1E5ED\", \"showgrid\": true, \"tickfont\": {\"color\": \"#4D5663\"}, \"title\": {\"font\": {\"color\": \"#4D5663\"}, \"text\": \"\"}, \"zerolinecolor\": \"#E1E5ED\"}, \"yaxis2\": {\"domain\": [0, 0.25], \"gridcolor\": \"#E1E5ED\", \"showgrid\": true, \"tickfont\": {\"color\": \"#4D5663\"}, \"title\": {\"font\": {\"color\": \"#4D5663\"}, \"text\": \"Spread\"}, \"zerolinecolor\": \"#E1E5ED\"}},\n",
       "                        {\"showLink\": true, \"linkText\": \"Export to plot.ly\", \"plotlyServerURL\": \"https://plot.ly\", \"responsive\": true}\n",
       "                    ).then(function(){\n",
       "                            \n",
       "var gd = document.getElementById('28c269f4-4a9b-41b1-aa37-c08225d4ad19');\n",
       "var x = new MutationObserver(function (mutations, observer) {{\n",
       "        var display = window.getComputedStyle(gd).display;\n",
       "        if (!display || display === 'none') {{\n",
       "            console.log([gd, 'removed!']);\n",
       "            Plotly.purge(gd);\n",
       "            observer.disconnect();\n",
       "        }}\n",
       "}});\n",
       "\n",
       "// Listen for the removal of the full notebook cells\n",
       "var notebookContainer = gd.closest('#notebook-container');\n",
       "if (notebookContainer) {{\n",
       "    x.observe(notebookContainer, {childList: true});\n",
       "}}\n",
       "\n",
       "// Listen for the clearing of the current output cell\n",
       "var outputEl = gd.closest('.output');\n",
       "if (outputEl) {{\n",
       "    x.observe(outputEl, {childList: true});\n",
       "}}\n",
       "\n",
       "                        })\n",
       "                };\n",
       "                });\n",
       "            </script>\n",
       "        </div>"
      ]
     },
     "metadata": {},
     "output_type": "display_data"
    }
   ],
   "source": [
    "df[['A','B']].iplot(kind='spread')"
   ]
  },
  {
   "cell_type": "markdown",
   "metadata": {},
   "source": [
    "## Histograma"
   ]
  },
  {
   "cell_type": "code",
   "execution_count": 16,
   "metadata": {},
   "outputs": [
    {
     "data": {
      "application/vnd.plotly.v1+json": {
       "config": {
        "linkText": "Export to plot.ly",
        "plotlyServerURL": "https://plot.ly",
        "showLink": true
       },
       "data": [
        {
         "histfunc": "count",
         "histnorm": "",
         "marker": {
          "color": "rgba(255, 153, 51, 1.0)",
          "line": {
           "color": "#4D5663",
           "width": 1.3
          }
         },
         "name": "A",
         "nbinsx": 25,
         "opacity": 0.8,
         "orientation": "v",
         "type": "histogram",
         "x": [
          0.5016259041677826,
          0.39693214686922423,
          0.15105045423677646,
          0.23803313048951832,
          -0.9065096169526577,
          -0.5858144449744032,
          -1.1915955319013736,
          -0.48035108080156647,
          0.3062837808136795,
          -1.3107717470084945,
          -1.4233859542149554,
          -1.6842219620749486,
          -0.6596666126340662,
          1.1646748262573046,
          0.5794136835164456,
          -0.9205239744803996,
          -0.7475740043983561,
          0.6918046774990229,
          -0.6555066758516412,
          -1.3901183444688856,
          -1.5825350400322997,
          0.7205935933384565,
          0.8600132535274735,
          1.4029869785814273,
          0.3999588780574937,
          -0.28356727685485905,
          -0.8645411771163848,
          -1.6235254258188299,
          1.6360859851250331,
          0.2321715088292792,
          -1.5209747815314942,
          -1.5962544252034896,
          -0.22469373520940192,
          0.8753232347181236,
          0.5909199306008397,
          -1.9906485850036764,
          0.7535751361189627,
          -0.29522547033898755,
          0.5275685446294369,
          0.490854014469745,
          -0.712958673119837,
          1.199183739769989,
          -2.1716144020061234,
          0.12954879730176844,
          0.6577830296031418,
          -0.0944794689894394,
          -0.5824826846365383,
          0.9537935224525297,
          0.1491860042028232,
          2.1676855898919563,
          -0.6035610892309228,
          -0.22958926388827122,
          -0.49516589618777085,
          -0.018281618517689203,
          -0.36824896094724463,
          -0.7026609698955638,
          1.9970040310794626,
          -1.3398354306976554,
          2.2132601709596034,
          -0.8850429260119838,
          -0.9979121569709356,
          0.13341848060100922,
          -0.40690396935590933,
          0.2898004741616915,
          0.7263452114533693,
          0.14363457123025744,
          0.23020745995645697,
          0.8286908386058912,
          -0.8694143942178151,
          -1.6292956737587923,
          0.14828881101741534,
          1.5579611550705739,
          0.8703995897101646,
          1.167026637852573,
          -0.7681957193858597,
          -0.6830233728445323,
          -0.6706761738439486,
          0.9527201917461887,
          -0.5858980652427307,
          0.6449352460476692,
          -0.681163803699951,
          0.7760459110594783,
          1.4041260003145961,
          -0.6405096339488137,
          1.5846369943924745,
          -0.22837198279290108,
          -0.48738580327626524,
          0.6355688871774738,
          -0.20426978259615566,
          0.7349676391888955,
          -0.006914347400294714,
          1.007185939619343,
          -1.7670966160755497,
          -0.4037183481284638,
          -0.412260784658639,
          -0.635749062487043,
          0.4946209143651886,
          2.0158526613892143,
          0.5074910998586187,
          0.08947531478456232
         ]
        }
       ],
       "layout": {
        "barmode": "overlay",
        "legend": {
         "bgcolor": "#F5F6F9",
         "font": {
          "color": "#4D5663"
         }
        },
        "paper_bgcolor": "#F5F6F9",
        "plot_bgcolor": "#F5F6F9",
        "template": {
         "data": {
          "bar": [
           {
            "error_x": {
             "color": "#2a3f5f"
            },
            "error_y": {
             "color": "#2a3f5f"
            },
            "marker": {
             "line": {
              "color": "#E5ECF6",
              "width": 0.5
             }
            },
            "type": "bar"
           }
          ],
          "barpolar": [
           {
            "marker": {
             "line": {
              "color": "#E5ECF6",
              "width": 0.5
             }
            },
            "type": "barpolar"
           }
          ],
          "carpet": [
           {
            "aaxis": {
             "endlinecolor": "#2a3f5f",
             "gridcolor": "white",
             "linecolor": "white",
             "minorgridcolor": "white",
             "startlinecolor": "#2a3f5f"
            },
            "baxis": {
             "endlinecolor": "#2a3f5f",
             "gridcolor": "white",
             "linecolor": "white",
             "minorgridcolor": "white",
             "startlinecolor": "#2a3f5f"
            },
            "type": "carpet"
           }
          ],
          "choropleth": [
           {
            "colorbar": {
             "outlinewidth": 0,
             "ticks": ""
            },
            "type": "choropleth"
           }
          ],
          "contour": [
           {
            "colorbar": {
             "outlinewidth": 0,
             "ticks": ""
            },
            "colorscale": [
             [
              0,
              "#0d0887"
             ],
             [
              0.1111111111111111,
              "#46039f"
             ],
             [
              0.2222222222222222,
              "#7201a8"
             ],
             [
              0.3333333333333333,
              "#9c179e"
             ],
             [
              0.4444444444444444,
              "#bd3786"
             ],
             [
              0.5555555555555556,
              "#d8576b"
             ],
             [
              0.6666666666666666,
              "#ed7953"
             ],
             [
              0.7777777777777778,
              "#fb9f3a"
             ],
             [
              0.8888888888888888,
              "#fdca26"
             ],
             [
              1,
              "#f0f921"
             ]
            ],
            "type": "contour"
           }
          ],
          "contourcarpet": [
           {
            "colorbar": {
             "outlinewidth": 0,
             "ticks": ""
            },
            "type": "contourcarpet"
           }
          ],
          "heatmap": [
           {
            "colorbar": {
             "outlinewidth": 0,
             "ticks": ""
            },
            "colorscale": [
             [
              0,
              "#0d0887"
             ],
             [
              0.1111111111111111,
              "#46039f"
             ],
             [
              0.2222222222222222,
              "#7201a8"
             ],
             [
              0.3333333333333333,
              "#9c179e"
             ],
             [
              0.4444444444444444,
              "#bd3786"
             ],
             [
              0.5555555555555556,
              "#d8576b"
             ],
             [
              0.6666666666666666,
              "#ed7953"
             ],
             [
              0.7777777777777778,
              "#fb9f3a"
             ],
             [
              0.8888888888888888,
              "#fdca26"
             ],
             [
              1,
              "#f0f921"
             ]
            ],
            "type": "heatmap"
           }
          ],
          "heatmapgl": [
           {
            "colorbar": {
             "outlinewidth": 0,
             "ticks": ""
            },
            "colorscale": [
             [
              0,
              "#0d0887"
             ],
             [
              0.1111111111111111,
              "#46039f"
             ],
             [
              0.2222222222222222,
              "#7201a8"
             ],
             [
              0.3333333333333333,
              "#9c179e"
             ],
             [
              0.4444444444444444,
              "#bd3786"
             ],
             [
              0.5555555555555556,
              "#d8576b"
             ],
             [
              0.6666666666666666,
              "#ed7953"
             ],
             [
              0.7777777777777778,
              "#fb9f3a"
             ],
             [
              0.8888888888888888,
              "#fdca26"
             ],
             [
              1,
              "#f0f921"
             ]
            ],
            "type": "heatmapgl"
           }
          ],
          "histogram": [
           {
            "marker": {
             "colorbar": {
              "outlinewidth": 0,
              "ticks": ""
             }
            },
            "type": "histogram"
           }
          ],
          "histogram2d": [
           {
            "colorbar": {
             "outlinewidth": 0,
             "ticks": ""
            },
            "colorscale": [
             [
              0,
              "#0d0887"
             ],
             [
              0.1111111111111111,
              "#46039f"
             ],
             [
              0.2222222222222222,
              "#7201a8"
             ],
             [
              0.3333333333333333,
              "#9c179e"
             ],
             [
              0.4444444444444444,
              "#bd3786"
             ],
             [
              0.5555555555555556,
              "#d8576b"
             ],
             [
              0.6666666666666666,
              "#ed7953"
             ],
             [
              0.7777777777777778,
              "#fb9f3a"
             ],
             [
              0.8888888888888888,
              "#fdca26"
             ],
             [
              1,
              "#f0f921"
             ]
            ],
            "type": "histogram2d"
           }
          ],
          "histogram2dcontour": [
           {
            "colorbar": {
             "outlinewidth": 0,
             "ticks": ""
            },
            "colorscale": [
             [
              0,
              "#0d0887"
             ],
             [
              0.1111111111111111,
              "#46039f"
             ],
             [
              0.2222222222222222,
              "#7201a8"
             ],
             [
              0.3333333333333333,
              "#9c179e"
             ],
             [
              0.4444444444444444,
              "#bd3786"
             ],
             [
              0.5555555555555556,
              "#d8576b"
             ],
             [
              0.6666666666666666,
              "#ed7953"
             ],
             [
              0.7777777777777778,
              "#fb9f3a"
             ],
             [
              0.8888888888888888,
              "#fdca26"
             ],
             [
              1,
              "#f0f921"
             ]
            ],
            "type": "histogram2dcontour"
           }
          ],
          "mesh3d": [
           {
            "colorbar": {
             "outlinewidth": 0,
             "ticks": ""
            },
            "type": "mesh3d"
           }
          ],
          "parcoords": [
           {
            "line": {
             "colorbar": {
              "outlinewidth": 0,
              "ticks": ""
             }
            },
            "type": "parcoords"
           }
          ],
          "pie": [
           {
            "automargin": true,
            "type": "pie"
           }
          ],
          "scatter": [
           {
            "marker": {
             "colorbar": {
              "outlinewidth": 0,
              "ticks": ""
             }
            },
            "type": "scatter"
           }
          ],
          "scatter3d": [
           {
            "line": {
             "colorbar": {
              "outlinewidth": 0,
              "ticks": ""
             }
            },
            "marker": {
             "colorbar": {
              "outlinewidth": 0,
              "ticks": ""
             }
            },
            "type": "scatter3d"
           }
          ],
          "scattercarpet": [
           {
            "marker": {
             "colorbar": {
              "outlinewidth": 0,
              "ticks": ""
             }
            },
            "type": "scattercarpet"
           }
          ],
          "scattergeo": [
           {
            "marker": {
             "colorbar": {
              "outlinewidth": 0,
              "ticks": ""
             }
            },
            "type": "scattergeo"
           }
          ],
          "scattergl": [
           {
            "marker": {
             "colorbar": {
              "outlinewidth": 0,
              "ticks": ""
             }
            },
            "type": "scattergl"
           }
          ],
          "scattermapbox": [
           {
            "marker": {
             "colorbar": {
              "outlinewidth": 0,
              "ticks": ""
             }
            },
            "type": "scattermapbox"
           }
          ],
          "scatterpolar": [
           {
            "marker": {
             "colorbar": {
              "outlinewidth": 0,
              "ticks": ""
             }
            },
            "type": "scatterpolar"
           }
          ],
          "scatterpolargl": [
           {
            "marker": {
             "colorbar": {
              "outlinewidth": 0,
              "ticks": ""
             }
            },
            "type": "scatterpolargl"
           }
          ],
          "scatterternary": [
           {
            "marker": {
             "colorbar": {
              "outlinewidth": 0,
              "ticks": ""
             }
            },
            "type": "scatterternary"
           }
          ],
          "surface": [
           {
            "colorbar": {
             "outlinewidth": 0,
             "ticks": ""
            },
            "colorscale": [
             [
              0,
              "#0d0887"
             ],
             [
              0.1111111111111111,
              "#46039f"
             ],
             [
              0.2222222222222222,
              "#7201a8"
             ],
             [
              0.3333333333333333,
              "#9c179e"
             ],
             [
              0.4444444444444444,
              "#bd3786"
             ],
             [
              0.5555555555555556,
              "#d8576b"
             ],
             [
              0.6666666666666666,
              "#ed7953"
             ],
             [
              0.7777777777777778,
              "#fb9f3a"
             ],
             [
              0.8888888888888888,
              "#fdca26"
             ],
             [
              1,
              "#f0f921"
             ]
            ],
            "type": "surface"
           }
          ],
          "table": [
           {
            "cells": {
             "fill": {
              "color": "#EBF0F8"
             },
             "line": {
              "color": "white"
             }
            },
            "header": {
             "fill": {
              "color": "#C8D4E3"
             },
             "line": {
              "color": "white"
             }
            },
            "type": "table"
           }
          ]
         },
         "layout": {
          "annotationdefaults": {
           "arrowcolor": "#2a3f5f",
           "arrowhead": 0,
           "arrowwidth": 1
          },
          "coloraxis": {
           "colorbar": {
            "outlinewidth": 0,
            "ticks": ""
           }
          },
          "colorscale": {
           "diverging": [
            [
             0,
             "#8e0152"
            ],
            [
             0.1,
             "#c51b7d"
            ],
            [
             0.2,
             "#de77ae"
            ],
            [
             0.3,
             "#f1b6da"
            ],
            [
             0.4,
             "#fde0ef"
            ],
            [
             0.5,
             "#f7f7f7"
            ],
            [
             0.6,
             "#e6f5d0"
            ],
            [
             0.7,
             "#b8e186"
            ],
            [
             0.8,
             "#7fbc41"
            ],
            [
             0.9,
             "#4d9221"
            ],
            [
             1,
             "#276419"
            ]
           ],
           "sequential": [
            [
             0,
             "#0d0887"
            ],
            [
             0.1111111111111111,
             "#46039f"
            ],
            [
             0.2222222222222222,
             "#7201a8"
            ],
            [
             0.3333333333333333,
             "#9c179e"
            ],
            [
             0.4444444444444444,
             "#bd3786"
            ],
            [
             0.5555555555555556,
             "#d8576b"
            ],
            [
             0.6666666666666666,
             "#ed7953"
            ],
            [
             0.7777777777777778,
             "#fb9f3a"
            ],
            [
             0.8888888888888888,
             "#fdca26"
            ],
            [
             1,
             "#f0f921"
            ]
           ],
           "sequentialminus": [
            [
             0,
             "#0d0887"
            ],
            [
             0.1111111111111111,
             "#46039f"
            ],
            [
             0.2222222222222222,
             "#7201a8"
            ],
            [
             0.3333333333333333,
             "#9c179e"
            ],
            [
             0.4444444444444444,
             "#bd3786"
            ],
            [
             0.5555555555555556,
             "#d8576b"
            ],
            [
             0.6666666666666666,
             "#ed7953"
            ],
            [
             0.7777777777777778,
             "#fb9f3a"
            ],
            [
             0.8888888888888888,
             "#fdca26"
            ],
            [
             1,
             "#f0f921"
            ]
           ]
          },
          "colorway": [
           "#636efa",
           "#EF553B",
           "#00cc96",
           "#ab63fa",
           "#FFA15A",
           "#19d3f3",
           "#FF6692",
           "#B6E880",
           "#FF97FF",
           "#FECB52"
          ],
          "font": {
           "color": "#2a3f5f"
          },
          "geo": {
           "bgcolor": "white",
           "lakecolor": "white",
           "landcolor": "#E5ECF6",
           "showlakes": true,
           "showland": true,
           "subunitcolor": "white"
          },
          "hoverlabel": {
           "align": "left"
          },
          "hovermode": "closest",
          "mapbox": {
           "style": "light"
          },
          "paper_bgcolor": "white",
          "plot_bgcolor": "#E5ECF6",
          "polar": {
           "angularaxis": {
            "gridcolor": "white",
            "linecolor": "white",
            "ticks": ""
           },
           "bgcolor": "#E5ECF6",
           "radialaxis": {
            "gridcolor": "white",
            "linecolor": "white",
            "ticks": ""
           }
          },
          "scene": {
           "xaxis": {
            "backgroundcolor": "#E5ECF6",
            "gridcolor": "white",
            "gridwidth": 2,
            "linecolor": "white",
            "showbackground": true,
            "ticks": "",
            "zerolinecolor": "white"
           },
           "yaxis": {
            "backgroundcolor": "#E5ECF6",
            "gridcolor": "white",
            "gridwidth": 2,
            "linecolor": "white",
            "showbackground": true,
            "ticks": "",
            "zerolinecolor": "white"
           },
           "zaxis": {
            "backgroundcolor": "#E5ECF6",
            "gridcolor": "white",
            "gridwidth": 2,
            "linecolor": "white",
            "showbackground": true,
            "ticks": "",
            "zerolinecolor": "white"
           }
          },
          "shapedefaults": {
           "line": {
            "color": "#2a3f5f"
           }
          },
          "ternary": {
           "aaxis": {
            "gridcolor": "white",
            "linecolor": "white",
            "ticks": ""
           },
           "baxis": {
            "gridcolor": "white",
            "linecolor": "white",
            "ticks": ""
           },
           "bgcolor": "#E5ECF6",
           "caxis": {
            "gridcolor": "white",
            "linecolor": "white",
            "ticks": ""
           }
          },
          "title": {
           "x": 0.05
          },
          "xaxis": {
           "automargin": true,
           "gridcolor": "white",
           "linecolor": "white",
           "ticks": "",
           "title": {
            "standoff": 15
           },
           "zerolinecolor": "white",
           "zerolinewidth": 2
          },
          "yaxis": {
           "automargin": true,
           "gridcolor": "white",
           "linecolor": "white",
           "ticks": "",
           "title": {
            "standoff": 15
           },
           "zerolinecolor": "white",
           "zerolinewidth": 2
          }
         }
        },
        "title": {
         "font": {
          "color": "#4D5663"
         }
        },
        "xaxis": {
         "gridcolor": "#E1E5ED",
         "showgrid": true,
         "tickfont": {
          "color": "#4D5663"
         },
         "title": {
          "font": {
           "color": "#4D5663"
          },
          "text": ""
         },
         "zerolinecolor": "#E1E5ED"
        },
        "yaxis": {
         "gridcolor": "#E1E5ED",
         "showgrid": true,
         "tickfont": {
          "color": "#4D5663"
         },
         "title": {
          "font": {
           "color": "#4D5663"
          },
          "text": ""
         },
         "zerolinecolor": "#E1E5ED"
        }
       }
      },
      "text/html": [
       "<div>\n",
       "        \n",
       "        \n",
       "            <div id=\"94f019c7-0fad-481b-a546-41c27b064a84\" class=\"plotly-graph-div\" style=\"height:525px; width:100%;\"></div>\n",
       "            <script type=\"text/javascript\">\n",
       "                require([\"plotly\"], function(Plotly) {\n",
       "                    window.PLOTLYENV=window.PLOTLYENV || {};\n",
       "                    window.PLOTLYENV.BASE_URL='https://plot.ly';\n",
       "                    \n",
       "                if (document.getElementById(\"94f019c7-0fad-481b-a546-41c27b064a84\")) {\n",
       "                    Plotly.newPlot(\n",
       "                        '94f019c7-0fad-481b-a546-41c27b064a84',\n",
       "                        [{\"histfunc\": \"count\", \"histnorm\": \"\", \"marker\": {\"color\": \"rgba(255, 153, 51, 1.0)\", \"line\": {\"color\": \"#4D5663\", \"width\": 1.3}}, \"name\": \"A\", \"nbinsx\": 25, \"opacity\": 0.8, \"orientation\": \"v\", \"type\": \"histogram\", \"x\": [0.5016259041677826, 0.39693214686922423, 0.15105045423677646, 0.23803313048951832, -0.9065096169526577, -0.5858144449744032, -1.1915955319013736, -0.48035108080156647, 0.3062837808136795, -1.3107717470084945, -1.4233859542149554, -1.6842219620749486, -0.6596666126340662, 1.1646748262573046, 0.5794136835164456, -0.9205239744803996, -0.7475740043983561, 0.6918046774990229, -0.6555066758516412, -1.3901183444688856, -1.5825350400322997, 0.7205935933384565, 0.8600132535274735, 1.4029869785814273, 0.3999588780574937, -0.28356727685485905, -0.8645411771163848, -1.6235254258188299, 1.6360859851250331, 0.2321715088292792, -1.5209747815314942, -1.5962544252034896, -0.22469373520940192, 0.8753232347181236, 0.5909199306008397, -1.9906485850036764, 0.7535751361189627, -0.29522547033898755, 0.5275685446294369, 0.490854014469745, -0.712958673119837, 1.199183739769989, -2.1716144020061234, 0.12954879730176844, 0.6577830296031418, -0.0944794689894394, -0.5824826846365383, 0.9537935224525297, 0.1491860042028232, 2.1676855898919563, -0.6035610892309228, -0.22958926388827122, -0.49516589618777085, -0.018281618517689203, -0.36824896094724463, -0.7026609698955638, 1.9970040310794626, -1.3398354306976554, 2.2132601709596034, -0.8850429260119838, -0.9979121569709356, 0.13341848060100922, -0.40690396935590933, 0.2898004741616915, 0.7263452114533693, 0.14363457123025744, 0.23020745995645697, 0.8286908386058912, -0.8694143942178151, -1.6292956737587923, 0.14828881101741534, 1.5579611550705739, 0.8703995897101646, 1.167026637852573, -0.7681957193858597, -0.6830233728445323, -0.6706761738439486, 0.9527201917461887, -0.5858980652427307, 0.6449352460476692, -0.681163803699951, 0.7760459110594783, 1.4041260003145961, -0.6405096339488137, 1.5846369943924745, -0.22837198279290108, -0.48738580327626524, 0.6355688871774738, -0.20426978259615566, 0.7349676391888955, -0.006914347400294714, 1.007185939619343, -1.7670966160755497, -0.4037183481284638, -0.412260784658639, -0.635749062487043, 0.4946209143651886, 2.0158526613892143, 0.5074910998586187, 0.08947531478456232]}],\n",
       "                        {\"barmode\": \"overlay\", \"legend\": {\"bgcolor\": \"#F5F6F9\", \"font\": {\"color\": \"#4D5663\"}}, \"paper_bgcolor\": \"#F5F6F9\", \"plot_bgcolor\": \"#F5F6F9\", \"template\": {\"data\": {\"bar\": [{\"error_x\": {\"color\": \"#2a3f5f\"}, \"error_y\": {\"color\": \"#2a3f5f\"}, \"marker\": {\"line\": {\"color\": \"#E5ECF6\", \"width\": 0.5}}, \"type\": \"bar\"}], \"barpolar\": [{\"marker\": {\"line\": {\"color\": \"#E5ECF6\", \"width\": 0.5}}, \"type\": \"barpolar\"}], \"carpet\": [{\"aaxis\": {\"endlinecolor\": \"#2a3f5f\", \"gridcolor\": \"white\", \"linecolor\": \"white\", \"minorgridcolor\": \"white\", \"startlinecolor\": \"#2a3f5f\"}, \"baxis\": {\"endlinecolor\": \"#2a3f5f\", \"gridcolor\": \"white\", \"linecolor\": \"white\", \"minorgridcolor\": \"white\", \"startlinecolor\": \"#2a3f5f\"}, \"type\": \"carpet\"}], \"choropleth\": [{\"colorbar\": {\"outlinewidth\": 0, \"ticks\": \"\"}, \"type\": \"choropleth\"}], \"contour\": [{\"colorbar\": {\"outlinewidth\": 0, \"ticks\": \"\"}, \"colorscale\": [[0.0, \"#0d0887\"], [0.1111111111111111, \"#46039f\"], [0.2222222222222222, \"#7201a8\"], [0.3333333333333333, \"#9c179e\"], [0.4444444444444444, \"#bd3786\"], [0.5555555555555556, \"#d8576b\"], [0.6666666666666666, \"#ed7953\"], [0.7777777777777778, \"#fb9f3a\"], [0.8888888888888888, \"#fdca26\"], [1.0, \"#f0f921\"]], \"type\": \"contour\"}], \"contourcarpet\": [{\"colorbar\": {\"outlinewidth\": 0, \"ticks\": \"\"}, \"type\": \"contourcarpet\"}], \"heatmap\": [{\"colorbar\": {\"outlinewidth\": 0, \"ticks\": \"\"}, \"colorscale\": [[0.0, \"#0d0887\"], [0.1111111111111111, \"#46039f\"], [0.2222222222222222, \"#7201a8\"], [0.3333333333333333, \"#9c179e\"], [0.4444444444444444, \"#bd3786\"], [0.5555555555555556, \"#d8576b\"], [0.6666666666666666, \"#ed7953\"], [0.7777777777777778, \"#fb9f3a\"], [0.8888888888888888, \"#fdca26\"], [1.0, \"#f0f921\"]], \"type\": \"heatmap\"}], \"heatmapgl\": [{\"colorbar\": {\"outlinewidth\": 0, \"ticks\": \"\"}, \"colorscale\": [[0.0, \"#0d0887\"], [0.1111111111111111, \"#46039f\"], [0.2222222222222222, \"#7201a8\"], [0.3333333333333333, \"#9c179e\"], [0.4444444444444444, \"#bd3786\"], [0.5555555555555556, \"#d8576b\"], [0.6666666666666666, \"#ed7953\"], [0.7777777777777778, \"#fb9f3a\"], [0.8888888888888888, \"#fdca26\"], [1.0, \"#f0f921\"]], \"type\": \"heatmapgl\"}], \"histogram\": [{\"marker\": {\"colorbar\": {\"outlinewidth\": 0, \"ticks\": \"\"}}, \"type\": \"histogram\"}], \"histogram2d\": [{\"colorbar\": {\"outlinewidth\": 0, \"ticks\": \"\"}, \"colorscale\": [[0.0, \"#0d0887\"], [0.1111111111111111, \"#46039f\"], [0.2222222222222222, \"#7201a8\"], [0.3333333333333333, \"#9c179e\"], [0.4444444444444444, \"#bd3786\"], [0.5555555555555556, \"#d8576b\"], [0.6666666666666666, \"#ed7953\"], [0.7777777777777778, \"#fb9f3a\"], [0.8888888888888888, \"#fdca26\"], [1.0, \"#f0f921\"]], \"type\": \"histogram2d\"}], \"histogram2dcontour\": [{\"colorbar\": {\"outlinewidth\": 0, \"ticks\": \"\"}, \"colorscale\": [[0.0, \"#0d0887\"], [0.1111111111111111, \"#46039f\"], [0.2222222222222222, \"#7201a8\"], [0.3333333333333333, \"#9c179e\"], [0.4444444444444444, \"#bd3786\"], [0.5555555555555556, \"#d8576b\"], [0.6666666666666666, \"#ed7953\"], [0.7777777777777778, \"#fb9f3a\"], [0.8888888888888888, \"#fdca26\"], [1.0, \"#f0f921\"]], \"type\": \"histogram2dcontour\"}], \"mesh3d\": [{\"colorbar\": {\"outlinewidth\": 0, \"ticks\": \"\"}, \"type\": \"mesh3d\"}], \"parcoords\": [{\"line\": {\"colorbar\": {\"outlinewidth\": 0, \"ticks\": \"\"}}, \"type\": \"parcoords\"}], \"pie\": [{\"automargin\": true, \"type\": \"pie\"}], \"scatter\": [{\"marker\": {\"colorbar\": {\"outlinewidth\": 0, \"ticks\": \"\"}}, \"type\": \"scatter\"}], \"scatter3d\": [{\"line\": {\"colorbar\": {\"outlinewidth\": 0, \"ticks\": \"\"}}, \"marker\": {\"colorbar\": {\"outlinewidth\": 0, \"ticks\": \"\"}}, \"type\": \"scatter3d\"}], \"scattercarpet\": [{\"marker\": {\"colorbar\": {\"outlinewidth\": 0, \"ticks\": \"\"}}, \"type\": \"scattercarpet\"}], \"scattergeo\": [{\"marker\": {\"colorbar\": {\"outlinewidth\": 0, \"ticks\": \"\"}}, \"type\": \"scattergeo\"}], \"scattergl\": [{\"marker\": {\"colorbar\": {\"outlinewidth\": 0, \"ticks\": \"\"}}, \"type\": \"scattergl\"}], \"scattermapbox\": [{\"marker\": {\"colorbar\": {\"outlinewidth\": 0, \"ticks\": \"\"}}, \"type\": \"scattermapbox\"}], \"scatterpolar\": [{\"marker\": {\"colorbar\": {\"outlinewidth\": 0, \"ticks\": \"\"}}, \"type\": \"scatterpolar\"}], \"scatterpolargl\": [{\"marker\": {\"colorbar\": {\"outlinewidth\": 0, \"ticks\": \"\"}}, \"type\": \"scatterpolargl\"}], \"scatterternary\": [{\"marker\": {\"colorbar\": {\"outlinewidth\": 0, \"ticks\": \"\"}}, \"type\": \"scatterternary\"}], \"surface\": [{\"colorbar\": {\"outlinewidth\": 0, \"ticks\": \"\"}, \"colorscale\": [[0.0, \"#0d0887\"], [0.1111111111111111, \"#46039f\"], [0.2222222222222222, \"#7201a8\"], [0.3333333333333333, \"#9c179e\"], [0.4444444444444444, \"#bd3786\"], [0.5555555555555556, \"#d8576b\"], [0.6666666666666666, \"#ed7953\"], [0.7777777777777778, \"#fb9f3a\"], [0.8888888888888888, \"#fdca26\"], [1.0, \"#f0f921\"]], \"type\": \"surface\"}], \"table\": [{\"cells\": {\"fill\": {\"color\": \"#EBF0F8\"}, \"line\": {\"color\": \"white\"}}, \"header\": {\"fill\": {\"color\": \"#C8D4E3\"}, \"line\": {\"color\": \"white\"}}, \"type\": \"table\"}]}, \"layout\": {\"annotationdefaults\": {\"arrowcolor\": \"#2a3f5f\", \"arrowhead\": 0, \"arrowwidth\": 1}, \"coloraxis\": {\"colorbar\": {\"outlinewidth\": 0, \"ticks\": \"\"}}, \"colorscale\": {\"diverging\": [[0, \"#8e0152\"], [0.1, \"#c51b7d\"], [0.2, \"#de77ae\"], [0.3, \"#f1b6da\"], [0.4, \"#fde0ef\"], [0.5, \"#f7f7f7\"], [0.6, \"#e6f5d0\"], [0.7, \"#b8e186\"], [0.8, \"#7fbc41\"], [0.9, \"#4d9221\"], [1, \"#276419\"]], \"sequential\": [[0.0, \"#0d0887\"], [0.1111111111111111, \"#46039f\"], [0.2222222222222222, \"#7201a8\"], [0.3333333333333333, \"#9c179e\"], [0.4444444444444444, \"#bd3786\"], [0.5555555555555556, \"#d8576b\"], [0.6666666666666666, \"#ed7953\"], [0.7777777777777778, \"#fb9f3a\"], [0.8888888888888888, \"#fdca26\"], [1.0, \"#f0f921\"]], \"sequentialminus\": [[0.0, \"#0d0887\"], [0.1111111111111111, \"#46039f\"], [0.2222222222222222, \"#7201a8\"], [0.3333333333333333, \"#9c179e\"], [0.4444444444444444, \"#bd3786\"], [0.5555555555555556, \"#d8576b\"], [0.6666666666666666, \"#ed7953\"], [0.7777777777777778, \"#fb9f3a\"], [0.8888888888888888, \"#fdca26\"], [1.0, \"#f0f921\"]]}, \"colorway\": [\"#636efa\", \"#EF553B\", \"#00cc96\", \"#ab63fa\", \"#FFA15A\", \"#19d3f3\", \"#FF6692\", \"#B6E880\", \"#FF97FF\", \"#FECB52\"], \"font\": {\"color\": \"#2a3f5f\"}, \"geo\": {\"bgcolor\": \"white\", \"lakecolor\": \"white\", \"landcolor\": \"#E5ECF6\", \"showlakes\": true, \"showland\": true, \"subunitcolor\": \"white\"}, \"hoverlabel\": {\"align\": \"left\"}, \"hovermode\": \"closest\", \"mapbox\": {\"style\": \"light\"}, \"paper_bgcolor\": \"white\", \"plot_bgcolor\": \"#E5ECF6\", \"polar\": {\"angularaxis\": {\"gridcolor\": \"white\", \"linecolor\": \"white\", \"ticks\": \"\"}, \"bgcolor\": \"#E5ECF6\", \"radialaxis\": {\"gridcolor\": \"white\", \"linecolor\": \"white\", \"ticks\": \"\"}}, \"scene\": {\"xaxis\": {\"backgroundcolor\": \"#E5ECF6\", \"gridcolor\": \"white\", \"gridwidth\": 2, \"linecolor\": \"white\", \"showbackground\": true, \"ticks\": \"\", \"zerolinecolor\": \"white\"}, \"yaxis\": {\"backgroundcolor\": \"#E5ECF6\", \"gridcolor\": \"white\", \"gridwidth\": 2, \"linecolor\": \"white\", \"showbackground\": true, \"ticks\": \"\", \"zerolinecolor\": \"white\"}, \"zaxis\": {\"backgroundcolor\": \"#E5ECF6\", \"gridcolor\": \"white\", \"gridwidth\": 2, \"linecolor\": \"white\", \"showbackground\": true, \"ticks\": \"\", \"zerolinecolor\": \"white\"}}, \"shapedefaults\": {\"line\": {\"color\": \"#2a3f5f\"}}, \"ternary\": {\"aaxis\": {\"gridcolor\": \"white\", \"linecolor\": \"white\", \"ticks\": \"\"}, \"baxis\": {\"gridcolor\": \"white\", \"linecolor\": \"white\", \"ticks\": \"\"}, \"bgcolor\": \"#E5ECF6\", \"caxis\": {\"gridcolor\": \"white\", \"linecolor\": \"white\", \"ticks\": \"\"}}, \"title\": {\"x\": 0.05}, \"xaxis\": {\"automargin\": true, \"gridcolor\": \"white\", \"linecolor\": \"white\", \"ticks\": \"\", \"title\": {\"standoff\": 15}, \"zerolinecolor\": \"white\", \"zerolinewidth\": 2}, \"yaxis\": {\"automargin\": true, \"gridcolor\": \"white\", \"linecolor\": \"white\", \"ticks\": \"\", \"title\": {\"standoff\": 15}, \"zerolinecolor\": \"white\", \"zerolinewidth\": 2}}}, \"title\": {\"font\": {\"color\": \"#4D5663\"}}, \"xaxis\": {\"gridcolor\": \"#E1E5ED\", \"showgrid\": true, \"tickfont\": {\"color\": \"#4D5663\"}, \"title\": {\"font\": {\"color\": \"#4D5663\"}, \"text\": \"\"}, \"zerolinecolor\": \"#E1E5ED\"}, \"yaxis\": {\"gridcolor\": \"#E1E5ED\", \"showgrid\": true, \"tickfont\": {\"color\": \"#4D5663\"}, \"title\": {\"font\": {\"color\": \"#4D5663\"}, \"text\": \"\"}, \"zerolinecolor\": \"#E1E5ED\"}},\n",
       "                        {\"showLink\": true, \"linkText\": \"Export to plot.ly\", \"plotlyServerURL\": \"https://plot.ly\", \"responsive\": true}\n",
       "                    ).then(function(){\n",
       "                            \n",
       "var gd = document.getElementById('94f019c7-0fad-481b-a546-41c27b064a84');\n",
       "var x = new MutationObserver(function (mutations, observer) {{\n",
       "        var display = window.getComputedStyle(gd).display;\n",
       "        if (!display || display === 'none') {{\n",
       "            console.log([gd, 'removed!']);\n",
       "            Plotly.purge(gd);\n",
       "            observer.disconnect();\n",
       "        }}\n",
       "}});\n",
       "\n",
       "// Listen for the removal of the full notebook cells\n",
       "var notebookContainer = gd.closest('#notebook-container');\n",
       "if (notebookContainer) {{\n",
       "    x.observe(notebookContainer, {childList: true});\n",
       "}}\n",
       "\n",
       "// Listen for the clearing of the current output cell\n",
       "var outputEl = gd.closest('.output');\n",
       "if (outputEl) {{\n",
       "    x.observe(outputEl, {childList: true});\n",
       "}}\n",
       "\n",
       "                        })\n",
       "                };\n",
       "                });\n",
       "            </script>\n",
       "        </div>"
      ]
     },
     "metadata": {},
     "output_type": "display_data"
    }
   ],
   "source": [
    "df['A'].iplot(kind='hist',bins=25)"
   ]
  },
  {
   "cell_type": "markdown",
   "metadata": {},
   "source": [
    "## Bolha"
   ]
  },
  {
   "cell_type": "code",
   "execution_count": 17,
   "metadata": {},
   "outputs": [
    {
     "data": {
      "application/vnd.plotly.v1+json": {
       "config": {
        "linkText": "Export to plot.ly",
        "plotlyServerURL": "https://plot.ly",
        "showLink": true
       },
       "data": [
        {
         "marker": {
          "color": [
           "rgb(255, 153, 51)",
           "rgb(55, 128, 191)",
           "rgb(50, 171, 96)",
           "rgb(128, 0, 128)",
           "rgb(219, 64, 82)",
           "rgb(0, 128, 128)",
           "rgb(255, 255, 51)",
           "rgb(128, 128, 0)",
           "rgb(251, 128, 114)",
           "rgb(128, 177, 211)"
          ],
          "line": {
           "width": 1.3
          },
          "size": [
           89,
           58,
           22,
           64,
           107,
           76,
           64,
           88,
           53,
           92,
           49,
           86,
           58,
           86,
           68,
           74,
           85,
           62,
           51,
           46,
           61,
           47,
           52,
           67,
           46,
           59,
           47,
           49,
           92,
           36,
           93,
           12,
           63,
           17,
           73,
           57,
           74,
           96,
           68,
           37,
           51,
           68,
           74,
           32,
           48,
           24,
           51,
           76,
           83,
           59,
           45,
           56,
           29,
           64,
           30,
           99,
           80,
           83,
           71,
           52,
           58,
           71,
           64,
           71,
           67,
           73,
           52,
           17,
           82,
           60,
           66,
           49,
           34,
           70,
           80,
           62,
           69,
           46,
           63,
           69,
           16,
           46,
           75,
           59,
           48,
           77,
           36,
           19,
           54,
           91,
           84,
           42,
           41,
           45,
           112,
           38,
           75,
           92,
           57,
           59
          ],
          "symbol": "circle"
         },
         "mode": "markers",
         "text": "",
         "type": "scatter",
         "x": [
          0.5016259041677826,
          0.39693214686922423,
          0.15105045423677646,
          0.23803313048951832,
          -0.9065096169526577,
          -0.5858144449744032,
          -1.1915955319013736,
          -0.48035108080156647,
          0.3062837808136795,
          -1.3107717470084945,
          -1.4233859542149554,
          -1.6842219620749486,
          -0.6596666126340662,
          1.1646748262573046,
          0.5794136835164456,
          -0.9205239744803996,
          -0.7475740043983561,
          0.6918046774990229,
          -0.6555066758516412,
          -1.3901183444688856,
          -1.5825350400322997,
          0.7205935933384565,
          0.8600132535274735,
          1.4029869785814273,
          0.3999588780574937,
          -0.28356727685485905,
          -0.8645411771163848,
          -1.6235254258188299,
          1.6360859851250331,
          0.2321715088292792,
          -1.5209747815314942,
          -1.5962544252034896,
          -0.22469373520940192,
          0.8753232347181236,
          0.5909199306008397,
          -1.9906485850036764,
          0.7535751361189627,
          -0.29522547033898755,
          0.5275685446294369,
          0.490854014469745,
          -0.712958673119837,
          1.199183739769989,
          -2.1716144020061234,
          0.12954879730176844,
          0.6577830296031418,
          -0.0944794689894394,
          -0.5824826846365383,
          0.9537935224525297,
          0.1491860042028232,
          2.1676855898919563,
          -0.6035610892309228,
          -0.22958926388827122,
          -0.49516589618777085,
          -0.018281618517689203,
          -0.36824896094724463,
          -0.7026609698955638,
          1.9970040310794626,
          -1.3398354306976554,
          2.2132601709596034,
          -0.8850429260119838,
          -0.9979121569709356,
          0.13341848060100922,
          -0.40690396935590933,
          0.2898004741616915,
          0.7263452114533693,
          0.14363457123025744,
          0.23020745995645697,
          0.8286908386058912,
          -0.8694143942178151,
          -1.6292956737587923,
          0.14828881101741534,
          1.5579611550705739,
          0.8703995897101646,
          1.167026637852573,
          -0.7681957193858597,
          -0.6830233728445323,
          -0.6706761738439486,
          0.9527201917461887,
          -0.5858980652427307,
          0.6449352460476692,
          -0.681163803699951,
          0.7760459110594783,
          1.4041260003145961,
          -0.6405096339488137,
          1.5846369943924745,
          -0.22837198279290108,
          -0.48738580327626524,
          0.6355688871774738,
          -0.20426978259615566,
          0.7349676391888955,
          -0.006914347400294714,
          1.007185939619343,
          -1.7670966160755497,
          -0.4037183481284638,
          -0.412260784658639,
          -0.635749062487043,
          0.4946209143651886,
          2.0158526613892143,
          0.5074910998586187,
          0.08947531478456232
         ],
         "y": [
          -1.9614203298059667,
          0.09936386900591583,
          -0.12144634499406161,
          1.554896718036771,
          -1.28034147685133,
          1.4495445156838505,
          1.7043191329220253,
          -0.1826710330788866,
          -1.1631386699224067,
          0.46320754943208586,
          0.8858530141908567,
          -1.946179055103767,
          -2.826068861858329,
          1.2390237313446868,
          2.232962625610061,
          -0.6139100019761206,
          1.1633069274370054,
          1.2847212723722892,
          0.6878043933686491,
          0.7235693210003209,
          -0.2185254899678108,
          -0.9214353960475222,
          0.15372078451738289,
          0.04489774131848886,
          0.5591063348832644,
          -2.181074948739284,
          -0.44650935884237547,
          1.1285339969324604,
          -0.7997050437978639,
          0.3875274586091636,
          -1.4428124598172498,
          0.30718817340815485,
          -0.6772227705725071,
          -0.1354732158537621,
          -1.2041156443182979,
          -1.2991223536512906,
          -0.13337659677773347,
          1.6248163917469887,
          0.5014564732098982,
          -1.0421670872846438,
          1.1119405623616914,
          -0.3094230119341551,
          -2.2170148072154485,
          0.858164908480128,
          0.1937476866948945,
          1.3977161455052047,
          -0.6449582533006257,
          1.3374399804360335,
          0.2793771508696186,
          0.8595426716872022,
          -0.41316843657047914,
          2.0650357867171323,
          -0.18891294488257573,
          0.9120687728370215,
          0.47170982743301826,
          1.3995286681965595,
          2.9523359856753846,
          -0.2156573600877058,
          1.2300249799992218,
          0.44073317967212594,
          -0.022066795843629753,
          -0.5268852194942298,
          0.20730381958503605,
          0.733416713650668,
          0.8443419934049715,
          0.5020396864019491,
          -1.716772241166739,
          -1.307899712809543,
          -0.7197586602891242,
          -0.08191442847370518,
          0.1940732093735313,
          0.2997729938918538,
          0.5614337584535843,
          -2.2236930656077147,
          2.4054694857642724,
          -0.19495874877554625,
          -0.4798629195672261,
          0.9496321492408094,
          0.5747577660446029,
          0.08321313793747716,
          0.08592142084810923,
          0.3186989355807172,
          -0.33161156787469626,
          -1.228139146584102,
          1.0412808771345305,
          -0.35277139062308255,
          1.4039866662846174,
          0.49307280755934046,
          -0.21875339647065745,
          -0.8874140347814174,
          0.35738348561054833,
          -0.11798431425933198,
          -1.1602205281237221,
          0.2578188391703287,
          -0.25241907572889893,
          -1.1757576099571745,
          1.978974245352124,
          0.374565818914298,
          -1.3255402973767965,
          2.2331800939792528
         ]
        }
       ],
       "layout": {
        "legend": {
         "bgcolor": "#F5F6F9",
         "font": {
          "color": "#4D5663"
         }
        },
        "paper_bgcolor": "#F5F6F9",
        "plot_bgcolor": "#F5F6F9",
        "template": {
         "data": {
          "bar": [
           {
            "error_x": {
             "color": "#2a3f5f"
            },
            "error_y": {
             "color": "#2a3f5f"
            },
            "marker": {
             "line": {
              "color": "#E5ECF6",
              "width": 0.5
             }
            },
            "type": "bar"
           }
          ],
          "barpolar": [
           {
            "marker": {
             "line": {
              "color": "#E5ECF6",
              "width": 0.5
             }
            },
            "type": "barpolar"
           }
          ],
          "carpet": [
           {
            "aaxis": {
             "endlinecolor": "#2a3f5f",
             "gridcolor": "white",
             "linecolor": "white",
             "minorgridcolor": "white",
             "startlinecolor": "#2a3f5f"
            },
            "baxis": {
             "endlinecolor": "#2a3f5f",
             "gridcolor": "white",
             "linecolor": "white",
             "minorgridcolor": "white",
             "startlinecolor": "#2a3f5f"
            },
            "type": "carpet"
           }
          ],
          "choropleth": [
           {
            "colorbar": {
             "outlinewidth": 0,
             "ticks": ""
            },
            "type": "choropleth"
           }
          ],
          "contour": [
           {
            "colorbar": {
             "outlinewidth": 0,
             "ticks": ""
            },
            "colorscale": [
             [
              0,
              "#0d0887"
             ],
             [
              0.1111111111111111,
              "#46039f"
             ],
             [
              0.2222222222222222,
              "#7201a8"
             ],
             [
              0.3333333333333333,
              "#9c179e"
             ],
             [
              0.4444444444444444,
              "#bd3786"
             ],
             [
              0.5555555555555556,
              "#d8576b"
             ],
             [
              0.6666666666666666,
              "#ed7953"
             ],
             [
              0.7777777777777778,
              "#fb9f3a"
             ],
             [
              0.8888888888888888,
              "#fdca26"
             ],
             [
              1,
              "#f0f921"
             ]
            ],
            "type": "contour"
           }
          ],
          "contourcarpet": [
           {
            "colorbar": {
             "outlinewidth": 0,
             "ticks": ""
            },
            "type": "contourcarpet"
           }
          ],
          "heatmap": [
           {
            "colorbar": {
             "outlinewidth": 0,
             "ticks": ""
            },
            "colorscale": [
             [
              0,
              "#0d0887"
             ],
             [
              0.1111111111111111,
              "#46039f"
             ],
             [
              0.2222222222222222,
              "#7201a8"
             ],
             [
              0.3333333333333333,
              "#9c179e"
             ],
             [
              0.4444444444444444,
              "#bd3786"
             ],
             [
              0.5555555555555556,
              "#d8576b"
             ],
             [
              0.6666666666666666,
              "#ed7953"
             ],
             [
              0.7777777777777778,
              "#fb9f3a"
             ],
             [
              0.8888888888888888,
              "#fdca26"
             ],
             [
              1,
              "#f0f921"
             ]
            ],
            "type": "heatmap"
           }
          ],
          "heatmapgl": [
           {
            "colorbar": {
             "outlinewidth": 0,
             "ticks": ""
            },
            "colorscale": [
             [
              0,
              "#0d0887"
             ],
             [
              0.1111111111111111,
              "#46039f"
             ],
             [
              0.2222222222222222,
              "#7201a8"
             ],
             [
              0.3333333333333333,
              "#9c179e"
             ],
             [
              0.4444444444444444,
              "#bd3786"
             ],
             [
              0.5555555555555556,
              "#d8576b"
             ],
             [
              0.6666666666666666,
              "#ed7953"
             ],
             [
              0.7777777777777778,
              "#fb9f3a"
             ],
             [
              0.8888888888888888,
              "#fdca26"
             ],
             [
              1,
              "#f0f921"
             ]
            ],
            "type": "heatmapgl"
           }
          ],
          "histogram": [
           {
            "marker": {
             "colorbar": {
              "outlinewidth": 0,
              "ticks": ""
             }
            },
            "type": "histogram"
           }
          ],
          "histogram2d": [
           {
            "colorbar": {
             "outlinewidth": 0,
             "ticks": ""
            },
            "colorscale": [
             [
              0,
              "#0d0887"
             ],
             [
              0.1111111111111111,
              "#46039f"
             ],
             [
              0.2222222222222222,
              "#7201a8"
             ],
             [
              0.3333333333333333,
              "#9c179e"
             ],
             [
              0.4444444444444444,
              "#bd3786"
             ],
             [
              0.5555555555555556,
              "#d8576b"
             ],
             [
              0.6666666666666666,
              "#ed7953"
             ],
             [
              0.7777777777777778,
              "#fb9f3a"
             ],
             [
              0.8888888888888888,
              "#fdca26"
             ],
             [
              1,
              "#f0f921"
             ]
            ],
            "type": "histogram2d"
           }
          ],
          "histogram2dcontour": [
           {
            "colorbar": {
             "outlinewidth": 0,
             "ticks": ""
            },
            "colorscale": [
             [
              0,
              "#0d0887"
             ],
             [
              0.1111111111111111,
              "#46039f"
             ],
             [
              0.2222222222222222,
              "#7201a8"
             ],
             [
              0.3333333333333333,
              "#9c179e"
             ],
             [
              0.4444444444444444,
              "#bd3786"
             ],
             [
              0.5555555555555556,
              "#d8576b"
             ],
             [
              0.6666666666666666,
              "#ed7953"
             ],
             [
              0.7777777777777778,
              "#fb9f3a"
             ],
             [
              0.8888888888888888,
              "#fdca26"
             ],
             [
              1,
              "#f0f921"
             ]
            ],
            "type": "histogram2dcontour"
           }
          ],
          "mesh3d": [
           {
            "colorbar": {
             "outlinewidth": 0,
             "ticks": ""
            },
            "type": "mesh3d"
           }
          ],
          "parcoords": [
           {
            "line": {
             "colorbar": {
              "outlinewidth": 0,
              "ticks": ""
             }
            },
            "type": "parcoords"
           }
          ],
          "pie": [
           {
            "automargin": true,
            "type": "pie"
           }
          ],
          "scatter": [
           {
            "marker": {
             "colorbar": {
              "outlinewidth": 0,
              "ticks": ""
             }
            },
            "type": "scatter"
           }
          ],
          "scatter3d": [
           {
            "line": {
             "colorbar": {
              "outlinewidth": 0,
              "ticks": ""
             }
            },
            "marker": {
             "colorbar": {
              "outlinewidth": 0,
              "ticks": ""
             }
            },
            "type": "scatter3d"
           }
          ],
          "scattercarpet": [
           {
            "marker": {
             "colorbar": {
              "outlinewidth": 0,
              "ticks": ""
             }
            },
            "type": "scattercarpet"
           }
          ],
          "scattergeo": [
           {
            "marker": {
             "colorbar": {
              "outlinewidth": 0,
              "ticks": ""
             }
            },
            "type": "scattergeo"
           }
          ],
          "scattergl": [
           {
            "marker": {
             "colorbar": {
              "outlinewidth": 0,
              "ticks": ""
             }
            },
            "type": "scattergl"
           }
          ],
          "scattermapbox": [
           {
            "marker": {
             "colorbar": {
              "outlinewidth": 0,
              "ticks": ""
             }
            },
            "type": "scattermapbox"
           }
          ],
          "scatterpolar": [
           {
            "marker": {
             "colorbar": {
              "outlinewidth": 0,
              "ticks": ""
             }
            },
            "type": "scatterpolar"
           }
          ],
          "scatterpolargl": [
           {
            "marker": {
             "colorbar": {
              "outlinewidth": 0,
              "ticks": ""
             }
            },
            "type": "scatterpolargl"
           }
          ],
          "scatterternary": [
           {
            "marker": {
             "colorbar": {
              "outlinewidth": 0,
              "ticks": ""
             }
            },
            "type": "scatterternary"
           }
          ],
          "surface": [
           {
            "colorbar": {
             "outlinewidth": 0,
             "ticks": ""
            },
            "colorscale": [
             [
              0,
              "#0d0887"
             ],
             [
              0.1111111111111111,
              "#46039f"
             ],
             [
              0.2222222222222222,
              "#7201a8"
             ],
             [
              0.3333333333333333,
              "#9c179e"
             ],
             [
              0.4444444444444444,
              "#bd3786"
             ],
             [
              0.5555555555555556,
              "#d8576b"
             ],
             [
              0.6666666666666666,
              "#ed7953"
             ],
             [
              0.7777777777777778,
              "#fb9f3a"
             ],
             [
              0.8888888888888888,
              "#fdca26"
             ],
             [
              1,
              "#f0f921"
             ]
            ],
            "type": "surface"
           }
          ],
          "table": [
           {
            "cells": {
             "fill": {
              "color": "#EBF0F8"
             },
             "line": {
              "color": "white"
             }
            },
            "header": {
             "fill": {
              "color": "#C8D4E3"
             },
             "line": {
              "color": "white"
             }
            },
            "type": "table"
           }
          ]
         },
         "layout": {
          "annotationdefaults": {
           "arrowcolor": "#2a3f5f",
           "arrowhead": 0,
           "arrowwidth": 1
          },
          "coloraxis": {
           "colorbar": {
            "outlinewidth": 0,
            "ticks": ""
           }
          },
          "colorscale": {
           "diverging": [
            [
             0,
             "#8e0152"
            ],
            [
             0.1,
             "#c51b7d"
            ],
            [
             0.2,
             "#de77ae"
            ],
            [
             0.3,
             "#f1b6da"
            ],
            [
             0.4,
             "#fde0ef"
            ],
            [
             0.5,
             "#f7f7f7"
            ],
            [
             0.6,
             "#e6f5d0"
            ],
            [
             0.7,
             "#b8e186"
            ],
            [
             0.8,
             "#7fbc41"
            ],
            [
             0.9,
             "#4d9221"
            ],
            [
             1,
             "#276419"
            ]
           ],
           "sequential": [
            [
             0,
             "#0d0887"
            ],
            [
             0.1111111111111111,
             "#46039f"
            ],
            [
             0.2222222222222222,
             "#7201a8"
            ],
            [
             0.3333333333333333,
             "#9c179e"
            ],
            [
             0.4444444444444444,
             "#bd3786"
            ],
            [
             0.5555555555555556,
             "#d8576b"
            ],
            [
             0.6666666666666666,
             "#ed7953"
            ],
            [
             0.7777777777777778,
             "#fb9f3a"
            ],
            [
             0.8888888888888888,
             "#fdca26"
            ],
            [
             1,
             "#f0f921"
            ]
           ],
           "sequentialminus": [
            [
             0,
             "#0d0887"
            ],
            [
             0.1111111111111111,
             "#46039f"
            ],
            [
             0.2222222222222222,
             "#7201a8"
            ],
            [
             0.3333333333333333,
             "#9c179e"
            ],
            [
             0.4444444444444444,
             "#bd3786"
            ],
            [
             0.5555555555555556,
             "#d8576b"
            ],
            [
             0.6666666666666666,
             "#ed7953"
            ],
            [
             0.7777777777777778,
             "#fb9f3a"
            ],
            [
             0.8888888888888888,
             "#fdca26"
            ],
            [
             1,
             "#f0f921"
            ]
           ]
          },
          "colorway": [
           "#636efa",
           "#EF553B",
           "#00cc96",
           "#ab63fa",
           "#FFA15A",
           "#19d3f3",
           "#FF6692",
           "#B6E880",
           "#FF97FF",
           "#FECB52"
          ],
          "font": {
           "color": "#2a3f5f"
          },
          "geo": {
           "bgcolor": "white",
           "lakecolor": "white",
           "landcolor": "#E5ECF6",
           "showlakes": true,
           "showland": true,
           "subunitcolor": "white"
          },
          "hoverlabel": {
           "align": "left"
          },
          "hovermode": "closest",
          "mapbox": {
           "style": "light"
          },
          "paper_bgcolor": "white",
          "plot_bgcolor": "#E5ECF6",
          "polar": {
           "angularaxis": {
            "gridcolor": "white",
            "linecolor": "white",
            "ticks": ""
           },
           "bgcolor": "#E5ECF6",
           "radialaxis": {
            "gridcolor": "white",
            "linecolor": "white",
            "ticks": ""
           }
          },
          "scene": {
           "xaxis": {
            "backgroundcolor": "#E5ECF6",
            "gridcolor": "white",
            "gridwidth": 2,
            "linecolor": "white",
            "showbackground": true,
            "ticks": "",
            "zerolinecolor": "white"
           },
           "yaxis": {
            "backgroundcolor": "#E5ECF6",
            "gridcolor": "white",
            "gridwidth": 2,
            "linecolor": "white",
            "showbackground": true,
            "ticks": "",
            "zerolinecolor": "white"
           },
           "zaxis": {
            "backgroundcolor": "#E5ECF6",
            "gridcolor": "white",
            "gridwidth": 2,
            "linecolor": "white",
            "showbackground": true,
            "ticks": "",
            "zerolinecolor": "white"
           }
          },
          "shapedefaults": {
           "line": {
            "color": "#2a3f5f"
           }
          },
          "ternary": {
           "aaxis": {
            "gridcolor": "white",
            "linecolor": "white",
            "ticks": ""
           },
           "baxis": {
            "gridcolor": "white",
            "linecolor": "white",
            "ticks": ""
           },
           "bgcolor": "#E5ECF6",
           "caxis": {
            "gridcolor": "white",
            "linecolor": "white",
            "ticks": ""
           }
          },
          "title": {
           "x": 0.05
          },
          "xaxis": {
           "automargin": true,
           "gridcolor": "white",
           "linecolor": "white",
           "ticks": "",
           "title": {
            "standoff": 15
           },
           "zerolinecolor": "white",
           "zerolinewidth": 2
          },
          "yaxis": {
           "automargin": true,
           "gridcolor": "white",
           "linecolor": "white",
           "ticks": "",
           "title": {
            "standoff": 15
           },
           "zerolinecolor": "white",
           "zerolinewidth": 2
          }
         }
        },
        "title": {
         "font": {
          "color": "#4D5663"
         }
        },
        "xaxis": {
         "gridcolor": "#E1E5ED",
         "showgrid": true,
         "tickfont": {
          "color": "#4D5663"
         },
         "title": {
          "font": {
           "color": "#4D5663"
          },
          "text": ""
         },
         "zerolinecolor": "#E1E5ED"
        },
        "yaxis": {
         "gridcolor": "#E1E5ED",
         "showgrid": true,
         "tickfont": {
          "color": "#4D5663"
         },
         "title": {
          "font": {
           "color": "#4D5663"
          },
          "text": ""
         },
         "zerolinecolor": "#E1E5ED"
        }
       }
      },
      "text/html": [
       "<div>\n",
       "        \n",
       "        \n",
       "            <div id=\"0c69512b-0d31-4db1-bee3-e9bf0e464d18\" class=\"plotly-graph-div\" style=\"height:525px; width:100%;\"></div>\n",
       "            <script type=\"text/javascript\">\n",
       "                require([\"plotly\"], function(Plotly) {\n",
       "                    window.PLOTLYENV=window.PLOTLYENV || {};\n",
       "                    window.PLOTLYENV.BASE_URL='https://plot.ly';\n",
       "                    \n",
       "                if (document.getElementById(\"0c69512b-0d31-4db1-bee3-e9bf0e464d18\")) {\n",
       "                    Plotly.newPlot(\n",
       "                        '0c69512b-0d31-4db1-bee3-e9bf0e464d18',\n",
       "                        [{\"marker\": {\"color\": [\"rgb(255, 153, 51)\", \"rgb(55, 128, 191)\", \"rgb(50, 171, 96)\", \"rgb(128, 0, 128)\", \"rgb(219, 64, 82)\", \"rgb(0, 128, 128)\", \"rgb(255, 255, 51)\", \"rgb(128, 128, 0)\", \"rgb(251, 128, 114)\", \"rgb(128, 177, 211)\"], \"line\": {\"width\": 1.3}, \"size\": [89, 58, 22, 64, 107, 76, 64, 88, 53, 92, 49, 86, 58, 86, 68, 74, 85, 62, 51, 46, 61, 47, 52, 67, 46, 59, 47, 49, 92, 36, 93, 12, 63, 17, 73, 57, 74, 96, 68, 37, 51, 68, 74, 32, 48, 24, 51, 76, 83, 59, 45, 56, 29, 64, 30, 99, 80, 83, 71, 52, 58, 71, 64, 71, 67, 73, 52, 17, 82, 60, 66, 49, 34, 70, 80, 62, 69, 46, 63, 69, 16, 46, 75, 59, 48, 77, 36, 19, 54, 91, 84, 42, 41, 45, 112, 38, 75, 92, 57, 59], \"symbol\": \"circle\"}, \"mode\": \"markers\", \"text\": \"\", \"type\": \"scatter\", \"x\": [0.5016259041677826, 0.39693214686922423, 0.15105045423677646, 0.23803313048951832, -0.9065096169526577, -0.5858144449744032, -1.1915955319013736, -0.48035108080156647, 0.3062837808136795, -1.3107717470084945, -1.4233859542149554, -1.6842219620749486, -0.6596666126340662, 1.1646748262573046, 0.5794136835164456, -0.9205239744803996, -0.7475740043983561, 0.6918046774990229, -0.6555066758516412, -1.3901183444688856, -1.5825350400322997, 0.7205935933384565, 0.8600132535274735, 1.4029869785814273, 0.3999588780574937, -0.28356727685485905, -0.8645411771163848, -1.6235254258188299, 1.6360859851250331, 0.2321715088292792, -1.5209747815314942, -1.5962544252034896, -0.22469373520940192, 0.8753232347181236, 0.5909199306008397, -1.9906485850036764, 0.7535751361189627, -0.29522547033898755, 0.5275685446294369, 0.490854014469745, -0.712958673119837, 1.199183739769989, -2.1716144020061234, 0.12954879730176844, 0.6577830296031418, -0.0944794689894394, -0.5824826846365383, 0.9537935224525297, 0.1491860042028232, 2.1676855898919563, -0.6035610892309228, -0.22958926388827122, -0.49516589618777085, -0.018281618517689203, -0.36824896094724463, -0.7026609698955638, 1.9970040310794626, -1.3398354306976554, 2.2132601709596034, -0.8850429260119838, -0.9979121569709356, 0.13341848060100922, -0.40690396935590933, 0.2898004741616915, 0.7263452114533693, 0.14363457123025744, 0.23020745995645697, 0.8286908386058912, -0.8694143942178151, -1.6292956737587923, 0.14828881101741534, 1.5579611550705739, 0.8703995897101646, 1.167026637852573, -0.7681957193858597, -0.6830233728445323, -0.6706761738439486, 0.9527201917461887, -0.5858980652427307, 0.6449352460476692, -0.681163803699951, 0.7760459110594783, 1.4041260003145961, -0.6405096339488137, 1.5846369943924745, -0.22837198279290108, -0.48738580327626524, 0.6355688871774738, -0.20426978259615566, 0.7349676391888955, -0.006914347400294714, 1.007185939619343, -1.7670966160755497, -0.4037183481284638, -0.412260784658639, -0.635749062487043, 0.4946209143651886, 2.0158526613892143, 0.5074910998586187, 0.08947531478456232], \"y\": [-1.9614203298059667, 0.09936386900591583, -0.12144634499406161, 1.554896718036771, -1.28034147685133, 1.4495445156838505, 1.7043191329220253, -0.1826710330788866, -1.1631386699224067, 0.46320754943208586, 0.8858530141908567, -1.946179055103767, -2.826068861858329, 1.2390237313446868, 2.232962625610061, -0.6139100019761206, 1.1633069274370054, 1.2847212723722892, 0.6878043933686491, 0.7235693210003209, -0.2185254899678108, -0.9214353960475222, 0.15372078451738289, 0.04489774131848886, 0.5591063348832644, -2.181074948739284, -0.44650935884237547, 1.1285339969324604, -0.7997050437978639, 0.3875274586091636, -1.4428124598172498, 0.30718817340815485, -0.6772227705725071, -0.1354732158537621, -1.2041156443182979, -1.2991223536512906, -0.13337659677773347, 1.6248163917469887, 0.5014564732098982, -1.0421670872846438, 1.1119405623616914, -0.3094230119341551, -2.2170148072154485, 0.858164908480128, 0.1937476866948945, 1.3977161455052047, -0.6449582533006257, 1.3374399804360335, 0.2793771508696186, 0.8595426716872022, -0.41316843657047914, 2.0650357867171323, -0.18891294488257573, 0.9120687728370215, 0.47170982743301826, 1.3995286681965595, 2.9523359856753846, -0.2156573600877058, 1.2300249799992218, 0.44073317967212594, -0.022066795843629753, -0.5268852194942298, 0.20730381958503605, 0.733416713650668, 0.8443419934049715, 0.5020396864019491, -1.716772241166739, -1.307899712809543, -0.7197586602891242, -0.08191442847370518, 0.1940732093735313, 0.2997729938918538, 0.5614337584535843, -2.2236930656077147, 2.4054694857642724, -0.19495874877554625, -0.4798629195672261, 0.9496321492408094, 0.5747577660446029, 0.08321313793747716, 0.08592142084810923, 0.3186989355807172, -0.33161156787469626, -1.228139146584102, 1.0412808771345305, -0.35277139062308255, 1.4039866662846174, 0.49307280755934046, -0.21875339647065745, -0.8874140347814174, 0.35738348561054833, -0.11798431425933198, -1.1602205281237221, 0.2578188391703287, -0.25241907572889893, -1.1757576099571745, 1.978974245352124, 0.374565818914298, -1.3255402973767965, 2.2331800939792528]}],\n",
       "                        {\"legend\": {\"bgcolor\": \"#F5F6F9\", \"font\": {\"color\": \"#4D5663\"}}, \"paper_bgcolor\": \"#F5F6F9\", \"plot_bgcolor\": \"#F5F6F9\", \"template\": {\"data\": {\"bar\": [{\"error_x\": {\"color\": \"#2a3f5f\"}, \"error_y\": {\"color\": \"#2a3f5f\"}, \"marker\": {\"line\": {\"color\": \"#E5ECF6\", \"width\": 0.5}}, \"type\": \"bar\"}], \"barpolar\": [{\"marker\": {\"line\": {\"color\": \"#E5ECF6\", \"width\": 0.5}}, \"type\": \"barpolar\"}], \"carpet\": [{\"aaxis\": {\"endlinecolor\": \"#2a3f5f\", \"gridcolor\": \"white\", \"linecolor\": \"white\", \"minorgridcolor\": \"white\", \"startlinecolor\": \"#2a3f5f\"}, \"baxis\": {\"endlinecolor\": \"#2a3f5f\", \"gridcolor\": \"white\", \"linecolor\": \"white\", \"minorgridcolor\": \"white\", \"startlinecolor\": \"#2a3f5f\"}, \"type\": \"carpet\"}], \"choropleth\": [{\"colorbar\": {\"outlinewidth\": 0, \"ticks\": \"\"}, \"type\": \"choropleth\"}], \"contour\": [{\"colorbar\": {\"outlinewidth\": 0, \"ticks\": \"\"}, \"colorscale\": [[0.0, \"#0d0887\"], [0.1111111111111111, \"#46039f\"], [0.2222222222222222, \"#7201a8\"], [0.3333333333333333, \"#9c179e\"], [0.4444444444444444, \"#bd3786\"], [0.5555555555555556, \"#d8576b\"], [0.6666666666666666, \"#ed7953\"], [0.7777777777777778, \"#fb9f3a\"], [0.8888888888888888, \"#fdca26\"], [1.0, \"#f0f921\"]], \"type\": \"contour\"}], \"contourcarpet\": [{\"colorbar\": {\"outlinewidth\": 0, \"ticks\": \"\"}, \"type\": \"contourcarpet\"}], \"heatmap\": [{\"colorbar\": {\"outlinewidth\": 0, \"ticks\": \"\"}, \"colorscale\": [[0.0, \"#0d0887\"], [0.1111111111111111, \"#46039f\"], [0.2222222222222222, \"#7201a8\"], [0.3333333333333333, \"#9c179e\"], [0.4444444444444444, \"#bd3786\"], [0.5555555555555556, \"#d8576b\"], [0.6666666666666666, \"#ed7953\"], [0.7777777777777778, \"#fb9f3a\"], [0.8888888888888888, \"#fdca26\"], [1.0, \"#f0f921\"]], \"type\": \"heatmap\"}], \"heatmapgl\": [{\"colorbar\": {\"outlinewidth\": 0, \"ticks\": \"\"}, \"colorscale\": [[0.0, \"#0d0887\"], [0.1111111111111111, \"#46039f\"], [0.2222222222222222, \"#7201a8\"], [0.3333333333333333, \"#9c179e\"], [0.4444444444444444, \"#bd3786\"], [0.5555555555555556, \"#d8576b\"], [0.6666666666666666, \"#ed7953\"], [0.7777777777777778, \"#fb9f3a\"], [0.8888888888888888, \"#fdca26\"], [1.0, \"#f0f921\"]], \"type\": \"heatmapgl\"}], \"histogram\": [{\"marker\": {\"colorbar\": {\"outlinewidth\": 0, \"ticks\": \"\"}}, \"type\": \"histogram\"}], \"histogram2d\": [{\"colorbar\": {\"outlinewidth\": 0, \"ticks\": \"\"}, \"colorscale\": [[0.0, \"#0d0887\"], [0.1111111111111111, \"#46039f\"], [0.2222222222222222, \"#7201a8\"], [0.3333333333333333, \"#9c179e\"], [0.4444444444444444, \"#bd3786\"], [0.5555555555555556, \"#d8576b\"], [0.6666666666666666, \"#ed7953\"], [0.7777777777777778, \"#fb9f3a\"], [0.8888888888888888, \"#fdca26\"], [1.0, \"#f0f921\"]], \"type\": \"histogram2d\"}], \"histogram2dcontour\": [{\"colorbar\": {\"outlinewidth\": 0, \"ticks\": \"\"}, \"colorscale\": [[0.0, \"#0d0887\"], [0.1111111111111111, \"#46039f\"], [0.2222222222222222, \"#7201a8\"], [0.3333333333333333, \"#9c179e\"], [0.4444444444444444, \"#bd3786\"], [0.5555555555555556, \"#d8576b\"], [0.6666666666666666, \"#ed7953\"], [0.7777777777777778, \"#fb9f3a\"], [0.8888888888888888, \"#fdca26\"], [1.0, \"#f0f921\"]], \"type\": \"histogram2dcontour\"}], \"mesh3d\": [{\"colorbar\": {\"outlinewidth\": 0, \"ticks\": \"\"}, \"type\": \"mesh3d\"}], \"parcoords\": [{\"line\": {\"colorbar\": {\"outlinewidth\": 0, \"ticks\": \"\"}}, \"type\": \"parcoords\"}], \"pie\": [{\"automargin\": true, \"type\": \"pie\"}], \"scatter\": [{\"marker\": {\"colorbar\": {\"outlinewidth\": 0, \"ticks\": \"\"}}, \"type\": \"scatter\"}], \"scatter3d\": [{\"line\": {\"colorbar\": {\"outlinewidth\": 0, \"ticks\": \"\"}}, \"marker\": {\"colorbar\": {\"outlinewidth\": 0, \"ticks\": \"\"}}, \"type\": \"scatter3d\"}], \"scattercarpet\": [{\"marker\": {\"colorbar\": {\"outlinewidth\": 0, \"ticks\": \"\"}}, \"type\": \"scattercarpet\"}], \"scattergeo\": [{\"marker\": {\"colorbar\": {\"outlinewidth\": 0, \"ticks\": \"\"}}, \"type\": \"scattergeo\"}], \"scattergl\": [{\"marker\": {\"colorbar\": {\"outlinewidth\": 0, \"ticks\": \"\"}}, \"type\": \"scattergl\"}], \"scattermapbox\": [{\"marker\": {\"colorbar\": {\"outlinewidth\": 0, \"ticks\": \"\"}}, \"type\": \"scattermapbox\"}], \"scatterpolar\": [{\"marker\": {\"colorbar\": {\"outlinewidth\": 0, \"ticks\": \"\"}}, \"type\": \"scatterpolar\"}], \"scatterpolargl\": [{\"marker\": {\"colorbar\": {\"outlinewidth\": 0, \"ticks\": \"\"}}, \"type\": \"scatterpolargl\"}], \"scatterternary\": [{\"marker\": {\"colorbar\": {\"outlinewidth\": 0, \"ticks\": \"\"}}, \"type\": \"scatterternary\"}], \"surface\": [{\"colorbar\": {\"outlinewidth\": 0, \"ticks\": \"\"}, \"colorscale\": [[0.0, \"#0d0887\"], [0.1111111111111111, \"#46039f\"], [0.2222222222222222, \"#7201a8\"], [0.3333333333333333, \"#9c179e\"], [0.4444444444444444, \"#bd3786\"], [0.5555555555555556, \"#d8576b\"], [0.6666666666666666, \"#ed7953\"], [0.7777777777777778, \"#fb9f3a\"], [0.8888888888888888, \"#fdca26\"], [1.0, \"#f0f921\"]], \"type\": \"surface\"}], \"table\": [{\"cells\": {\"fill\": {\"color\": \"#EBF0F8\"}, \"line\": {\"color\": \"white\"}}, \"header\": {\"fill\": {\"color\": \"#C8D4E3\"}, \"line\": {\"color\": \"white\"}}, \"type\": \"table\"}]}, \"layout\": {\"annotationdefaults\": {\"arrowcolor\": \"#2a3f5f\", \"arrowhead\": 0, \"arrowwidth\": 1}, \"coloraxis\": {\"colorbar\": {\"outlinewidth\": 0, \"ticks\": \"\"}}, \"colorscale\": {\"diverging\": [[0, \"#8e0152\"], [0.1, \"#c51b7d\"], [0.2, \"#de77ae\"], [0.3, \"#f1b6da\"], [0.4, \"#fde0ef\"], [0.5, \"#f7f7f7\"], [0.6, \"#e6f5d0\"], [0.7, \"#b8e186\"], [0.8, \"#7fbc41\"], [0.9, \"#4d9221\"], [1, \"#276419\"]], \"sequential\": [[0.0, \"#0d0887\"], [0.1111111111111111, \"#46039f\"], [0.2222222222222222, \"#7201a8\"], [0.3333333333333333, \"#9c179e\"], [0.4444444444444444, \"#bd3786\"], [0.5555555555555556, \"#d8576b\"], [0.6666666666666666, \"#ed7953\"], [0.7777777777777778, \"#fb9f3a\"], [0.8888888888888888, \"#fdca26\"], [1.0, \"#f0f921\"]], \"sequentialminus\": [[0.0, \"#0d0887\"], [0.1111111111111111, \"#46039f\"], [0.2222222222222222, \"#7201a8\"], [0.3333333333333333, \"#9c179e\"], [0.4444444444444444, \"#bd3786\"], [0.5555555555555556, \"#d8576b\"], [0.6666666666666666, \"#ed7953\"], [0.7777777777777778, \"#fb9f3a\"], [0.8888888888888888, \"#fdca26\"], [1.0, \"#f0f921\"]]}, \"colorway\": [\"#636efa\", \"#EF553B\", \"#00cc96\", \"#ab63fa\", \"#FFA15A\", \"#19d3f3\", \"#FF6692\", \"#B6E880\", \"#FF97FF\", \"#FECB52\"], \"font\": {\"color\": \"#2a3f5f\"}, \"geo\": {\"bgcolor\": \"white\", \"lakecolor\": \"white\", \"landcolor\": \"#E5ECF6\", \"showlakes\": true, \"showland\": true, \"subunitcolor\": \"white\"}, \"hoverlabel\": {\"align\": \"left\"}, \"hovermode\": \"closest\", \"mapbox\": {\"style\": \"light\"}, \"paper_bgcolor\": \"white\", \"plot_bgcolor\": \"#E5ECF6\", \"polar\": {\"angularaxis\": {\"gridcolor\": \"white\", \"linecolor\": \"white\", \"ticks\": \"\"}, \"bgcolor\": \"#E5ECF6\", \"radialaxis\": {\"gridcolor\": \"white\", \"linecolor\": \"white\", \"ticks\": \"\"}}, \"scene\": {\"xaxis\": {\"backgroundcolor\": \"#E5ECF6\", \"gridcolor\": \"white\", \"gridwidth\": 2, \"linecolor\": \"white\", \"showbackground\": true, \"ticks\": \"\", \"zerolinecolor\": \"white\"}, \"yaxis\": {\"backgroundcolor\": \"#E5ECF6\", \"gridcolor\": \"white\", \"gridwidth\": 2, \"linecolor\": \"white\", \"showbackground\": true, \"ticks\": \"\", \"zerolinecolor\": \"white\"}, \"zaxis\": {\"backgroundcolor\": \"#E5ECF6\", \"gridcolor\": \"white\", \"gridwidth\": 2, \"linecolor\": \"white\", \"showbackground\": true, \"ticks\": \"\", \"zerolinecolor\": \"white\"}}, \"shapedefaults\": {\"line\": {\"color\": \"#2a3f5f\"}}, \"ternary\": {\"aaxis\": {\"gridcolor\": \"white\", \"linecolor\": \"white\", \"ticks\": \"\"}, \"baxis\": {\"gridcolor\": \"white\", \"linecolor\": \"white\", \"ticks\": \"\"}, \"bgcolor\": \"#E5ECF6\", \"caxis\": {\"gridcolor\": \"white\", \"linecolor\": \"white\", \"ticks\": \"\"}}, \"title\": {\"x\": 0.05}, \"xaxis\": {\"automargin\": true, \"gridcolor\": \"white\", \"linecolor\": \"white\", \"ticks\": \"\", \"title\": {\"standoff\": 15}, \"zerolinecolor\": \"white\", \"zerolinewidth\": 2}, \"yaxis\": {\"automargin\": true, \"gridcolor\": \"white\", \"linecolor\": \"white\", \"ticks\": \"\", \"title\": {\"standoff\": 15}, \"zerolinecolor\": \"white\", \"zerolinewidth\": 2}}}, \"title\": {\"font\": {\"color\": \"#4D5663\"}}, \"xaxis\": {\"gridcolor\": \"#E1E5ED\", \"showgrid\": true, \"tickfont\": {\"color\": \"#4D5663\"}, \"title\": {\"font\": {\"color\": \"#4D5663\"}, \"text\": \"\"}, \"zerolinecolor\": \"#E1E5ED\"}, \"yaxis\": {\"gridcolor\": \"#E1E5ED\", \"showgrid\": true, \"tickfont\": {\"color\": \"#4D5663\"}, \"title\": {\"font\": {\"color\": \"#4D5663\"}, \"text\": \"\"}, \"zerolinecolor\": \"#E1E5ED\"}},\n",
       "                        {\"showLink\": true, \"linkText\": \"Export to plot.ly\", \"plotlyServerURL\": \"https://plot.ly\", \"responsive\": true}\n",
       "                    ).then(function(){\n",
       "                            \n",
       "var gd = document.getElementById('0c69512b-0d31-4db1-bee3-e9bf0e464d18');\n",
       "var x = new MutationObserver(function (mutations, observer) {{\n",
       "        var display = window.getComputedStyle(gd).display;\n",
       "        if (!display || display === 'none') {{\n",
       "            console.log([gd, 'removed!']);\n",
       "            Plotly.purge(gd);\n",
       "            observer.disconnect();\n",
       "        }}\n",
       "}});\n",
       "\n",
       "// Listen for the removal of the full notebook cells\n",
       "var notebookContainer = gd.closest('#notebook-container');\n",
       "if (notebookContainer) {{\n",
       "    x.observe(notebookContainer, {childList: true});\n",
       "}}\n",
       "\n",
       "// Listen for the clearing of the current output cell\n",
       "var outputEl = gd.closest('.output');\n",
       "if (outputEl) {{\n",
       "    x.observe(outputEl, {childList: true});\n",
       "}}\n",
       "\n",
       "                        })\n",
       "                };\n",
       "                });\n",
       "            </script>\n",
       "        </div>"
      ]
     },
     "metadata": {},
     "output_type": "display_data"
    }
   ],
   "source": [
    "df.iplot(kind='bubble',x='A',y='B',size='C')"
   ]
  },
  {
   "cell_type": "markdown",
   "metadata": {},
   "source": [
    "## scatter_matrix()\n",
    "\n",
    "Similar à sns.pairplot()"
   ]
  },
  {
   "cell_type": "code",
   "execution_count": 18,
   "metadata": {},
   "outputs": [
    {
     "data": {
      "application/vnd.plotly.v1+json": {
       "config": {
        "linkText": "Export to plot.ly",
        "plotlyServerURL": "https://plot.ly",
        "showLink": true
       },
       "data": [
        {
         "histfunc": "count",
         "histnorm": "",
         "marker": {
          "color": "rgba(255, 153, 51, 1.0)",
          "line": {
           "color": "#4D5663",
           "width": 1.3
          }
         },
         "name": "A",
         "nbinsx": 10,
         "opacity": 0.8,
         "orientation": "v",
         "type": "histogram",
         "x": [
          0.5016259041677826,
          0.39693214686922423,
          0.15105045423677646,
          0.23803313048951832,
          -0.9065096169526577,
          -0.5858144449744032,
          -1.1915955319013736,
          -0.48035108080156647,
          0.3062837808136795,
          -1.3107717470084945,
          -1.4233859542149554,
          -1.6842219620749486,
          -0.6596666126340662,
          1.1646748262573046,
          0.5794136835164456,
          -0.9205239744803996,
          -0.7475740043983561,
          0.6918046774990229,
          -0.6555066758516412,
          -1.3901183444688856,
          -1.5825350400322997,
          0.7205935933384565,
          0.8600132535274735,
          1.4029869785814273,
          0.3999588780574937,
          -0.28356727685485905,
          -0.8645411771163848,
          -1.6235254258188299,
          1.6360859851250331,
          0.2321715088292792,
          -1.5209747815314942,
          -1.5962544252034896,
          -0.22469373520940192,
          0.8753232347181236,
          0.5909199306008397,
          -1.9906485850036764,
          0.7535751361189627,
          -0.29522547033898755,
          0.5275685446294369,
          0.490854014469745,
          -0.712958673119837,
          1.199183739769989,
          -2.1716144020061234,
          0.12954879730176844,
          0.6577830296031418,
          -0.0944794689894394,
          -0.5824826846365383,
          0.9537935224525297,
          0.1491860042028232,
          2.1676855898919563,
          -0.6035610892309228,
          -0.22958926388827122,
          -0.49516589618777085,
          -0.018281618517689203,
          -0.36824896094724463,
          -0.7026609698955638,
          1.9970040310794626,
          -1.3398354306976554,
          2.2132601709596034,
          -0.8850429260119838,
          -0.9979121569709356,
          0.13341848060100922,
          -0.40690396935590933,
          0.2898004741616915,
          0.7263452114533693,
          0.14363457123025744,
          0.23020745995645697,
          0.8286908386058912,
          -0.8694143942178151,
          -1.6292956737587923,
          0.14828881101741534,
          1.5579611550705739,
          0.8703995897101646,
          1.167026637852573,
          -0.7681957193858597,
          -0.6830233728445323,
          -0.6706761738439486,
          0.9527201917461887,
          -0.5858980652427307,
          0.6449352460476692,
          -0.681163803699951,
          0.7760459110594783,
          1.4041260003145961,
          -0.6405096339488137,
          1.5846369943924745,
          -0.22837198279290108,
          -0.48738580327626524,
          0.6355688871774738,
          -0.20426978259615566,
          0.7349676391888955,
          -0.006914347400294714,
          1.007185939619343,
          -1.7670966160755497,
          -0.4037183481284638,
          -0.412260784658639,
          -0.635749062487043,
          0.4946209143651886,
          2.0158526613892143,
          0.5074910998586187,
          0.08947531478456232
         ],
         "xaxis": "x",
         "yaxis": "y"
        },
        {
         "line": {
          "color": "rgba(128, 128, 128, 1.0)",
          "dash": "solid",
          "shape": "linear",
          "width": 1.3
         },
         "marker": {
          "size": 2,
          "symbol": "circle"
         },
         "mode": "markers",
         "name": "A",
         "text": "",
         "type": "scatter",
         "x": [
          -1.9614203298059667,
          0.09936386900591583,
          -0.12144634499406161,
          1.554896718036771,
          -1.28034147685133,
          1.4495445156838505,
          1.7043191329220253,
          -0.1826710330788866,
          -1.1631386699224067,
          0.46320754943208586,
          0.8858530141908567,
          -1.946179055103767,
          -2.826068861858329,
          1.2390237313446868,
          2.232962625610061,
          -0.6139100019761206,
          1.1633069274370054,
          1.2847212723722892,
          0.6878043933686491,
          0.7235693210003209,
          -0.2185254899678108,
          -0.9214353960475222,
          0.15372078451738289,
          0.04489774131848886,
          0.5591063348832644,
          -2.181074948739284,
          -0.44650935884237547,
          1.1285339969324604,
          -0.7997050437978639,
          0.3875274586091636,
          -1.4428124598172498,
          0.30718817340815485,
          -0.6772227705725071,
          -0.1354732158537621,
          -1.2041156443182979,
          -1.2991223536512906,
          -0.13337659677773347,
          1.6248163917469887,
          0.5014564732098982,
          -1.0421670872846438,
          1.1119405623616914,
          -0.3094230119341551,
          -2.2170148072154485,
          0.858164908480128,
          0.1937476866948945,
          1.3977161455052047,
          -0.6449582533006257,
          1.3374399804360335,
          0.2793771508696186,
          0.8595426716872022,
          -0.41316843657047914,
          2.0650357867171323,
          -0.18891294488257573,
          0.9120687728370215,
          0.47170982743301826,
          1.3995286681965595,
          2.9523359856753846,
          -0.2156573600877058,
          1.2300249799992218,
          0.44073317967212594,
          -0.022066795843629753,
          -0.5268852194942298,
          0.20730381958503605,
          0.733416713650668,
          0.8443419934049715,
          0.5020396864019491,
          -1.716772241166739,
          -1.307899712809543,
          -0.7197586602891242,
          -0.08191442847370518,
          0.1940732093735313,
          0.2997729938918538,
          0.5614337584535843,
          -2.2236930656077147,
          2.4054694857642724,
          -0.19495874877554625,
          -0.4798629195672261,
          0.9496321492408094,
          0.5747577660446029,
          0.08321313793747716,
          0.08592142084810923,
          0.3186989355807172,
          -0.33161156787469626,
          -1.228139146584102,
          1.0412808771345305,
          -0.35277139062308255,
          1.4039866662846174,
          0.49307280755934046,
          -0.21875339647065745,
          -0.8874140347814174,
          0.35738348561054833,
          -0.11798431425933198,
          -1.1602205281237221,
          0.2578188391703287,
          -0.25241907572889893,
          -1.1757576099571745,
          1.978974245352124,
          0.374565818914298,
          -1.3255402973767965,
          2.2331800939792528
         ],
         "xaxis": "x2",
         "y": [
          0.5016259041677826,
          0.39693214686922423,
          0.15105045423677646,
          0.23803313048951832,
          -0.9065096169526577,
          -0.5858144449744032,
          -1.1915955319013736,
          -0.48035108080156647,
          0.3062837808136795,
          -1.3107717470084945,
          -1.4233859542149554,
          -1.6842219620749486,
          -0.6596666126340662,
          1.1646748262573046,
          0.5794136835164456,
          -0.9205239744803996,
          -0.7475740043983561,
          0.6918046774990229,
          -0.6555066758516412,
          -1.3901183444688856,
          -1.5825350400322997,
          0.7205935933384565,
          0.8600132535274735,
          1.4029869785814273,
          0.3999588780574937,
          -0.28356727685485905,
          -0.8645411771163848,
          -1.6235254258188299,
          1.6360859851250331,
          0.2321715088292792,
          -1.5209747815314942,
          -1.5962544252034896,
          -0.22469373520940192,
          0.8753232347181236,
          0.5909199306008397,
          -1.9906485850036764,
          0.7535751361189627,
          -0.29522547033898755,
          0.5275685446294369,
          0.490854014469745,
          -0.712958673119837,
          1.199183739769989,
          -2.1716144020061234,
          0.12954879730176844,
          0.6577830296031418,
          -0.0944794689894394,
          -0.5824826846365383,
          0.9537935224525297,
          0.1491860042028232,
          2.1676855898919563,
          -0.6035610892309228,
          -0.22958926388827122,
          -0.49516589618777085,
          -0.018281618517689203,
          -0.36824896094724463,
          -0.7026609698955638,
          1.9970040310794626,
          -1.3398354306976554,
          2.2132601709596034,
          -0.8850429260119838,
          -0.9979121569709356,
          0.13341848060100922,
          -0.40690396935590933,
          0.2898004741616915,
          0.7263452114533693,
          0.14363457123025744,
          0.23020745995645697,
          0.8286908386058912,
          -0.8694143942178151,
          -1.6292956737587923,
          0.14828881101741534,
          1.5579611550705739,
          0.8703995897101646,
          1.167026637852573,
          -0.7681957193858597,
          -0.6830233728445323,
          -0.6706761738439486,
          0.9527201917461887,
          -0.5858980652427307,
          0.6449352460476692,
          -0.681163803699951,
          0.7760459110594783,
          1.4041260003145961,
          -0.6405096339488137,
          1.5846369943924745,
          -0.22837198279290108,
          -0.48738580327626524,
          0.6355688871774738,
          -0.20426978259615566,
          0.7349676391888955,
          -0.006914347400294714,
          1.007185939619343,
          -1.7670966160755497,
          -0.4037183481284638,
          -0.412260784658639,
          -0.635749062487043,
          0.4946209143651886,
          2.0158526613892143,
          0.5074910998586187,
          0.08947531478456232
         ],
         "yaxis": "y2"
        },
        {
         "line": {
          "color": "rgba(128, 128, 128, 1.0)",
          "dash": "solid",
          "shape": "linear",
          "width": 1.3
         },
         "marker": {
          "size": 2,
          "symbol": "circle"
         },
         "mode": "markers",
         "name": "A",
         "text": "",
         "type": "scatter",
         "x": [
          1.2481290602280048,
          -0.11929477162168828,
          -1.7187511710261845,
          0.13680315223213727,
          2.0342541142853077,
          0.6835298303368345,
          0.12394821682587562,
          1.1885503792856789,
          -0.3359210902010392,
          1.3936172712845936,
          -0.5316323296368594,
          1.112219139843769,
          -0.11143535134224522,
          1.095345240609513,
          0.3182954696065753,
          0.5950475225372326,
          1.0871081596461263,
          0.03427604320438264,
          -0.44263364985909015,
          -0.6457871934725776,
          -0.007117401098441378,
          -0.6159860431251373,
          -0.38239874686866704,
          0.2603103911978657,
          -0.6466700449947504,
          -0.07521629719823796,
          -0.6179815283659752,
          -0.5032327308655978,
          1.3598113004197534,
          -1.1065540908830902,
          1.433410727867854,
          -2.1805009648683575,
          0.07462687142352951,
          -1.9293121316663921,
          0.547164477816809,
          -0.18200017743812594,
          0.5803578824372388,
          1.5538968526260841,
          0.3181395980528022,
          -1.0588347614634315,
          -0.4442677291140026,
          0.3348313618841571,
          0.5974929879578847,
          -1.2664649423745793,
          -0.5803930660640939,
          -1.6139935565939125,
          -0.4307100368543607,
          0.6686488329157392,
          0.9896890278000638,
          -0.08777219467088634,
          -0.6962739830480462,
          -0.20910251387356948,
          -1.4060136769261444,
          0.12748303530900174,
          -1.3499127452079034,
          1.7068479337246907,
          0.866811723413893,
          0.974027970818929,
          0.44823821867055397,
          -0.40579951050650553,
          -0.1146903893512255,
          0.4590159436394058,
          0.1274016913525382,
          0.4380191052248816,
          0.29028004629836945,
          0.5300911619470048,
          -0.3766837362641318,
          -1.9379566400720856,
          0.9498026849284043,
          -0.025871942730667404,
          0.22145393935861032,
          -0.5290526635777423,
          -1.1896088711264121,
          0.40543708673310647,
          0.8369960071633412,
          0.04287268060350472,
          0.34911019915060465,
          -0.6488609785968117,
          0.07548552652848982,
          0.36926711947671886,
          -2.000660583745119,
          -0.669195556548231,
          0.6316558245282642,
          -0.07495216736797225,
          -0.5591084727814172,
          0.7323983844085346,
          -1.1026713013737295,
          -1.8466623713491148,
          -0.2963038307421379,
          1.3186181639595072,
          1.0237652677444617,
          -0.8453493645017428,
          -0.8727883780524848,
          -0.6827869057954249,
          2.237932533486498,
          -0.9988695035215177,
          0.6128986180938732,
          1.3631696325530038,
          -0.17751426357441896,
          -0.10334749975382293
         ],
         "xaxis": "x3",
         "y": [
          0.5016259041677826,
          0.39693214686922423,
          0.15105045423677646,
          0.23803313048951832,
          -0.9065096169526577,
          -0.5858144449744032,
          -1.1915955319013736,
          -0.48035108080156647,
          0.3062837808136795,
          -1.3107717470084945,
          -1.4233859542149554,
          -1.6842219620749486,
          -0.6596666126340662,
          1.1646748262573046,
          0.5794136835164456,
          -0.9205239744803996,
          -0.7475740043983561,
          0.6918046774990229,
          -0.6555066758516412,
          -1.3901183444688856,
          -1.5825350400322997,
          0.7205935933384565,
          0.8600132535274735,
          1.4029869785814273,
          0.3999588780574937,
          -0.28356727685485905,
          -0.8645411771163848,
          -1.6235254258188299,
          1.6360859851250331,
          0.2321715088292792,
          -1.5209747815314942,
          -1.5962544252034896,
          -0.22469373520940192,
          0.8753232347181236,
          0.5909199306008397,
          -1.9906485850036764,
          0.7535751361189627,
          -0.29522547033898755,
          0.5275685446294369,
          0.490854014469745,
          -0.712958673119837,
          1.199183739769989,
          -2.1716144020061234,
          0.12954879730176844,
          0.6577830296031418,
          -0.0944794689894394,
          -0.5824826846365383,
          0.9537935224525297,
          0.1491860042028232,
          2.1676855898919563,
          -0.6035610892309228,
          -0.22958926388827122,
          -0.49516589618777085,
          -0.018281618517689203,
          -0.36824896094724463,
          -0.7026609698955638,
          1.9970040310794626,
          -1.3398354306976554,
          2.2132601709596034,
          -0.8850429260119838,
          -0.9979121569709356,
          0.13341848060100922,
          -0.40690396935590933,
          0.2898004741616915,
          0.7263452114533693,
          0.14363457123025744,
          0.23020745995645697,
          0.8286908386058912,
          -0.8694143942178151,
          -1.6292956737587923,
          0.14828881101741534,
          1.5579611550705739,
          0.8703995897101646,
          1.167026637852573,
          -0.7681957193858597,
          -0.6830233728445323,
          -0.6706761738439486,
          0.9527201917461887,
          -0.5858980652427307,
          0.6449352460476692,
          -0.681163803699951,
          0.7760459110594783,
          1.4041260003145961,
          -0.6405096339488137,
          1.5846369943924745,
          -0.22837198279290108,
          -0.48738580327626524,
          0.6355688871774738,
          -0.20426978259615566,
          0.7349676391888955,
          -0.006914347400294714,
          1.007185939619343,
          -1.7670966160755497,
          -0.4037183481284638,
          -0.412260784658639,
          -0.635749062487043,
          0.4946209143651886,
          2.0158526613892143,
          0.5074910998586187,
          0.08947531478456232
         ],
         "yaxis": "y3"
        },
        {
         "line": {
          "color": "rgba(128, 128, 128, 1.0)",
          "dash": "solid",
          "shape": "linear",
          "width": 1.3
         },
         "marker": {
          "size": 2,
          "symbol": "circle"
         },
         "mode": "markers",
         "name": "A",
         "text": "",
         "type": "scatter",
         "x": [
          -0.38038452061611805,
          -0.5506827942179204,
          -0.8486870998656855,
          1.414967729808227,
          -1.0477678648426494,
          -1.9640495250297236,
          0.18769300878539133,
          0.42748668299848763,
          -0.14076395607271944,
          -0.25518617125015197,
          1.5298604167425294,
          0.16782456484427766,
          -0.8625470787519635,
          -0.3401968140754208,
          -0.552225588553631,
          0.24419364952140488,
          0.42949389314581865,
          -0.46910796858558124,
          0.9577621493762632,
          0.3625964363144777,
          -0.06492939512567686,
          0.5352444706305645,
          -0.5107367639438877,
          1.02870804413704,
          1.2070746167965483,
          -0.17463474348812388,
          -0.1684181586791721,
          -1.5846215751280326,
          -0.7027362522387298,
          -1.5248951521984482,
          0.30122806724387796,
          -0.3288071867367561,
          0.2459816045668211,
          0.2527445372714324,
          -0.6494724452668903,
          -0.6112211685880015,
          -0.7996648647148987,
          -0.3461906526088926,
          1.6035873874528779,
          0.2155637451685372,
          0.0009101419438257457,
          -1.2033096641897751,
          -1.690067833970175,
          1.3044403286383324,
          -0.1698452915634887,
          0.26063014373480525,
          0.41121672303455964,
          -0.12118866426554618,
          -1.5315810381028157,
          -0.3491070267291162,
          0.7392929737509153,
          -1.4449307368222166,
          -0.2005745490635271,
          -0.63060619470764,
          -1.42764874215277,
          -0.11017452337573996,
          -0.491144682883569,
          2.496224409446854,
          0.11533880646002999,
          1.5065605286241495,
          1.1073039419149038,
          0.6800632915535396,
          -0.15372971888054193,
          -0.10963986128568264,
          -0.5899495606091966,
          -1.5534302933080275,
          0.598218540590992,
          0.7143172145662522,
          -0.648216173341247,
          -0.1825148127024039,
          0.40010536398322355,
          1.0966913112497987,
          0.5310530437738917,
          0.29394220052286385,
          1.2792714148415116,
          -0.16201579382107953,
          1.8390836521439362,
          -0.16281222705571385,
          0.5388109257766299,
          1.7420315742598118,
          -0.3134948021944738,
          -0.9707196738386299,
          -0.04096253708433591,
          -0.509974005697877,
          -1.0031598449112542,
          -1.1625971458266298,
          0.05161225328573585,
          -1.9777282921899026,
          -0.987865581607528,
          -0.38066253999868416,
          0.9866618178028409,
          -1.5748008452477729,
          0.7540422366292371,
          -1.1079266628977027,
          0.2822348503877316,
          -0.31999434564295237,
          1.1052761968600926,
          -1.6001253252177976,
          1.0391630083294403,
          -0.13978143001806478
         ],
         "xaxis": "x4",
         "y": [
          0.5016259041677826,
          0.39693214686922423,
          0.15105045423677646,
          0.23803313048951832,
          -0.9065096169526577,
          -0.5858144449744032,
          -1.1915955319013736,
          -0.48035108080156647,
          0.3062837808136795,
          -1.3107717470084945,
          -1.4233859542149554,
          -1.6842219620749486,
          -0.6596666126340662,
          1.1646748262573046,
          0.5794136835164456,
          -0.9205239744803996,
          -0.7475740043983561,
          0.6918046774990229,
          -0.6555066758516412,
          -1.3901183444688856,
          -1.5825350400322997,
          0.7205935933384565,
          0.8600132535274735,
          1.4029869785814273,
          0.3999588780574937,
          -0.28356727685485905,
          -0.8645411771163848,
          -1.6235254258188299,
          1.6360859851250331,
          0.2321715088292792,
          -1.5209747815314942,
          -1.5962544252034896,
          -0.22469373520940192,
          0.8753232347181236,
          0.5909199306008397,
          -1.9906485850036764,
          0.7535751361189627,
          -0.29522547033898755,
          0.5275685446294369,
          0.490854014469745,
          -0.712958673119837,
          1.199183739769989,
          -2.1716144020061234,
          0.12954879730176844,
          0.6577830296031418,
          -0.0944794689894394,
          -0.5824826846365383,
          0.9537935224525297,
          0.1491860042028232,
          2.1676855898919563,
          -0.6035610892309228,
          -0.22958926388827122,
          -0.49516589618777085,
          -0.018281618517689203,
          -0.36824896094724463,
          -0.7026609698955638,
          1.9970040310794626,
          -1.3398354306976554,
          2.2132601709596034,
          -0.8850429260119838,
          -0.9979121569709356,
          0.13341848060100922,
          -0.40690396935590933,
          0.2898004741616915,
          0.7263452114533693,
          0.14363457123025744,
          0.23020745995645697,
          0.8286908386058912,
          -0.8694143942178151,
          -1.6292956737587923,
          0.14828881101741534,
          1.5579611550705739,
          0.8703995897101646,
          1.167026637852573,
          -0.7681957193858597,
          -0.6830233728445323,
          -0.6706761738439486,
          0.9527201917461887,
          -0.5858980652427307,
          0.6449352460476692,
          -0.681163803699951,
          0.7760459110594783,
          1.4041260003145961,
          -0.6405096339488137,
          1.5846369943924745,
          -0.22837198279290108,
          -0.48738580327626524,
          0.6355688871774738,
          -0.20426978259615566,
          0.7349676391888955,
          -0.006914347400294714,
          1.007185939619343,
          -1.7670966160755497,
          -0.4037183481284638,
          -0.412260784658639,
          -0.635749062487043,
          0.4946209143651886,
          2.0158526613892143,
          0.5074910998586187,
          0.08947531478456232
         ],
         "yaxis": "y4"
        },
        {
         "line": {
          "color": "rgba(128, 128, 128, 1.0)",
          "dash": "solid",
          "shape": "linear",
          "width": 1.3
         },
         "marker": {
          "size": 2,
          "symbol": "circle"
         },
         "mode": "markers",
         "name": "B",
         "text": "",
         "type": "scatter",
         "x": [
          0.5016259041677826,
          0.39693214686922423,
          0.15105045423677646,
          0.23803313048951832,
          -0.9065096169526577,
          -0.5858144449744032,
          -1.1915955319013736,
          -0.48035108080156647,
          0.3062837808136795,
          -1.3107717470084945,
          -1.4233859542149554,
          -1.6842219620749486,
          -0.6596666126340662,
          1.1646748262573046,
          0.5794136835164456,
          -0.9205239744803996,
          -0.7475740043983561,
          0.6918046774990229,
          -0.6555066758516412,
          -1.3901183444688856,
          -1.5825350400322997,
          0.7205935933384565,
          0.8600132535274735,
          1.4029869785814273,
          0.3999588780574937,
          -0.28356727685485905,
          -0.8645411771163848,
          -1.6235254258188299,
          1.6360859851250331,
          0.2321715088292792,
          -1.5209747815314942,
          -1.5962544252034896,
          -0.22469373520940192,
          0.8753232347181236,
          0.5909199306008397,
          -1.9906485850036764,
          0.7535751361189627,
          -0.29522547033898755,
          0.5275685446294369,
          0.490854014469745,
          -0.712958673119837,
          1.199183739769989,
          -2.1716144020061234,
          0.12954879730176844,
          0.6577830296031418,
          -0.0944794689894394,
          -0.5824826846365383,
          0.9537935224525297,
          0.1491860042028232,
          2.1676855898919563,
          -0.6035610892309228,
          -0.22958926388827122,
          -0.49516589618777085,
          -0.018281618517689203,
          -0.36824896094724463,
          -0.7026609698955638,
          1.9970040310794626,
          -1.3398354306976554,
          2.2132601709596034,
          -0.8850429260119838,
          -0.9979121569709356,
          0.13341848060100922,
          -0.40690396935590933,
          0.2898004741616915,
          0.7263452114533693,
          0.14363457123025744,
          0.23020745995645697,
          0.8286908386058912,
          -0.8694143942178151,
          -1.6292956737587923,
          0.14828881101741534,
          1.5579611550705739,
          0.8703995897101646,
          1.167026637852573,
          -0.7681957193858597,
          -0.6830233728445323,
          -0.6706761738439486,
          0.9527201917461887,
          -0.5858980652427307,
          0.6449352460476692,
          -0.681163803699951,
          0.7760459110594783,
          1.4041260003145961,
          -0.6405096339488137,
          1.5846369943924745,
          -0.22837198279290108,
          -0.48738580327626524,
          0.6355688871774738,
          -0.20426978259615566,
          0.7349676391888955,
          -0.006914347400294714,
          1.007185939619343,
          -1.7670966160755497,
          -0.4037183481284638,
          -0.412260784658639,
          -0.635749062487043,
          0.4946209143651886,
          2.0158526613892143,
          0.5074910998586187,
          0.08947531478456232
         ],
         "xaxis": "x5",
         "y": [
          -1.9614203298059667,
          0.09936386900591583,
          -0.12144634499406161,
          1.554896718036771,
          -1.28034147685133,
          1.4495445156838505,
          1.7043191329220253,
          -0.1826710330788866,
          -1.1631386699224067,
          0.46320754943208586,
          0.8858530141908567,
          -1.946179055103767,
          -2.826068861858329,
          1.2390237313446868,
          2.232962625610061,
          -0.6139100019761206,
          1.1633069274370054,
          1.2847212723722892,
          0.6878043933686491,
          0.7235693210003209,
          -0.2185254899678108,
          -0.9214353960475222,
          0.15372078451738289,
          0.04489774131848886,
          0.5591063348832644,
          -2.181074948739284,
          -0.44650935884237547,
          1.1285339969324604,
          -0.7997050437978639,
          0.3875274586091636,
          -1.4428124598172498,
          0.30718817340815485,
          -0.6772227705725071,
          -0.1354732158537621,
          -1.2041156443182979,
          -1.2991223536512906,
          -0.13337659677773347,
          1.6248163917469887,
          0.5014564732098982,
          -1.0421670872846438,
          1.1119405623616914,
          -0.3094230119341551,
          -2.2170148072154485,
          0.858164908480128,
          0.1937476866948945,
          1.3977161455052047,
          -0.6449582533006257,
          1.3374399804360335,
          0.2793771508696186,
          0.8595426716872022,
          -0.41316843657047914,
          2.0650357867171323,
          -0.18891294488257573,
          0.9120687728370215,
          0.47170982743301826,
          1.3995286681965595,
          2.9523359856753846,
          -0.2156573600877058,
          1.2300249799992218,
          0.44073317967212594,
          -0.022066795843629753,
          -0.5268852194942298,
          0.20730381958503605,
          0.733416713650668,
          0.8443419934049715,
          0.5020396864019491,
          -1.716772241166739,
          -1.307899712809543,
          -0.7197586602891242,
          -0.08191442847370518,
          0.1940732093735313,
          0.2997729938918538,
          0.5614337584535843,
          -2.2236930656077147,
          2.4054694857642724,
          -0.19495874877554625,
          -0.4798629195672261,
          0.9496321492408094,
          0.5747577660446029,
          0.08321313793747716,
          0.08592142084810923,
          0.3186989355807172,
          -0.33161156787469626,
          -1.228139146584102,
          1.0412808771345305,
          -0.35277139062308255,
          1.4039866662846174,
          0.49307280755934046,
          -0.21875339647065745,
          -0.8874140347814174,
          0.35738348561054833,
          -0.11798431425933198,
          -1.1602205281237221,
          0.2578188391703287,
          -0.25241907572889893,
          -1.1757576099571745,
          1.978974245352124,
          0.374565818914298,
          -1.3255402973767965,
          2.2331800939792528
         ],
         "yaxis": "y5"
        },
        {
         "histfunc": "count",
         "histnorm": "",
         "marker": {
          "color": "rgba(55, 128, 191, 1.0)",
          "line": {
           "color": "#4D5663",
           "width": 1.3
          }
         },
         "name": "B",
         "nbinsx": 10,
         "opacity": 0.8,
         "orientation": "v",
         "type": "histogram",
         "x": [
          -1.9614203298059667,
          0.09936386900591583,
          -0.12144634499406161,
          1.554896718036771,
          -1.28034147685133,
          1.4495445156838505,
          1.7043191329220253,
          -0.1826710330788866,
          -1.1631386699224067,
          0.46320754943208586,
          0.8858530141908567,
          -1.946179055103767,
          -2.826068861858329,
          1.2390237313446868,
          2.232962625610061,
          -0.6139100019761206,
          1.1633069274370054,
          1.2847212723722892,
          0.6878043933686491,
          0.7235693210003209,
          -0.2185254899678108,
          -0.9214353960475222,
          0.15372078451738289,
          0.04489774131848886,
          0.5591063348832644,
          -2.181074948739284,
          -0.44650935884237547,
          1.1285339969324604,
          -0.7997050437978639,
          0.3875274586091636,
          -1.4428124598172498,
          0.30718817340815485,
          -0.6772227705725071,
          -0.1354732158537621,
          -1.2041156443182979,
          -1.2991223536512906,
          -0.13337659677773347,
          1.6248163917469887,
          0.5014564732098982,
          -1.0421670872846438,
          1.1119405623616914,
          -0.3094230119341551,
          -2.2170148072154485,
          0.858164908480128,
          0.1937476866948945,
          1.3977161455052047,
          -0.6449582533006257,
          1.3374399804360335,
          0.2793771508696186,
          0.8595426716872022,
          -0.41316843657047914,
          2.0650357867171323,
          -0.18891294488257573,
          0.9120687728370215,
          0.47170982743301826,
          1.3995286681965595,
          2.9523359856753846,
          -0.2156573600877058,
          1.2300249799992218,
          0.44073317967212594,
          -0.022066795843629753,
          -0.5268852194942298,
          0.20730381958503605,
          0.733416713650668,
          0.8443419934049715,
          0.5020396864019491,
          -1.716772241166739,
          -1.307899712809543,
          -0.7197586602891242,
          -0.08191442847370518,
          0.1940732093735313,
          0.2997729938918538,
          0.5614337584535843,
          -2.2236930656077147,
          2.4054694857642724,
          -0.19495874877554625,
          -0.4798629195672261,
          0.9496321492408094,
          0.5747577660446029,
          0.08321313793747716,
          0.08592142084810923,
          0.3186989355807172,
          -0.33161156787469626,
          -1.228139146584102,
          1.0412808771345305,
          -0.35277139062308255,
          1.4039866662846174,
          0.49307280755934046,
          -0.21875339647065745,
          -0.8874140347814174,
          0.35738348561054833,
          -0.11798431425933198,
          -1.1602205281237221,
          0.2578188391703287,
          -0.25241907572889893,
          -1.1757576099571745,
          1.978974245352124,
          0.374565818914298,
          -1.3255402973767965,
          2.2331800939792528
         ],
         "xaxis": "x6",
         "yaxis": "y6"
        },
        {
         "line": {
          "color": "rgba(128, 128, 128, 1.0)",
          "dash": "solid",
          "shape": "linear",
          "width": 1.3
         },
         "marker": {
          "size": 2,
          "symbol": "circle"
         },
         "mode": "markers",
         "name": "B",
         "text": "",
         "type": "scatter",
         "x": [
          1.2481290602280048,
          -0.11929477162168828,
          -1.7187511710261845,
          0.13680315223213727,
          2.0342541142853077,
          0.6835298303368345,
          0.12394821682587562,
          1.1885503792856789,
          -0.3359210902010392,
          1.3936172712845936,
          -0.5316323296368594,
          1.112219139843769,
          -0.11143535134224522,
          1.095345240609513,
          0.3182954696065753,
          0.5950475225372326,
          1.0871081596461263,
          0.03427604320438264,
          -0.44263364985909015,
          -0.6457871934725776,
          -0.007117401098441378,
          -0.6159860431251373,
          -0.38239874686866704,
          0.2603103911978657,
          -0.6466700449947504,
          -0.07521629719823796,
          -0.6179815283659752,
          -0.5032327308655978,
          1.3598113004197534,
          -1.1065540908830902,
          1.433410727867854,
          -2.1805009648683575,
          0.07462687142352951,
          -1.9293121316663921,
          0.547164477816809,
          -0.18200017743812594,
          0.5803578824372388,
          1.5538968526260841,
          0.3181395980528022,
          -1.0588347614634315,
          -0.4442677291140026,
          0.3348313618841571,
          0.5974929879578847,
          -1.2664649423745793,
          -0.5803930660640939,
          -1.6139935565939125,
          -0.4307100368543607,
          0.6686488329157392,
          0.9896890278000638,
          -0.08777219467088634,
          -0.6962739830480462,
          -0.20910251387356948,
          -1.4060136769261444,
          0.12748303530900174,
          -1.3499127452079034,
          1.7068479337246907,
          0.866811723413893,
          0.974027970818929,
          0.44823821867055397,
          -0.40579951050650553,
          -0.1146903893512255,
          0.4590159436394058,
          0.1274016913525382,
          0.4380191052248816,
          0.29028004629836945,
          0.5300911619470048,
          -0.3766837362641318,
          -1.9379566400720856,
          0.9498026849284043,
          -0.025871942730667404,
          0.22145393935861032,
          -0.5290526635777423,
          -1.1896088711264121,
          0.40543708673310647,
          0.8369960071633412,
          0.04287268060350472,
          0.34911019915060465,
          -0.6488609785968117,
          0.07548552652848982,
          0.36926711947671886,
          -2.000660583745119,
          -0.669195556548231,
          0.6316558245282642,
          -0.07495216736797225,
          -0.5591084727814172,
          0.7323983844085346,
          -1.1026713013737295,
          -1.8466623713491148,
          -0.2963038307421379,
          1.3186181639595072,
          1.0237652677444617,
          -0.8453493645017428,
          -0.8727883780524848,
          -0.6827869057954249,
          2.237932533486498,
          -0.9988695035215177,
          0.6128986180938732,
          1.3631696325530038,
          -0.17751426357441896,
          -0.10334749975382293
         ],
         "xaxis": "x7",
         "y": [
          -1.9614203298059667,
          0.09936386900591583,
          -0.12144634499406161,
          1.554896718036771,
          -1.28034147685133,
          1.4495445156838505,
          1.7043191329220253,
          -0.1826710330788866,
          -1.1631386699224067,
          0.46320754943208586,
          0.8858530141908567,
          -1.946179055103767,
          -2.826068861858329,
          1.2390237313446868,
          2.232962625610061,
          -0.6139100019761206,
          1.1633069274370054,
          1.2847212723722892,
          0.6878043933686491,
          0.7235693210003209,
          -0.2185254899678108,
          -0.9214353960475222,
          0.15372078451738289,
          0.04489774131848886,
          0.5591063348832644,
          -2.181074948739284,
          -0.44650935884237547,
          1.1285339969324604,
          -0.7997050437978639,
          0.3875274586091636,
          -1.4428124598172498,
          0.30718817340815485,
          -0.6772227705725071,
          -0.1354732158537621,
          -1.2041156443182979,
          -1.2991223536512906,
          -0.13337659677773347,
          1.6248163917469887,
          0.5014564732098982,
          -1.0421670872846438,
          1.1119405623616914,
          -0.3094230119341551,
          -2.2170148072154485,
          0.858164908480128,
          0.1937476866948945,
          1.3977161455052047,
          -0.6449582533006257,
          1.3374399804360335,
          0.2793771508696186,
          0.8595426716872022,
          -0.41316843657047914,
          2.0650357867171323,
          -0.18891294488257573,
          0.9120687728370215,
          0.47170982743301826,
          1.3995286681965595,
          2.9523359856753846,
          -0.2156573600877058,
          1.2300249799992218,
          0.44073317967212594,
          -0.022066795843629753,
          -0.5268852194942298,
          0.20730381958503605,
          0.733416713650668,
          0.8443419934049715,
          0.5020396864019491,
          -1.716772241166739,
          -1.307899712809543,
          -0.7197586602891242,
          -0.08191442847370518,
          0.1940732093735313,
          0.2997729938918538,
          0.5614337584535843,
          -2.2236930656077147,
          2.4054694857642724,
          -0.19495874877554625,
          -0.4798629195672261,
          0.9496321492408094,
          0.5747577660446029,
          0.08321313793747716,
          0.08592142084810923,
          0.3186989355807172,
          -0.33161156787469626,
          -1.228139146584102,
          1.0412808771345305,
          -0.35277139062308255,
          1.4039866662846174,
          0.49307280755934046,
          -0.21875339647065745,
          -0.8874140347814174,
          0.35738348561054833,
          -0.11798431425933198,
          -1.1602205281237221,
          0.2578188391703287,
          -0.25241907572889893,
          -1.1757576099571745,
          1.978974245352124,
          0.374565818914298,
          -1.3255402973767965,
          2.2331800939792528
         ],
         "yaxis": "y7"
        },
        {
         "line": {
          "color": "rgba(128, 128, 128, 1.0)",
          "dash": "solid",
          "shape": "linear",
          "width": 1.3
         },
         "marker": {
          "size": 2,
          "symbol": "circle"
         },
         "mode": "markers",
         "name": "B",
         "text": "",
         "type": "scatter",
         "x": [
          -0.38038452061611805,
          -0.5506827942179204,
          -0.8486870998656855,
          1.414967729808227,
          -1.0477678648426494,
          -1.9640495250297236,
          0.18769300878539133,
          0.42748668299848763,
          -0.14076395607271944,
          -0.25518617125015197,
          1.5298604167425294,
          0.16782456484427766,
          -0.8625470787519635,
          -0.3401968140754208,
          -0.552225588553631,
          0.24419364952140488,
          0.42949389314581865,
          -0.46910796858558124,
          0.9577621493762632,
          0.3625964363144777,
          -0.06492939512567686,
          0.5352444706305645,
          -0.5107367639438877,
          1.02870804413704,
          1.2070746167965483,
          -0.17463474348812388,
          -0.1684181586791721,
          -1.5846215751280326,
          -0.7027362522387298,
          -1.5248951521984482,
          0.30122806724387796,
          -0.3288071867367561,
          0.2459816045668211,
          0.2527445372714324,
          -0.6494724452668903,
          -0.6112211685880015,
          -0.7996648647148987,
          -0.3461906526088926,
          1.6035873874528779,
          0.2155637451685372,
          0.0009101419438257457,
          -1.2033096641897751,
          -1.690067833970175,
          1.3044403286383324,
          -0.1698452915634887,
          0.26063014373480525,
          0.41121672303455964,
          -0.12118866426554618,
          -1.5315810381028157,
          -0.3491070267291162,
          0.7392929737509153,
          -1.4449307368222166,
          -0.2005745490635271,
          -0.63060619470764,
          -1.42764874215277,
          -0.11017452337573996,
          -0.491144682883569,
          2.496224409446854,
          0.11533880646002999,
          1.5065605286241495,
          1.1073039419149038,
          0.6800632915535396,
          -0.15372971888054193,
          -0.10963986128568264,
          -0.5899495606091966,
          -1.5534302933080275,
          0.598218540590992,
          0.7143172145662522,
          -0.648216173341247,
          -0.1825148127024039,
          0.40010536398322355,
          1.0966913112497987,
          0.5310530437738917,
          0.29394220052286385,
          1.2792714148415116,
          -0.16201579382107953,
          1.8390836521439362,
          -0.16281222705571385,
          0.5388109257766299,
          1.7420315742598118,
          -0.3134948021944738,
          -0.9707196738386299,
          -0.04096253708433591,
          -0.509974005697877,
          -1.0031598449112542,
          -1.1625971458266298,
          0.05161225328573585,
          -1.9777282921899026,
          -0.987865581607528,
          -0.38066253999868416,
          0.9866618178028409,
          -1.5748008452477729,
          0.7540422366292371,
          -1.1079266628977027,
          0.2822348503877316,
          -0.31999434564295237,
          1.1052761968600926,
          -1.6001253252177976,
          1.0391630083294403,
          -0.13978143001806478
         ],
         "xaxis": "x8",
         "y": [
          -1.9614203298059667,
          0.09936386900591583,
          -0.12144634499406161,
          1.554896718036771,
          -1.28034147685133,
          1.4495445156838505,
          1.7043191329220253,
          -0.1826710330788866,
          -1.1631386699224067,
          0.46320754943208586,
          0.8858530141908567,
          -1.946179055103767,
          -2.826068861858329,
          1.2390237313446868,
          2.232962625610061,
          -0.6139100019761206,
          1.1633069274370054,
          1.2847212723722892,
          0.6878043933686491,
          0.7235693210003209,
          -0.2185254899678108,
          -0.9214353960475222,
          0.15372078451738289,
          0.04489774131848886,
          0.5591063348832644,
          -2.181074948739284,
          -0.44650935884237547,
          1.1285339969324604,
          -0.7997050437978639,
          0.3875274586091636,
          -1.4428124598172498,
          0.30718817340815485,
          -0.6772227705725071,
          -0.1354732158537621,
          -1.2041156443182979,
          -1.2991223536512906,
          -0.13337659677773347,
          1.6248163917469887,
          0.5014564732098982,
          -1.0421670872846438,
          1.1119405623616914,
          -0.3094230119341551,
          -2.2170148072154485,
          0.858164908480128,
          0.1937476866948945,
          1.3977161455052047,
          -0.6449582533006257,
          1.3374399804360335,
          0.2793771508696186,
          0.8595426716872022,
          -0.41316843657047914,
          2.0650357867171323,
          -0.18891294488257573,
          0.9120687728370215,
          0.47170982743301826,
          1.3995286681965595,
          2.9523359856753846,
          -0.2156573600877058,
          1.2300249799992218,
          0.44073317967212594,
          -0.022066795843629753,
          -0.5268852194942298,
          0.20730381958503605,
          0.733416713650668,
          0.8443419934049715,
          0.5020396864019491,
          -1.716772241166739,
          -1.307899712809543,
          -0.7197586602891242,
          -0.08191442847370518,
          0.1940732093735313,
          0.2997729938918538,
          0.5614337584535843,
          -2.2236930656077147,
          2.4054694857642724,
          -0.19495874877554625,
          -0.4798629195672261,
          0.9496321492408094,
          0.5747577660446029,
          0.08321313793747716,
          0.08592142084810923,
          0.3186989355807172,
          -0.33161156787469626,
          -1.228139146584102,
          1.0412808771345305,
          -0.35277139062308255,
          1.4039866662846174,
          0.49307280755934046,
          -0.21875339647065745,
          -0.8874140347814174,
          0.35738348561054833,
          -0.11798431425933198,
          -1.1602205281237221,
          0.2578188391703287,
          -0.25241907572889893,
          -1.1757576099571745,
          1.978974245352124,
          0.374565818914298,
          -1.3255402973767965,
          2.2331800939792528
         ],
         "yaxis": "y8"
        },
        {
         "line": {
          "color": "rgba(128, 128, 128, 1.0)",
          "dash": "solid",
          "shape": "linear",
          "width": 1.3
         },
         "marker": {
          "size": 2,
          "symbol": "circle"
         },
         "mode": "markers",
         "name": "C",
         "text": "",
         "type": "scatter",
         "x": [
          0.5016259041677826,
          0.39693214686922423,
          0.15105045423677646,
          0.23803313048951832,
          -0.9065096169526577,
          -0.5858144449744032,
          -1.1915955319013736,
          -0.48035108080156647,
          0.3062837808136795,
          -1.3107717470084945,
          -1.4233859542149554,
          -1.6842219620749486,
          -0.6596666126340662,
          1.1646748262573046,
          0.5794136835164456,
          -0.9205239744803996,
          -0.7475740043983561,
          0.6918046774990229,
          -0.6555066758516412,
          -1.3901183444688856,
          -1.5825350400322997,
          0.7205935933384565,
          0.8600132535274735,
          1.4029869785814273,
          0.3999588780574937,
          -0.28356727685485905,
          -0.8645411771163848,
          -1.6235254258188299,
          1.6360859851250331,
          0.2321715088292792,
          -1.5209747815314942,
          -1.5962544252034896,
          -0.22469373520940192,
          0.8753232347181236,
          0.5909199306008397,
          -1.9906485850036764,
          0.7535751361189627,
          -0.29522547033898755,
          0.5275685446294369,
          0.490854014469745,
          -0.712958673119837,
          1.199183739769989,
          -2.1716144020061234,
          0.12954879730176844,
          0.6577830296031418,
          -0.0944794689894394,
          -0.5824826846365383,
          0.9537935224525297,
          0.1491860042028232,
          2.1676855898919563,
          -0.6035610892309228,
          -0.22958926388827122,
          -0.49516589618777085,
          -0.018281618517689203,
          -0.36824896094724463,
          -0.7026609698955638,
          1.9970040310794626,
          -1.3398354306976554,
          2.2132601709596034,
          -0.8850429260119838,
          -0.9979121569709356,
          0.13341848060100922,
          -0.40690396935590933,
          0.2898004741616915,
          0.7263452114533693,
          0.14363457123025744,
          0.23020745995645697,
          0.8286908386058912,
          -0.8694143942178151,
          -1.6292956737587923,
          0.14828881101741534,
          1.5579611550705739,
          0.8703995897101646,
          1.167026637852573,
          -0.7681957193858597,
          -0.6830233728445323,
          -0.6706761738439486,
          0.9527201917461887,
          -0.5858980652427307,
          0.6449352460476692,
          -0.681163803699951,
          0.7760459110594783,
          1.4041260003145961,
          -0.6405096339488137,
          1.5846369943924745,
          -0.22837198279290108,
          -0.48738580327626524,
          0.6355688871774738,
          -0.20426978259615566,
          0.7349676391888955,
          -0.006914347400294714,
          1.007185939619343,
          -1.7670966160755497,
          -0.4037183481284638,
          -0.412260784658639,
          -0.635749062487043,
          0.4946209143651886,
          2.0158526613892143,
          0.5074910998586187,
          0.08947531478456232
         ],
         "xaxis": "x9",
         "y": [
          1.2481290602280048,
          -0.11929477162168828,
          -1.7187511710261845,
          0.13680315223213727,
          2.0342541142853077,
          0.6835298303368345,
          0.12394821682587562,
          1.1885503792856789,
          -0.3359210902010392,
          1.3936172712845936,
          -0.5316323296368594,
          1.112219139843769,
          -0.11143535134224522,
          1.095345240609513,
          0.3182954696065753,
          0.5950475225372326,
          1.0871081596461263,
          0.03427604320438264,
          -0.44263364985909015,
          -0.6457871934725776,
          -0.007117401098441378,
          -0.6159860431251373,
          -0.38239874686866704,
          0.2603103911978657,
          -0.6466700449947504,
          -0.07521629719823796,
          -0.6179815283659752,
          -0.5032327308655978,
          1.3598113004197534,
          -1.1065540908830902,
          1.433410727867854,
          -2.1805009648683575,
          0.07462687142352951,
          -1.9293121316663921,
          0.547164477816809,
          -0.18200017743812594,
          0.5803578824372388,
          1.5538968526260841,
          0.3181395980528022,
          -1.0588347614634315,
          -0.4442677291140026,
          0.3348313618841571,
          0.5974929879578847,
          -1.2664649423745793,
          -0.5803930660640939,
          -1.6139935565939125,
          -0.4307100368543607,
          0.6686488329157392,
          0.9896890278000638,
          -0.08777219467088634,
          -0.6962739830480462,
          -0.20910251387356948,
          -1.4060136769261444,
          0.12748303530900174,
          -1.3499127452079034,
          1.7068479337246907,
          0.866811723413893,
          0.974027970818929,
          0.44823821867055397,
          -0.40579951050650553,
          -0.1146903893512255,
          0.4590159436394058,
          0.1274016913525382,
          0.4380191052248816,
          0.29028004629836945,
          0.5300911619470048,
          -0.3766837362641318,
          -1.9379566400720856,
          0.9498026849284043,
          -0.025871942730667404,
          0.22145393935861032,
          -0.5290526635777423,
          -1.1896088711264121,
          0.40543708673310647,
          0.8369960071633412,
          0.04287268060350472,
          0.34911019915060465,
          -0.6488609785968117,
          0.07548552652848982,
          0.36926711947671886,
          -2.000660583745119,
          -0.669195556548231,
          0.6316558245282642,
          -0.07495216736797225,
          -0.5591084727814172,
          0.7323983844085346,
          -1.1026713013737295,
          -1.8466623713491148,
          -0.2963038307421379,
          1.3186181639595072,
          1.0237652677444617,
          -0.8453493645017428,
          -0.8727883780524848,
          -0.6827869057954249,
          2.237932533486498,
          -0.9988695035215177,
          0.6128986180938732,
          1.3631696325530038,
          -0.17751426357441896,
          -0.10334749975382293
         ],
         "yaxis": "y9"
        },
        {
         "line": {
          "color": "rgba(128, 128, 128, 1.0)",
          "dash": "solid",
          "shape": "linear",
          "width": 1.3
         },
         "marker": {
          "size": 2,
          "symbol": "circle"
         },
         "mode": "markers",
         "name": "C",
         "text": "",
         "type": "scatter",
         "x": [
          -1.9614203298059667,
          0.09936386900591583,
          -0.12144634499406161,
          1.554896718036771,
          -1.28034147685133,
          1.4495445156838505,
          1.7043191329220253,
          -0.1826710330788866,
          -1.1631386699224067,
          0.46320754943208586,
          0.8858530141908567,
          -1.946179055103767,
          -2.826068861858329,
          1.2390237313446868,
          2.232962625610061,
          -0.6139100019761206,
          1.1633069274370054,
          1.2847212723722892,
          0.6878043933686491,
          0.7235693210003209,
          -0.2185254899678108,
          -0.9214353960475222,
          0.15372078451738289,
          0.04489774131848886,
          0.5591063348832644,
          -2.181074948739284,
          -0.44650935884237547,
          1.1285339969324604,
          -0.7997050437978639,
          0.3875274586091636,
          -1.4428124598172498,
          0.30718817340815485,
          -0.6772227705725071,
          -0.1354732158537621,
          -1.2041156443182979,
          -1.2991223536512906,
          -0.13337659677773347,
          1.6248163917469887,
          0.5014564732098982,
          -1.0421670872846438,
          1.1119405623616914,
          -0.3094230119341551,
          -2.2170148072154485,
          0.858164908480128,
          0.1937476866948945,
          1.3977161455052047,
          -0.6449582533006257,
          1.3374399804360335,
          0.2793771508696186,
          0.8595426716872022,
          -0.41316843657047914,
          2.0650357867171323,
          -0.18891294488257573,
          0.9120687728370215,
          0.47170982743301826,
          1.3995286681965595,
          2.9523359856753846,
          -0.2156573600877058,
          1.2300249799992218,
          0.44073317967212594,
          -0.022066795843629753,
          -0.5268852194942298,
          0.20730381958503605,
          0.733416713650668,
          0.8443419934049715,
          0.5020396864019491,
          -1.716772241166739,
          -1.307899712809543,
          -0.7197586602891242,
          -0.08191442847370518,
          0.1940732093735313,
          0.2997729938918538,
          0.5614337584535843,
          -2.2236930656077147,
          2.4054694857642724,
          -0.19495874877554625,
          -0.4798629195672261,
          0.9496321492408094,
          0.5747577660446029,
          0.08321313793747716,
          0.08592142084810923,
          0.3186989355807172,
          -0.33161156787469626,
          -1.228139146584102,
          1.0412808771345305,
          -0.35277139062308255,
          1.4039866662846174,
          0.49307280755934046,
          -0.21875339647065745,
          -0.8874140347814174,
          0.35738348561054833,
          -0.11798431425933198,
          -1.1602205281237221,
          0.2578188391703287,
          -0.25241907572889893,
          -1.1757576099571745,
          1.978974245352124,
          0.374565818914298,
          -1.3255402973767965,
          2.2331800939792528
         ],
         "xaxis": "x10",
         "y": [
          1.2481290602280048,
          -0.11929477162168828,
          -1.7187511710261845,
          0.13680315223213727,
          2.0342541142853077,
          0.6835298303368345,
          0.12394821682587562,
          1.1885503792856789,
          -0.3359210902010392,
          1.3936172712845936,
          -0.5316323296368594,
          1.112219139843769,
          -0.11143535134224522,
          1.095345240609513,
          0.3182954696065753,
          0.5950475225372326,
          1.0871081596461263,
          0.03427604320438264,
          -0.44263364985909015,
          -0.6457871934725776,
          -0.007117401098441378,
          -0.6159860431251373,
          -0.38239874686866704,
          0.2603103911978657,
          -0.6466700449947504,
          -0.07521629719823796,
          -0.6179815283659752,
          -0.5032327308655978,
          1.3598113004197534,
          -1.1065540908830902,
          1.433410727867854,
          -2.1805009648683575,
          0.07462687142352951,
          -1.9293121316663921,
          0.547164477816809,
          -0.18200017743812594,
          0.5803578824372388,
          1.5538968526260841,
          0.3181395980528022,
          -1.0588347614634315,
          -0.4442677291140026,
          0.3348313618841571,
          0.5974929879578847,
          -1.2664649423745793,
          -0.5803930660640939,
          -1.6139935565939125,
          -0.4307100368543607,
          0.6686488329157392,
          0.9896890278000638,
          -0.08777219467088634,
          -0.6962739830480462,
          -0.20910251387356948,
          -1.4060136769261444,
          0.12748303530900174,
          -1.3499127452079034,
          1.7068479337246907,
          0.866811723413893,
          0.974027970818929,
          0.44823821867055397,
          -0.40579951050650553,
          -0.1146903893512255,
          0.4590159436394058,
          0.1274016913525382,
          0.4380191052248816,
          0.29028004629836945,
          0.5300911619470048,
          -0.3766837362641318,
          -1.9379566400720856,
          0.9498026849284043,
          -0.025871942730667404,
          0.22145393935861032,
          -0.5290526635777423,
          -1.1896088711264121,
          0.40543708673310647,
          0.8369960071633412,
          0.04287268060350472,
          0.34911019915060465,
          -0.6488609785968117,
          0.07548552652848982,
          0.36926711947671886,
          -2.000660583745119,
          -0.669195556548231,
          0.6316558245282642,
          -0.07495216736797225,
          -0.5591084727814172,
          0.7323983844085346,
          -1.1026713013737295,
          -1.8466623713491148,
          -0.2963038307421379,
          1.3186181639595072,
          1.0237652677444617,
          -0.8453493645017428,
          -0.8727883780524848,
          -0.6827869057954249,
          2.237932533486498,
          -0.9988695035215177,
          0.6128986180938732,
          1.3631696325530038,
          -0.17751426357441896,
          -0.10334749975382293
         ],
         "yaxis": "y10"
        },
        {
         "histfunc": "count",
         "histnorm": "",
         "marker": {
          "color": "rgba(50, 171, 96, 1.0)",
          "line": {
           "color": "#4D5663",
           "width": 1.3
          }
         },
         "name": "C",
         "nbinsx": 10,
         "opacity": 0.8,
         "orientation": "v",
         "type": "histogram",
         "x": [
          1.2481290602280048,
          -0.11929477162168828,
          -1.7187511710261845,
          0.13680315223213727,
          2.0342541142853077,
          0.6835298303368345,
          0.12394821682587562,
          1.1885503792856789,
          -0.3359210902010392,
          1.3936172712845936,
          -0.5316323296368594,
          1.112219139843769,
          -0.11143535134224522,
          1.095345240609513,
          0.3182954696065753,
          0.5950475225372326,
          1.0871081596461263,
          0.03427604320438264,
          -0.44263364985909015,
          -0.6457871934725776,
          -0.007117401098441378,
          -0.6159860431251373,
          -0.38239874686866704,
          0.2603103911978657,
          -0.6466700449947504,
          -0.07521629719823796,
          -0.6179815283659752,
          -0.5032327308655978,
          1.3598113004197534,
          -1.1065540908830902,
          1.433410727867854,
          -2.1805009648683575,
          0.07462687142352951,
          -1.9293121316663921,
          0.547164477816809,
          -0.18200017743812594,
          0.5803578824372388,
          1.5538968526260841,
          0.3181395980528022,
          -1.0588347614634315,
          -0.4442677291140026,
          0.3348313618841571,
          0.5974929879578847,
          -1.2664649423745793,
          -0.5803930660640939,
          -1.6139935565939125,
          -0.4307100368543607,
          0.6686488329157392,
          0.9896890278000638,
          -0.08777219467088634,
          -0.6962739830480462,
          -0.20910251387356948,
          -1.4060136769261444,
          0.12748303530900174,
          -1.3499127452079034,
          1.7068479337246907,
          0.866811723413893,
          0.974027970818929,
          0.44823821867055397,
          -0.40579951050650553,
          -0.1146903893512255,
          0.4590159436394058,
          0.1274016913525382,
          0.4380191052248816,
          0.29028004629836945,
          0.5300911619470048,
          -0.3766837362641318,
          -1.9379566400720856,
          0.9498026849284043,
          -0.025871942730667404,
          0.22145393935861032,
          -0.5290526635777423,
          -1.1896088711264121,
          0.40543708673310647,
          0.8369960071633412,
          0.04287268060350472,
          0.34911019915060465,
          -0.6488609785968117,
          0.07548552652848982,
          0.36926711947671886,
          -2.000660583745119,
          -0.669195556548231,
          0.6316558245282642,
          -0.07495216736797225,
          -0.5591084727814172,
          0.7323983844085346,
          -1.1026713013737295,
          -1.8466623713491148,
          -0.2963038307421379,
          1.3186181639595072,
          1.0237652677444617,
          -0.8453493645017428,
          -0.8727883780524848,
          -0.6827869057954249,
          2.237932533486498,
          -0.9988695035215177,
          0.6128986180938732,
          1.3631696325530038,
          -0.17751426357441896,
          -0.10334749975382293
         ],
         "xaxis": "x11",
         "yaxis": "y11"
        },
        {
         "line": {
          "color": "rgba(128, 128, 128, 1.0)",
          "dash": "solid",
          "shape": "linear",
          "width": 1.3
         },
         "marker": {
          "size": 2,
          "symbol": "circle"
         },
         "mode": "markers",
         "name": "C",
         "text": "",
         "type": "scatter",
         "x": [
          -0.38038452061611805,
          -0.5506827942179204,
          -0.8486870998656855,
          1.414967729808227,
          -1.0477678648426494,
          -1.9640495250297236,
          0.18769300878539133,
          0.42748668299848763,
          -0.14076395607271944,
          -0.25518617125015197,
          1.5298604167425294,
          0.16782456484427766,
          -0.8625470787519635,
          -0.3401968140754208,
          -0.552225588553631,
          0.24419364952140488,
          0.42949389314581865,
          -0.46910796858558124,
          0.9577621493762632,
          0.3625964363144777,
          -0.06492939512567686,
          0.5352444706305645,
          -0.5107367639438877,
          1.02870804413704,
          1.2070746167965483,
          -0.17463474348812388,
          -0.1684181586791721,
          -1.5846215751280326,
          -0.7027362522387298,
          -1.5248951521984482,
          0.30122806724387796,
          -0.3288071867367561,
          0.2459816045668211,
          0.2527445372714324,
          -0.6494724452668903,
          -0.6112211685880015,
          -0.7996648647148987,
          -0.3461906526088926,
          1.6035873874528779,
          0.2155637451685372,
          0.0009101419438257457,
          -1.2033096641897751,
          -1.690067833970175,
          1.3044403286383324,
          -0.1698452915634887,
          0.26063014373480525,
          0.41121672303455964,
          -0.12118866426554618,
          -1.5315810381028157,
          -0.3491070267291162,
          0.7392929737509153,
          -1.4449307368222166,
          -0.2005745490635271,
          -0.63060619470764,
          -1.42764874215277,
          -0.11017452337573996,
          -0.491144682883569,
          2.496224409446854,
          0.11533880646002999,
          1.5065605286241495,
          1.1073039419149038,
          0.6800632915535396,
          -0.15372971888054193,
          -0.10963986128568264,
          -0.5899495606091966,
          -1.5534302933080275,
          0.598218540590992,
          0.7143172145662522,
          -0.648216173341247,
          -0.1825148127024039,
          0.40010536398322355,
          1.0966913112497987,
          0.5310530437738917,
          0.29394220052286385,
          1.2792714148415116,
          -0.16201579382107953,
          1.8390836521439362,
          -0.16281222705571385,
          0.5388109257766299,
          1.7420315742598118,
          -0.3134948021944738,
          -0.9707196738386299,
          -0.04096253708433591,
          -0.509974005697877,
          -1.0031598449112542,
          -1.1625971458266298,
          0.05161225328573585,
          -1.9777282921899026,
          -0.987865581607528,
          -0.38066253999868416,
          0.9866618178028409,
          -1.5748008452477729,
          0.7540422366292371,
          -1.1079266628977027,
          0.2822348503877316,
          -0.31999434564295237,
          1.1052761968600926,
          -1.6001253252177976,
          1.0391630083294403,
          -0.13978143001806478
         ],
         "xaxis": "x12",
         "y": [
          1.2481290602280048,
          -0.11929477162168828,
          -1.7187511710261845,
          0.13680315223213727,
          2.0342541142853077,
          0.6835298303368345,
          0.12394821682587562,
          1.1885503792856789,
          -0.3359210902010392,
          1.3936172712845936,
          -0.5316323296368594,
          1.112219139843769,
          -0.11143535134224522,
          1.095345240609513,
          0.3182954696065753,
          0.5950475225372326,
          1.0871081596461263,
          0.03427604320438264,
          -0.44263364985909015,
          -0.6457871934725776,
          -0.007117401098441378,
          -0.6159860431251373,
          -0.38239874686866704,
          0.2603103911978657,
          -0.6466700449947504,
          -0.07521629719823796,
          -0.6179815283659752,
          -0.5032327308655978,
          1.3598113004197534,
          -1.1065540908830902,
          1.433410727867854,
          -2.1805009648683575,
          0.07462687142352951,
          -1.9293121316663921,
          0.547164477816809,
          -0.18200017743812594,
          0.5803578824372388,
          1.5538968526260841,
          0.3181395980528022,
          -1.0588347614634315,
          -0.4442677291140026,
          0.3348313618841571,
          0.5974929879578847,
          -1.2664649423745793,
          -0.5803930660640939,
          -1.6139935565939125,
          -0.4307100368543607,
          0.6686488329157392,
          0.9896890278000638,
          -0.08777219467088634,
          -0.6962739830480462,
          -0.20910251387356948,
          -1.4060136769261444,
          0.12748303530900174,
          -1.3499127452079034,
          1.7068479337246907,
          0.866811723413893,
          0.974027970818929,
          0.44823821867055397,
          -0.40579951050650553,
          -0.1146903893512255,
          0.4590159436394058,
          0.1274016913525382,
          0.4380191052248816,
          0.29028004629836945,
          0.5300911619470048,
          -0.3766837362641318,
          -1.9379566400720856,
          0.9498026849284043,
          -0.025871942730667404,
          0.22145393935861032,
          -0.5290526635777423,
          -1.1896088711264121,
          0.40543708673310647,
          0.8369960071633412,
          0.04287268060350472,
          0.34911019915060465,
          -0.6488609785968117,
          0.07548552652848982,
          0.36926711947671886,
          -2.000660583745119,
          -0.669195556548231,
          0.6316558245282642,
          -0.07495216736797225,
          -0.5591084727814172,
          0.7323983844085346,
          -1.1026713013737295,
          -1.8466623713491148,
          -0.2963038307421379,
          1.3186181639595072,
          1.0237652677444617,
          -0.8453493645017428,
          -0.8727883780524848,
          -0.6827869057954249,
          2.237932533486498,
          -0.9988695035215177,
          0.6128986180938732,
          1.3631696325530038,
          -0.17751426357441896,
          -0.10334749975382293
         ],
         "yaxis": "y12"
        },
        {
         "line": {
          "color": "rgba(128, 128, 128, 1.0)",
          "dash": "solid",
          "shape": "linear",
          "width": 1.3
         },
         "marker": {
          "size": 2,
          "symbol": "circle"
         },
         "mode": "markers",
         "name": "D",
         "text": "",
         "type": "scatter",
         "x": [
          0.5016259041677826,
          0.39693214686922423,
          0.15105045423677646,
          0.23803313048951832,
          -0.9065096169526577,
          -0.5858144449744032,
          -1.1915955319013736,
          -0.48035108080156647,
          0.3062837808136795,
          -1.3107717470084945,
          -1.4233859542149554,
          -1.6842219620749486,
          -0.6596666126340662,
          1.1646748262573046,
          0.5794136835164456,
          -0.9205239744803996,
          -0.7475740043983561,
          0.6918046774990229,
          -0.6555066758516412,
          -1.3901183444688856,
          -1.5825350400322997,
          0.7205935933384565,
          0.8600132535274735,
          1.4029869785814273,
          0.3999588780574937,
          -0.28356727685485905,
          -0.8645411771163848,
          -1.6235254258188299,
          1.6360859851250331,
          0.2321715088292792,
          -1.5209747815314942,
          -1.5962544252034896,
          -0.22469373520940192,
          0.8753232347181236,
          0.5909199306008397,
          -1.9906485850036764,
          0.7535751361189627,
          -0.29522547033898755,
          0.5275685446294369,
          0.490854014469745,
          -0.712958673119837,
          1.199183739769989,
          -2.1716144020061234,
          0.12954879730176844,
          0.6577830296031418,
          -0.0944794689894394,
          -0.5824826846365383,
          0.9537935224525297,
          0.1491860042028232,
          2.1676855898919563,
          -0.6035610892309228,
          -0.22958926388827122,
          -0.49516589618777085,
          -0.018281618517689203,
          -0.36824896094724463,
          -0.7026609698955638,
          1.9970040310794626,
          -1.3398354306976554,
          2.2132601709596034,
          -0.8850429260119838,
          -0.9979121569709356,
          0.13341848060100922,
          -0.40690396935590933,
          0.2898004741616915,
          0.7263452114533693,
          0.14363457123025744,
          0.23020745995645697,
          0.8286908386058912,
          -0.8694143942178151,
          -1.6292956737587923,
          0.14828881101741534,
          1.5579611550705739,
          0.8703995897101646,
          1.167026637852573,
          -0.7681957193858597,
          -0.6830233728445323,
          -0.6706761738439486,
          0.9527201917461887,
          -0.5858980652427307,
          0.6449352460476692,
          -0.681163803699951,
          0.7760459110594783,
          1.4041260003145961,
          -0.6405096339488137,
          1.5846369943924745,
          -0.22837198279290108,
          -0.48738580327626524,
          0.6355688871774738,
          -0.20426978259615566,
          0.7349676391888955,
          -0.006914347400294714,
          1.007185939619343,
          -1.7670966160755497,
          -0.4037183481284638,
          -0.412260784658639,
          -0.635749062487043,
          0.4946209143651886,
          2.0158526613892143,
          0.5074910998586187,
          0.08947531478456232
         ],
         "xaxis": "x13",
         "y": [
          -0.38038452061611805,
          -0.5506827942179204,
          -0.8486870998656855,
          1.414967729808227,
          -1.0477678648426494,
          -1.9640495250297236,
          0.18769300878539133,
          0.42748668299848763,
          -0.14076395607271944,
          -0.25518617125015197,
          1.5298604167425294,
          0.16782456484427766,
          -0.8625470787519635,
          -0.3401968140754208,
          -0.552225588553631,
          0.24419364952140488,
          0.42949389314581865,
          -0.46910796858558124,
          0.9577621493762632,
          0.3625964363144777,
          -0.06492939512567686,
          0.5352444706305645,
          -0.5107367639438877,
          1.02870804413704,
          1.2070746167965483,
          -0.17463474348812388,
          -0.1684181586791721,
          -1.5846215751280326,
          -0.7027362522387298,
          -1.5248951521984482,
          0.30122806724387796,
          -0.3288071867367561,
          0.2459816045668211,
          0.2527445372714324,
          -0.6494724452668903,
          -0.6112211685880015,
          -0.7996648647148987,
          -0.3461906526088926,
          1.6035873874528779,
          0.2155637451685372,
          0.0009101419438257457,
          -1.2033096641897751,
          -1.690067833970175,
          1.3044403286383324,
          -0.1698452915634887,
          0.26063014373480525,
          0.41121672303455964,
          -0.12118866426554618,
          -1.5315810381028157,
          -0.3491070267291162,
          0.7392929737509153,
          -1.4449307368222166,
          -0.2005745490635271,
          -0.63060619470764,
          -1.42764874215277,
          -0.11017452337573996,
          -0.491144682883569,
          2.496224409446854,
          0.11533880646002999,
          1.5065605286241495,
          1.1073039419149038,
          0.6800632915535396,
          -0.15372971888054193,
          -0.10963986128568264,
          -0.5899495606091966,
          -1.5534302933080275,
          0.598218540590992,
          0.7143172145662522,
          -0.648216173341247,
          -0.1825148127024039,
          0.40010536398322355,
          1.0966913112497987,
          0.5310530437738917,
          0.29394220052286385,
          1.2792714148415116,
          -0.16201579382107953,
          1.8390836521439362,
          -0.16281222705571385,
          0.5388109257766299,
          1.7420315742598118,
          -0.3134948021944738,
          -0.9707196738386299,
          -0.04096253708433591,
          -0.509974005697877,
          -1.0031598449112542,
          -1.1625971458266298,
          0.05161225328573585,
          -1.9777282921899026,
          -0.987865581607528,
          -0.38066253999868416,
          0.9866618178028409,
          -1.5748008452477729,
          0.7540422366292371,
          -1.1079266628977027,
          0.2822348503877316,
          -0.31999434564295237,
          1.1052761968600926,
          -1.6001253252177976,
          1.0391630083294403,
          -0.13978143001806478
         ],
         "yaxis": "y13"
        },
        {
         "line": {
          "color": "rgba(128, 128, 128, 1.0)",
          "dash": "solid",
          "shape": "linear",
          "width": 1.3
         },
         "marker": {
          "size": 2,
          "symbol": "circle"
         },
         "mode": "markers",
         "name": "D",
         "text": "",
         "type": "scatter",
         "x": [
          -1.9614203298059667,
          0.09936386900591583,
          -0.12144634499406161,
          1.554896718036771,
          -1.28034147685133,
          1.4495445156838505,
          1.7043191329220253,
          -0.1826710330788866,
          -1.1631386699224067,
          0.46320754943208586,
          0.8858530141908567,
          -1.946179055103767,
          -2.826068861858329,
          1.2390237313446868,
          2.232962625610061,
          -0.6139100019761206,
          1.1633069274370054,
          1.2847212723722892,
          0.6878043933686491,
          0.7235693210003209,
          -0.2185254899678108,
          -0.9214353960475222,
          0.15372078451738289,
          0.04489774131848886,
          0.5591063348832644,
          -2.181074948739284,
          -0.44650935884237547,
          1.1285339969324604,
          -0.7997050437978639,
          0.3875274586091636,
          -1.4428124598172498,
          0.30718817340815485,
          -0.6772227705725071,
          -0.1354732158537621,
          -1.2041156443182979,
          -1.2991223536512906,
          -0.13337659677773347,
          1.6248163917469887,
          0.5014564732098982,
          -1.0421670872846438,
          1.1119405623616914,
          -0.3094230119341551,
          -2.2170148072154485,
          0.858164908480128,
          0.1937476866948945,
          1.3977161455052047,
          -0.6449582533006257,
          1.3374399804360335,
          0.2793771508696186,
          0.8595426716872022,
          -0.41316843657047914,
          2.0650357867171323,
          -0.18891294488257573,
          0.9120687728370215,
          0.47170982743301826,
          1.3995286681965595,
          2.9523359856753846,
          -0.2156573600877058,
          1.2300249799992218,
          0.44073317967212594,
          -0.022066795843629753,
          -0.5268852194942298,
          0.20730381958503605,
          0.733416713650668,
          0.8443419934049715,
          0.5020396864019491,
          -1.716772241166739,
          -1.307899712809543,
          -0.7197586602891242,
          -0.08191442847370518,
          0.1940732093735313,
          0.2997729938918538,
          0.5614337584535843,
          -2.2236930656077147,
          2.4054694857642724,
          -0.19495874877554625,
          -0.4798629195672261,
          0.9496321492408094,
          0.5747577660446029,
          0.08321313793747716,
          0.08592142084810923,
          0.3186989355807172,
          -0.33161156787469626,
          -1.228139146584102,
          1.0412808771345305,
          -0.35277139062308255,
          1.4039866662846174,
          0.49307280755934046,
          -0.21875339647065745,
          -0.8874140347814174,
          0.35738348561054833,
          -0.11798431425933198,
          -1.1602205281237221,
          0.2578188391703287,
          -0.25241907572889893,
          -1.1757576099571745,
          1.978974245352124,
          0.374565818914298,
          -1.3255402973767965,
          2.2331800939792528
         ],
         "xaxis": "x14",
         "y": [
          -0.38038452061611805,
          -0.5506827942179204,
          -0.8486870998656855,
          1.414967729808227,
          -1.0477678648426494,
          -1.9640495250297236,
          0.18769300878539133,
          0.42748668299848763,
          -0.14076395607271944,
          -0.25518617125015197,
          1.5298604167425294,
          0.16782456484427766,
          -0.8625470787519635,
          -0.3401968140754208,
          -0.552225588553631,
          0.24419364952140488,
          0.42949389314581865,
          -0.46910796858558124,
          0.9577621493762632,
          0.3625964363144777,
          -0.06492939512567686,
          0.5352444706305645,
          -0.5107367639438877,
          1.02870804413704,
          1.2070746167965483,
          -0.17463474348812388,
          -0.1684181586791721,
          -1.5846215751280326,
          -0.7027362522387298,
          -1.5248951521984482,
          0.30122806724387796,
          -0.3288071867367561,
          0.2459816045668211,
          0.2527445372714324,
          -0.6494724452668903,
          -0.6112211685880015,
          -0.7996648647148987,
          -0.3461906526088926,
          1.6035873874528779,
          0.2155637451685372,
          0.0009101419438257457,
          -1.2033096641897751,
          -1.690067833970175,
          1.3044403286383324,
          -0.1698452915634887,
          0.26063014373480525,
          0.41121672303455964,
          -0.12118866426554618,
          -1.5315810381028157,
          -0.3491070267291162,
          0.7392929737509153,
          -1.4449307368222166,
          -0.2005745490635271,
          -0.63060619470764,
          -1.42764874215277,
          -0.11017452337573996,
          -0.491144682883569,
          2.496224409446854,
          0.11533880646002999,
          1.5065605286241495,
          1.1073039419149038,
          0.6800632915535396,
          -0.15372971888054193,
          -0.10963986128568264,
          -0.5899495606091966,
          -1.5534302933080275,
          0.598218540590992,
          0.7143172145662522,
          -0.648216173341247,
          -0.1825148127024039,
          0.40010536398322355,
          1.0966913112497987,
          0.5310530437738917,
          0.29394220052286385,
          1.2792714148415116,
          -0.16201579382107953,
          1.8390836521439362,
          -0.16281222705571385,
          0.5388109257766299,
          1.7420315742598118,
          -0.3134948021944738,
          -0.9707196738386299,
          -0.04096253708433591,
          -0.509974005697877,
          -1.0031598449112542,
          -1.1625971458266298,
          0.05161225328573585,
          -1.9777282921899026,
          -0.987865581607528,
          -0.38066253999868416,
          0.9866618178028409,
          -1.5748008452477729,
          0.7540422366292371,
          -1.1079266628977027,
          0.2822348503877316,
          -0.31999434564295237,
          1.1052761968600926,
          -1.6001253252177976,
          1.0391630083294403,
          -0.13978143001806478
         ],
         "yaxis": "y14"
        },
        {
         "line": {
          "color": "rgba(128, 128, 128, 1.0)",
          "dash": "solid",
          "shape": "linear",
          "width": 1.3
         },
         "marker": {
          "size": 2,
          "symbol": "circle"
         },
         "mode": "markers",
         "name": "D",
         "text": "",
         "type": "scatter",
         "x": [
          1.2481290602280048,
          -0.11929477162168828,
          -1.7187511710261845,
          0.13680315223213727,
          2.0342541142853077,
          0.6835298303368345,
          0.12394821682587562,
          1.1885503792856789,
          -0.3359210902010392,
          1.3936172712845936,
          -0.5316323296368594,
          1.112219139843769,
          -0.11143535134224522,
          1.095345240609513,
          0.3182954696065753,
          0.5950475225372326,
          1.0871081596461263,
          0.03427604320438264,
          -0.44263364985909015,
          -0.6457871934725776,
          -0.007117401098441378,
          -0.6159860431251373,
          -0.38239874686866704,
          0.2603103911978657,
          -0.6466700449947504,
          -0.07521629719823796,
          -0.6179815283659752,
          -0.5032327308655978,
          1.3598113004197534,
          -1.1065540908830902,
          1.433410727867854,
          -2.1805009648683575,
          0.07462687142352951,
          -1.9293121316663921,
          0.547164477816809,
          -0.18200017743812594,
          0.5803578824372388,
          1.5538968526260841,
          0.3181395980528022,
          -1.0588347614634315,
          -0.4442677291140026,
          0.3348313618841571,
          0.5974929879578847,
          -1.2664649423745793,
          -0.5803930660640939,
          -1.6139935565939125,
          -0.4307100368543607,
          0.6686488329157392,
          0.9896890278000638,
          -0.08777219467088634,
          -0.6962739830480462,
          -0.20910251387356948,
          -1.4060136769261444,
          0.12748303530900174,
          -1.3499127452079034,
          1.7068479337246907,
          0.866811723413893,
          0.974027970818929,
          0.44823821867055397,
          -0.40579951050650553,
          -0.1146903893512255,
          0.4590159436394058,
          0.1274016913525382,
          0.4380191052248816,
          0.29028004629836945,
          0.5300911619470048,
          -0.3766837362641318,
          -1.9379566400720856,
          0.9498026849284043,
          -0.025871942730667404,
          0.22145393935861032,
          -0.5290526635777423,
          -1.1896088711264121,
          0.40543708673310647,
          0.8369960071633412,
          0.04287268060350472,
          0.34911019915060465,
          -0.6488609785968117,
          0.07548552652848982,
          0.36926711947671886,
          -2.000660583745119,
          -0.669195556548231,
          0.6316558245282642,
          -0.07495216736797225,
          -0.5591084727814172,
          0.7323983844085346,
          -1.1026713013737295,
          -1.8466623713491148,
          -0.2963038307421379,
          1.3186181639595072,
          1.0237652677444617,
          -0.8453493645017428,
          -0.8727883780524848,
          -0.6827869057954249,
          2.237932533486498,
          -0.9988695035215177,
          0.6128986180938732,
          1.3631696325530038,
          -0.17751426357441896,
          -0.10334749975382293
         ],
         "xaxis": "x15",
         "y": [
          -0.38038452061611805,
          -0.5506827942179204,
          -0.8486870998656855,
          1.414967729808227,
          -1.0477678648426494,
          -1.9640495250297236,
          0.18769300878539133,
          0.42748668299848763,
          -0.14076395607271944,
          -0.25518617125015197,
          1.5298604167425294,
          0.16782456484427766,
          -0.8625470787519635,
          -0.3401968140754208,
          -0.552225588553631,
          0.24419364952140488,
          0.42949389314581865,
          -0.46910796858558124,
          0.9577621493762632,
          0.3625964363144777,
          -0.06492939512567686,
          0.5352444706305645,
          -0.5107367639438877,
          1.02870804413704,
          1.2070746167965483,
          -0.17463474348812388,
          -0.1684181586791721,
          -1.5846215751280326,
          -0.7027362522387298,
          -1.5248951521984482,
          0.30122806724387796,
          -0.3288071867367561,
          0.2459816045668211,
          0.2527445372714324,
          -0.6494724452668903,
          -0.6112211685880015,
          -0.7996648647148987,
          -0.3461906526088926,
          1.6035873874528779,
          0.2155637451685372,
          0.0009101419438257457,
          -1.2033096641897751,
          -1.690067833970175,
          1.3044403286383324,
          -0.1698452915634887,
          0.26063014373480525,
          0.41121672303455964,
          -0.12118866426554618,
          -1.5315810381028157,
          -0.3491070267291162,
          0.7392929737509153,
          -1.4449307368222166,
          -0.2005745490635271,
          -0.63060619470764,
          -1.42764874215277,
          -0.11017452337573996,
          -0.491144682883569,
          2.496224409446854,
          0.11533880646002999,
          1.5065605286241495,
          1.1073039419149038,
          0.6800632915535396,
          -0.15372971888054193,
          -0.10963986128568264,
          -0.5899495606091966,
          -1.5534302933080275,
          0.598218540590992,
          0.7143172145662522,
          -0.648216173341247,
          -0.1825148127024039,
          0.40010536398322355,
          1.0966913112497987,
          0.5310530437738917,
          0.29394220052286385,
          1.2792714148415116,
          -0.16201579382107953,
          1.8390836521439362,
          -0.16281222705571385,
          0.5388109257766299,
          1.7420315742598118,
          -0.3134948021944738,
          -0.9707196738386299,
          -0.04096253708433591,
          -0.509974005697877,
          -1.0031598449112542,
          -1.1625971458266298,
          0.05161225328573585,
          -1.9777282921899026,
          -0.987865581607528,
          -0.38066253999868416,
          0.9866618178028409,
          -1.5748008452477729,
          0.7540422366292371,
          -1.1079266628977027,
          0.2822348503877316,
          -0.31999434564295237,
          1.1052761968600926,
          -1.6001253252177976,
          1.0391630083294403,
          -0.13978143001806478
         ],
         "yaxis": "y15"
        },
        {
         "histfunc": "count",
         "histnorm": "",
         "marker": {
          "color": "rgba(128, 0, 128, 1.0)",
          "line": {
           "color": "#4D5663",
           "width": 1.3
          }
         },
         "name": "D",
         "nbinsx": 10,
         "opacity": 0.8,
         "orientation": "v",
         "type": "histogram",
         "x": [
          -0.38038452061611805,
          -0.5506827942179204,
          -0.8486870998656855,
          1.414967729808227,
          -1.0477678648426494,
          -1.9640495250297236,
          0.18769300878539133,
          0.42748668299848763,
          -0.14076395607271944,
          -0.25518617125015197,
          1.5298604167425294,
          0.16782456484427766,
          -0.8625470787519635,
          -0.3401968140754208,
          -0.552225588553631,
          0.24419364952140488,
          0.42949389314581865,
          -0.46910796858558124,
          0.9577621493762632,
          0.3625964363144777,
          -0.06492939512567686,
          0.5352444706305645,
          -0.5107367639438877,
          1.02870804413704,
          1.2070746167965483,
          -0.17463474348812388,
          -0.1684181586791721,
          -1.5846215751280326,
          -0.7027362522387298,
          -1.5248951521984482,
          0.30122806724387796,
          -0.3288071867367561,
          0.2459816045668211,
          0.2527445372714324,
          -0.6494724452668903,
          -0.6112211685880015,
          -0.7996648647148987,
          -0.3461906526088926,
          1.6035873874528779,
          0.2155637451685372,
          0.0009101419438257457,
          -1.2033096641897751,
          -1.690067833970175,
          1.3044403286383324,
          -0.1698452915634887,
          0.26063014373480525,
          0.41121672303455964,
          -0.12118866426554618,
          -1.5315810381028157,
          -0.3491070267291162,
          0.7392929737509153,
          -1.4449307368222166,
          -0.2005745490635271,
          -0.63060619470764,
          -1.42764874215277,
          -0.11017452337573996,
          -0.491144682883569,
          2.496224409446854,
          0.11533880646002999,
          1.5065605286241495,
          1.1073039419149038,
          0.6800632915535396,
          -0.15372971888054193,
          -0.10963986128568264,
          -0.5899495606091966,
          -1.5534302933080275,
          0.598218540590992,
          0.7143172145662522,
          -0.648216173341247,
          -0.1825148127024039,
          0.40010536398322355,
          1.0966913112497987,
          0.5310530437738917,
          0.29394220052286385,
          1.2792714148415116,
          -0.16201579382107953,
          1.8390836521439362,
          -0.16281222705571385,
          0.5388109257766299,
          1.7420315742598118,
          -0.3134948021944738,
          -0.9707196738386299,
          -0.04096253708433591,
          -0.509974005697877,
          -1.0031598449112542,
          -1.1625971458266298,
          0.05161225328573585,
          -1.9777282921899026,
          -0.987865581607528,
          -0.38066253999868416,
          0.9866618178028409,
          -1.5748008452477729,
          0.7540422366292371,
          -1.1079266628977027,
          0.2822348503877316,
          -0.31999434564295237,
          1.1052761968600926,
          -1.6001253252177976,
          1.0391630083294403,
          -0.13978143001806478
         ],
         "xaxis": "x16",
         "yaxis": "y16"
        }
       ],
       "layout": {
        "bargap": 0.02,
        "legend": {
         "bgcolor": "#F5F6F9",
         "font": {
          "color": "#4D5663"
         }
        },
        "paper_bgcolor": "#F5F6F9",
        "plot_bgcolor": "#F5F6F9",
        "showlegend": false,
        "template": {
         "data": {
          "bar": [
           {
            "error_x": {
             "color": "#2a3f5f"
            },
            "error_y": {
             "color": "#2a3f5f"
            },
            "marker": {
             "line": {
              "color": "#E5ECF6",
              "width": 0.5
             }
            },
            "type": "bar"
           }
          ],
          "barpolar": [
           {
            "marker": {
             "line": {
              "color": "#E5ECF6",
              "width": 0.5
             }
            },
            "type": "barpolar"
           }
          ],
          "carpet": [
           {
            "aaxis": {
             "endlinecolor": "#2a3f5f",
             "gridcolor": "white",
             "linecolor": "white",
             "minorgridcolor": "white",
             "startlinecolor": "#2a3f5f"
            },
            "baxis": {
             "endlinecolor": "#2a3f5f",
             "gridcolor": "white",
             "linecolor": "white",
             "minorgridcolor": "white",
             "startlinecolor": "#2a3f5f"
            },
            "type": "carpet"
           }
          ],
          "choropleth": [
           {
            "colorbar": {
             "outlinewidth": 0,
             "ticks": ""
            },
            "type": "choropleth"
           }
          ],
          "contour": [
           {
            "colorbar": {
             "outlinewidth": 0,
             "ticks": ""
            },
            "colorscale": [
             [
              0,
              "#0d0887"
             ],
             [
              0.1111111111111111,
              "#46039f"
             ],
             [
              0.2222222222222222,
              "#7201a8"
             ],
             [
              0.3333333333333333,
              "#9c179e"
             ],
             [
              0.4444444444444444,
              "#bd3786"
             ],
             [
              0.5555555555555556,
              "#d8576b"
             ],
             [
              0.6666666666666666,
              "#ed7953"
             ],
             [
              0.7777777777777778,
              "#fb9f3a"
             ],
             [
              0.8888888888888888,
              "#fdca26"
             ],
             [
              1,
              "#f0f921"
             ]
            ],
            "type": "contour"
           }
          ],
          "contourcarpet": [
           {
            "colorbar": {
             "outlinewidth": 0,
             "ticks": ""
            },
            "type": "contourcarpet"
           }
          ],
          "heatmap": [
           {
            "colorbar": {
             "outlinewidth": 0,
             "ticks": ""
            },
            "colorscale": [
             [
              0,
              "#0d0887"
             ],
             [
              0.1111111111111111,
              "#46039f"
             ],
             [
              0.2222222222222222,
              "#7201a8"
             ],
             [
              0.3333333333333333,
              "#9c179e"
             ],
             [
              0.4444444444444444,
              "#bd3786"
             ],
             [
              0.5555555555555556,
              "#d8576b"
             ],
             [
              0.6666666666666666,
              "#ed7953"
             ],
             [
              0.7777777777777778,
              "#fb9f3a"
             ],
             [
              0.8888888888888888,
              "#fdca26"
             ],
             [
              1,
              "#f0f921"
             ]
            ],
            "type": "heatmap"
           }
          ],
          "heatmapgl": [
           {
            "colorbar": {
             "outlinewidth": 0,
             "ticks": ""
            },
            "colorscale": [
             [
              0,
              "#0d0887"
             ],
             [
              0.1111111111111111,
              "#46039f"
             ],
             [
              0.2222222222222222,
              "#7201a8"
             ],
             [
              0.3333333333333333,
              "#9c179e"
             ],
             [
              0.4444444444444444,
              "#bd3786"
             ],
             [
              0.5555555555555556,
              "#d8576b"
             ],
             [
              0.6666666666666666,
              "#ed7953"
             ],
             [
              0.7777777777777778,
              "#fb9f3a"
             ],
             [
              0.8888888888888888,
              "#fdca26"
             ],
             [
              1,
              "#f0f921"
             ]
            ],
            "type": "heatmapgl"
           }
          ],
          "histogram": [
           {
            "marker": {
             "colorbar": {
              "outlinewidth": 0,
              "ticks": ""
             }
            },
            "type": "histogram"
           }
          ],
          "histogram2d": [
           {
            "colorbar": {
             "outlinewidth": 0,
             "ticks": ""
            },
            "colorscale": [
             [
              0,
              "#0d0887"
             ],
             [
              0.1111111111111111,
              "#46039f"
             ],
             [
              0.2222222222222222,
              "#7201a8"
             ],
             [
              0.3333333333333333,
              "#9c179e"
             ],
             [
              0.4444444444444444,
              "#bd3786"
             ],
             [
              0.5555555555555556,
              "#d8576b"
             ],
             [
              0.6666666666666666,
              "#ed7953"
             ],
             [
              0.7777777777777778,
              "#fb9f3a"
             ],
             [
              0.8888888888888888,
              "#fdca26"
             ],
             [
              1,
              "#f0f921"
             ]
            ],
            "type": "histogram2d"
           }
          ],
          "histogram2dcontour": [
           {
            "colorbar": {
             "outlinewidth": 0,
             "ticks": ""
            },
            "colorscale": [
             [
              0,
              "#0d0887"
             ],
             [
              0.1111111111111111,
              "#46039f"
             ],
             [
              0.2222222222222222,
              "#7201a8"
             ],
             [
              0.3333333333333333,
              "#9c179e"
             ],
             [
              0.4444444444444444,
              "#bd3786"
             ],
             [
              0.5555555555555556,
              "#d8576b"
             ],
             [
              0.6666666666666666,
              "#ed7953"
             ],
             [
              0.7777777777777778,
              "#fb9f3a"
             ],
             [
              0.8888888888888888,
              "#fdca26"
             ],
             [
              1,
              "#f0f921"
             ]
            ],
            "type": "histogram2dcontour"
           }
          ],
          "mesh3d": [
           {
            "colorbar": {
             "outlinewidth": 0,
             "ticks": ""
            },
            "type": "mesh3d"
           }
          ],
          "parcoords": [
           {
            "line": {
             "colorbar": {
              "outlinewidth": 0,
              "ticks": ""
             }
            },
            "type": "parcoords"
           }
          ],
          "pie": [
           {
            "automargin": true,
            "type": "pie"
           }
          ],
          "scatter": [
           {
            "marker": {
             "colorbar": {
              "outlinewidth": 0,
              "ticks": ""
             }
            },
            "type": "scatter"
           }
          ],
          "scatter3d": [
           {
            "line": {
             "colorbar": {
              "outlinewidth": 0,
              "ticks": ""
             }
            },
            "marker": {
             "colorbar": {
              "outlinewidth": 0,
              "ticks": ""
             }
            },
            "type": "scatter3d"
           }
          ],
          "scattercarpet": [
           {
            "marker": {
             "colorbar": {
              "outlinewidth": 0,
              "ticks": ""
             }
            },
            "type": "scattercarpet"
           }
          ],
          "scattergeo": [
           {
            "marker": {
             "colorbar": {
              "outlinewidth": 0,
              "ticks": ""
             }
            },
            "type": "scattergeo"
           }
          ],
          "scattergl": [
           {
            "marker": {
             "colorbar": {
              "outlinewidth": 0,
              "ticks": ""
             }
            },
            "type": "scattergl"
           }
          ],
          "scattermapbox": [
           {
            "marker": {
             "colorbar": {
              "outlinewidth": 0,
              "ticks": ""
             }
            },
            "type": "scattermapbox"
           }
          ],
          "scatterpolar": [
           {
            "marker": {
             "colorbar": {
              "outlinewidth": 0,
              "ticks": ""
             }
            },
            "type": "scatterpolar"
           }
          ],
          "scatterpolargl": [
           {
            "marker": {
             "colorbar": {
              "outlinewidth": 0,
              "ticks": ""
             }
            },
            "type": "scatterpolargl"
           }
          ],
          "scatterternary": [
           {
            "marker": {
             "colorbar": {
              "outlinewidth": 0,
              "ticks": ""
             }
            },
            "type": "scatterternary"
           }
          ],
          "surface": [
           {
            "colorbar": {
             "outlinewidth": 0,
             "ticks": ""
            },
            "colorscale": [
             [
              0,
              "#0d0887"
             ],
             [
              0.1111111111111111,
              "#46039f"
             ],
             [
              0.2222222222222222,
              "#7201a8"
             ],
             [
              0.3333333333333333,
              "#9c179e"
             ],
             [
              0.4444444444444444,
              "#bd3786"
             ],
             [
              0.5555555555555556,
              "#d8576b"
             ],
             [
              0.6666666666666666,
              "#ed7953"
             ],
             [
              0.7777777777777778,
              "#fb9f3a"
             ],
             [
              0.8888888888888888,
              "#fdca26"
             ],
             [
              1,
              "#f0f921"
             ]
            ],
            "type": "surface"
           }
          ],
          "table": [
           {
            "cells": {
             "fill": {
              "color": "#EBF0F8"
             },
             "line": {
              "color": "white"
             }
            },
            "header": {
             "fill": {
              "color": "#C8D4E3"
             },
             "line": {
              "color": "white"
             }
            },
            "type": "table"
           }
          ]
         },
         "layout": {
          "annotationdefaults": {
           "arrowcolor": "#2a3f5f",
           "arrowhead": 0,
           "arrowwidth": 1
          },
          "coloraxis": {
           "colorbar": {
            "outlinewidth": 0,
            "ticks": ""
           }
          },
          "colorscale": {
           "diverging": [
            [
             0,
             "#8e0152"
            ],
            [
             0.1,
             "#c51b7d"
            ],
            [
             0.2,
             "#de77ae"
            ],
            [
             0.3,
             "#f1b6da"
            ],
            [
             0.4,
             "#fde0ef"
            ],
            [
             0.5,
             "#f7f7f7"
            ],
            [
             0.6,
             "#e6f5d0"
            ],
            [
             0.7,
             "#b8e186"
            ],
            [
             0.8,
             "#7fbc41"
            ],
            [
             0.9,
             "#4d9221"
            ],
            [
             1,
             "#276419"
            ]
           ],
           "sequential": [
            [
             0,
             "#0d0887"
            ],
            [
             0.1111111111111111,
             "#46039f"
            ],
            [
             0.2222222222222222,
             "#7201a8"
            ],
            [
             0.3333333333333333,
             "#9c179e"
            ],
            [
             0.4444444444444444,
             "#bd3786"
            ],
            [
             0.5555555555555556,
             "#d8576b"
            ],
            [
             0.6666666666666666,
             "#ed7953"
            ],
            [
             0.7777777777777778,
             "#fb9f3a"
            ],
            [
             0.8888888888888888,
             "#fdca26"
            ],
            [
             1,
             "#f0f921"
            ]
           ],
           "sequentialminus": [
            [
             0,
             "#0d0887"
            ],
            [
             0.1111111111111111,
             "#46039f"
            ],
            [
             0.2222222222222222,
             "#7201a8"
            ],
            [
             0.3333333333333333,
             "#9c179e"
            ],
            [
             0.4444444444444444,
             "#bd3786"
            ],
            [
             0.5555555555555556,
             "#d8576b"
            ],
            [
             0.6666666666666666,
             "#ed7953"
            ],
            [
             0.7777777777777778,
             "#fb9f3a"
            ],
            [
             0.8888888888888888,
             "#fdca26"
            ],
            [
             1,
             "#f0f921"
            ]
           ]
          },
          "colorway": [
           "#636efa",
           "#EF553B",
           "#00cc96",
           "#ab63fa",
           "#FFA15A",
           "#19d3f3",
           "#FF6692",
           "#B6E880",
           "#FF97FF",
           "#FECB52"
          ],
          "font": {
           "color": "#2a3f5f"
          },
          "geo": {
           "bgcolor": "white",
           "lakecolor": "white",
           "landcolor": "#E5ECF6",
           "showlakes": true,
           "showland": true,
           "subunitcolor": "white"
          },
          "hoverlabel": {
           "align": "left"
          },
          "hovermode": "closest",
          "mapbox": {
           "style": "light"
          },
          "paper_bgcolor": "white",
          "plot_bgcolor": "#E5ECF6",
          "polar": {
           "angularaxis": {
            "gridcolor": "white",
            "linecolor": "white",
            "ticks": ""
           },
           "bgcolor": "#E5ECF6",
           "radialaxis": {
            "gridcolor": "white",
            "linecolor": "white",
            "ticks": ""
           }
          },
          "scene": {
           "xaxis": {
            "backgroundcolor": "#E5ECF6",
            "gridcolor": "white",
            "gridwidth": 2,
            "linecolor": "white",
            "showbackground": true,
            "ticks": "",
            "zerolinecolor": "white"
           },
           "yaxis": {
            "backgroundcolor": "#E5ECF6",
            "gridcolor": "white",
            "gridwidth": 2,
            "linecolor": "white",
            "showbackground": true,
            "ticks": "",
            "zerolinecolor": "white"
           },
           "zaxis": {
            "backgroundcolor": "#E5ECF6",
            "gridcolor": "white",
            "gridwidth": 2,
            "linecolor": "white",
            "showbackground": true,
            "ticks": "",
            "zerolinecolor": "white"
           }
          },
          "shapedefaults": {
           "line": {
            "color": "#2a3f5f"
           }
          },
          "ternary": {
           "aaxis": {
            "gridcolor": "white",
            "linecolor": "white",
            "ticks": ""
           },
           "baxis": {
            "gridcolor": "white",
            "linecolor": "white",
            "ticks": ""
           },
           "bgcolor": "#E5ECF6",
           "caxis": {
            "gridcolor": "white",
            "linecolor": "white",
            "ticks": ""
           }
          },
          "title": {
           "x": 0.05
          },
          "xaxis": {
           "automargin": true,
           "gridcolor": "white",
           "linecolor": "white",
           "ticks": "",
           "title": {
            "standoff": 15
           },
           "zerolinecolor": "white",
           "zerolinewidth": 2
          },
          "yaxis": {
           "automargin": true,
           "gridcolor": "white",
           "linecolor": "white",
           "ticks": "",
           "title": {
            "standoff": 15
           },
           "zerolinecolor": "white",
           "zerolinewidth": 2
          }
         }
        },
        "title": {
         "font": {
          "color": "#4D5663"
         }
        },
        "xaxis": {
         "anchor": "y",
         "domain": [
          0,
          0.2125
         ],
         "gridcolor": "#E1E5ED",
         "showgrid": false,
         "tickfont": {
          "color": "#4D5663"
         },
         "title": {
          "font": {
           "color": "#4D5663"
          },
          "text": ""
         },
         "zerolinecolor": "#E1E5ED"
        },
        "xaxis10": {
         "anchor": "y10",
         "domain": [
          0.2625,
          0.475
         ],
         "gridcolor": "#E1E5ED",
         "showgrid": false,
         "tickfont": {
          "color": "#4D5663"
         },
         "title": {
          "font": {
           "color": "#4D5663"
          },
          "text": ""
         },
         "zerolinecolor": "#E1E5ED"
        },
        "xaxis11": {
         "anchor": "y11",
         "domain": [
          0.525,
          0.7375
         ],
         "gridcolor": "#E1E5ED",
         "showgrid": false,
         "tickfont": {
          "color": "#4D5663"
         },
         "title": {
          "font": {
           "color": "#4D5663"
          },
          "text": ""
         },
         "zerolinecolor": "#E1E5ED"
        },
        "xaxis12": {
         "anchor": "y12",
         "domain": [
          0.7875,
          1
         ],
         "gridcolor": "#E1E5ED",
         "showgrid": false,
         "tickfont": {
          "color": "#4D5663"
         },
         "title": {
          "font": {
           "color": "#4D5663"
          },
          "text": ""
         },
         "zerolinecolor": "#E1E5ED"
        },
        "xaxis13": {
         "anchor": "y13",
         "domain": [
          0,
          0.2125
         ],
         "gridcolor": "#E1E5ED",
         "showgrid": false,
         "tickfont": {
          "color": "#4D5663"
         },
         "title": {
          "font": {
           "color": "#4D5663"
          },
          "text": ""
         },
         "zerolinecolor": "#E1E5ED"
        },
        "xaxis14": {
         "anchor": "y14",
         "domain": [
          0.2625,
          0.475
         ],
         "gridcolor": "#E1E5ED",
         "showgrid": false,
         "tickfont": {
          "color": "#4D5663"
         },
         "title": {
          "font": {
           "color": "#4D5663"
          },
          "text": ""
         },
         "zerolinecolor": "#E1E5ED"
        },
        "xaxis15": {
         "anchor": "y15",
         "domain": [
          0.525,
          0.7375
         ],
         "gridcolor": "#E1E5ED",
         "showgrid": false,
         "tickfont": {
          "color": "#4D5663"
         },
         "title": {
          "font": {
           "color": "#4D5663"
          },
          "text": ""
         },
         "zerolinecolor": "#E1E5ED"
        },
        "xaxis16": {
         "anchor": "y16",
         "domain": [
          0.7875,
          1
         ],
         "gridcolor": "#E1E5ED",
         "showgrid": false,
         "tickfont": {
          "color": "#4D5663"
         },
         "title": {
          "font": {
           "color": "#4D5663"
          },
          "text": ""
         },
         "zerolinecolor": "#E1E5ED"
        },
        "xaxis2": {
         "anchor": "y2",
         "domain": [
          0.2625,
          0.475
         ],
         "gridcolor": "#E1E5ED",
         "showgrid": false,
         "tickfont": {
          "color": "#4D5663"
         },
         "title": {
          "font": {
           "color": "#4D5663"
          },
          "text": ""
         },
         "zerolinecolor": "#E1E5ED"
        },
        "xaxis3": {
         "anchor": "y3",
         "domain": [
          0.525,
          0.7375
         ],
         "gridcolor": "#E1E5ED",
         "showgrid": false,
         "tickfont": {
          "color": "#4D5663"
         },
         "title": {
          "font": {
           "color": "#4D5663"
          },
          "text": ""
         },
         "zerolinecolor": "#E1E5ED"
        },
        "xaxis4": {
         "anchor": "y4",
         "domain": [
          0.7875,
          1
         ],
         "gridcolor": "#E1E5ED",
         "showgrid": false,
         "tickfont": {
          "color": "#4D5663"
         },
         "title": {
          "font": {
           "color": "#4D5663"
          },
          "text": ""
         },
         "zerolinecolor": "#E1E5ED"
        },
        "xaxis5": {
         "anchor": "y5",
         "domain": [
          0,
          0.2125
         ],
         "gridcolor": "#E1E5ED",
         "showgrid": false,
         "tickfont": {
          "color": "#4D5663"
         },
         "title": {
          "font": {
           "color": "#4D5663"
          },
          "text": ""
         },
         "zerolinecolor": "#E1E5ED"
        },
        "xaxis6": {
         "anchor": "y6",
         "domain": [
          0.2625,
          0.475
         ],
         "gridcolor": "#E1E5ED",
         "showgrid": false,
         "tickfont": {
          "color": "#4D5663"
         },
         "title": {
          "font": {
           "color": "#4D5663"
          },
          "text": ""
         },
         "zerolinecolor": "#E1E5ED"
        },
        "xaxis7": {
         "anchor": "y7",
         "domain": [
          0.525,
          0.7375
         ],
         "gridcolor": "#E1E5ED",
         "showgrid": false,
         "tickfont": {
          "color": "#4D5663"
         },
         "title": {
          "font": {
           "color": "#4D5663"
          },
          "text": ""
         },
         "zerolinecolor": "#E1E5ED"
        },
        "xaxis8": {
         "anchor": "y8",
         "domain": [
          0.7875,
          1
         ],
         "gridcolor": "#E1E5ED",
         "showgrid": false,
         "tickfont": {
          "color": "#4D5663"
         },
         "title": {
          "font": {
           "color": "#4D5663"
          },
          "text": ""
         },
         "zerolinecolor": "#E1E5ED"
        },
        "xaxis9": {
         "anchor": "y9",
         "domain": [
          0,
          0.2125
         ],
         "gridcolor": "#E1E5ED",
         "showgrid": false,
         "tickfont": {
          "color": "#4D5663"
         },
         "title": {
          "font": {
           "color": "#4D5663"
          },
          "text": ""
         },
         "zerolinecolor": "#E1E5ED"
        },
        "yaxis": {
         "anchor": "x",
         "domain": [
          0.8025,
          1
         ],
         "gridcolor": "#E1E5ED",
         "showgrid": false,
         "tickfont": {
          "color": "#4D5663"
         },
         "title": {
          "font": {
           "color": "#4D5663"
          },
          "text": ""
         },
         "zerolinecolor": "#E1E5ED"
        },
        "yaxis10": {
         "anchor": "x10",
         "domain": [
          0.2675,
          0.465
         ],
         "gridcolor": "#E1E5ED",
         "showgrid": false,
         "tickfont": {
          "color": "#4D5663"
         },
         "title": {
          "font": {
           "color": "#4D5663"
          },
          "text": ""
         },
         "zerolinecolor": "#E1E5ED"
        },
        "yaxis11": {
         "anchor": "x11",
         "domain": [
          0.2675,
          0.465
         ],
         "gridcolor": "#E1E5ED",
         "showgrid": false,
         "tickfont": {
          "color": "#4D5663"
         },
         "title": {
          "font": {
           "color": "#4D5663"
          },
          "text": ""
         },
         "zerolinecolor": "#E1E5ED"
        },
        "yaxis12": {
         "anchor": "x12",
         "domain": [
          0.2675,
          0.465
         ],
         "gridcolor": "#E1E5ED",
         "showgrid": false,
         "tickfont": {
          "color": "#4D5663"
         },
         "title": {
          "font": {
           "color": "#4D5663"
          },
          "text": ""
         },
         "zerolinecolor": "#E1E5ED"
        },
        "yaxis13": {
         "anchor": "x13",
         "domain": [
          0,
          0.1975
         ],
         "gridcolor": "#E1E5ED",
         "showgrid": false,
         "tickfont": {
          "color": "#4D5663"
         },
         "title": {
          "font": {
           "color": "#4D5663"
          },
          "text": ""
         },
         "zerolinecolor": "#E1E5ED"
        },
        "yaxis14": {
         "anchor": "x14",
         "domain": [
          0,
          0.1975
         ],
         "gridcolor": "#E1E5ED",
         "showgrid": false,
         "tickfont": {
          "color": "#4D5663"
         },
         "title": {
          "font": {
           "color": "#4D5663"
          },
          "text": ""
         },
         "zerolinecolor": "#E1E5ED"
        },
        "yaxis15": {
         "anchor": "x15",
         "domain": [
          0,
          0.1975
         ],
         "gridcolor": "#E1E5ED",
         "showgrid": false,
         "tickfont": {
          "color": "#4D5663"
         },
         "title": {
          "font": {
           "color": "#4D5663"
          },
          "text": ""
         },
         "zerolinecolor": "#E1E5ED"
        },
        "yaxis16": {
         "anchor": "x16",
         "domain": [
          0,
          0.1975
         ],
         "gridcolor": "#E1E5ED",
         "showgrid": false,
         "tickfont": {
          "color": "#4D5663"
         },
         "title": {
          "font": {
           "color": "#4D5663"
          },
          "text": ""
         },
         "zerolinecolor": "#E1E5ED"
        },
        "yaxis2": {
         "anchor": "x2",
         "domain": [
          0.8025,
          1
         ],
         "gridcolor": "#E1E5ED",
         "showgrid": false,
         "tickfont": {
          "color": "#4D5663"
         },
         "title": {
          "font": {
           "color": "#4D5663"
          },
          "text": ""
         },
         "zerolinecolor": "#E1E5ED"
        },
        "yaxis3": {
         "anchor": "x3",
         "domain": [
          0.8025,
          1
         ],
         "gridcolor": "#E1E5ED",
         "showgrid": false,
         "tickfont": {
          "color": "#4D5663"
         },
         "title": {
          "font": {
           "color": "#4D5663"
          },
          "text": ""
         },
         "zerolinecolor": "#E1E5ED"
        },
        "yaxis4": {
         "anchor": "x4",
         "domain": [
          0.8025,
          1
         ],
         "gridcolor": "#E1E5ED",
         "showgrid": false,
         "tickfont": {
          "color": "#4D5663"
         },
         "title": {
          "font": {
           "color": "#4D5663"
          },
          "text": ""
         },
         "zerolinecolor": "#E1E5ED"
        },
        "yaxis5": {
         "anchor": "x5",
         "domain": [
          0.535,
          0.7325
         ],
         "gridcolor": "#E1E5ED",
         "showgrid": false,
         "tickfont": {
          "color": "#4D5663"
         },
         "title": {
          "font": {
           "color": "#4D5663"
          },
          "text": ""
         },
         "zerolinecolor": "#E1E5ED"
        },
        "yaxis6": {
         "anchor": "x6",
         "domain": [
          0.535,
          0.7325
         ],
         "gridcolor": "#E1E5ED",
         "showgrid": false,
         "tickfont": {
          "color": "#4D5663"
         },
         "title": {
          "font": {
           "color": "#4D5663"
          },
          "text": ""
         },
         "zerolinecolor": "#E1E5ED"
        },
        "yaxis7": {
         "anchor": "x7",
         "domain": [
          0.535,
          0.7325
         ],
         "gridcolor": "#E1E5ED",
         "showgrid": false,
         "tickfont": {
          "color": "#4D5663"
         },
         "title": {
          "font": {
           "color": "#4D5663"
          },
          "text": ""
         },
         "zerolinecolor": "#E1E5ED"
        },
        "yaxis8": {
         "anchor": "x8",
         "domain": [
          0.535,
          0.7325
         ],
         "gridcolor": "#E1E5ED",
         "showgrid": false,
         "tickfont": {
          "color": "#4D5663"
         },
         "title": {
          "font": {
           "color": "#4D5663"
          },
          "text": ""
         },
         "zerolinecolor": "#E1E5ED"
        },
        "yaxis9": {
         "anchor": "x9",
         "domain": [
          0.2675,
          0.465
         ],
         "gridcolor": "#E1E5ED",
         "showgrid": false,
         "tickfont": {
          "color": "#4D5663"
         },
         "title": {
          "font": {
           "color": "#4D5663"
          },
          "text": ""
         },
         "zerolinecolor": "#E1E5ED"
        }
       }
      },
      "text/html": [
       "<div>\n",
       "        \n",
       "        \n",
       "            <div id=\"3ef2e1fc-3a11-4f56-9b42-7ede775d4f39\" class=\"plotly-graph-div\" style=\"height:525px; width:100%;\"></div>\n",
       "            <script type=\"text/javascript\">\n",
       "                require([\"plotly\"], function(Plotly) {\n",
       "                    window.PLOTLYENV=window.PLOTLYENV || {};\n",
       "                    window.PLOTLYENV.BASE_URL='https://plot.ly';\n",
       "                    \n",
       "                if (document.getElementById(\"3ef2e1fc-3a11-4f56-9b42-7ede775d4f39\")) {\n",
       "                    Plotly.newPlot(\n",
       "                        '3ef2e1fc-3a11-4f56-9b42-7ede775d4f39',\n",
       "                        [{\"histfunc\": \"count\", \"histnorm\": \"\", \"marker\": {\"color\": \"rgba(255, 153, 51, 1.0)\", \"line\": {\"color\": \"#4D5663\", \"width\": 1.3}}, \"name\": \"A\", \"nbinsx\": 10, \"opacity\": 0.8, \"orientation\": \"v\", \"type\": \"histogram\", \"x\": [0.5016259041677826, 0.39693214686922423, 0.15105045423677646, 0.23803313048951832, -0.9065096169526577, -0.5858144449744032, -1.1915955319013736, -0.48035108080156647, 0.3062837808136795, -1.3107717470084945, -1.4233859542149554, -1.6842219620749486, -0.6596666126340662, 1.1646748262573046, 0.5794136835164456, -0.9205239744803996, -0.7475740043983561, 0.6918046774990229, -0.6555066758516412, -1.3901183444688856, -1.5825350400322997, 0.7205935933384565, 0.8600132535274735, 1.4029869785814273, 0.3999588780574937, -0.28356727685485905, -0.8645411771163848, -1.6235254258188299, 1.6360859851250331, 0.2321715088292792, -1.5209747815314942, -1.5962544252034896, -0.22469373520940192, 0.8753232347181236, 0.5909199306008397, -1.9906485850036764, 0.7535751361189627, -0.29522547033898755, 0.5275685446294369, 0.490854014469745, -0.712958673119837, 1.199183739769989, -2.1716144020061234, 0.12954879730176844, 0.6577830296031418, -0.0944794689894394, -0.5824826846365383, 0.9537935224525297, 0.1491860042028232, 2.1676855898919563, -0.6035610892309228, -0.22958926388827122, -0.49516589618777085, -0.018281618517689203, -0.36824896094724463, -0.7026609698955638, 1.9970040310794626, -1.3398354306976554, 2.2132601709596034, -0.8850429260119838, -0.9979121569709356, 0.13341848060100922, -0.40690396935590933, 0.2898004741616915, 0.7263452114533693, 0.14363457123025744, 0.23020745995645697, 0.8286908386058912, -0.8694143942178151, -1.6292956737587923, 0.14828881101741534, 1.5579611550705739, 0.8703995897101646, 1.167026637852573, -0.7681957193858597, -0.6830233728445323, -0.6706761738439486, 0.9527201917461887, -0.5858980652427307, 0.6449352460476692, -0.681163803699951, 0.7760459110594783, 1.4041260003145961, -0.6405096339488137, 1.5846369943924745, -0.22837198279290108, -0.48738580327626524, 0.6355688871774738, -0.20426978259615566, 0.7349676391888955, -0.006914347400294714, 1.007185939619343, -1.7670966160755497, -0.4037183481284638, -0.412260784658639, -0.635749062487043, 0.4946209143651886, 2.0158526613892143, 0.5074910998586187, 0.08947531478456232], \"xaxis\": \"x\", \"yaxis\": \"y\"}, {\"line\": {\"color\": \"rgba(128, 128, 128, 1.0)\", \"dash\": \"solid\", \"shape\": \"linear\", \"width\": 1.3}, \"marker\": {\"size\": 2, \"symbol\": \"circle\"}, \"mode\": \"markers\", \"name\": \"A\", \"text\": \"\", \"type\": \"scatter\", \"x\": [-1.9614203298059667, 0.09936386900591583, -0.12144634499406161, 1.554896718036771, -1.28034147685133, 1.4495445156838505, 1.7043191329220253, -0.1826710330788866, -1.1631386699224067, 0.46320754943208586, 0.8858530141908567, -1.946179055103767, -2.826068861858329, 1.2390237313446868, 2.232962625610061, -0.6139100019761206, 1.1633069274370054, 1.2847212723722892, 0.6878043933686491, 0.7235693210003209, -0.2185254899678108, -0.9214353960475222, 0.15372078451738289, 0.04489774131848886, 0.5591063348832644, -2.181074948739284, -0.44650935884237547, 1.1285339969324604, -0.7997050437978639, 0.3875274586091636, -1.4428124598172498, 0.30718817340815485, -0.6772227705725071, -0.1354732158537621, -1.2041156443182979, -1.2991223536512906, -0.13337659677773347, 1.6248163917469887, 0.5014564732098982, -1.0421670872846438, 1.1119405623616914, -0.3094230119341551, -2.2170148072154485, 0.858164908480128, 0.1937476866948945, 1.3977161455052047, -0.6449582533006257, 1.3374399804360335, 0.2793771508696186, 0.8595426716872022, -0.41316843657047914, 2.0650357867171323, -0.18891294488257573, 0.9120687728370215, 0.47170982743301826, 1.3995286681965595, 2.9523359856753846, -0.2156573600877058, 1.2300249799992218, 0.44073317967212594, -0.022066795843629753, -0.5268852194942298, 0.20730381958503605, 0.733416713650668, 0.8443419934049715, 0.5020396864019491, -1.716772241166739, -1.307899712809543, -0.7197586602891242, -0.08191442847370518, 0.1940732093735313, 0.2997729938918538, 0.5614337584535843, -2.2236930656077147, 2.4054694857642724, -0.19495874877554625, -0.4798629195672261, 0.9496321492408094, 0.5747577660446029, 0.08321313793747716, 0.08592142084810923, 0.3186989355807172, -0.33161156787469626, -1.228139146584102, 1.0412808771345305, -0.35277139062308255, 1.4039866662846174, 0.49307280755934046, -0.21875339647065745, -0.8874140347814174, 0.35738348561054833, -0.11798431425933198, -1.1602205281237221, 0.2578188391703287, -0.25241907572889893, -1.1757576099571745, 1.978974245352124, 0.374565818914298, -1.3255402973767965, 2.2331800939792528], \"xaxis\": \"x2\", \"y\": [0.5016259041677826, 0.39693214686922423, 0.15105045423677646, 0.23803313048951832, -0.9065096169526577, -0.5858144449744032, -1.1915955319013736, -0.48035108080156647, 0.3062837808136795, -1.3107717470084945, -1.4233859542149554, -1.6842219620749486, -0.6596666126340662, 1.1646748262573046, 0.5794136835164456, -0.9205239744803996, -0.7475740043983561, 0.6918046774990229, -0.6555066758516412, -1.3901183444688856, -1.5825350400322997, 0.7205935933384565, 0.8600132535274735, 1.4029869785814273, 0.3999588780574937, -0.28356727685485905, -0.8645411771163848, -1.6235254258188299, 1.6360859851250331, 0.2321715088292792, -1.5209747815314942, -1.5962544252034896, -0.22469373520940192, 0.8753232347181236, 0.5909199306008397, -1.9906485850036764, 0.7535751361189627, -0.29522547033898755, 0.5275685446294369, 0.490854014469745, -0.712958673119837, 1.199183739769989, -2.1716144020061234, 0.12954879730176844, 0.6577830296031418, -0.0944794689894394, -0.5824826846365383, 0.9537935224525297, 0.1491860042028232, 2.1676855898919563, -0.6035610892309228, -0.22958926388827122, -0.49516589618777085, -0.018281618517689203, -0.36824896094724463, -0.7026609698955638, 1.9970040310794626, -1.3398354306976554, 2.2132601709596034, -0.8850429260119838, -0.9979121569709356, 0.13341848060100922, -0.40690396935590933, 0.2898004741616915, 0.7263452114533693, 0.14363457123025744, 0.23020745995645697, 0.8286908386058912, -0.8694143942178151, -1.6292956737587923, 0.14828881101741534, 1.5579611550705739, 0.8703995897101646, 1.167026637852573, -0.7681957193858597, -0.6830233728445323, -0.6706761738439486, 0.9527201917461887, -0.5858980652427307, 0.6449352460476692, -0.681163803699951, 0.7760459110594783, 1.4041260003145961, -0.6405096339488137, 1.5846369943924745, -0.22837198279290108, -0.48738580327626524, 0.6355688871774738, -0.20426978259615566, 0.7349676391888955, -0.006914347400294714, 1.007185939619343, -1.7670966160755497, -0.4037183481284638, -0.412260784658639, -0.635749062487043, 0.4946209143651886, 2.0158526613892143, 0.5074910998586187, 0.08947531478456232], \"yaxis\": \"y2\"}, {\"line\": {\"color\": \"rgba(128, 128, 128, 1.0)\", \"dash\": \"solid\", \"shape\": \"linear\", \"width\": 1.3}, \"marker\": {\"size\": 2, \"symbol\": \"circle\"}, \"mode\": \"markers\", \"name\": \"A\", \"text\": \"\", \"type\": \"scatter\", \"x\": [1.2481290602280048, -0.11929477162168828, -1.7187511710261845, 0.13680315223213727, 2.0342541142853077, 0.6835298303368345, 0.12394821682587562, 1.1885503792856789, -0.3359210902010392, 1.3936172712845936, -0.5316323296368594, 1.112219139843769, -0.11143535134224522, 1.095345240609513, 0.3182954696065753, 0.5950475225372326, 1.0871081596461263, 0.03427604320438264, -0.44263364985909015, -0.6457871934725776, -0.007117401098441378, -0.6159860431251373, -0.38239874686866704, 0.2603103911978657, -0.6466700449947504, -0.07521629719823796, -0.6179815283659752, -0.5032327308655978, 1.3598113004197534, -1.1065540908830902, 1.433410727867854, -2.1805009648683575, 0.07462687142352951, -1.9293121316663921, 0.547164477816809, -0.18200017743812594, 0.5803578824372388, 1.5538968526260841, 0.3181395980528022, -1.0588347614634315, -0.4442677291140026, 0.3348313618841571, 0.5974929879578847, -1.2664649423745793, -0.5803930660640939, -1.6139935565939125, -0.4307100368543607, 0.6686488329157392, 0.9896890278000638, -0.08777219467088634, -0.6962739830480462, -0.20910251387356948, -1.4060136769261444, 0.12748303530900174, -1.3499127452079034, 1.7068479337246907, 0.866811723413893, 0.974027970818929, 0.44823821867055397, -0.40579951050650553, -0.1146903893512255, 0.4590159436394058, 0.1274016913525382, 0.4380191052248816, 0.29028004629836945, 0.5300911619470048, -0.3766837362641318, -1.9379566400720856, 0.9498026849284043, -0.025871942730667404, 0.22145393935861032, -0.5290526635777423, -1.1896088711264121, 0.40543708673310647, 0.8369960071633412, 0.04287268060350472, 0.34911019915060465, -0.6488609785968117, 0.07548552652848982, 0.36926711947671886, -2.000660583745119, -0.669195556548231, 0.6316558245282642, -0.07495216736797225, -0.5591084727814172, 0.7323983844085346, -1.1026713013737295, -1.8466623713491148, -0.2963038307421379, 1.3186181639595072, 1.0237652677444617, -0.8453493645017428, -0.8727883780524848, -0.6827869057954249, 2.237932533486498, -0.9988695035215177, 0.6128986180938732, 1.3631696325530038, -0.17751426357441896, -0.10334749975382293], \"xaxis\": \"x3\", \"y\": [0.5016259041677826, 0.39693214686922423, 0.15105045423677646, 0.23803313048951832, -0.9065096169526577, -0.5858144449744032, -1.1915955319013736, -0.48035108080156647, 0.3062837808136795, -1.3107717470084945, -1.4233859542149554, -1.6842219620749486, -0.6596666126340662, 1.1646748262573046, 0.5794136835164456, -0.9205239744803996, -0.7475740043983561, 0.6918046774990229, -0.6555066758516412, -1.3901183444688856, -1.5825350400322997, 0.7205935933384565, 0.8600132535274735, 1.4029869785814273, 0.3999588780574937, -0.28356727685485905, -0.8645411771163848, -1.6235254258188299, 1.6360859851250331, 0.2321715088292792, -1.5209747815314942, -1.5962544252034896, -0.22469373520940192, 0.8753232347181236, 0.5909199306008397, -1.9906485850036764, 0.7535751361189627, -0.29522547033898755, 0.5275685446294369, 0.490854014469745, -0.712958673119837, 1.199183739769989, -2.1716144020061234, 0.12954879730176844, 0.6577830296031418, -0.0944794689894394, -0.5824826846365383, 0.9537935224525297, 0.1491860042028232, 2.1676855898919563, -0.6035610892309228, -0.22958926388827122, -0.49516589618777085, -0.018281618517689203, -0.36824896094724463, -0.7026609698955638, 1.9970040310794626, -1.3398354306976554, 2.2132601709596034, -0.8850429260119838, -0.9979121569709356, 0.13341848060100922, -0.40690396935590933, 0.2898004741616915, 0.7263452114533693, 0.14363457123025744, 0.23020745995645697, 0.8286908386058912, -0.8694143942178151, -1.6292956737587923, 0.14828881101741534, 1.5579611550705739, 0.8703995897101646, 1.167026637852573, -0.7681957193858597, -0.6830233728445323, -0.6706761738439486, 0.9527201917461887, -0.5858980652427307, 0.6449352460476692, -0.681163803699951, 0.7760459110594783, 1.4041260003145961, -0.6405096339488137, 1.5846369943924745, -0.22837198279290108, -0.48738580327626524, 0.6355688871774738, -0.20426978259615566, 0.7349676391888955, -0.006914347400294714, 1.007185939619343, -1.7670966160755497, -0.4037183481284638, -0.412260784658639, -0.635749062487043, 0.4946209143651886, 2.0158526613892143, 0.5074910998586187, 0.08947531478456232], \"yaxis\": \"y3\"}, {\"line\": {\"color\": \"rgba(128, 128, 128, 1.0)\", \"dash\": \"solid\", \"shape\": \"linear\", \"width\": 1.3}, \"marker\": {\"size\": 2, \"symbol\": \"circle\"}, \"mode\": \"markers\", \"name\": \"A\", \"text\": \"\", \"type\": \"scatter\", \"x\": [-0.38038452061611805, -0.5506827942179204, -0.8486870998656855, 1.414967729808227, -1.0477678648426494, -1.9640495250297236, 0.18769300878539133, 0.42748668299848763, -0.14076395607271944, -0.25518617125015197, 1.5298604167425294, 0.16782456484427766, -0.8625470787519635, -0.3401968140754208, -0.552225588553631, 0.24419364952140488, 0.42949389314581865, -0.46910796858558124, 0.9577621493762632, 0.3625964363144777, -0.06492939512567686, 0.5352444706305645, -0.5107367639438877, 1.02870804413704, 1.2070746167965483, -0.17463474348812388, -0.1684181586791721, -1.5846215751280326, -0.7027362522387298, -1.5248951521984482, 0.30122806724387796, -0.3288071867367561, 0.2459816045668211, 0.2527445372714324, -0.6494724452668903, -0.6112211685880015, -0.7996648647148987, -0.3461906526088926, 1.6035873874528779, 0.2155637451685372, 0.0009101419438257457, -1.2033096641897751, -1.690067833970175, 1.3044403286383324, -0.1698452915634887, 0.26063014373480525, 0.41121672303455964, -0.12118866426554618, -1.5315810381028157, -0.3491070267291162, 0.7392929737509153, -1.4449307368222166, -0.2005745490635271, -0.63060619470764, -1.42764874215277, -0.11017452337573996, -0.491144682883569, 2.496224409446854, 0.11533880646002999, 1.5065605286241495, 1.1073039419149038, 0.6800632915535396, -0.15372971888054193, -0.10963986128568264, -0.5899495606091966, -1.5534302933080275, 0.598218540590992, 0.7143172145662522, -0.648216173341247, -0.1825148127024039, 0.40010536398322355, 1.0966913112497987, 0.5310530437738917, 0.29394220052286385, 1.2792714148415116, -0.16201579382107953, 1.8390836521439362, -0.16281222705571385, 0.5388109257766299, 1.7420315742598118, -0.3134948021944738, -0.9707196738386299, -0.04096253708433591, -0.509974005697877, -1.0031598449112542, -1.1625971458266298, 0.05161225328573585, -1.9777282921899026, -0.987865581607528, -0.38066253999868416, 0.9866618178028409, -1.5748008452477729, 0.7540422366292371, -1.1079266628977027, 0.2822348503877316, -0.31999434564295237, 1.1052761968600926, -1.6001253252177976, 1.0391630083294403, -0.13978143001806478], \"xaxis\": \"x4\", \"y\": [0.5016259041677826, 0.39693214686922423, 0.15105045423677646, 0.23803313048951832, -0.9065096169526577, -0.5858144449744032, -1.1915955319013736, -0.48035108080156647, 0.3062837808136795, -1.3107717470084945, -1.4233859542149554, -1.6842219620749486, -0.6596666126340662, 1.1646748262573046, 0.5794136835164456, -0.9205239744803996, -0.7475740043983561, 0.6918046774990229, -0.6555066758516412, -1.3901183444688856, -1.5825350400322997, 0.7205935933384565, 0.8600132535274735, 1.4029869785814273, 0.3999588780574937, -0.28356727685485905, -0.8645411771163848, -1.6235254258188299, 1.6360859851250331, 0.2321715088292792, -1.5209747815314942, -1.5962544252034896, -0.22469373520940192, 0.8753232347181236, 0.5909199306008397, -1.9906485850036764, 0.7535751361189627, -0.29522547033898755, 0.5275685446294369, 0.490854014469745, -0.712958673119837, 1.199183739769989, -2.1716144020061234, 0.12954879730176844, 0.6577830296031418, -0.0944794689894394, -0.5824826846365383, 0.9537935224525297, 0.1491860042028232, 2.1676855898919563, -0.6035610892309228, -0.22958926388827122, -0.49516589618777085, -0.018281618517689203, -0.36824896094724463, -0.7026609698955638, 1.9970040310794626, -1.3398354306976554, 2.2132601709596034, -0.8850429260119838, -0.9979121569709356, 0.13341848060100922, -0.40690396935590933, 0.2898004741616915, 0.7263452114533693, 0.14363457123025744, 0.23020745995645697, 0.8286908386058912, -0.8694143942178151, -1.6292956737587923, 0.14828881101741534, 1.5579611550705739, 0.8703995897101646, 1.167026637852573, -0.7681957193858597, -0.6830233728445323, -0.6706761738439486, 0.9527201917461887, -0.5858980652427307, 0.6449352460476692, -0.681163803699951, 0.7760459110594783, 1.4041260003145961, -0.6405096339488137, 1.5846369943924745, -0.22837198279290108, -0.48738580327626524, 0.6355688871774738, -0.20426978259615566, 0.7349676391888955, -0.006914347400294714, 1.007185939619343, -1.7670966160755497, -0.4037183481284638, -0.412260784658639, -0.635749062487043, 0.4946209143651886, 2.0158526613892143, 0.5074910998586187, 0.08947531478456232], \"yaxis\": \"y4\"}, {\"line\": {\"color\": \"rgba(128, 128, 128, 1.0)\", \"dash\": \"solid\", \"shape\": \"linear\", \"width\": 1.3}, \"marker\": {\"size\": 2, \"symbol\": \"circle\"}, \"mode\": \"markers\", \"name\": \"B\", \"text\": \"\", \"type\": \"scatter\", \"x\": [0.5016259041677826, 0.39693214686922423, 0.15105045423677646, 0.23803313048951832, -0.9065096169526577, -0.5858144449744032, -1.1915955319013736, -0.48035108080156647, 0.3062837808136795, -1.3107717470084945, -1.4233859542149554, -1.6842219620749486, -0.6596666126340662, 1.1646748262573046, 0.5794136835164456, -0.9205239744803996, -0.7475740043983561, 0.6918046774990229, -0.6555066758516412, -1.3901183444688856, -1.5825350400322997, 0.7205935933384565, 0.8600132535274735, 1.4029869785814273, 0.3999588780574937, -0.28356727685485905, -0.8645411771163848, -1.6235254258188299, 1.6360859851250331, 0.2321715088292792, -1.5209747815314942, -1.5962544252034896, -0.22469373520940192, 0.8753232347181236, 0.5909199306008397, -1.9906485850036764, 0.7535751361189627, -0.29522547033898755, 0.5275685446294369, 0.490854014469745, -0.712958673119837, 1.199183739769989, -2.1716144020061234, 0.12954879730176844, 0.6577830296031418, -0.0944794689894394, -0.5824826846365383, 0.9537935224525297, 0.1491860042028232, 2.1676855898919563, -0.6035610892309228, -0.22958926388827122, -0.49516589618777085, -0.018281618517689203, -0.36824896094724463, -0.7026609698955638, 1.9970040310794626, -1.3398354306976554, 2.2132601709596034, -0.8850429260119838, -0.9979121569709356, 0.13341848060100922, -0.40690396935590933, 0.2898004741616915, 0.7263452114533693, 0.14363457123025744, 0.23020745995645697, 0.8286908386058912, -0.8694143942178151, -1.6292956737587923, 0.14828881101741534, 1.5579611550705739, 0.8703995897101646, 1.167026637852573, -0.7681957193858597, -0.6830233728445323, -0.6706761738439486, 0.9527201917461887, -0.5858980652427307, 0.6449352460476692, -0.681163803699951, 0.7760459110594783, 1.4041260003145961, -0.6405096339488137, 1.5846369943924745, -0.22837198279290108, -0.48738580327626524, 0.6355688871774738, -0.20426978259615566, 0.7349676391888955, -0.006914347400294714, 1.007185939619343, -1.7670966160755497, -0.4037183481284638, -0.412260784658639, -0.635749062487043, 0.4946209143651886, 2.0158526613892143, 0.5074910998586187, 0.08947531478456232], \"xaxis\": \"x5\", \"y\": [-1.9614203298059667, 0.09936386900591583, -0.12144634499406161, 1.554896718036771, -1.28034147685133, 1.4495445156838505, 1.7043191329220253, -0.1826710330788866, -1.1631386699224067, 0.46320754943208586, 0.8858530141908567, -1.946179055103767, -2.826068861858329, 1.2390237313446868, 2.232962625610061, -0.6139100019761206, 1.1633069274370054, 1.2847212723722892, 0.6878043933686491, 0.7235693210003209, -0.2185254899678108, -0.9214353960475222, 0.15372078451738289, 0.04489774131848886, 0.5591063348832644, -2.181074948739284, -0.44650935884237547, 1.1285339969324604, -0.7997050437978639, 0.3875274586091636, -1.4428124598172498, 0.30718817340815485, -0.6772227705725071, -0.1354732158537621, -1.2041156443182979, -1.2991223536512906, -0.13337659677773347, 1.6248163917469887, 0.5014564732098982, -1.0421670872846438, 1.1119405623616914, -0.3094230119341551, -2.2170148072154485, 0.858164908480128, 0.1937476866948945, 1.3977161455052047, -0.6449582533006257, 1.3374399804360335, 0.2793771508696186, 0.8595426716872022, -0.41316843657047914, 2.0650357867171323, -0.18891294488257573, 0.9120687728370215, 0.47170982743301826, 1.3995286681965595, 2.9523359856753846, -0.2156573600877058, 1.2300249799992218, 0.44073317967212594, -0.022066795843629753, -0.5268852194942298, 0.20730381958503605, 0.733416713650668, 0.8443419934049715, 0.5020396864019491, -1.716772241166739, -1.307899712809543, -0.7197586602891242, -0.08191442847370518, 0.1940732093735313, 0.2997729938918538, 0.5614337584535843, -2.2236930656077147, 2.4054694857642724, -0.19495874877554625, -0.4798629195672261, 0.9496321492408094, 0.5747577660446029, 0.08321313793747716, 0.08592142084810923, 0.3186989355807172, -0.33161156787469626, -1.228139146584102, 1.0412808771345305, -0.35277139062308255, 1.4039866662846174, 0.49307280755934046, -0.21875339647065745, -0.8874140347814174, 0.35738348561054833, -0.11798431425933198, -1.1602205281237221, 0.2578188391703287, -0.25241907572889893, -1.1757576099571745, 1.978974245352124, 0.374565818914298, -1.3255402973767965, 2.2331800939792528], \"yaxis\": \"y5\"}, {\"histfunc\": \"count\", \"histnorm\": \"\", \"marker\": {\"color\": \"rgba(55, 128, 191, 1.0)\", \"line\": {\"color\": \"#4D5663\", \"width\": 1.3}}, \"name\": \"B\", \"nbinsx\": 10, \"opacity\": 0.8, \"orientation\": \"v\", \"type\": \"histogram\", \"x\": [-1.9614203298059667, 0.09936386900591583, -0.12144634499406161, 1.554896718036771, -1.28034147685133, 1.4495445156838505, 1.7043191329220253, -0.1826710330788866, -1.1631386699224067, 0.46320754943208586, 0.8858530141908567, -1.946179055103767, -2.826068861858329, 1.2390237313446868, 2.232962625610061, -0.6139100019761206, 1.1633069274370054, 1.2847212723722892, 0.6878043933686491, 0.7235693210003209, -0.2185254899678108, -0.9214353960475222, 0.15372078451738289, 0.04489774131848886, 0.5591063348832644, -2.181074948739284, -0.44650935884237547, 1.1285339969324604, -0.7997050437978639, 0.3875274586091636, -1.4428124598172498, 0.30718817340815485, -0.6772227705725071, -0.1354732158537621, -1.2041156443182979, -1.2991223536512906, -0.13337659677773347, 1.6248163917469887, 0.5014564732098982, -1.0421670872846438, 1.1119405623616914, -0.3094230119341551, -2.2170148072154485, 0.858164908480128, 0.1937476866948945, 1.3977161455052047, -0.6449582533006257, 1.3374399804360335, 0.2793771508696186, 0.8595426716872022, -0.41316843657047914, 2.0650357867171323, -0.18891294488257573, 0.9120687728370215, 0.47170982743301826, 1.3995286681965595, 2.9523359856753846, -0.2156573600877058, 1.2300249799992218, 0.44073317967212594, -0.022066795843629753, -0.5268852194942298, 0.20730381958503605, 0.733416713650668, 0.8443419934049715, 0.5020396864019491, -1.716772241166739, -1.307899712809543, -0.7197586602891242, -0.08191442847370518, 0.1940732093735313, 0.2997729938918538, 0.5614337584535843, -2.2236930656077147, 2.4054694857642724, -0.19495874877554625, -0.4798629195672261, 0.9496321492408094, 0.5747577660446029, 0.08321313793747716, 0.08592142084810923, 0.3186989355807172, -0.33161156787469626, -1.228139146584102, 1.0412808771345305, -0.35277139062308255, 1.4039866662846174, 0.49307280755934046, -0.21875339647065745, -0.8874140347814174, 0.35738348561054833, -0.11798431425933198, -1.1602205281237221, 0.2578188391703287, -0.25241907572889893, -1.1757576099571745, 1.978974245352124, 0.374565818914298, -1.3255402973767965, 2.2331800939792528], \"xaxis\": \"x6\", \"yaxis\": \"y6\"}, {\"line\": {\"color\": \"rgba(128, 128, 128, 1.0)\", \"dash\": \"solid\", \"shape\": \"linear\", \"width\": 1.3}, \"marker\": {\"size\": 2, \"symbol\": \"circle\"}, \"mode\": \"markers\", \"name\": \"B\", \"text\": \"\", \"type\": \"scatter\", \"x\": [1.2481290602280048, -0.11929477162168828, -1.7187511710261845, 0.13680315223213727, 2.0342541142853077, 0.6835298303368345, 0.12394821682587562, 1.1885503792856789, -0.3359210902010392, 1.3936172712845936, -0.5316323296368594, 1.112219139843769, -0.11143535134224522, 1.095345240609513, 0.3182954696065753, 0.5950475225372326, 1.0871081596461263, 0.03427604320438264, -0.44263364985909015, -0.6457871934725776, -0.007117401098441378, -0.6159860431251373, -0.38239874686866704, 0.2603103911978657, -0.6466700449947504, -0.07521629719823796, -0.6179815283659752, -0.5032327308655978, 1.3598113004197534, -1.1065540908830902, 1.433410727867854, -2.1805009648683575, 0.07462687142352951, -1.9293121316663921, 0.547164477816809, -0.18200017743812594, 0.5803578824372388, 1.5538968526260841, 0.3181395980528022, -1.0588347614634315, -0.4442677291140026, 0.3348313618841571, 0.5974929879578847, -1.2664649423745793, -0.5803930660640939, -1.6139935565939125, -0.4307100368543607, 0.6686488329157392, 0.9896890278000638, -0.08777219467088634, -0.6962739830480462, -0.20910251387356948, -1.4060136769261444, 0.12748303530900174, -1.3499127452079034, 1.7068479337246907, 0.866811723413893, 0.974027970818929, 0.44823821867055397, -0.40579951050650553, -0.1146903893512255, 0.4590159436394058, 0.1274016913525382, 0.4380191052248816, 0.29028004629836945, 0.5300911619470048, -0.3766837362641318, -1.9379566400720856, 0.9498026849284043, -0.025871942730667404, 0.22145393935861032, -0.5290526635777423, -1.1896088711264121, 0.40543708673310647, 0.8369960071633412, 0.04287268060350472, 0.34911019915060465, -0.6488609785968117, 0.07548552652848982, 0.36926711947671886, -2.000660583745119, -0.669195556548231, 0.6316558245282642, -0.07495216736797225, -0.5591084727814172, 0.7323983844085346, -1.1026713013737295, -1.8466623713491148, -0.2963038307421379, 1.3186181639595072, 1.0237652677444617, -0.8453493645017428, -0.8727883780524848, -0.6827869057954249, 2.237932533486498, -0.9988695035215177, 0.6128986180938732, 1.3631696325530038, -0.17751426357441896, -0.10334749975382293], \"xaxis\": \"x7\", \"y\": [-1.9614203298059667, 0.09936386900591583, -0.12144634499406161, 1.554896718036771, -1.28034147685133, 1.4495445156838505, 1.7043191329220253, -0.1826710330788866, -1.1631386699224067, 0.46320754943208586, 0.8858530141908567, -1.946179055103767, -2.826068861858329, 1.2390237313446868, 2.232962625610061, -0.6139100019761206, 1.1633069274370054, 1.2847212723722892, 0.6878043933686491, 0.7235693210003209, -0.2185254899678108, -0.9214353960475222, 0.15372078451738289, 0.04489774131848886, 0.5591063348832644, -2.181074948739284, -0.44650935884237547, 1.1285339969324604, -0.7997050437978639, 0.3875274586091636, -1.4428124598172498, 0.30718817340815485, -0.6772227705725071, -0.1354732158537621, -1.2041156443182979, -1.2991223536512906, -0.13337659677773347, 1.6248163917469887, 0.5014564732098982, -1.0421670872846438, 1.1119405623616914, -0.3094230119341551, -2.2170148072154485, 0.858164908480128, 0.1937476866948945, 1.3977161455052047, -0.6449582533006257, 1.3374399804360335, 0.2793771508696186, 0.8595426716872022, -0.41316843657047914, 2.0650357867171323, -0.18891294488257573, 0.9120687728370215, 0.47170982743301826, 1.3995286681965595, 2.9523359856753846, -0.2156573600877058, 1.2300249799992218, 0.44073317967212594, -0.022066795843629753, -0.5268852194942298, 0.20730381958503605, 0.733416713650668, 0.8443419934049715, 0.5020396864019491, -1.716772241166739, -1.307899712809543, -0.7197586602891242, -0.08191442847370518, 0.1940732093735313, 0.2997729938918538, 0.5614337584535843, -2.2236930656077147, 2.4054694857642724, -0.19495874877554625, -0.4798629195672261, 0.9496321492408094, 0.5747577660446029, 0.08321313793747716, 0.08592142084810923, 0.3186989355807172, -0.33161156787469626, -1.228139146584102, 1.0412808771345305, -0.35277139062308255, 1.4039866662846174, 0.49307280755934046, -0.21875339647065745, -0.8874140347814174, 0.35738348561054833, -0.11798431425933198, -1.1602205281237221, 0.2578188391703287, -0.25241907572889893, -1.1757576099571745, 1.978974245352124, 0.374565818914298, -1.3255402973767965, 2.2331800939792528], \"yaxis\": \"y7\"}, {\"line\": {\"color\": \"rgba(128, 128, 128, 1.0)\", \"dash\": \"solid\", \"shape\": \"linear\", \"width\": 1.3}, \"marker\": {\"size\": 2, \"symbol\": \"circle\"}, \"mode\": \"markers\", \"name\": \"B\", \"text\": \"\", \"type\": \"scatter\", \"x\": [-0.38038452061611805, -0.5506827942179204, -0.8486870998656855, 1.414967729808227, -1.0477678648426494, -1.9640495250297236, 0.18769300878539133, 0.42748668299848763, -0.14076395607271944, -0.25518617125015197, 1.5298604167425294, 0.16782456484427766, -0.8625470787519635, -0.3401968140754208, -0.552225588553631, 0.24419364952140488, 0.42949389314581865, -0.46910796858558124, 0.9577621493762632, 0.3625964363144777, -0.06492939512567686, 0.5352444706305645, -0.5107367639438877, 1.02870804413704, 1.2070746167965483, -0.17463474348812388, -0.1684181586791721, -1.5846215751280326, -0.7027362522387298, -1.5248951521984482, 0.30122806724387796, -0.3288071867367561, 0.2459816045668211, 0.2527445372714324, -0.6494724452668903, -0.6112211685880015, -0.7996648647148987, -0.3461906526088926, 1.6035873874528779, 0.2155637451685372, 0.0009101419438257457, -1.2033096641897751, -1.690067833970175, 1.3044403286383324, -0.1698452915634887, 0.26063014373480525, 0.41121672303455964, -0.12118866426554618, -1.5315810381028157, -0.3491070267291162, 0.7392929737509153, -1.4449307368222166, -0.2005745490635271, -0.63060619470764, -1.42764874215277, -0.11017452337573996, -0.491144682883569, 2.496224409446854, 0.11533880646002999, 1.5065605286241495, 1.1073039419149038, 0.6800632915535396, -0.15372971888054193, -0.10963986128568264, -0.5899495606091966, -1.5534302933080275, 0.598218540590992, 0.7143172145662522, -0.648216173341247, -0.1825148127024039, 0.40010536398322355, 1.0966913112497987, 0.5310530437738917, 0.29394220052286385, 1.2792714148415116, -0.16201579382107953, 1.8390836521439362, -0.16281222705571385, 0.5388109257766299, 1.7420315742598118, -0.3134948021944738, -0.9707196738386299, -0.04096253708433591, -0.509974005697877, -1.0031598449112542, -1.1625971458266298, 0.05161225328573585, -1.9777282921899026, -0.987865581607528, -0.38066253999868416, 0.9866618178028409, -1.5748008452477729, 0.7540422366292371, -1.1079266628977027, 0.2822348503877316, -0.31999434564295237, 1.1052761968600926, -1.6001253252177976, 1.0391630083294403, -0.13978143001806478], \"xaxis\": \"x8\", \"y\": [-1.9614203298059667, 0.09936386900591583, -0.12144634499406161, 1.554896718036771, -1.28034147685133, 1.4495445156838505, 1.7043191329220253, -0.1826710330788866, -1.1631386699224067, 0.46320754943208586, 0.8858530141908567, -1.946179055103767, -2.826068861858329, 1.2390237313446868, 2.232962625610061, -0.6139100019761206, 1.1633069274370054, 1.2847212723722892, 0.6878043933686491, 0.7235693210003209, -0.2185254899678108, -0.9214353960475222, 0.15372078451738289, 0.04489774131848886, 0.5591063348832644, -2.181074948739284, -0.44650935884237547, 1.1285339969324604, -0.7997050437978639, 0.3875274586091636, -1.4428124598172498, 0.30718817340815485, -0.6772227705725071, -0.1354732158537621, -1.2041156443182979, -1.2991223536512906, -0.13337659677773347, 1.6248163917469887, 0.5014564732098982, -1.0421670872846438, 1.1119405623616914, -0.3094230119341551, -2.2170148072154485, 0.858164908480128, 0.1937476866948945, 1.3977161455052047, -0.6449582533006257, 1.3374399804360335, 0.2793771508696186, 0.8595426716872022, -0.41316843657047914, 2.0650357867171323, -0.18891294488257573, 0.9120687728370215, 0.47170982743301826, 1.3995286681965595, 2.9523359856753846, -0.2156573600877058, 1.2300249799992218, 0.44073317967212594, -0.022066795843629753, -0.5268852194942298, 0.20730381958503605, 0.733416713650668, 0.8443419934049715, 0.5020396864019491, -1.716772241166739, -1.307899712809543, -0.7197586602891242, -0.08191442847370518, 0.1940732093735313, 0.2997729938918538, 0.5614337584535843, -2.2236930656077147, 2.4054694857642724, -0.19495874877554625, -0.4798629195672261, 0.9496321492408094, 0.5747577660446029, 0.08321313793747716, 0.08592142084810923, 0.3186989355807172, -0.33161156787469626, -1.228139146584102, 1.0412808771345305, -0.35277139062308255, 1.4039866662846174, 0.49307280755934046, -0.21875339647065745, -0.8874140347814174, 0.35738348561054833, -0.11798431425933198, -1.1602205281237221, 0.2578188391703287, -0.25241907572889893, -1.1757576099571745, 1.978974245352124, 0.374565818914298, -1.3255402973767965, 2.2331800939792528], \"yaxis\": \"y8\"}, {\"line\": {\"color\": \"rgba(128, 128, 128, 1.0)\", \"dash\": \"solid\", \"shape\": \"linear\", \"width\": 1.3}, \"marker\": {\"size\": 2, \"symbol\": \"circle\"}, \"mode\": \"markers\", \"name\": \"C\", \"text\": \"\", \"type\": \"scatter\", \"x\": [0.5016259041677826, 0.39693214686922423, 0.15105045423677646, 0.23803313048951832, -0.9065096169526577, -0.5858144449744032, -1.1915955319013736, -0.48035108080156647, 0.3062837808136795, -1.3107717470084945, -1.4233859542149554, -1.6842219620749486, -0.6596666126340662, 1.1646748262573046, 0.5794136835164456, -0.9205239744803996, -0.7475740043983561, 0.6918046774990229, -0.6555066758516412, -1.3901183444688856, -1.5825350400322997, 0.7205935933384565, 0.8600132535274735, 1.4029869785814273, 0.3999588780574937, -0.28356727685485905, -0.8645411771163848, -1.6235254258188299, 1.6360859851250331, 0.2321715088292792, -1.5209747815314942, -1.5962544252034896, -0.22469373520940192, 0.8753232347181236, 0.5909199306008397, -1.9906485850036764, 0.7535751361189627, -0.29522547033898755, 0.5275685446294369, 0.490854014469745, -0.712958673119837, 1.199183739769989, -2.1716144020061234, 0.12954879730176844, 0.6577830296031418, -0.0944794689894394, -0.5824826846365383, 0.9537935224525297, 0.1491860042028232, 2.1676855898919563, -0.6035610892309228, -0.22958926388827122, -0.49516589618777085, -0.018281618517689203, -0.36824896094724463, -0.7026609698955638, 1.9970040310794626, -1.3398354306976554, 2.2132601709596034, -0.8850429260119838, -0.9979121569709356, 0.13341848060100922, -0.40690396935590933, 0.2898004741616915, 0.7263452114533693, 0.14363457123025744, 0.23020745995645697, 0.8286908386058912, -0.8694143942178151, -1.6292956737587923, 0.14828881101741534, 1.5579611550705739, 0.8703995897101646, 1.167026637852573, -0.7681957193858597, -0.6830233728445323, -0.6706761738439486, 0.9527201917461887, -0.5858980652427307, 0.6449352460476692, -0.681163803699951, 0.7760459110594783, 1.4041260003145961, -0.6405096339488137, 1.5846369943924745, -0.22837198279290108, -0.48738580327626524, 0.6355688871774738, -0.20426978259615566, 0.7349676391888955, -0.006914347400294714, 1.007185939619343, -1.7670966160755497, -0.4037183481284638, -0.412260784658639, -0.635749062487043, 0.4946209143651886, 2.0158526613892143, 0.5074910998586187, 0.08947531478456232], \"xaxis\": \"x9\", \"y\": [1.2481290602280048, -0.11929477162168828, -1.7187511710261845, 0.13680315223213727, 2.0342541142853077, 0.6835298303368345, 0.12394821682587562, 1.1885503792856789, -0.3359210902010392, 1.3936172712845936, -0.5316323296368594, 1.112219139843769, -0.11143535134224522, 1.095345240609513, 0.3182954696065753, 0.5950475225372326, 1.0871081596461263, 0.03427604320438264, -0.44263364985909015, -0.6457871934725776, -0.007117401098441378, -0.6159860431251373, -0.38239874686866704, 0.2603103911978657, -0.6466700449947504, -0.07521629719823796, -0.6179815283659752, -0.5032327308655978, 1.3598113004197534, -1.1065540908830902, 1.433410727867854, -2.1805009648683575, 0.07462687142352951, -1.9293121316663921, 0.547164477816809, -0.18200017743812594, 0.5803578824372388, 1.5538968526260841, 0.3181395980528022, -1.0588347614634315, -0.4442677291140026, 0.3348313618841571, 0.5974929879578847, -1.2664649423745793, -0.5803930660640939, -1.6139935565939125, -0.4307100368543607, 0.6686488329157392, 0.9896890278000638, -0.08777219467088634, -0.6962739830480462, -0.20910251387356948, -1.4060136769261444, 0.12748303530900174, -1.3499127452079034, 1.7068479337246907, 0.866811723413893, 0.974027970818929, 0.44823821867055397, -0.40579951050650553, -0.1146903893512255, 0.4590159436394058, 0.1274016913525382, 0.4380191052248816, 0.29028004629836945, 0.5300911619470048, -0.3766837362641318, -1.9379566400720856, 0.9498026849284043, -0.025871942730667404, 0.22145393935861032, -0.5290526635777423, -1.1896088711264121, 0.40543708673310647, 0.8369960071633412, 0.04287268060350472, 0.34911019915060465, -0.6488609785968117, 0.07548552652848982, 0.36926711947671886, -2.000660583745119, -0.669195556548231, 0.6316558245282642, -0.07495216736797225, -0.5591084727814172, 0.7323983844085346, -1.1026713013737295, -1.8466623713491148, -0.2963038307421379, 1.3186181639595072, 1.0237652677444617, -0.8453493645017428, -0.8727883780524848, -0.6827869057954249, 2.237932533486498, -0.9988695035215177, 0.6128986180938732, 1.3631696325530038, -0.17751426357441896, -0.10334749975382293], \"yaxis\": \"y9\"}, {\"line\": {\"color\": \"rgba(128, 128, 128, 1.0)\", \"dash\": \"solid\", \"shape\": \"linear\", \"width\": 1.3}, \"marker\": {\"size\": 2, \"symbol\": \"circle\"}, \"mode\": \"markers\", \"name\": \"C\", \"text\": \"\", \"type\": \"scatter\", \"x\": [-1.9614203298059667, 0.09936386900591583, -0.12144634499406161, 1.554896718036771, -1.28034147685133, 1.4495445156838505, 1.7043191329220253, -0.1826710330788866, -1.1631386699224067, 0.46320754943208586, 0.8858530141908567, -1.946179055103767, -2.826068861858329, 1.2390237313446868, 2.232962625610061, -0.6139100019761206, 1.1633069274370054, 1.2847212723722892, 0.6878043933686491, 0.7235693210003209, -0.2185254899678108, -0.9214353960475222, 0.15372078451738289, 0.04489774131848886, 0.5591063348832644, -2.181074948739284, -0.44650935884237547, 1.1285339969324604, -0.7997050437978639, 0.3875274586091636, -1.4428124598172498, 0.30718817340815485, -0.6772227705725071, -0.1354732158537621, -1.2041156443182979, -1.2991223536512906, -0.13337659677773347, 1.6248163917469887, 0.5014564732098982, -1.0421670872846438, 1.1119405623616914, -0.3094230119341551, -2.2170148072154485, 0.858164908480128, 0.1937476866948945, 1.3977161455052047, -0.6449582533006257, 1.3374399804360335, 0.2793771508696186, 0.8595426716872022, -0.41316843657047914, 2.0650357867171323, -0.18891294488257573, 0.9120687728370215, 0.47170982743301826, 1.3995286681965595, 2.9523359856753846, -0.2156573600877058, 1.2300249799992218, 0.44073317967212594, -0.022066795843629753, -0.5268852194942298, 0.20730381958503605, 0.733416713650668, 0.8443419934049715, 0.5020396864019491, -1.716772241166739, -1.307899712809543, -0.7197586602891242, -0.08191442847370518, 0.1940732093735313, 0.2997729938918538, 0.5614337584535843, -2.2236930656077147, 2.4054694857642724, -0.19495874877554625, -0.4798629195672261, 0.9496321492408094, 0.5747577660446029, 0.08321313793747716, 0.08592142084810923, 0.3186989355807172, -0.33161156787469626, -1.228139146584102, 1.0412808771345305, -0.35277139062308255, 1.4039866662846174, 0.49307280755934046, -0.21875339647065745, -0.8874140347814174, 0.35738348561054833, -0.11798431425933198, -1.1602205281237221, 0.2578188391703287, -0.25241907572889893, -1.1757576099571745, 1.978974245352124, 0.374565818914298, -1.3255402973767965, 2.2331800939792528], \"xaxis\": \"x10\", \"y\": [1.2481290602280048, -0.11929477162168828, -1.7187511710261845, 0.13680315223213727, 2.0342541142853077, 0.6835298303368345, 0.12394821682587562, 1.1885503792856789, -0.3359210902010392, 1.3936172712845936, -0.5316323296368594, 1.112219139843769, -0.11143535134224522, 1.095345240609513, 0.3182954696065753, 0.5950475225372326, 1.0871081596461263, 0.03427604320438264, -0.44263364985909015, -0.6457871934725776, -0.007117401098441378, -0.6159860431251373, -0.38239874686866704, 0.2603103911978657, -0.6466700449947504, -0.07521629719823796, -0.6179815283659752, -0.5032327308655978, 1.3598113004197534, -1.1065540908830902, 1.433410727867854, -2.1805009648683575, 0.07462687142352951, -1.9293121316663921, 0.547164477816809, -0.18200017743812594, 0.5803578824372388, 1.5538968526260841, 0.3181395980528022, -1.0588347614634315, -0.4442677291140026, 0.3348313618841571, 0.5974929879578847, -1.2664649423745793, -0.5803930660640939, -1.6139935565939125, -0.4307100368543607, 0.6686488329157392, 0.9896890278000638, -0.08777219467088634, -0.6962739830480462, -0.20910251387356948, -1.4060136769261444, 0.12748303530900174, -1.3499127452079034, 1.7068479337246907, 0.866811723413893, 0.974027970818929, 0.44823821867055397, -0.40579951050650553, -0.1146903893512255, 0.4590159436394058, 0.1274016913525382, 0.4380191052248816, 0.29028004629836945, 0.5300911619470048, -0.3766837362641318, -1.9379566400720856, 0.9498026849284043, -0.025871942730667404, 0.22145393935861032, -0.5290526635777423, -1.1896088711264121, 0.40543708673310647, 0.8369960071633412, 0.04287268060350472, 0.34911019915060465, -0.6488609785968117, 0.07548552652848982, 0.36926711947671886, -2.000660583745119, -0.669195556548231, 0.6316558245282642, -0.07495216736797225, -0.5591084727814172, 0.7323983844085346, -1.1026713013737295, -1.8466623713491148, -0.2963038307421379, 1.3186181639595072, 1.0237652677444617, -0.8453493645017428, -0.8727883780524848, -0.6827869057954249, 2.237932533486498, -0.9988695035215177, 0.6128986180938732, 1.3631696325530038, -0.17751426357441896, -0.10334749975382293], \"yaxis\": \"y10\"}, {\"histfunc\": \"count\", \"histnorm\": \"\", \"marker\": {\"color\": \"rgba(50, 171, 96, 1.0)\", \"line\": {\"color\": \"#4D5663\", \"width\": 1.3}}, \"name\": \"C\", \"nbinsx\": 10, \"opacity\": 0.8, \"orientation\": \"v\", \"type\": \"histogram\", \"x\": [1.2481290602280048, -0.11929477162168828, -1.7187511710261845, 0.13680315223213727, 2.0342541142853077, 0.6835298303368345, 0.12394821682587562, 1.1885503792856789, -0.3359210902010392, 1.3936172712845936, -0.5316323296368594, 1.112219139843769, -0.11143535134224522, 1.095345240609513, 0.3182954696065753, 0.5950475225372326, 1.0871081596461263, 0.03427604320438264, -0.44263364985909015, -0.6457871934725776, -0.007117401098441378, -0.6159860431251373, -0.38239874686866704, 0.2603103911978657, -0.6466700449947504, -0.07521629719823796, -0.6179815283659752, -0.5032327308655978, 1.3598113004197534, -1.1065540908830902, 1.433410727867854, -2.1805009648683575, 0.07462687142352951, -1.9293121316663921, 0.547164477816809, -0.18200017743812594, 0.5803578824372388, 1.5538968526260841, 0.3181395980528022, -1.0588347614634315, -0.4442677291140026, 0.3348313618841571, 0.5974929879578847, -1.2664649423745793, -0.5803930660640939, -1.6139935565939125, -0.4307100368543607, 0.6686488329157392, 0.9896890278000638, -0.08777219467088634, -0.6962739830480462, -0.20910251387356948, -1.4060136769261444, 0.12748303530900174, -1.3499127452079034, 1.7068479337246907, 0.866811723413893, 0.974027970818929, 0.44823821867055397, -0.40579951050650553, -0.1146903893512255, 0.4590159436394058, 0.1274016913525382, 0.4380191052248816, 0.29028004629836945, 0.5300911619470048, -0.3766837362641318, -1.9379566400720856, 0.9498026849284043, -0.025871942730667404, 0.22145393935861032, -0.5290526635777423, -1.1896088711264121, 0.40543708673310647, 0.8369960071633412, 0.04287268060350472, 0.34911019915060465, -0.6488609785968117, 0.07548552652848982, 0.36926711947671886, -2.000660583745119, -0.669195556548231, 0.6316558245282642, -0.07495216736797225, -0.5591084727814172, 0.7323983844085346, -1.1026713013737295, -1.8466623713491148, -0.2963038307421379, 1.3186181639595072, 1.0237652677444617, -0.8453493645017428, -0.8727883780524848, -0.6827869057954249, 2.237932533486498, -0.9988695035215177, 0.6128986180938732, 1.3631696325530038, -0.17751426357441896, -0.10334749975382293], \"xaxis\": \"x11\", \"yaxis\": \"y11\"}, {\"line\": {\"color\": \"rgba(128, 128, 128, 1.0)\", \"dash\": \"solid\", \"shape\": \"linear\", \"width\": 1.3}, \"marker\": {\"size\": 2, \"symbol\": \"circle\"}, \"mode\": \"markers\", \"name\": \"C\", \"text\": \"\", \"type\": \"scatter\", \"x\": [-0.38038452061611805, -0.5506827942179204, -0.8486870998656855, 1.414967729808227, -1.0477678648426494, -1.9640495250297236, 0.18769300878539133, 0.42748668299848763, -0.14076395607271944, -0.25518617125015197, 1.5298604167425294, 0.16782456484427766, -0.8625470787519635, -0.3401968140754208, -0.552225588553631, 0.24419364952140488, 0.42949389314581865, -0.46910796858558124, 0.9577621493762632, 0.3625964363144777, -0.06492939512567686, 0.5352444706305645, -0.5107367639438877, 1.02870804413704, 1.2070746167965483, -0.17463474348812388, -0.1684181586791721, -1.5846215751280326, -0.7027362522387298, -1.5248951521984482, 0.30122806724387796, -0.3288071867367561, 0.2459816045668211, 0.2527445372714324, -0.6494724452668903, -0.6112211685880015, -0.7996648647148987, -0.3461906526088926, 1.6035873874528779, 0.2155637451685372, 0.0009101419438257457, -1.2033096641897751, -1.690067833970175, 1.3044403286383324, -0.1698452915634887, 0.26063014373480525, 0.41121672303455964, -0.12118866426554618, -1.5315810381028157, -0.3491070267291162, 0.7392929737509153, -1.4449307368222166, -0.2005745490635271, -0.63060619470764, -1.42764874215277, -0.11017452337573996, -0.491144682883569, 2.496224409446854, 0.11533880646002999, 1.5065605286241495, 1.1073039419149038, 0.6800632915535396, -0.15372971888054193, -0.10963986128568264, -0.5899495606091966, -1.5534302933080275, 0.598218540590992, 0.7143172145662522, -0.648216173341247, -0.1825148127024039, 0.40010536398322355, 1.0966913112497987, 0.5310530437738917, 0.29394220052286385, 1.2792714148415116, -0.16201579382107953, 1.8390836521439362, -0.16281222705571385, 0.5388109257766299, 1.7420315742598118, -0.3134948021944738, -0.9707196738386299, -0.04096253708433591, -0.509974005697877, -1.0031598449112542, -1.1625971458266298, 0.05161225328573585, -1.9777282921899026, -0.987865581607528, -0.38066253999868416, 0.9866618178028409, -1.5748008452477729, 0.7540422366292371, -1.1079266628977027, 0.2822348503877316, -0.31999434564295237, 1.1052761968600926, -1.6001253252177976, 1.0391630083294403, -0.13978143001806478], \"xaxis\": \"x12\", \"y\": [1.2481290602280048, -0.11929477162168828, -1.7187511710261845, 0.13680315223213727, 2.0342541142853077, 0.6835298303368345, 0.12394821682587562, 1.1885503792856789, -0.3359210902010392, 1.3936172712845936, -0.5316323296368594, 1.112219139843769, -0.11143535134224522, 1.095345240609513, 0.3182954696065753, 0.5950475225372326, 1.0871081596461263, 0.03427604320438264, -0.44263364985909015, -0.6457871934725776, -0.007117401098441378, -0.6159860431251373, -0.38239874686866704, 0.2603103911978657, -0.6466700449947504, -0.07521629719823796, -0.6179815283659752, -0.5032327308655978, 1.3598113004197534, -1.1065540908830902, 1.433410727867854, -2.1805009648683575, 0.07462687142352951, -1.9293121316663921, 0.547164477816809, -0.18200017743812594, 0.5803578824372388, 1.5538968526260841, 0.3181395980528022, -1.0588347614634315, -0.4442677291140026, 0.3348313618841571, 0.5974929879578847, -1.2664649423745793, -0.5803930660640939, -1.6139935565939125, -0.4307100368543607, 0.6686488329157392, 0.9896890278000638, -0.08777219467088634, -0.6962739830480462, -0.20910251387356948, -1.4060136769261444, 0.12748303530900174, -1.3499127452079034, 1.7068479337246907, 0.866811723413893, 0.974027970818929, 0.44823821867055397, -0.40579951050650553, -0.1146903893512255, 0.4590159436394058, 0.1274016913525382, 0.4380191052248816, 0.29028004629836945, 0.5300911619470048, -0.3766837362641318, -1.9379566400720856, 0.9498026849284043, -0.025871942730667404, 0.22145393935861032, -0.5290526635777423, -1.1896088711264121, 0.40543708673310647, 0.8369960071633412, 0.04287268060350472, 0.34911019915060465, -0.6488609785968117, 0.07548552652848982, 0.36926711947671886, -2.000660583745119, -0.669195556548231, 0.6316558245282642, -0.07495216736797225, -0.5591084727814172, 0.7323983844085346, -1.1026713013737295, -1.8466623713491148, -0.2963038307421379, 1.3186181639595072, 1.0237652677444617, -0.8453493645017428, -0.8727883780524848, -0.6827869057954249, 2.237932533486498, -0.9988695035215177, 0.6128986180938732, 1.3631696325530038, -0.17751426357441896, -0.10334749975382293], \"yaxis\": \"y12\"}, {\"line\": {\"color\": \"rgba(128, 128, 128, 1.0)\", \"dash\": \"solid\", \"shape\": \"linear\", \"width\": 1.3}, \"marker\": {\"size\": 2, \"symbol\": \"circle\"}, \"mode\": \"markers\", \"name\": \"D\", \"text\": \"\", \"type\": \"scatter\", \"x\": [0.5016259041677826, 0.39693214686922423, 0.15105045423677646, 0.23803313048951832, -0.9065096169526577, -0.5858144449744032, -1.1915955319013736, -0.48035108080156647, 0.3062837808136795, -1.3107717470084945, -1.4233859542149554, -1.6842219620749486, -0.6596666126340662, 1.1646748262573046, 0.5794136835164456, -0.9205239744803996, -0.7475740043983561, 0.6918046774990229, -0.6555066758516412, -1.3901183444688856, -1.5825350400322997, 0.7205935933384565, 0.8600132535274735, 1.4029869785814273, 0.3999588780574937, -0.28356727685485905, -0.8645411771163848, -1.6235254258188299, 1.6360859851250331, 0.2321715088292792, -1.5209747815314942, -1.5962544252034896, -0.22469373520940192, 0.8753232347181236, 0.5909199306008397, -1.9906485850036764, 0.7535751361189627, -0.29522547033898755, 0.5275685446294369, 0.490854014469745, -0.712958673119837, 1.199183739769989, -2.1716144020061234, 0.12954879730176844, 0.6577830296031418, -0.0944794689894394, -0.5824826846365383, 0.9537935224525297, 0.1491860042028232, 2.1676855898919563, -0.6035610892309228, -0.22958926388827122, -0.49516589618777085, -0.018281618517689203, -0.36824896094724463, -0.7026609698955638, 1.9970040310794626, -1.3398354306976554, 2.2132601709596034, -0.8850429260119838, -0.9979121569709356, 0.13341848060100922, -0.40690396935590933, 0.2898004741616915, 0.7263452114533693, 0.14363457123025744, 0.23020745995645697, 0.8286908386058912, -0.8694143942178151, -1.6292956737587923, 0.14828881101741534, 1.5579611550705739, 0.8703995897101646, 1.167026637852573, -0.7681957193858597, -0.6830233728445323, -0.6706761738439486, 0.9527201917461887, -0.5858980652427307, 0.6449352460476692, -0.681163803699951, 0.7760459110594783, 1.4041260003145961, -0.6405096339488137, 1.5846369943924745, -0.22837198279290108, -0.48738580327626524, 0.6355688871774738, -0.20426978259615566, 0.7349676391888955, -0.006914347400294714, 1.007185939619343, -1.7670966160755497, -0.4037183481284638, -0.412260784658639, -0.635749062487043, 0.4946209143651886, 2.0158526613892143, 0.5074910998586187, 0.08947531478456232], \"xaxis\": \"x13\", \"y\": [-0.38038452061611805, -0.5506827942179204, -0.8486870998656855, 1.414967729808227, -1.0477678648426494, -1.9640495250297236, 0.18769300878539133, 0.42748668299848763, -0.14076395607271944, -0.25518617125015197, 1.5298604167425294, 0.16782456484427766, -0.8625470787519635, -0.3401968140754208, -0.552225588553631, 0.24419364952140488, 0.42949389314581865, -0.46910796858558124, 0.9577621493762632, 0.3625964363144777, -0.06492939512567686, 0.5352444706305645, -0.5107367639438877, 1.02870804413704, 1.2070746167965483, -0.17463474348812388, -0.1684181586791721, -1.5846215751280326, -0.7027362522387298, -1.5248951521984482, 0.30122806724387796, -0.3288071867367561, 0.2459816045668211, 0.2527445372714324, -0.6494724452668903, -0.6112211685880015, -0.7996648647148987, -0.3461906526088926, 1.6035873874528779, 0.2155637451685372, 0.0009101419438257457, -1.2033096641897751, -1.690067833970175, 1.3044403286383324, -0.1698452915634887, 0.26063014373480525, 0.41121672303455964, -0.12118866426554618, -1.5315810381028157, -0.3491070267291162, 0.7392929737509153, -1.4449307368222166, -0.2005745490635271, -0.63060619470764, -1.42764874215277, -0.11017452337573996, -0.491144682883569, 2.496224409446854, 0.11533880646002999, 1.5065605286241495, 1.1073039419149038, 0.6800632915535396, -0.15372971888054193, -0.10963986128568264, -0.5899495606091966, -1.5534302933080275, 0.598218540590992, 0.7143172145662522, -0.648216173341247, -0.1825148127024039, 0.40010536398322355, 1.0966913112497987, 0.5310530437738917, 0.29394220052286385, 1.2792714148415116, -0.16201579382107953, 1.8390836521439362, -0.16281222705571385, 0.5388109257766299, 1.7420315742598118, -0.3134948021944738, -0.9707196738386299, -0.04096253708433591, -0.509974005697877, -1.0031598449112542, -1.1625971458266298, 0.05161225328573585, -1.9777282921899026, -0.987865581607528, -0.38066253999868416, 0.9866618178028409, -1.5748008452477729, 0.7540422366292371, -1.1079266628977027, 0.2822348503877316, -0.31999434564295237, 1.1052761968600926, -1.6001253252177976, 1.0391630083294403, -0.13978143001806478], \"yaxis\": \"y13\"}, {\"line\": {\"color\": \"rgba(128, 128, 128, 1.0)\", \"dash\": \"solid\", \"shape\": \"linear\", \"width\": 1.3}, \"marker\": {\"size\": 2, \"symbol\": \"circle\"}, \"mode\": \"markers\", \"name\": \"D\", \"text\": \"\", \"type\": \"scatter\", \"x\": [-1.9614203298059667, 0.09936386900591583, -0.12144634499406161, 1.554896718036771, -1.28034147685133, 1.4495445156838505, 1.7043191329220253, -0.1826710330788866, -1.1631386699224067, 0.46320754943208586, 0.8858530141908567, -1.946179055103767, -2.826068861858329, 1.2390237313446868, 2.232962625610061, -0.6139100019761206, 1.1633069274370054, 1.2847212723722892, 0.6878043933686491, 0.7235693210003209, -0.2185254899678108, -0.9214353960475222, 0.15372078451738289, 0.04489774131848886, 0.5591063348832644, -2.181074948739284, -0.44650935884237547, 1.1285339969324604, -0.7997050437978639, 0.3875274586091636, -1.4428124598172498, 0.30718817340815485, -0.6772227705725071, -0.1354732158537621, -1.2041156443182979, -1.2991223536512906, -0.13337659677773347, 1.6248163917469887, 0.5014564732098982, -1.0421670872846438, 1.1119405623616914, -0.3094230119341551, -2.2170148072154485, 0.858164908480128, 0.1937476866948945, 1.3977161455052047, -0.6449582533006257, 1.3374399804360335, 0.2793771508696186, 0.8595426716872022, -0.41316843657047914, 2.0650357867171323, -0.18891294488257573, 0.9120687728370215, 0.47170982743301826, 1.3995286681965595, 2.9523359856753846, -0.2156573600877058, 1.2300249799992218, 0.44073317967212594, -0.022066795843629753, -0.5268852194942298, 0.20730381958503605, 0.733416713650668, 0.8443419934049715, 0.5020396864019491, -1.716772241166739, -1.307899712809543, -0.7197586602891242, -0.08191442847370518, 0.1940732093735313, 0.2997729938918538, 0.5614337584535843, -2.2236930656077147, 2.4054694857642724, -0.19495874877554625, -0.4798629195672261, 0.9496321492408094, 0.5747577660446029, 0.08321313793747716, 0.08592142084810923, 0.3186989355807172, -0.33161156787469626, -1.228139146584102, 1.0412808771345305, -0.35277139062308255, 1.4039866662846174, 0.49307280755934046, -0.21875339647065745, -0.8874140347814174, 0.35738348561054833, -0.11798431425933198, -1.1602205281237221, 0.2578188391703287, -0.25241907572889893, -1.1757576099571745, 1.978974245352124, 0.374565818914298, -1.3255402973767965, 2.2331800939792528], \"xaxis\": \"x14\", \"y\": [-0.38038452061611805, -0.5506827942179204, -0.8486870998656855, 1.414967729808227, -1.0477678648426494, -1.9640495250297236, 0.18769300878539133, 0.42748668299848763, -0.14076395607271944, -0.25518617125015197, 1.5298604167425294, 0.16782456484427766, -0.8625470787519635, -0.3401968140754208, -0.552225588553631, 0.24419364952140488, 0.42949389314581865, -0.46910796858558124, 0.9577621493762632, 0.3625964363144777, -0.06492939512567686, 0.5352444706305645, -0.5107367639438877, 1.02870804413704, 1.2070746167965483, -0.17463474348812388, -0.1684181586791721, -1.5846215751280326, -0.7027362522387298, -1.5248951521984482, 0.30122806724387796, -0.3288071867367561, 0.2459816045668211, 0.2527445372714324, -0.6494724452668903, -0.6112211685880015, -0.7996648647148987, -0.3461906526088926, 1.6035873874528779, 0.2155637451685372, 0.0009101419438257457, -1.2033096641897751, -1.690067833970175, 1.3044403286383324, -0.1698452915634887, 0.26063014373480525, 0.41121672303455964, -0.12118866426554618, -1.5315810381028157, -0.3491070267291162, 0.7392929737509153, -1.4449307368222166, -0.2005745490635271, -0.63060619470764, -1.42764874215277, -0.11017452337573996, -0.491144682883569, 2.496224409446854, 0.11533880646002999, 1.5065605286241495, 1.1073039419149038, 0.6800632915535396, -0.15372971888054193, -0.10963986128568264, -0.5899495606091966, -1.5534302933080275, 0.598218540590992, 0.7143172145662522, -0.648216173341247, -0.1825148127024039, 0.40010536398322355, 1.0966913112497987, 0.5310530437738917, 0.29394220052286385, 1.2792714148415116, -0.16201579382107953, 1.8390836521439362, -0.16281222705571385, 0.5388109257766299, 1.7420315742598118, -0.3134948021944738, -0.9707196738386299, -0.04096253708433591, -0.509974005697877, -1.0031598449112542, -1.1625971458266298, 0.05161225328573585, -1.9777282921899026, -0.987865581607528, -0.38066253999868416, 0.9866618178028409, -1.5748008452477729, 0.7540422366292371, -1.1079266628977027, 0.2822348503877316, -0.31999434564295237, 1.1052761968600926, -1.6001253252177976, 1.0391630083294403, -0.13978143001806478], \"yaxis\": \"y14\"}, {\"line\": {\"color\": \"rgba(128, 128, 128, 1.0)\", \"dash\": \"solid\", \"shape\": \"linear\", \"width\": 1.3}, \"marker\": {\"size\": 2, \"symbol\": \"circle\"}, \"mode\": \"markers\", \"name\": \"D\", \"text\": \"\", \"type\": \"scatter\", \"x\": [1.2481290602280048, -0.11929477162168828, -1.7187511710261845, 0.13680315223213727, 2.0342541142853077, 0.6835298303368345, 0.12394821682587562, 1.1885503792856789, -0.3359210902010392, 1.3936172712845936, -0.5316323296368594, 1.112219139843769, -0.11143535134224522, 1.095345240609513, 0.3182954696065753, 0.5950475225372326, 1.0871081596461263, 0.03427604320438264, -0.44263364985909015, -0.6457871934725776, -0.007117401098441378, -0.6159860431251373, -0.38239874686866704, 0.2603103911978657, -0.6466700449947504, -0.07521629719823796, -0.6179815283659752, -0.5032327308655978, 1.3598113004197534, -1.1065540908830902, 1.433410727867854, -2.1805009648683575, 0.07462687142352951, -1.9293121316663921, 0.547164477816809, -0.18200017743812594, 0.5803578824372388, 1.5538968526260841, 0.3181395980528022, -1.0588347614634315, -0.4442677291140026, 0.3348313618841571, 0.5974929879578847, -1.2664649423745793, -0.5803930660640939, -1.6139935565939125, -0.4307100368543607, 0.6686488329157392, 0.9896890278000638, -0.08777219467088634, -0.6962739830480462, -0.20910251387356948, -1.4060136769261444, 0.12748303530900174, -1.3499127452079034, 1.7068479337246907, 0.866811723413893, 0.974027970818929, 0.44823821867055397, -0.40579951050650553, -0.1146903893512255, 0.4590159436394058, 0.1274016913525382, 0.4380191052248816, 0.29028004629836945, 0.5300911619470048, -0.3766837362641318, -1.9379566400720856, 0.9498026849284043, -0.025871942730667404, 0.22145393935861032, -0.5290526635777423, -1.1896088711264121, 0.40543708673310647, 0.8369960071633412, 0.04287268060350472, 0.34911019915060465, -0.6488609785968117, 0.07548552652848982, 0.36926711947671886, -2.000660583745119, -0.669195556548231, 0.6316558245282642, -0.07495216736797225, -0.5591084727814172, 0.7323983844085346, -1.1026713013737295, -1.8466623713491148, -0.2963038307421379, 1.3186181639595072, 1.0237652677444617, -0.8453493645017428, -0.8727883780524848, -0.6827869057954249, 2.237932533486498, -0.9988695035215177, 0.6128986180938732, 1.3631696325530038, -0.17751426357441896, -0.10334749975382293], \"xaxis\": \"x15\", \"y\": [-0.38038452061611805, -0.5506827942179204, -0.8486870998656855, 1.414967729808227, -1.0477678648426494, -1.9640495250297236, 0.18769300878539133, 0.42748668299848763, -0.14076395607271944, -0.25518617125015197, 1.5298604167425294, 0.16782456484427766, -0.8625470787519635, -0.3401968140754208, -0.552225588553631, 0.24419364952140488, 0.42949389314581865, -0.46910796858558124, 0.9577621493762632, 0.3625964363144777, -0.06492939512567686, 0.5352444706305645, -0.5107367639438877, 1.02870804413704, 1.2070746167965483, -0.17463474348812388, -0.1684181586791721, -1.5846215751280326, -0.7027362522387298, -1.5248951521984482, 0.30122806724387796, -0.3288071867367561, 0.2459816045668211, 0.2527445372714324, -0.6494724452668903, -0.6112211685880015, -0.7996648647148987, -0.3461906526088926, 1.6035873874528779, 0.2155637451685372, 0.0009101419438257457, -1.2033096641897751, -1.690067833970175, 1.3044403286383324, -0.1698452915634887, 0.26063014373480525, 0.41121672303455964, -0.12118866426554618, -1.5315810381028157, -0.3491070267291162, 0.7392929737509153, -1.4449307368222166, -0.2005745490635271, -0.63060619470764, -1.42764874215277, -0.11017452337573996, -0.491144682883569, 2.496224409446854, 0.11533880646002999, 1.5065605286241495, 1.1073039419149038, 0.6800632915535396, -0.15372971888054193, -0.10963986128568264, -0.5899495606091966, -1.5534302933080275, 0.598218540590992, 0.7143172145662522, -0.648216173341247, -0.1825148127024039, 0.40010536398322355, 1.0966913112497987, 0.5310530437738917, 0.29394220052286385, 1.2792714148415116, -0.16201579382107953, 1.8390836521439362, -0.16281222705571385, 0.5388109257766299, 1.7420315742598118, -0.3134948021944738, -0.9707196738386299, -0.04096253708433591, -0.509974005697877, -1.0031598449112542, -1.1625971458266298, 0.05161225328573585, -1.9777282921899026, -0.987865581607528, -0.38066253999868416, 0.9866618178028409, -1.5748008452477729, 0.7540422366292371, -1.1079266628977027, 0.2822348503877316, -0.31999434564295237, 1.1052761968600926, -1.6001253252177976, 1.0391630083294403, -0.13978143001806478], \"yaxis\": \"y15\"}, {\"histfunc\": \"count\", \"histnorm\": \"\", \"marker\": {\"color\": \"rgba(128, 0, 128, 1.0)\", \"line\": {\"color\": \"#4D5663\", \"width\": 1.3}}, \"name\": \"D\", \"nbinsx\": 10, \"opacity\": 0.8, \"orientation\": \"v\", \"type\": \"histogram\", \"x\": [-0.38038452061611805, -0.5506827942179204, -0.8486870998656855, 1.414967729808227, -1.0477678648426494, -1.9640495250297236, 0.18769300878539133, 0.42748668299848763, -0.14076395607271944, -0.25518617125015197, 1.5298604167425294, 0.16782456484427766, -0.8625470787519635, -0.3401968140754208, -0.552225588553631, 0.24419364952140488, 0.42949389314581865, -0.46910796858558124, 0.9577621493762632, 0.3625964363144777, -0.06492939512567686, 0.5352444706305645, -0.5107367639438877, 1.02870804413704, 1.2070746167965483, -0.17463474348812388, -0.1684181586791721, -1.5846215751280326, -0.7027362522387298, -1.5248951521984482, 0.30122806724387796, -0.3288071867367561, 0.2459816045668211, 0.2527445372714324, -0.6494724452668903, -0.6112211685880015, -0.7996648647148987, -0.3461906526088926, 1.6035873874528779, 0.2155637451685372, 0.0009101419438257457, -1.2033096641897751, -1.690067833970175, 1.3044403286383324, -0.1698452915634887, 0.26063014373480525, 0.41121672303455964, -0.12118866426554618, -1.5315810381028157, -0.3491070267291162, 0.7392929737509153, -1.4449307368222166, -0.2005745490635271, -0.63060619470764, -1.42764874215277, -0.11017452337573996, -0.491144682883569, 2.496224409446854, 0.11533880646002999, 1.5065605286241495, 1.1073039419149038, 0.6800632915535396, -0.15372971888054193, -0.10963986128568264, -0.5899495606091966, -1.5534302933080275, 0.598218540590992, 0.7143172145662522, -0.648216173341247, -0.1825148127024039, 0.40010536398322355, 1.0966913112497987, 0.5310530437738917, 0.29394220052286385, 1.2792714148415116, -0.16201579382107953, 1.8390836521439362, -0.16281222705571385, 0.5388109257766299, 1.7420315742598118, -0.3134948021944738, -0.9707196738386299, -0.04096253708433591, -0.509974005697877, -1.0031598449112542, -1.1625971458266298, 0.05161225328573585, -1.9777282921899026, -0.987865581607528, -0.38066253999868416, 0.9866618178028409, -1.5748008452477729, 0.7540422366292371, -1.1079266628977027, 0.2822348503877316, -0.31999434564295237, 1.1052761968600926, -1.6001253252177976, 1.0391630083294403, -0.13978143001806478], \"xaxis\": \"x16\", \"yaxis\": \"y16\"}],\n",
       "                        {\"bargap\": 0.02, \"legend\": {\"bgcolor\": \"#F5F6F9\", \"font\": {\"color\": \"#4D5663\"}}, \"paper_bgcolor\": \"#F5F6F9\", \"plot_bgcolor\": \"#F5F6F9\", \"showlegend\": false, \"template\": {\"data\": {\"bar\": [{\"error_x\": {\"color\": \"#2a3f5f\"}, \"error_y\": {\"color\": \"#2a3f5f\"}, \"marker\": {\"line\": {\"color\": \"#E5ECF6\", \"width\": 0.5}}, \"type\": \"bar\"}], \"barpolar\": [{\"marker\": {\"line\": {\"color\": \"#E5ECF6\", \"width\": 0.5}}, \"type\": \"barpolar\"}], \"carpet\": [{\"aaxis\": {\"endlinecolor\": \"#2a3f5f\", \"gridcolor\": \"white\", \"linecolor\": \"white\", \"minorgridcolor\": \"white\", \"startlinecolor\": \"#2a3f5f\"}, \"baxis\": {\"endlinecolor\": \"#2a3f5f\", \"gridcolor\": \"white\", \"linecolor\": \"white\", \"minorgridcolor\": \"white\", \"startlinecolor\": \"#2a3f5f\"}, \"type\": \"carpet\"}], \"choropleth\": [{\"colorbar\": {\"outlinewidth\": 0, \"ticks\": \"\"}, \"type\": \"choropleth\"}], \"contour\": [{\"colorbar\": {\"outlinewidth\": 0, \"ticks\": \"\"}, \"colorscale\": [[0.0, \"#0d0887\"], [0.1111111111111111, \"#46039f\"], [0.2222222222222222, \"#7201a8\"], [0.3333333333333333, \"#9c179e\"], [0.4444444444444444, \"#bd3786\"], [0.5555555555555556, \"#d8576b\"], [0.6666666666666666, \"#ed7953\"], [0.7777777777777778, \"#fb9f3a\"], [0.8888888888888888, \"#fdca26\"], [1.0, \"#f0f921\"]], \"type\": \"contour\"}], \"contourcarpet\": [{\"colorbar\": {\"outlinewidth\": 0, \"ticks\": \"\"}, \"type\": \"contourcarpet\"}], \"heatmap\": [{\"colorbar\": {\"outlinewidth\": 0, \"ticks\": \"\"}, \"colorscale\": [[0.0, \"#0d0887\"], [0.1111111111111111, \"#46039f\"], [0.2222222222222222, \"#7201a8\"], [0.3333333333333333, \"#9c179e\"], [0.4444444444444444, \"#bd3786\"], [0.5555555555555556, \"#d8576b\"], [0.6666666666666666, \"#ed7953\"], [0.7777777777777778, \"#fb9f3a\"], [0.8888888888888888, \"#fdca26\"], [1.0, \"#f0f921\"]], \"type\": \"heatmap\"}], \"heatmapgl\": [{\"colorbar\": {\"outlinewidth\": 0, \"ticks\": \"\"}, \"colorscale\": [[0.0, \"#0d0887\"], [0.1111111111111111, \"#46039f\"], [0.2222222222222222, \"#7201a8\"], [0.3333333333333333, \"#9c179e\"], [0.4444444444444444, \"#bd3786\"], [0.5555555555555556, \"#d8576b\"], [0.6666666666666666, \"#ed7953\"], [0.7777777777777778, \"#fb9f3a\"], [0.8888888888888888, \"#fdca26\"], [1.0, \"#f0f921\"]], \"type\": \"heatmapgl\"}], \"histogram\": [{\"marker\": {\"colorbar\": {\"outlinewidth\": 0, \"ticks\": \"\"}}, \"type\": \"histogram\"}], \"histogram2d\": [{\"colorbar\": {\"outlinewidth\": 0, \"ticks\": \"\"}, \"colorscale\": [[0.0, \"#0d0887\"], [0.1111111111111111, \"#46039f\"], [0.2222222222222222, \"#7201a8\"], [0.3333333333333333, \"#9c179e\"], [0.4444444444444444, \"#bd3786\"], [0.5555555555555556, \"#d8576b\"], [0.6666666666666666, \"#ed7953\"], [0.7777777777777778, \"#fb9f3a\"], [0.8888888888888888, \"#fdca26\"], [1.0, \"#f0f921\"]], \"type\": \"histogram2d\"}], \"histogram2dcontour\": [{\"colorbar\": {\"outlinewidth\": 0, \"ticks\": \"\"}, \"colorscale\": [[0.0, \"#0d0887\"], [0.1111111111111111, \"#46039f\"], [0.2222222222222222, \"#7201a8\"], [0.3333333333333333, \"#9c179e\"], [0.4444444444444444, \"#bd3786\"], [0.5555555555555556, \"#d8576b\"], [0.6666666666666666, \"#ed7953\"], [0.7777777777777778, \"#fb9f3a\"], [0.8888888888888888, \"#fdca26\"], [1.0, \"#f0f921\"]], \"type\": \"histogram2dcontour\"}], \"mesh3d\": [{\"colorbar\": {\"outlinewidth\": 0, \"ticks\": \"\"}, \"type\": \"mesh3d\"}], \"parcoords\": [{\"line\": {\"colorbar\": {\"outlinewidth\": 0, \"ticks\": \"\"}}, \"type\": \"parcoords\"}], \"pie\": [{\"automargin\": true, \"type\": \"pie\"}], \"scatter\": [{\"marker\": {\"colorbar\": {\"outlinewidth\": 0, \"ticks\": \"\"}}, \"type\": \"scatter\"}], \"scatter3d\": [{\"line\": {\"colorbar\": {\"outlinewidth\": 0, \"ticks\": \"\"}}, \"marker\": {\"colorbar\": {\"outlinewidth\": 0, \"ticks\": \"\"}}, \"type\": \"scatter3d\"}], \"scattercarpet\": [{\"marker\": {\"colorbar\": {\"outlinewidth\": 0, \"ticks\": \"\"}}, \"type\": \"scattercarpet\"}], \"scattergeo\": [{\"marker\": {\"colorbar\": {\"outlinewidth\": 0, \"ticks\": \"\"}}, \"type\": \"scattergeo\"}], \"scattergl\": [{\"marker\": {\"colorbar\": {\"outlinewidth\": 0, \"ticks\": \"\"}}, \"type\": \"scattergl\"}], \"scattermapbox\": [{\"marker\": {\"colorbar\": {\"outlinewidth\": 0, \"ticks\": \"\"}}, \"type\": \"scattermapbox\"}], \"scatterpolar\": [{\"marker\": {\"colorbar\": {\"outlinewidth\": 0, \"ticks\": \"\"}}, \"type\": \"scatterpolar\"}], \"scatterpolargl\": [{\"marker\": {\"colorbar\": {\"outlinewidth\": 0, \"ticks\": \"\"}}, \"type\": \"scatterpolargl\"}], \"scatterternary\": [{\"marker\": {\"colorbar\": {\"outlinewidth\": 0, \"ticks\": \"\"}}, \"type\": \"scatterternary\"}], \"surface\": [{\"colorbar\": {\"outlinewidth\": 0, \"ticks\": \"\"}, \"colorscale\": [[0.0, \"#0d0887\"], [0.1111111111111111, \"#46039f\"], [0.2222222222222222, \"#7201a8\"], [0.3333333333333333, \"#9c179e\"], [0.4444444444444444, \"#bd3786\"], [0.5555555555555556, \"#d8576b\"], [0.6666666666666666, \"#ed7953\"], [0.7777777777777778, \"#fb9f3a\"], [0.8888888888888888, \"#fdca26\"], [1.0, \"#f0f921\"]], \"type\": \"surface\"}], \"table\": [{\"cells\": {\"fill\": {\"color\": \"#EBF0F8\"}, \"line\": {\"color\": \"white\"}}, \"header\": {\"fill\": {\"color\": \"#C8D4E3\"}, \"line\": {\"color\": \"white\"}}, \"type\": \"table\"}]}, \"layout\": {\"annotationdefaults\": {\"arrowcolor\": \"#2a3f5f\", \"arrowhead\": 0, \"arrowwidth\": 1}, \"coloraxis\": {\"colorbar\": {\"outlinewidth\": 0, \"ticks\": \"\"}}, \"colorscale\": {\"diverging\": [[0, \"#8e0152\"], [0.1, \"#c51b7d\"], [0.2, \"#de77ae\"], [0.3, \"#f1b6da\"], [0.4, \"#fde0ef\"], [0.5, \"#f7f7f7\"], [0.6, \"#e6f5d0\"], [0.7, \"#b8e186\"], [0.8, \"#7fbc41\"], [0.9, \"#4d9221\"], [1, \"#276419\"]], \"sequential\": [[0.0, \"#0d0887\"], [0.1111111111111111, \"#46039f\"], [0.2222222222222222, \"#7201a8\"], [0.3333333333333333, \"#9c179e\"], [0.4444444444444444, \"#bd3786\"], [0.5555555555555556, \"#d8576b\"], [0.6666666666666666, \"#ed7953\"], [0.7777777777777778, \"#fb9f3a\"], [0.8888888888888888, \"#fdca26\"], [1.0, \"#f0f921\"]], \"sequentialminus\": [[0.0, \"#0d0887\"], [0.1111111111111111, \"#46039f\"], [0.2222222222222222, \"#7201a8\"], [0.3333333333333333, \"#9c179e\"], [0.4444444444444444, \"#bd3786\"], [0.5555555555555556, \"#d8576b\"], [0.6666666666666666, \"#ed7953\"], [0.7777777777777778, \"#fb9f3a\"], [0.8888888888888888, \"#fdca26\"], [1.0, \"#f0f921\"]]}, \"colorway\": [\"#636efa\", \"#EF553B\", \"#00cc96\", \"#ab63fa\", \"#FFA15A\", \"#19d3f3\", \"#FF6692\", \"#B6E880\", \"#FF97FF\", \"#FECB52\"], \"font\": {\"color\": \"#2a3f5f\"}, \"geo\": {\"bgcolor\": \"white\", \"lakecolor\": \"white\", \"landcolor\": \"#E5ECF6\", \"showlakes\": true, \"showland\": true, \"subunitcolor\": \"white\"}, \"hoverlabel\": {\"align\": \"left\"}, \"hovermode\": \"closest\", \"mapbox\": {\"style\": \"light\"}, \"paper_bgcolor\": \"white\", \"plot_bgcolor\": \"#E5ECF6\", \"polar\": {\"angularaxis\": {\"gridcolor\": \"white\", \"linecolor\": \"white\", \"ticks\": \"\"}, \"bgcolor\": \"#E5ECF6\", \"radialaxis\": {\"gridcolor\": \"white\", \"linecolor\": \"white\", \"ticks\": \"\"}}, \"scene\": {\"xaxis\": {\"backgroundcolor\": \"#E5ECF6\", \"gridcolor\": \"white\", \"gridwidth\": 2, \"linecolor\": \"white\", \"showbackground\": true, \"ticks\": \"\", \"zerolinecolor\": \"white\"}, \"yaxis\": {\"backgroundcolor\": \"#E5ECF6\", \"gridcolor\": \"white\", \"gridwidth\": 2, \"linecolor\": \"white\", \"showbackground\": true, \"ticks\": \"\", \"zerolinecolor\": \"white\"}, \"zaxis\": {\"backgroundcolor\": \"#E5ECF6\", \"gridcolor\": \"white\", \"gridwidth\": 2, \"linecolor\": \"white\", \"showbackground\": true, \"ticks\": \"\", \"zerolinecolor\": \"white\"}}, \"shapedefaults\": {\"line\": {\"color\": \"#2a3f5f\"}}, \"ternary\": {\"aaxis\": {\"gridcolor\": \"white\", \"linecolor\": \"white\", \"ticks\": \"\"}, \"baxis\": {\"gridcolor\": \"white\", \"linecolor\": \"white\", \"ticks\": \"\"}, \"bgcolor\": \"#E5ECF6\", \"caxis\": {\"gridcolor\": \"white\", \"linecolor\": \"white\", \"ticks\": \"\"}}, \"title\": {\"x\": 0.05}, \"xaxis\": {\"automargin\": true, \"gridcolor\": \"white\", \"linecolor\": \"white\", \"ticks\": \"\", \"title\": {\"standoff\": 15}, \"zerolinecolor\": \"white\", \"zerolinewidth\": 2}, \"yaxis\": {\"automargin\": true, \"gridcolor\": \"white\", \"linecolor\": \"white\", \"ticks\": \"\", \"title\": {\"standoff\": 15}, \"zerolinecolor\": \"white\", \"zerolinewidth\": 2}}}, \"title\": {\"font\": {\"color\": \"#4D5663\"}}, \"xaxis\": {\"anchor\": \"y\", \"domain\": [0.0, 0.2125], \"gridcolor\": \"#E1E5ED\", \"showgrid\": false, \"tickfont\": {\"color\": \"#4D5663\"}, \"title\": {\"font\": {\"color\": \"#4D5663\"}, \"text\": \"\"}, \"zerolinecolor\": \"#E1E5ED\"}, \"xaxis10\": {\"anchor\": \"y10\", \"domain\": [0.2625, 0.475], \"gridcolor\": \"#E1E5ED\", \"showgrid\": false, \"tickfont\": {\"color\": \"#4D5663\"}, \"title\": {\"font\": {\"color\": \"#4D5663\"}, \"text\": \"\"}, \"zerolinecolor\": \"#E1E5ED\"}, \"xaxis11\": {\"anchor\": \"y11\", \"domain\": [0.525, 0.7375], \"gridcolor\": \"#E1E5ED\", \"showgrid\": false, \"tickfont\": {\"color\": \"#4D5663\"}, \"title\": {\"font\": {\"color\": \"#4D5663\"}, \"text\": \"\"}, \"zerolinecolor\": \"#E1E5ED\"}, \"xaxis12\": {\"anchor\": \"y12\", \"domain\": [0.7875, 1.0], \"gridcolor\": \"#E1E5ED\", \"showgrid\": false, \"tickfont\": {\"color\": \"#4D5663\"}, \"title\": {\"font\": {\"color\": \"#4D5663\"}, \"text\": \"\"}, \"zerolinecolor\": \"#E1E5ED\"}, \"xaxis13\": {\"anchor\": \"y13\", \"domain\": [0.0, 0.2125], \"gridcolor\": \"#E1E5ED\", \"showgrid\": false, \"tickfont\": {\"color\": \"#4D5663\"}, \"title\": {\"font\": {\"color\": \"#4D5663\"}, \"text\": \"\"}, \"zerolinecolor\": \"#E1E5ED\"}, \"xaxis14\": {\"anchor\": \"y14\", \"domain\": [0.2625, 0.475], \"gridcolor\": \"#E1E5ED\", \"showgrid\": false, \"tickfont\": {\"color\": \"#4D5663\"}, \"title\": {\"font\": {\"color\": \"#4D5663\"}, \"text\": \"\"}, \"zerolinecolor\": \"#E1E5ED\"}, \"xaxis15\": {\"anchor\": \"y15\", \"domain\": [0.525, 0.7375], \"gridcolor\": \"#E1E5ED\", \"showgrid\": false, \"tickfont\": {\"color\": \"#4D5663\"}, \"title\": {\"font\": {\"color\": \"#4D5663\"}, \"text\": \"\"}, \"zerolinecolor\": \"#E1E5ED\"}, \"xaxis16\": {\"anchor\": \"y16\", \"domain\": [0.7875, 1.0], \"gridcolor\": \"#E1E5ED\", \"showgrid\": false, \"tickfont\": {\"color\": \"#4D5663\"}, \"title\": {\"font\": {\"color\": \"#4D5663\"}, \"text\": \"\"}, \"zerolinecolor\": \"#E1E5ED\"}, \"xaxis2\": {\"anchor\": \"y2\", \"domain\": [0.2625, 0.475], \"gridcolor\": \"#E1E5ED\", \"showgrid\": false, \"tickfont\": {\"color\": \"#4D5663\"}, \"title\": {\"font\": {\"color\": \"#4D5663\"}, \"text\": \"\"}, \"zerolinecolor\": \"#E1E5ED\"}, \"xaxis3\": {\"anchor\": \"y3\", \"domain\": [0.525, 0.7375], \"gridcolor\": \"#E1E5ED\", \"showgrid\": false, \"tickfont\": {\"color\": \"#4D5663\"}, \"title\": {\"font\": {\"color\": \"#4D5663\"}, \"text\": \"\"}, \"zerolinecolor\": \"#E1E5ED\"}, \"xaxis4\": {\"anchor\": \"y4\", \"domain\": [0.7875, 1.0], \"gridcolor\": \"#E1E5ED\", \"showgrid\": false, \"tickfont\": {\"color\": \"#4D5663\"}, \"title\": {\"font\": {\"color\": \"#4D5663\"}, \"text\": \"\"}, \"zerolinecolor\": \"#E1E5ED\"}, \"xaxis5\": {\"anchor\": \"y5\", \"domain\": [0.0, 0.2125], \"gridcolor\": \"#E1E5ED\", \"showgrid\": false, \"tickfont\": {\"color\": \"#4D5663\"}, \"title\": {\"font\": {\"color\": \"#4D5663\"}, \"text\": \"\"}, \"zerolinecolor\": \"#E1E5ED\"}, \"xaxis6\": {\"anchor\": \"y6\", \"domain\": [0.2625, 0.475], \"gridcolor\": \"#E1E5ED\", \"showgrid\": false, \"tickfont\": {\"color\": \"#4D5663\"}, \"title\": {\"font\": {\"color\": \"#4D5663\"}, \"text\": \"\"}, \"zerolinecolor\": \"#E1E5ED\"}, \"xaxis7\": {\"anchor\": \"y7\", \"domain\": [0.525, 0.7375], \"gridcolor\": \"#E1E5ED\", \"showgrid\": false, \"tickfont\": {\"color\": \"#4D5663\"}, \"title\": {\"font\": {\"color\": \"#4D5663\"}, \"text\": \"\"}, \"zerolinecolor\": \"#E1E5ED\"}, \"xaxis8\": {\"anchor\": \"y8\", \"domain\": [0.7875, 1.0], \"gridcolor\": \"#E1E5ED\", \"showgrid\": false, \"tickfont\": {\"color\": \"#4D5663\"}, \"title\": {\"font\": {\"color\": \"#4D5663\"}, \"text\": \"\"}, \"zerolinecolor\": \"#E1E5ED\"}, \"xaxis9\": {\"anchor\": \"y9\", \"domain\": [0.0, 0.2125], \"gridcolor\": \"#E1E5ED\", \"showgrid\": false, \"tickfont\": {\"color\": \"#4D5663\"}, \"title\": {\"font\": {\"color\": \"#4D5663\"}, \"text\": \"\"}, \"zerolinecolor\": \"#E1E5ED\"}, \"yaxis\": {\"anchor\": \"x\", \"domain\": [0.8025, 1.0], \"gridcolor\": \"#E1E5ED\", \"showgrid\": false, \"tickfont\": {\"color\": \"#4D5663\"}, \"title\": {\"font\": {\"color\": \"#4D5663\"}, \"text\": \"\"}, \"zerolinecolor\": \"#E1E5ED\"}, \"yaxis10\": {\"anchor\": \"x10\", \"domain\": [0.2675, 0.465], \"gridcolor\": \"#E1E5ED\", \"showgrid\": false, \"tickfont\": {\"color\": \"#4D5663\"}, \"title\": {\"font\": {\"color\": \"#4D5663\"}, \"text\": \"\"}, \"zerolinecolor\": \"#E1E5ED\"}, \"yaxis11\": {\"anchor\": \"x11\", \"domain\": [0.2675, 0.465], \"gridcolor\": \"#E1E5ED\", \"showgrid\": false, \"tickfont\": {\"color\": \"#4D5663\"}, \"title\": {\"font\": {\"color\": \"#4D5663\"}, \"text\": \"\"}, \"zerolinecolor\": \"#E1E5ED\"}, \"yaxis12\": {\"anchor\": \"x12\", \"domain\": [0.2675, 0.465], \"gridcolor\": \"#E1E5ED\", \"showgrid\": false, \"tickfont\": {\"color\": \"#4D5663\"}, \"title\": {\"font\": {\"color\": \"#4D5663\"}, \"text\": \"\"}, \"zerolinecolor\": \"#E1E5ED\"}, \"yaxis13\": {\"anchor\": \"x13\", \"domain\": [0.0, 0.1975], \"gridcolor\": \"#E1E5ED\", \"showgrid\": false, \"tickfont\": {\"color\": \"#4D5663\"}, \"title\": {\"font\": {\"color\": \"#4D5663\"}, \"text\": \"\"}, \"zerolinecolor\": \"#E1E5ED\"}, \"yaxis14\": {\"anchor\": \"x14\", \"domain\": [0.0, 0.1975], \"gridcolor\": \"#E1E5ED\", \"showgrid\": false, \"tickfont\": {\"color\": \"#4D5663\"}, \"title\": {\"font\": {\"color\": \"#4D5663\"}, \"text\": \"\"}, \"zerolinecolor\": \"#E1E5ED\"}, \"yaxis15\": {\"anchor\": \"x15\", \"domain\": [0.0, 0.1975], \"gridcolor\": \"#E1E5ED\", \"showgrid\": false, \"tickfont\": {\"color\": \"#4D5663\"}, \"title\": {\"font\": {\"color\": \"#4D5663\"}, \"text\": \"\"}, \"zerolinecolor\": \"#E1E5ED\"}, \"yaxis16\": {\"anchor\": \"x16\", \"domain\": [0.0, 0.1975], \"gridcolor\": \"#E1E5ED\", \"showgrid\": false, \"tickfont\": {\"color\": \"#4D5663\"}, \"title\": {\"font\": {\"color\": \"#4D5663\"}, \"text\": \"\"}, \"zerolinecolor\": \"#E1E5ED\"}, \"yaxis2\": {\"anchor\": \"x2\", \"domain\": [0.8025, 1.0], \"gridcolor\": \"#E1E5ED\", \"showgrid\": false, \"tickfont\": {\"color\": \"#4D5663\"}, \"title\": {\"font\": {\"color\": \"#4D5663\"}, \"text\": \"\"}, \"zerolinecolor\": \"#E1E5ED\"}, \"yaxis3\": {\"anchor\": \"x3\", \"domain\": [0.8025, 1.0], \"gridcolor\": \"#E1E5ED\", \"showgrid\": false, \"tickfont\": {\"color\": \"#4D5663\"}, \"title\": {\"font\": {\"color\": \"#4D5663\"}, \"text\": \"\"}, \"zerolinecolor\": \"#E1E5ED\"}, \"yaxis4\": {\"anchor\": \"x4\", \"domain\": [0.8025, 1.0], \"gridcolor\": \"#E1E5ED\", \"showgrid\": false, \"tickfont\": {\"color\": \"#4D5663\"}, \"title\": {\"font\": {\"color\": \"#4D5663\"}, \"text\": \"\"}, \"zerolinecolor\": \"#E1E5ED\"}, \"yaxis5\": {\"anchor\": \"x5\", \"domain\": [0.535, 0.7325], \"gridcolor\": \"#E1E5ED\", \"showgrid\": false, \"tickfont\": {\"color\": \"#4D5663\"}, \"title\": {\"font\": {\"color\": \"#4D5663\"}, \"text\": \"\"}, \"zerolinecolor\": \"#E1E5ED\"}, \"yaxis6\": {\"anchor\": \"x6\", \"domain\": [0.535, 0.7325], \"gridcolor\": \"#E1E5ED\", \"showgrid\": false, \"tickfont\": {\"color\": \"#4D5663\"}, \"title\": {\"font\": {\"color\": \"#4D5663\"}, \"text\": \"\"}, \"zerolinecolor\": \"#E1E5ED\"}, \"yaxis7\": {\"anchor\": \"x7\", \"domain\": [0.535, 0.7325], \"gridcolor\": \"#E1E5ED\", \"showgrid\": false, \"tickfont\": {\"color\": \"#4D5663\"}, \"title\": {\"font\": {\"color\": \"#4D5663\"}, \"text\": \"\"}, \"zerolinecolor\": \"#E1E5ED\"}, \"yaxis8\": {\"anchor\": \"x8\", \"domain\": [0.535, 0.7325], \"gridcolor\": \"#E1E5ED\", \"showgrid\": false, \"tickfont\": {\"color\": \"#4D5663\"}, \"title\": {\"font\": {\"color\": \"#4D5663\"}, \"text\": \"\"}, \"zerolinecolor\": \"#E1E5ED\"}, \"yaxis9\": {\"anchor\": \"x9\", \"domain\": [0.2675, 0.465], \"gridcolor\": \"#E1E5ED\", \"showgrid\": false, \"tickfont\": {\"color\": \"#4D5663\"}, \"title\": {\"font\": {\"color\": \"#4D5663\"}, \"text\": \"\"}, \"zerolinecolor\": \"#E1E5ED\"}},\n",
       "                        {\"showLink\": true, \"linkText\": \"Export to plot.ly\", \"plotlyServerURL\": \"https://plot.ly\", \"responsive\": true}\n",
       "                    ).then(function(){\n",
       "                            \n",
       "var gd = document.getElementById('3ef2e1fc-3a11-4f56-9b42-7ede775d4f39');\n",
       "var x = new MutationObserver(function (mutations, observer) {{\n",
       "        var display = window.getComputedStyle(gd).display;\n",
       "        if (!display || display === 'none') {{\n",
       "            console.log([gd, 'removed!']);\n",
       "            Plotly.purge(gd);\n",
       "            observer.disconnect();\n",
       "        }}\n",
       "}});\n",
       "\n",
       "// Listen for the removal of the full notebook cells\n",
       "var notebookContainer = gd.closest('#notebook-container');\n",
       "if (notebookContainer) {{\n",
       "    x.observe(notebookContainer, {childList: true});\n",
       "}}\n",
       "\n",
       "// Listen for the clearing of the current output cell\n",
       "var outputEl = gd.closest('.output');\n",
       "if (outputEl) {{\n",
       "    x.observe(outputEl, {childList: true});\n",
       "}}\n",
       "\n",
       "                        })\n",
       "                };\n",
       "                });\n",
       "            </script>\n",
       "        </div>"
      ]
     },
     "metadata": {},
     "output_type": "display_data"
    }
   ],
   "source": [
    "df.scatter_matrix()"
   ]
  }
 ],
 "metadata": {
  "kernelspec": {
   "display_name": "Python 3",
   "language": "python",
   "name": "python3"
  },
  "language_info": {
   "codemirror_mode": {
    "name": "ipython",
    "version": 3
   },
   "file_extension": ".py",
   "mimetype": "text/x-python",
   "name": "python",
   "nbconvert_exporter": "python",
   "pygments_lexer": "ipython3",
   "version": "3.7.7"
  }
 },
 "nbformat": 4,
 "nbformat_minor": 1
}
