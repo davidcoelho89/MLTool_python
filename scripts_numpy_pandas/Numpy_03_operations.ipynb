{
 "cells": [
  {
   "cell_type": "markdown",
   "metadata": {},
   "source": [
    "# Numpy Array Operations\n",
    "\n",
    "* Topicos:\n",
    "    * Operações Aritméticas\n",
    "    * Operações Ponto a ponto\n",
    "    * Metodos da Biblioteca (funções Universais)\n",
    "    * Produto Interno e Externo\n",
    "    * Matriz Inversa e Transposta"
   ]
  },
  {
   "cell_type": "code",
   "execution_count": 20,
   "metadata": {},
   "outputs": [
    {
     "name": "stdout",
     "output_type": "stream",
     "text": [
      "[[ 3  4  5]\n",
      " [ 6  7  8]\n",
      " [ 9 10 11]]\n",
      "[[-1  0  1]\n",
      " [ 2  3  4]\n",
      " [ 5  6  7]]\n",
      "[[ 2  4  6]\n",
      " [ 8 10 12]\n",
      " [14 16 18]]\n",
      "[[ 0.5  1.   1.5]\n",
      " [ 2.   2.5  3. ]\n",
      " [ 3.5  4.   4.5]]\n",
      "[[ 1  4  9]\n",
      " [16 25 36]\n",
      " [49 64 81]]\n"
     ]
    }
   ],
   "source": [
    "# Importar Library\n",
    "\n",
    "import numpy as np\n",
    "\n",
    "# Criar array\n",
    "\n",
    "array1 = np.arange(1,10) # Array 1d de 9 elementos [1 - 9]\n",
    "array2 = array2 = array1.reshape((3,3))\n",
    "\n",
    "# Operações Aritmeticas (por escalar)\n",
    "\n",
    "array3 = array2 + 2\n",
    "print(array3)\n",
    "\n",
    "array3 = array2 - 2\n",
    "print(array3)\n",
    "\n",
    "array3 = array2 * 2\n",
    "print(array3)\n",
    "\n",
    "array3 = array2 / 2\n",
    "print(array3)\n",
    "\n",
    "array3 = array2 ** 2\n",
    "print(array3)"
   ]
  },
  {
   "cell_type": "code",
   "execution_count": 21,
   "metadata": {},
   "outputs": [
    {
     "name": "stdout",
     "output_type": "stream",
     "text": [
      "[[ 2  4  6]\n",
      " [ 8 10 12]\n",
      " [14 16 18]]\n",
      "[[0 0 0]\n",
      " [0 0 0]\n",
      " [0 0 0]]\n",
      "[[ 1  4  9]\n",
      " [16 25 36]\n",
      " [49 64 81]]\n",
      "[[ 1.  1.  1.]\n",
      " [ 1.  1.  1.]\n",
      " [ 1.  1.  1.]]\n",
      "[[  1.   4.   9.]\n",
      " [ 16.  25.  36.]\n",
      " [ 49.  64.  81.]]\n"
     ]
    }
   ],
   "source": [
    "# Operações Aritmeticas (ponto a ponto)\n",
    "\n",
    "array3 = array2 + array2\n",
    "print(array3)\n",
    "\n",
    "array3 = array2 - array2\n",
    "print(array3)\n",
    "\n",
    "array3 = array2 * array2\n",
    "print(array3)\n",
    "\n",
    "array3 = array2 / array2\n",
    "print(array3)\n",
    "\n",
    "array4 = 2*np.ones((3,3))\n",
    "\n",
    "array3 = array2 ** array4\n",
    "print(array3)\n",
    "\n",
    "# Obs1: Operações \"inválidas\" (0 / 0), geram o valor \"nan\"\n",
    "# Obs2: Divisão por 0, gera valor \"inf\""
   ]
  },
  {
   "cell_type": "code",
   "execution_count": 22,
   "metadata": {},
   "outputs": [
    {
     "name": "stdout",
     "output_type": "stream",
     "text": [
      "[1 2 3 4 5]\n",
      "5 5\n",
      "4\n",
      "1 1\n",
      "0\n",
      "[ 1.          1.41421356  1.73205081  2.          2.23606798]\n",
      "[ 1  4  9 16 25]\n",
      "[   2.71828183    7.3890561    20.08553692   54.59815003  148.4131591 ]\n",
      "[ 0.          0.69314718  1.09861229  1.38629436  1.60943791]\n",
      "3.0\n",
      "1.41421356237\n",
      "[ 0.84147098  0.90929743  0.14112001 -0.7568025  -0.95892427]\n"
     ]
    }
   ],
   "source": [
    "# Metodos Nativos da Biblioteca (Funções Universais)\n",
    "\n",
    "# Link: https://docs.scipy.org/doc/numpy/reference/ufuncs.html\n",
    "\n",
    "array1 = np.arange(1,6)\n",
    "print(array1)\n",
    "\n",
    "print(array1.max(),np.max(array1))\n",
    "print(array1.argmax())\n",
    "\n",
    "print(array1.min(),np.min(array1))\n",
    "print(array1.argmin())\n",
    "\n",
    "print(np.sqrt(array1))\n",
    "print(np.square(array1))\n",
    "\n",
    "print(np.exp(array1))\n",
    "print(np.log(array1))\n",
    "\n",
    "print(np.mean(array1))\n",
    "print(np.std(array1))\n",
    "\n",
    "print(np.sin(array1))\n"
   ]
  },
  {
   "cell_type": "code",
   "execution_count": 23,
   "metadata": {},
   "outputs": [
    {
     "name": "stdout",
     "output_type": "stream",
     "text": [
      "[5 6 7 8 9]\n",
      "[[ 10.  10.  10.  10.  10.]\n",
      " [ 10.  10.  10.  10.  10.]\n",
      " [ 10.  10.  10.  10.  10.]\n",
      " [ 10.  10.  10.  10.  10.]\n",
      " [ 10.  10.  10.  10.  10.]]\n",
      "[[5 5 5]\n",
      " [6 6 6]\n",
      " [7 7 7]\n",
      " [8 8 8]\n",
      " [9 9 9]]\n",
      "[[ 0.  4.  3.  2.  1.]\n",
      " [ 0.  4.  3.  2.  1.]\n",
      " [ 0.  4.  3.  2.  1.]\n",
      " [ 0.  4.  3.  2.  1.]\n",
      " [ 0.  4.  3.  2.  1.]]\n",
      "[5 6 7 7 7]\n",
      "7.0\n",
      "[ 7.  7.  7.]\n",
      "[ 5.  6.  7.  8.  9.]\n",
      "[ 5 11 18 26 35]\n",
      "[[25 30 35 40 45]\n",
      " [30 36 42 48 54]\n",
      " [35 42 49 56 63]\n",
      " [40 48 56 64 72]\n",
      " [45 54 63 72 81]]\n"
     ]
    }
   ],
   "source": [
    "# Metodos Nativos da Biblioteca (Funções Universais) \n",
    "\n",
    "x = np.arange(5,10)\n",
    "print(x)\n",
    "\n",
    "y = np.ones([5,5])*10\n",
    "print(y)\n",
    "\n",
    "z = np.repeat(x,3).reshape(5,3)\n",
    "print(z)\n",
    "\n",
    "# Funcoes\n",
    "print(np.mod(y,x))            # Resto da divisao\n",
    "print(np.minimum(x,7))        # Compara valor a valor com o 7\n",
    "print(np.median(z))           # Mediana de todos os valores\n",
    "print(np.median(z,axis=0))    # Mediana por coluna (das linhas)\n",
    "print(np.median(z,axis=1))    # Mediana por linha (das colunas)\n",
    "print(np.add.accumulate(x))   # soma acumulada\n",
    "print(np.multiply.outer(x,x)) # Multiplicação matricial\n"
   ]
  },
  {
   "cell_type": "code",
   "execution_count": 38,
   "metadata": {},
   "outputs": [
    {
     "name": "stdout",
     "output_type": "stream",
     "text": [
      "32\n",
      "[[1]\n",
      " [2]\n",
      " [3]]\n",
      "[[1]\n",
      " [2]\n",
      " [3]]\n",
      "[[2 3]\n",
      " [4 5]]\n",
      "[[-2.5  1.5]\n",
      " [ 2.  -1. ]]\n",
      "[[ 1.  0.]\n",
      " [ 0.  1.]]\n"
     ]
    }
   ],
   "source": [
    "# Inverse and Transpose\n",
    "\n",
    "import numpy as np\n",
    "from numpy.linalg import inv\n",
    "from numpy.linalg import pinv\n",
    "\n",
    "# Produto escalar:  np.inner() (vectors) / np.dot() (matrices)\n",
    "# Produto vetorial: np.outer()\n",
    "\n",
    "# Inner product of 1D arrays\n",
    "\n",
    "B = np.array([1,2,3])\n",
    "C = np.array([4,5,6])\n",
    "A = np.inner(B,C)\n",
    "\n",
    "print(A)\n",
    "\n",
    "# Transpose of 1D vectors\n",
    "\n",
    "A = np.array([[1,2,3]]) # create as a 2D object\n",
    "B = A.T\n",
    "C = A.transpose()\n",
    "\n",
    "print(B)\n",
    "print(C)\n",
    "\n",
    "# Matrix Class\n",
    "\n",
    "m = np.matrix([[2,3],[4,5]]) # create matrix object\n",
    "print(m)\n",
    "\n",
    "m_inv = m.I                  # calculate matrix inverse\n",
    "print(m_inv)\n",
    "\n",
    "print(np.matmul(m,m_inv))    # Identity Matrix\n",
    "\n",
    "# Transpose and inverse Using Arrays (A = B' * inv(C))\n",
    "B = np.random.randn(2,2)\n",
    "C = np.random.randn(2,2)\n",
    "A = np.dot(B.T, inv(C))\n",
    "A = np.matmul(B.T, inv(C))\n",
    "\n",
    "# Transpose and inverse using Matrices (A = B' * inv(C))\n",
    "B = np.mat(B) # cast B from array object to matrix object\n",
    "C = np.mat(C) # cast C from array object to matrix object\n",
    "A = B.T*C.I"
   ]
  },
  {
   "cell_type": "code",
   "execution_count": null,
   "metadata": {
    "collapsed": true
   },
   "outputs": [],
   "source": []
  }
 ],
 "metadata": {
  "kernelspec": {
   "display_name": "Python 3",
   "language": "python",
   "name": "python3"
  },
  "language_info": {
   "codemirror_mode": {
    "name": "ipython",
    "version": 3
   },
   "file_extension": ".py",
   "mimetype": "text/x-python",
   "name": "python",
   "nbconvert_exporter": "python",
   "pygments_lexer": "ipython3",
   "version": "3.7.7"
  }
 },
 "nbformat": 4,
 "nbformat_minor": 2
}
