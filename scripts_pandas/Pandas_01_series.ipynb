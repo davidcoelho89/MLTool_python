{
 "cells": [
  {
   "cell_type": "markdown",
   "metadata": {},
   "source": [
    "# Pandas - Series\n",
    "\n",
    "Elemento mais básico (data + indices)\n",
    "\n",
    "Muito semelhante a um dicionário\n",
    "\n",
    "Pode ser criado a partir de outros objetos\n",
    "\n",
    "Tem rótulos de eixos: pode ser indexado por um rótulo, em vez de apenas uma localização numérica.\n",
    "\n",
    "Também pode conter qualquer objeto Python arbitrário"
   ]
  },
  {
   "cell_type": "code",
   "execution_count": 2,
   "metadata": {},
   "outputs": [
    {
     "data": {
      "text/plain": [
       "Series([], dtype: float64)"
      ]
     },
     "execution_count": 2,
     "metadata": {},
     "output_type": "execute_result"
    }
   ],
   "source": [
    "# Import Library\n",
    "\n",
    "import numpy as np\n",
    "import pandas as pd\n",
    "#from pandas import Series, DataFrame\n",
    "\n",
    "# Criando uma Serie Vazia\n",
    "\n",
    "# data: Objetos que vão ser passados\n",
    "# index: forma que vai acessar esses objetos\n",
    "\n",
    "pd.Series(data=None, index=None)"
   ]
  },
  {
   "cell_type": "code",
   "execution_count": 3,
   "metadata": {},
   "outputs": [
    {
     "name": "stdout",
     "output_type": "stream",
     "text": [
      "0    10\n",
      "1    20\n",
      "2    30\n",
      "dtype: int64\n",
      "\n",
      "int64\n",
      "[10 20 30]\n",
      "RangeIndex(start=0, stop=3, step=1)\n",
      "\n",
      "a    10\n",
      "b    20\n",
      "c    30\n",
      "dtype: int64\n",
      "\n",
      "a    10\n",
      "b    20\n",
      "c    30\n",
      "dtype: int32\n",
      "\n",
      "a    10\n",
      "b    20\n",
      "c    30\n",
      "dtype: int64\n",
      "\n",
      "Bsb     100.0\n",
      "Am     4500.0\n",
      "Sp     3500.0\n",
      "Rj     4000.0\n",
      "Ce        NaN\n",
      "dtype: float64\n",
      "\n",
      "0      <built-in function sum>\n",
      "1    <built-in function print>\n",
      "2      <built-in function len>\n",
      "dtype: object\n"
     ]
    }
   ],
   "source": [
    "# Criando Series - A partir de outros objetos\n",
    "\n",
    "labels = ['a','b','c']\n",
    "list1 = [10,20,30]\n",
    "arr1 = np.array([10,20,30])\n",
    "dic1 = {'a':10,'b':20,'c':30}\n",
    "\n",
    "# Criando Series - indices numericos (default)\n",
    "\n",
    "series1 = pd.Series(data = list1) # same as series1 = pd.Series(list1)\n",
    "print(series1)\n",
    "print()\n",
    "\n",
    "# Atributos de uma serie\n",
    "\n",
    "print(series1.dtype)\n",
    "print(series1.values)\n",
    "print(series1.index)\n",
    "print()\n",
    "\n",
    "# Criando Series - a partir de lista e labels\n",
    "\n",
    "series2 = pd.Series(list1,labels) # same as series2 = pd.Series(data = list1, index = labels)\n",
    "print(series2)\n",
    "print()\n",
    "\n",
    "# Criando Series - a partir de array e labels\n",
    "\n",
    "series3 = pd.Series(arr1,labels)\n",
    "print(series3)\n",
    "print()\n",
    "\n",
    "# Criando Series - a partir de um dicionario 1\n",
    "\n",
    "series4 = pd.Series(dic1)\n",
    "print(series4)\n",
    "print()\n",
    "\n",
    "# Criando Series - a partir de um dicionario 2\n",
    "\n",
    "dic2 = {'Sp':3500,'Rj':4000,'Am':4500,'Bsb':100}\n",
    "order = ['Bsb','Am','Sp','Rj','Ce']\n",
    "series5 = pd.Series(dic2,index = order)\n",
    "print(series5)\n",
    "print()\n",
    "\n",
    "# Criando Series - a partir de uma lista de funções (objetos)\n",
    "\n",
    "series6 = pd.Series([sum,print,len])\n",
    "print(series6)"
   ]
  },
  {
   "cell_type": "code",
   "execution_count": 4,
   "metadata": {},
   "outputs": [
    {
     "name": "stdout",
     "output_type": "stream",
     "text": [
      "a    10\n",
      "b    20\n",
      "c    30\n",
      "d    40\n",
      "e    50\n",
      "dtype: int64\n",
      "\n",
      "20\n",
      "\n",
      "a    10\n",
      "c    30\n",
      "dtype: int64\n",
      "\n",
      "a    10\n",
      "b    20\n",
      "dtype: int64\n",
      "\n",
      "a     20\n",
      "b     40\n",
      "c     60\n",
      "d     80\n",
      "e    100\n",
      "dtype: int64\n",
      "\n",
      "True\n",
      "False\n"
     ]
    }
   ],
   "source": [
    "# Acessando/Filtrando Valores/Indices\n",
    "\n",
    "series7 = pd.Series([10,20,30,40,50],['a','b','c','d','e'])\n",
    "print(series7)\n",
    "print()\n",
    "\n",
    "print(series7['b'])\n",
    "print()\n",
    "\n",
    "print(series7[['a','c']])\n",
    "print()\n",
    "\n",
    "print(series7[series7<30])\n",
    "print()\n",
    "\n",
    "print(series7*2)\n",
    "print()\n",
    "\n",
    "print('c' in series7)\n",
    "print('x' in series7)"
   ]
  },
  {
   "cell_type": "code",
   "execution_count": 5,
   "metadata": {},
   "outputs": [
    {
     "name": "stdout",
     "output_type": "stream",
     "text": [
      "0     2.718282\n",
      "1     7.389056\n",
      "2    20.085537\n",
      "dtype: float64\n",
      "\n",
      "Alemanha    4.0\n",
      "EUA         2.0\n",
      "Itália      NaN\n",
      "Japão       8.0\n",
      "URSS        NaN\n",
      "dtype: float64\n",
      "\n"
     ]
    }
   ],
   "source": [
    "# Operações sobre series, utilizando numpy\n",
    "\n",
    "series1 = pd.Series([1,2,3])\n",
    "print(np.exp(series1))\n",
    "print()\n",
    "\n",
    "# Operações entre series\n",
    "\n",
    "ser4 = pd.Series([1,2,3,4],index = ['EUA','Alemanha','URSS','Japão'])\n",
    "ser5 = pd.Series([1,2,3,4],index = ['EUA','Alemanha','Itália','Japão'])\n",
    "ser6 = ser4 + ser5 # soma os valores que tem mesmo index\n",
    "\n",
    "print(ser6)\n",
    "print()\n",
    "\n",
    "# Obs: quando não há índice nas duas series: retorna \"NaN\"\n",
    "# Obs: operações: + - * / **\n"
   ]
  }
 ],
 "metadata": {
  "kernelspec": {
   "display_name": "Python 3",
   "language": "python",
   "name": "python3"
  },
  "language_info": {
   "codemirror_mode": {
    "name": "ipython",
    "version": 3
   },
   "file_extension": ".py",
   "mimetype": "text/x-python",
   "name": "python",
   "nbconvert_exporter": "python",
   "pygments_lexer": "ipython3",
   "version": "3.6.3"
  }
 },
 "nbformat": 4,
 "nbformat_minor": 2
}
