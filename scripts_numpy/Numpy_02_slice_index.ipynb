{
 "cells": [
  {
   "cell_type": "markdown",
   "metadata": {},
   "source": [
    "# Numpy Array Slicing and Indexing\n",
    "\n",
    "* Topicos:\n",
    "    * Array Unidimensional\n",
    "    * Array Bidimensional\n",
    "    * Referenciação\n",
    "    * Dimensionalidade\n",
    "    * Indexação Booleana"
   ]
  },
  {
   "cell_type": "code",
   "execution_count": 6,
   "metadata": {},
   "outputs": [
    {
     "name": "stdout",
     "output_type": "stream",
     "text": [
      "[ 0  3  6  9 12 15 18 21 24 27]\n",
      "[ 6  9 12]\n",
      "[ 6  9 12 15 18 21 24 27]\n",
      "[ 0  3  6  9 12]\n",
      "[  0   3 100 100 100 100 100 100 100 100]\n"
     ]
    }
   ],
   "source": [
    "# Importar Library\n",
    "\n",
    "import numpy as np\n",
    "\n",
    "# Criar Array unidimensional\n",
    "\n",
    "arr1 = np.arange(0,30,3)\n",
    "print(arr1)\n",
    "\n",
    "# Acessar elementos (semelhante às listas)\n",
    "\n",
    "print(arr1[2:5])  # elementos nas posicoes 2, 3 e 4 (5-1)\n",
    "print(arr1[2:])   # elemento 2 ao ultimo\n",
    "print(arr1[:5])   # elemento inicial ao 4 (5-1)\n",
    "\n",
    "# Manipular elementos\n",
    "\n",
    "arr1[2:] = 100   # elemento 2 ao final = 100\n",
    "print(arr1)"
   ]
  },
  {
   "cell_type": "code",
   "execution_count": 16,
   "metadata": {},
   "outputs": [
    {
     "name": "stdout",
     "output_type": "stream",
     "text": [
      "[[ 0  1  2  3  4  5  6  7  8  9]\n",
      " [10 11 12 13 14 15 16 17 18 19]\n",
      " [20 21 22 23 24 25 26 27 28 29]\n",
      " [30 31 32 33 34 35 36 37 38 39]\n",
      " [40 41 42 43 44 45 46 47 48 49]]\n",
      "(5, 10)\n",
      "[30 31 32 33 34 35 36 37 38 39]\n",
      "[[ 0  1  2  3  4  5  6  7  8  9]\n",
      " [10 11 12 13 14 15 16 17 18 19]\n",
      " [20 21 22 23 24 25 26 27 28 29]]\n",
      "[[15 16 17 18 19]\n",
      " [25 26 27 28 29]\n",
      " [35 36 37 38 39]]\n",
      "[[ 0  1  2  3  4  5  6  7  8  9]\n",
      " [10 10 10 10 10 10 10 10 10 10]\n",
      " [10 10 10 10 10 10 10 10 10 10]\n",
      " [30 31 32 33 34 35 36 37 38 39]\n",
      " [40 41 42 43 44 45 46 47 48 49]]\n"
     ]
    }
   ],
   "source": [
    "# Criar Array bidimensional \n",
    "\n",
    "# arr_2d[row][col] ou arr_2d[row,col]\n",
    "\n",
    "arr2 = np.arange(50).reshape((5,10))\n",
    "print(arr2)\n",
    "\n",
    "# Acessar elementos\n",
    "\n",
    "print(arr2.shape)   # dimensões\n",
    "print(arr2[3])      # linha 3\n",
    "print(arr2[:3][:])  # linhas 0 a 2 (3-1) e todas as colunas\n",
    "print(arr2[1:4,5:]) # linhas 1 a 3 (4-1) e 5 ao final\n",
    "\n",
    "# Manipular Elementos\n",
    "\n",
    "arr2[:][1:3] = 10\n",
    "print(arr2)"
   ]
  },
  {
   "cell_type": "code",
   "execution_count": 15,
   "metadata": {},
   "outputs": [
    {
     "name": "stdout",
     "output_type": "stream",
     "text": [
      "[ 0  1  2  3  4  5  6  7  8  9 10]\n",
      "[0 1 2 3 4 5]\n",
      "[99 99 99 99 99 99  6  7  8  9 10]\n",
      "[99 99 99 99 99 99]\n",
      "[99 99 99 99 99 99  6  7  8  9 10]\n"
     ]
    }
   ],
   "source": [
    "# Referenciacao\n",
    "\n",
    "arr = np.arange(0,11) # nova array\n",
    "arr_slice = arr[0:6]  # somente referencia, nao cria novo objeto\n",
    "print(arr)\n",
    "print(arr_slice)\n",
    "\n",
    "# Modificando slice, modifica array original\n",
    "\n",
    "arr_slice[:] = 99\n",
    "print(arr)\n",
    "print(arr_slice)\n",
    "\n",
    "# Fazendo uma copia, cria novo objeto\n",
    "\n",
    "arr_copy = arr.copy()\n",
    "print(arr_copy)\n"
   ]
  },
  {
   "cell_type": "code",
   "execution_count": 17,
   "metadata": {},
   "outputs": [
    {
     "data": {
      "text/plain": [
       "array([[ 0.,  0.,  0.,  0.,  0.],\n",
       "       [ 0.,  0.,  0.,  0.,  0.],\n",
       "       [ 0.,  0.,  0.,  0.,  0.],\n",
       "       [ 0.,  0.,  0.,  0.,  0.],\n",
       "       [ 0.,  0.,  0.,  0.,  0.]])"
      ]
     },
     "metadata": {},
     "output_type": "display_data"
    },
    {
     "data": {
      "text/plain": [
       "(5,)"
      ]
     },
     "metadata": {},
     "output_type": "display_data"
    },
    {
     "data": {
      "text/plain": [
       "(5, 1)"
      ]
     },
     "metadata": {},
     "output_type": "display_data"
    },
    {
     "data": {
      "text/plain": [
       "(5, 1)"
      ]
     },
     "metadata": {},
     "output_type": "display_data"
    }
   ],
   "source": [
    "# Dimensionalidade\n",
    "\n",
    "a = np.zeros((5,5))\n",
    "display(a)\n",
    "\n",
    "b = a[:,0]\n",
    "display(b.shape)\n",
    "\n",
    "c = b[:,np.newaxis]\n",
    "display(c.shape)\n",
    "\n",
    "d = a[:,0].reshape(5,1)\n",
    "display(d.shape)"
   ]
  },
  {
   "cell_type": "code",
   "execution_count": 21,
   "metadata": {},
   "outputs": [
    {
     "name": "stdout",
     "output_type": "stream",
     "text": [
      "[ True False  True False]\n",
      "[False False False  True]\n",
      "[88]\n",
      "[40 35 88]\n"
     ]
    }
   ],
   "source": [
    "# Indexação Booleana 1\n",
    "\n",
    "# Verificação Booleana\n",
    "\n",
    "array1 = np.array([10,25,56,32])\n",
    "array2 = np.array([1,40,35,88])\n",
    "print(array1 > array2)\n",
    "\n",
    "# Seleciona Indices 1\n",
    "\n",
    "bol = array2 > 50\n",
    "print(bol)\n",
    "print(array2[bol])\n",
    "\n",
    "# Seleciona Indices 2\n",
    "\n",
    "x = 2\n",
    "print(array2[array2>x])"
   ]
  },
  {
   "cell_type": "code",
   "execution_count": 27,
   "metadata": {},
   "outputs": [
    {
     "name": "stdout",
     "output_type": "stream",
     "text": [
      "['david' 'nice' 'ana' 'bia' 'david' 'junior' 'nice']\n",
      "[[-0.09586133 -1.23874469 -1.05053967 -0.03613485]\n",
      " [-0.37758066 -0.45776507 -0.63475017  0.6504702 ]\n",
      " [-0.17551104  0.74086068  0.57578946 -0.47457432]\n",
      " [ 1.43673367 -0.21066854  0.65331406 -0.76266138]\n",
      " [-0.83228601 -0.06139514  0.23683777 -1.77058029]\n",
      " [-0.7214711   0.72090886 -1.08675304 -0.71799546]\n",
      " [-0.97279627  0.59557044 -0.6877836   1.16704046]]\n",
      "[ True False False False  True False False]\n",
      "[ True False  True  True  True  True False]\n",
      "[[-0.09586133 -1.23874469 -1.05053967 -0.03613485]\n",
      " [-0.83228601 -0.06139514  0.23683777 -1.77058029]]\n",
      "[[-0.09586133 -1.23874469 -1.05053967 -0.03613485]\n",
      " [-0.83228601 -0.06139514  0.23683777 -1.77058029]]\n",
      "[[-0.63475017  0.6504702 ]\n",
      " [ 0.57578946 -0.47457432]\n",
      " [ 0.65331406 -0.76266138]\n",
      " [-1.08675304 -0.71799546]\n",
      " [-0.6877836   1.16704046]]\n"
     ]
    }
   ],
   "source": [
    "# Indexação Booleana 2\n",
    "\n",
    "# Gera arrays\n",
    "\n",
    "nomes = np.array(['david','nice','ana','bia','david','junior','nice'])\n",
    "data = np.random.randn(7,4)\n",
    "\n",
    "print(nomes)\n",
    "print(data)\n",
    "\n",
    "# Pesquisa Valores\n",
    "\n",
    "print(nomes == \"david\")\n",
    "print(nomes != \"nice\")\n",
    "\n",
    "# Imprime linhas 0 e 4\n",
    "\n",
    "cond = (nomes == \"david\")\n",
    "\n",
    "print(data[nomes == \"david\"])\n",
    "print(data[cond])\n",
    "\n",
    "# Slicing\n",
    "\n",
    "print(data[~cond, 2:])\n"
   ]
  },
  {
   "cell_type": "code",
   "execution_count": null,
   "metadata": {
    "collapsed": true
   },
   "outputs": [],
   "source": []
  }
 ],
 "metadata": {
  "kernelspec": {
   "display_name": "Python 3",
   "language": "python",
   "name": "python3"
  },
  "language_info": {
   "codemirror_mode": {
    "name": "ipython",
    "version": 3
   },
   "file_extension": ".py",
   "mimetype": "text/x-python",
   "name": "python",
   "nbconvert_exporter": "python",
   "pygments_lexer": "ipython3",
   "version": "3.6.3"
  }
 },
 "nbformat": 4,
 "nbformat_minor": 2
}
