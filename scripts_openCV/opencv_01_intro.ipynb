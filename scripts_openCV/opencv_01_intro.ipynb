{
 "cells": [
  {
   "cell_type": "code",
   "execution_count": 1,
   "metadata": {},
   "outputs": [
    {
     "name": "stdout",
     "output_type": "stream",
     "text": [
      "4.2.0\n"
     ]
    }
   ],
   "source": [
    "# Import OpenCV and get its Version\n",
    "\n",
    "import cv2\n",
    "print(cv2.__version__)"
   ]
  },
  {
   "cell_type": "code",
   "execution_count": 2,
   "metadata": {},
   "outputs": [],
   "source": [
    "# Get Images and Videos from OpenCV Repository\n",
    "\n",
    "# Access: https://github.com/opencv/opencv\n",
    "# Go to \"samples\" folder -> \"data\" folder to get samples.\n",
    "# Can also download all the repository."
   ]
  },
  {
   "cell_type": "code",
   "execution_count": 4,
   "metadata": {},
   "outputs": [],
   "source": [
    "# Read and Display Image\n",
    "\n",
    "img = cv2.imread('lena.jpg',-1)  # Colored Image\n",
    "# print(img)                     # Print image matrix at notebook\n",
    "cv2.imshow('image',img)          # Show image in a window\n",
    "cv2.waitKey(5000)                # Wait 5000 ms before closing\n",
    "cv2.destroyAllWindows()          # close windows of images"
   ]
  },
  {
   "cell_type": "code",
   "execution_count": 20,
   "metadata": {},
   "outputs": [],
   "source": [
    "# Write Image to File if someone press a key\n",
    "\n",
    "img = cv2.imread('lena.jpg',0)   # 0 = P&B Image / -1 = Colored Image\n",
    "cv2.imshow('image',img)          # Show image in a window\n",
    "key1 = cv2.waitKey(0) & 0xFF     # Hold pressed key (0xFF is just a mask. Important for some systems)\n",
    "\n",
    "if key1 == 27:                   # \"esc\" key\n",
    "    cv2.destroyAllWindows()      # close windows of images\n",
    "elif key1 == ord('s'):           # \"s\" key\n",
    "    cv2.imwrite('lena_copy.jpg',img)\n",
    "    cv2.destroyAllWindows()      # close windows of images\n",
    "else:\n",
    "    cv2.destroyAllWindows()      # close windows of images"
   ]
  },
  {
   "cell_type": "code",
   "execution_count": 17,
   "metadata": {},
   "outputs": [
    {
     "name": "stdout",
     "output_type": "stream",
     "text": [
      "True\n"
     ]
    }
   ],
   "source": [
    "# Read, Display and Save Videos\n",
    "\n",
    "# Catcher: object that have the functions to catch the video frame\n",
    "\n",
    "# catcher = cv2.VideoCapture('myVideo.avi') # get images from a file\n",
    "catcher = cv2.VideoCapture(0)   # Get video from camera (if don't work, try '-1')\n",
    "                                # If you have more than one camera, try '1', '2'...\n",
    "\n",
    "# www.fourcc.org/codecs.php => video codecs\n",
    "\n",
    "#fourcc = cv2.VideoWriter_fourcc('X','V','I','D')\n",
    "fourcc = cv2.VideoWriter_fourcc(*'XVID')\n",
    "\n",
    "# Writer: object that have the functions to write video to a file\n",
    "\n",
    "writer = cv2.VideoWriter('output.avi', fourcc, 20.0, (640,480))\n",
    "\n",
    "# Video Property: if the video is open or not\n",
    "print(catcher.isOpened())\n",
    "\n",
    "# Show video in a window\n",
    "while(catcher.isOpened()):\n",
    "    \n",
    "    # Get Frame\n",
    "    ret, frame = catcher.read() # ret = 1 if frame available. \n",
    "                                # Frame is captured in 'frame' variable.\n",
    "    \n",
    "    if ret == True:\n",
    "\n",
    "        # Video Properties\n",
    "        # print(catcher.get(cv2.CAP_PROP_FRAME_WIDTH))\n",
    "        # print(catcher.get(cv2.CAP_PROP_FRAME_HEIGHT))\n",
    "        \n",
    "        # Save frame\n",
    "        writer.write(frame)\n",
    "    \n",
    "        # Show Frame\n",
    "        gray_frame = cv2.cvtColor(frame,cv2.COLOR_BGR2GRAY) # frame in gray scale\n",
    "        #cv2.imshow('frame',frame)                          # Show last frame\n",
    "        cv2.imshow('frame',gray_frame)                      # Show last frame in gray scale\n",
    "    \n",
    "        # Finish video if 'q' key was pressed\n",
    "        if cv2.waitKey(1) & 0xFF == ord('q'):\n",
    "            break\n",
    "    else:\n",
    "        break\n",
    "\n",
    "# Finish Capture and Saving\n",
    "catcher.release()\n",
    "writer.release()\n",
    "\n",
    "# Close all windows\n",
    "cv2.destroyAllWindows()"
   ]
  },
  {
   "cell_type": "code",
   "execution_count": null,
   "metadata": {},
   "outputs": [],
   "source": []
  }
 ],
 "metadata": {
  "kernelspec": {
   "display_name": "Python 3",
   "language": "python",
   "name": "python3"
  },
  "language_info": {
   "codemirror_mode": {
    "name": "ipython",
    "version": 3
   },
   "file_extension": ".py",
   "mimetype": "text/x-python",
   "name": "python",
   "nbconvert_exporter": "python",
   "pygments_lexer": "ipython3",
   "version": "3.7.7"
  }
 },
 "nbformat": 4,
 "nbformat_minor": 4
}
