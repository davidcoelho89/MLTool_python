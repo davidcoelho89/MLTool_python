{
 "cells": [
  {
   "cell_type": "code",
   "execution_count": 1,
   "metadata": {},
   "outputs": [],
   "source": [
    "# Import Libraries\n",
    "\n",
    "import numpy as np\n",
    "import cv2 as cv\n",
    "import datetime"
   ]
  },
  {
   "cell_type": "code",
   "execution_count": 6,
   "metadata": {},
   "outputs": [],
   "source": [
    "# Callback function (2h21min08s)\n",
    "\n",
    "def nothing(x):\n",
    "    print(x)\n",
    "\n",
    "# Create black image and a window\n",
    "\n",
    "img = np.zeros((300,512,3),np.uint8)\n",
    "cv.namedWindow('image')\n",
    "\n",
    "# Create trackbar\n",
    "\n",
    "cv.createTrackbar('B','image',0,255,nothing)\n",
    "cv.createTrackbar('G','image',0,255,nothing)\n",
    "cv.createTrackbar('R','image',0,255,nothing)\n",
    "\n",
    "# Create switch trackbar\n",
    "\n",
    "switch = '0 : OFF\\n 1: ON'\n",
    "cv.createTrackbar(switch,'image',0,1,nothing)\n",
    "\n",
    "# Iterate under window\n",
    "\n",
    "while(1):\n",
    "    \n",
    "    cv.imshow('image',img)\n",
    "    \n",
    "    k = cv.waitKey(1) & 0xFF\n",
    "    if k == 27: # esc\n",
    "        break\n",
    "    \n",
    "    b = cv.getTrackbarPos('B','image')\n",
    "    g = cv.getTrackbarPos('G','image')\n",
    "    r = cv.getTrackbarPos('R','image')\n",
    "    s = cv.getTrackbarPos(switch,'image')\n",
    "    \n",
    "    if s == 0:\n",
    "        img[:] = 0\n",
    "    else:\n",
    "        img[:] = [b,g,r]\n",
    "\n",
    "# Destroy images\n",
    "\n",
    "\n",
    "cv .destroyAllWindows()"
   ]
  },
  {
   "cell_type": "code",
   "execution_count": null,
   "metadata": {},
   "outputs": [],
   "source": [
    "# 2h29min30s\n",
    "\n",
    "\n"
   ]
  }
 ],
 "metadata": {
  "kernelspec": {
   "display_name": "Python 3",
   "language": "python",
   "name": "python3"
  },
  "language_info": {
   "codemirror_mode": {
    "name": "ipython",
    "version": 3
   },
   "file_extension": ".py",
   "mimetype": "text/x-python",
   "name": "python",
   "nbconvert_exporter": "python",
   "pygments_lexer": "ipython3",
   "version": "3.7.7"
  }
 },
 "nbformat": 4,
 "nbformat_minor": 4
}
