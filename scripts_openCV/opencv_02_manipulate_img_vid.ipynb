{
 "cells": [
  {
   "cell_type": "code",
   "execution_count": 1,
   "metadata": {},
   "outputs": [],
   "source": [
    "# Import Libraries\n",
    "\n",
    "import numpy as np\n",
    "import cv2\n",
    "import datetime"
   ]
  },
  {
   "cell_type": "code",
   "execution_count": 2,
   "metadata": {},
   "outputs": [],
   "source": [
    "# Draw Geometries and Text in Opened Image\n",
    "\n",
    "# Get an Image\n",
    "# img = cv2.imread('lena.jpg',1)\n",
    "\n",
    "# Creat an Image (matrix of 3 dimensions: width, length, depth)\n",
    "# (each position in the matrix represents one pixel RGB)\n",
    "img = np.zeros([512,512,3],np.uint8)\n",
    "\n",
    "# Draw Line (Obs: colors are in 'BGR' order)\n",
    "img = cv2.line(img,(0,0),(255,255),(255,0,0),5)\n",
    "img = cv2.arrowedLine(img,(0,265),(300,265),(255,0,0),5)\n",
    "\n",
    "# Draw Rectangle (Obs: with thickness -1, the rectangle is filled)\n",
    "img = cv2.rectangle(img,(384,0), (510,128),(0,0,255),3)\n",
    "\n",
    "# Draw Circle (Obs: with thickness > 0, draw an 'empty' circle)\n",
    "img = cv2.circle(img,(447,63),63,(0,255,0),-1)\n",
    "\n",
    "# Draw Text\n",
    "font = cv2.FONT_HERSHEY_COMPLEX\n",
    "line_type = cv2.LINE_AA\n",
    "img = cv2.putText(img,'OpenCv',(10,500),font,4,(255,255,255),10,line_type)\n",
    "\n",
    "# Show resulting image\n",
    "cv2.imshow('image',img)\n",
    "\n",
    "# Close figure after any key pressed\n",
    "cv2.waitKey(0)\n",
    "cv2.destroyAllWindows()"
   ]
  },
  {
   "cell_type": "code",
   "execution_count": 3,
   "metadata": {},
   "outputs": [
    {
     "name": "stdout",
     "output_type": "stream",
     "text": [
      "1280.0\n",
      "720.0\n"
     ]
    }
   ],
   "source": [
    "# Manipulate Video Properties\n",
    "\n",
    "# Obs: default dimensions = 640x480\n",
    "\n",
    "catcher = cv2.VideoCapture(0)\n",
    "\n",
    "# Set the properties\n",
    "catcher.set(cv2.CAP_PROP_FRAME_WIDTH, 1280)\n",
    "catcher.set(cv2.CAP_PROP_FRAME_HEIGHT, 720)\n",
    "\n",
    "# Every property has a number associated to it! (name is just a code)\n",
    "print(catcher.get(cv2.CAP_PROP_FRAME_WIDTH))\n",
    "print(catcher.get(cv2.CAP_PROP_FRAME_HEIGHT))\n",
    "\n",
    "while(catcher.isOpened()):\n",
    "    ret, frame = catcher.read()\n",
    "    if ret == True:\n",
    "        img_gray = cv2.cvtColor(frame, cv2.COLOR_BGR2GRAY)\n",
    "        cv2.imshow('frame',img_gray)\n",
    "        if cv2.waitKey(1) & 0xFF == ord('q'):\n",
    "            break\n",
    "    else:\n",
    "        break\n",
    "\n",
    "catcher.release()\n",
    "cv2.destroyAllWindows()"
   ]
  },
  {
   "cell_type": "code",
   "execution_count": 4,
   "metadata": {},
   "outputs": [],
   "source": [
    "# Put a text at a video\n",
    "\n",
    "catcher = cv2.VideoCapture(0)\n",
    "catcher.set(cv2.CAP_PROP_FRAME_WIDTH, 1280)\n",
    "catcher.set(cv2.CAP_PROP_FRAME_HEIGHT, 720)\n",
    "\n",
    "while(catcher.isOpened()):\n",
    "    ret, frame = catcher.read()\n",
    "    if ret == True:\n",
    "        font = cv2.FONT_HERSHEY_COMPLEX\n",
    "        line_type = cv2.LINE_AA\n",
    "        text = 'Width: ' + str(catcher.get(cv2.CAP_PROP_FRAME_WIDTH))+ ' Height: ' + str(catcher.get(cv2.CAP_PROP_FRAME_HEIGHT))\n",
    "        frame = cv2.putText(frame,text,(10,50),font,1,(0,255,255),2,line_type)\n",
    "        cv2.imshow('frame',frame)\n",
    "        if cv2.waitKey(1) & 0xFF == ord('q'):\n",
    "            break\n",
    "    else:\n",
    "        break\n",
    "\n",
    "catcher.release()\n",
    "cv2.destroyAllWindows()"
   ]
  },
  {
   "cell_type": "code",
   "execution_count": 6,
   "metadata": {},
   "outputs": [],
   "source": [
    "# Show date and time in video (1h16min27s)\n",
    "\n",
    "catcher = cv2.VideoCapture(0)\n",
    "\n",
    "while(catcher.isOpened()):\n",
    "    ret, frame = catcher.read()\n",
    "    if ret == True:\n",
    "        font = cv2.FONT_HERSHEY_COMPLEX\n",
    "        line_type = cv2.LINE_AA\n",
    "        dateText = str(datetime.datetime.now())\n",
    "        frame = cv2.putText(frame,dateText,(10,50),font,1,(0,255,255),2,line_type)\n",
    "        cv2.imshow('frame',frame)\n",
    "        if cv2.waitKey(1) & 0xFF == ord('q'):\n",
    "            break\n",
    "    else:\n",
    "        break\n",
    "\n",
    "catcher.release()\n",
    "cv2.destroyAllWindows()"
   ]
  }
 ],
 "metadata": {
  "kernelspec": {
   "display_name": "Python 3",
   "language": "python",
   "name": "python3"
  },
  "language_info": {
   "codemirror_mode": {
    "name": "ipython",
    "version": 3
   },
   "file_extension": ".py",
   "mimetype": "text/x-python",
   "name": "python",
   "nbconvert_exporter": "python",
   "pygments_lexer": "ipython3",
   "version": "3.7.7"
  }
 },
 "nbformat": 4,
 "nbformat_minor": 4
}
