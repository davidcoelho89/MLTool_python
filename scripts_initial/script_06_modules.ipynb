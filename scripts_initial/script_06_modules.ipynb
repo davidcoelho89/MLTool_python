{
 "cells": [
  {
   "cell_type": "markdown",
   "metadata": {
    "collapsed": true
   },
   "source": [
    "# Modules Using\n",
    "\n",
    "* Topicos:\n",
    "    * Import Complete Module\n",
    "    * Import One Function\n",
    "    * Import All Functions"
   ]
  },
  {
   "cell_type": "code",
   "execution_count": 15,
   "metadata": {},
   "outputs": [
    {
     "name": "stdout",
     "output_type": "stream",
     "text": [
      "a soma de 10 e 20 é:  30\n",
      "a subtracao de 10 e 20 é:  -10\n",
      "a multiplicacao de 10 e 20 é:  200\n"
     ]
    }
   ],
   "source": [
    "# Import complete module and rename\n",
    "\n",
    "import script_06_modules_funtions as utils\n",
    "\n",
    "print(\"a soma de 10 e 20 é: \", utils.soma(10,20))\n",
    "print(\"a subtracao de 10 e 20 é: \", utils.sub(10,20))\n",
    "print(\"a multiplicacao de 10 e 20 é: \",utils.mult(10,20))"
   ]
  },
  {
   "cell_type": "code",
   "execution_count": 16,
   "metadata": {},
   "outputs": [
    {
     "name": "stdout",
     "output_type": "stream",
     "text": [
      "a soma de 10 e 20 é:  30\n"
     ]
    }
   ],
   "source": [
    "# Import specific function from a module\n",
    "\n",
    "from script_06_modules_funtions import soma\n",
    "\n",
    "print(\"a soma de 10 e 20 é: \",soma(10,20))"
   ]
  },
  {
   "cell_type": "code",
   "execution_count": 17,
   "metadata": {},
   "outputs": [
    {
     "name": "stdout",
     "output_type": "stream",
     "text": [
      "a soma de 10 e 20 é:  30\n",
      "a subtracao de 10 e 20 é:  -10\n",
      "a multiplicacao de 10 e 20 é:  200\n"
     ]
    }
   ],
   "source": [
    "# Import All Functions from a module (not a good practice)\n",
    "\n",
    "from script_06_modules_funtions import *\n",
    "\n",
    "print(\"a soma de 10 e 20 é: \", soma(10,20))\n",
    "print(\"a subtracao de 10 e 20 é: \", sub(10,20))\n",
    "print(\"a multiplicacao de 10 e 20 é: \", mult(10,20))"
   ]
  },
  {
   "cell_type": "code",
   "execution_count": null,
   "metadata": {
    "collapsed": true
   },
   "outputs": [],
   "source": []
  }
 ],
 "metadata": {
  "kernelspec": {
   "display_name": "Python 3",
   "language": "python",
   "name": "python3"
  },
  "language_info": {
   "codemirror_mode": {
    "name": "ipython",
    "version": 3
   },
   "file_extension": ".py",
   "mimetype": "text/x-python",
   "name": "python",
   "nbconvert_exporter": "python",
   "pygments_lexer": "ipython3",
   "version": "3.6.3"
  }
 },
 "nbformat": 4,
 "nbformat_minor": 2
}
