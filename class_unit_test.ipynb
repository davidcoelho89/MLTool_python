{
 "cells": [
  {
   "cell_type": "code",
   "execution_count": 3,
   "metadata": {
    "collapsed": true
   },
   "outputs": [],
   "source": [
    "# Python MLTool - Classification Algorithms - Unit Test\n",
    "# Last Update: 2020/03/06"
   ]
  },
  {
   "cell_type": "code",
   "execution_count": 4,
   "metadata": {
    "collapsed": true
   },
   "outputs": [],
   "source": [
    "# General Definitions\n",
    "\n",
    "OPT = {'prob1':1,          # Which data set will be used \n",
    "       'prob2':2,          # More details about a specific data set\n",
    "       'norm':3,           # Normalization definition\n",
    "       'lbl':0,            # Labeling Definition\n",
    "       'Nr':5,             # Number of repetitions of algorithm\n",
    "       'hold':1,           # hold out method\n",
    "       'ptrn':0.7,         # Percentage of samples for training\n",
    "       'file':'fileX.txt'  # file where all the variables will be saved\n",
    "      }"
   ]
  },
  {
   "cell_type": "code",
   "execution_count": 7,
   "metadata": {},
   "outputs": [
    {
     "data": {
      "text/plain": [
       "3"
      ]
     },
     "metadata": {},
     "output_type": "display_data"
    },
    {
     "data": {
      "text/plain": [
       "4"
      ]
     },
     "metadata": {},
     "output_type": "display_data"
    },
    {
     "data": {
      "text/plain": [
       "150"
      ]
     },
     "metadata": {},
     "output_type": "display_data"
    }
   ],
   "source": [
    "# Data loading and pre-processing\n",
    "\n",
    "import data_functions as dfunc\n",
    "\n",
    "DATA = dfunc.data_class_loading(OPT)\n",
    "\n",
    "DATA = dfunc.normalize(DATA,OPT)\n",
    "\n",
    "DATA = dfunc.label_adjust(DATA,OPT)\n",
    "\n",
    "Nc = DATA['output'].shape[0]\n",
    "p = DATA['input'].shape[0]\n",
    "N = DATA['input'].shape[1]\n",
    "\n",
    "display(Nc,p,N)"
   ]
  },
  {
   "cell_type": "code",
   "execution_count": null,
   "metadata": {
    "collapsed": true
   },
   "outputs": [],
   "source": [
    "# Import and Initialize Class\n",
    "\n",
    "from ols import *\n",
    "\n",
    "ols = OLS(aprox=1)"
   ]
  },
  {
   "cell_type": "code",
   "execution_count": 66,
   "metadata": {
    "collapsed": true
   },
   "outputs": [],
   "source": [
    "# Hold Out / Training / Test / Statistics\n",
    "\n",
    "import statistics_functions as sfunc\n",
    "\n",
    "# Hold Out\n",
    "DATA_hold = dfunc.hold_out(DATA,OPT)\n",
    "DATAtr = DATA_hold['DATAtr']\n",
    "DATAts = DATA_hold['DATAts']\n",
    "\n",
    "# Training\n",
    "PAR = OLS.train(DATAtr,HP)\n",
    "OUTts = OLS.classify(DATAts,PAR)\n",
    "\n",
    "# Statistics\n",
    "STATS = sfunc.stats_1turn(DATAts,OUTts)"
   ]
  },
  {
   "cell_type": "code",
   "execution_count": 67,
   "metadata": {},
   "outputs": [
    {
     "data": {
      "text/plain": [
       "array([[ 15.,   0.,   0.],\n",
       "       [  0.,  12.,   7.],\n",
       "       [  0.,   1.,  10.]])"
      ]
     },
     "metadata": {},
     "output_type": "display_data"
    },
    {
     "data": {
      "text/plain": [
       "0.82222222222222219"
      ]
     },
     "metadata": {},
     "output_type": "display_data"
    }
   ],
   "source": [
    "# Display Results\n",
    "\n",
    "display(STATS['Mconf'])\n",
    "\n",
    "display(STATS['acc'])"
   ]
  },
  {
   "cell_type": "code",
   "execution_count": null,
   "metadata": {
    "collapsed": true
   },
   "outputs": [],
   "source": []
  }
 ],
 "metadata": {
  "kernelspec": {
   "display_name": "Python 3",
   "language": "python",
   "name": "python3"
  },
  "language_info": {
   "codemirror_mode": {
    "name": "ipython",
    "version": 3
   },
   "file_extension": ".py",
   "mimetype": "text/x-python",
   "name": "python",
   "nbconvert_exporter": "python",
   "pygments_lexer": "ipython3",
   "version": "3.6.3"
  }
 },
 "nbformat": 4,
 "nbformat_minor": 2
}
