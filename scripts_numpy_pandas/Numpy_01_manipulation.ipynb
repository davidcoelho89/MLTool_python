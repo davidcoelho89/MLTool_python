{
 "cells": [
  {
   "cell_type": "markdown",
   "metadata": {},
   "source": [
    "# Numpy Array Manipulation\n",
    "\n",
    "* Topicos:\n",
    "    * Atributos (shape, dtype, ndim)\n",
    "    * Modificar Formato (reshape)\n",
    "    * Inserir e Deletar Valores (insert(), append(), delete())\n",
    "    * Modificar / Estabelecer tipo de dados (astype)\n",
    "    * DateTime"
   ]
  },
  {
   "cell_type": "code",
   "execution_count": 36,
   "metadata": {},
   "outputs": [
    {
     "name": "stdout",
     "output_type": "stream",
     "text": [
      "[1 2 3 4 5 6 7 8 9]\n",
      "(9,)\n",
      "int32\n",
      "1\n",
      "[[1 2 3]\n",
      " [4 5 6]\n",
      " [7 8 9]] (3, 3) 2\n",
      "[[1 2 3 4 5 6 7 8 9]] (1, 9)\n",
      "[[1]\n",
      " [2]\n",
      " [3]\n",
      " [4]\n",
      " [5]\n",
      " [6]\n",
      " [7]\n",
      " [8]\n",
      " [9]] (9, 1)\n"
     ]
    }
   ],
   "source": [
    "# Importar Library\n",
    "\n",
    "import numpy as np\n",
    "\n",
    "# Criar array\n",
    "\n",
    "array1 = np.arange(1,10) # Array 1d de 9 elementos [1 - 9]\n",
    "print(array1)\n",
    "\n",
    "# Atributos do Array (shape, dtype, ndim)\n",
    "\n",
    "print(array1.shape)     # valor das dimensões\n",
    "print(array1.dtype)     # tipos de dados\n",
    "print(array1.ndim)      # numero de dimensoes\n",
    "\n",
    "# Modificar Formato (reshape)\n",
    "\n",
    "array2 = array1.reshape((3,3))\n",
    "print(array2, array2.shape, array2.ndim)\n",
    "\n",
    "array3 = array1.reshape(1,9)\n",
    "print(array3,array3.shape)\n",
    "\n",
    "array4 = array1.reshape(9,1)\n",
    "print(array4,array4.shape)"
   ]
  },
  {
   "cell_type": "code",
   "execution_count": 37,
   "metadata": {},
   "outputs": [
    {
     "name": "stdout",
     "output_type": "stream",
     "text": [
      "[10 20 30]\n",
      "[10 15 20 30]\n",
      "[ 5 10 15 20 30]\n",
      "[ 5 10 15 20 30 40]\n",
      "[10 15 20 30 40]\n"
     ]
    }
   ],
   "source": [
    "# Inserir e Deletar Valores da Array\n",
    "\n",
    "# cria array\n",
    "\n",
    "array1 = np.array([10,20,30])\n",
    "print(array1)\n",
    "\n",
    "# insere valores no array\n",
    "\n",
    "array1 = np.insert(array1,1,15) # insere, na posição 1, valor 15\n",
    "print(array1)\n",
    "\n",
    "array1 = np.insert(array1,0,5)  # insere, na posição 0, valor 5, \n",
    "print(array1)\n",
    "\n",
    "array1 = np.append(array1,40)   # insere, na ultima posição, valor 40\n",
    "print(array1)\n",
    "\n",
    "# deleta valor do array\n",
    "\n",
    "array1 = np.delete(array1,0)    # deleta, do array1, valor da posição 0\n",
    "print(array1)"
   ]
  },
  {
   "cell_type": "code",
   "execution_count": 35,
   "metadata": {},
   "outputs": [
    {
     "name": "stdout",
     "output_type": "stream",
     "text": [
      "int32\n",
      "float64\n",
      "[ 3.7  5.5 -2.6]\n",
      "[ 3  5 -2]\n",
      "[b'1.25' b'2.5' b'3.7']\n",
      "[ 1.25  2.5   3.7 ]\n"
     ]
    }
   ],
   "source": [
    "# Modificar / Estabelecer tipo de dados da array\n",
    "\n",
    "array4 = np.array([1,2,3], dtype = np.int32)\n",
    "array5 = array4.astype(np.float64)\n",
    "print(array4.dtype)\n",
    "print(array5.dtype)\n",
    "\n",
    "array6 = np.array([3.7,5.5,-2.6])\n",
    "array7 = array6.astype(np.int32)\n",
    "print(array6)\n",
    "print(array7)\n",
    "\n",
    "array_str1 = np.array(['1.25','2.5','3.7'],dtype=np.string_)\n",
    "array_str2 = array_str1.astype(float)\n",
    "print(array_str1)\n",
    "print(array_str2)"
   ]
  },
  {
   "cell_type": "code",
   "execution_count": 38,
   "metadata": {},
   "outputs": [
    {
     "name": "stdout",
     "output_type": "stream",
     "text": [
      "datetime64[D]\n",
      "datetime64[M]\n",
      "['2017-01' '2017-02' '2017-03' '2017-04' '2017-05' '2017-06' '2017-07'\n",
      " '2017-08' '2017-09' '2017-10' '2017-11']\n",
      "2017-11\n",
      "7.0\n"
     ]
    }
   ],
   "source": [
    "# DateTime\n",
    "\n",
    "# Link: https://pt.wikipedia.org/wiki/ISO_8601\n",
    "\n",
    "# Criar dados\n",
    "\n",
    "x = np.datetime64('2017-05-01')\n",
    "y = np.datetime64('2017-10')\n",
    "print(x.dtype)\n",
    "print(y.dtype)\n",
    "\n",
    "# Manipulação de datas\n",
    "\n",
    "z = np.arange('2017-01','2017-12',dtype='datetime64[M]')\n",
    "print(z)\n",
    "a = np.datetime64('2017') + np.timedelta64(10,'M')\n",
    "print(a)\n",
    "b = np.timedelta64(1,'W') / np.timedelta64(1,'D')\n",
    "print(b)"
   ]
  }
 ],
 "metadata": {
  "kernelspec": {
   "display_name": "Python 3",
   "language": "python",
   "name": "python3"
  },
  "language_info": {
   "codemirror_mode": {
    "name": "ipython",
    "version": 3
   },
   "file_extension": ".py",
   "mimetype": "text/x-python",
   "name": "python",
   "nbconvert_exporter": "python",
   "pygments_lexer": "ipython3",
   "version": "3.7.7"
  }
 },
 "nbformat": 4,
 "nbformat_minor": 2
}
